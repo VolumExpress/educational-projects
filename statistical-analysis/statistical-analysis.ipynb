{
 "cells": [
  {
   "cell_type": "markdown",
   "metadata": {},
   "source": [
    "# Определение перспективного тарифа для телеком-компании\n",
    "\n",
    "Описание проекта\n",
    "\n",
    "Вы аналитик компании «Мегалайн» — федерального оператора сотовой связи. Клиентам предлагают два тарифных плана: «Смарт» и «Ультра». Чтобы скорректировать рекламный бюджет, коммерческий департамент хочет понять, какой тариф приносит больше денег.\n",
    "Вам предстоит сделать предварительный анализ тарифов на небольшой выборке клиентов. В вашем распоряжении данные 500 пользователей «Мегалайна»: кто они, откуда, каким тарифом пользуются, сколько звонков и сообщений каждый отправил за 2018 год. Нужно проанализировать поведение клиентов и сделать вывод — какой тариф лучше.\n",
    "\n",
    "Описание тарифов\n",
    "Тариф «Смарт»\n",
    "\n",
    "    Ежемесячная плата: 550 рублей\n",
    "    Включено 500 минут разговора, 50 сообщений и 15 Гб интернет-трафика\n",
    "    Стоимость услуг сверх тарифного пакета:\n",
    "        минута разговора: 3 рубля\n",
    "        сообщение: 3 рубля\n",
    "        1 Гб интернет-трафика: 200 рублей\n",
    "\n",
    "Тариф «Ультра»\n",
    "\n",
    "    Ежемесячная плата: 1950 рублей\n",
    "    Включено 3000 минут разговора, 1000 сообщений и 30 Гб интернет-трафика\n",
    "    Стоимость услуг сверх тарифного пакета:\n",
    "        минута разговора: 1 рубль\n",
    "        сообщение: 1 рубль\n",
    "        1 Гб интернет-трафика: 150 рублей"
   ]
  },
  {
   "cell_type": "markdown",
   "metadata": {},
   "source": [
    "## Изучение данных из файлов"
   ]
  },
  {
   "cell_type": "markdown",
   "metadata": {},
   "source": [
    "### Импортируем планируемые к применению в проекте библиотеки"
   ]
  },
  {
   "cell_type": "code",
   "execution_count": 3,
   "metadata": {},
   "outputs": [],
   "source": [
    "import pandas as pd\n",
    "import matplotlib.pyplot as plt\n",
    "import numpy as np\n",
    "import math\n",
    "from scipy import stats as st"
   ]
  },
  {
   "cell_type": "markdown",
   "metadata": {},
   "source": [
    "### Открываем файлы"
   ]
  },
  {
   "cell_type": "code",
   "execution_count": 4,
   "metadata": {},
   "outputs": [],
   "source": [
    "#открываем с учетом разделителя\n",
    "\n",
    "calls = pd.read_csv('calls.csv', sep=',' , decimal='.')\n",
    "internet = pd.read_csv('internet.csv', sep=',' , decimal='.')\n",
    "messages = pd.read_csv('messages.csv', sep=',' , decimal='.')\n",
    "tariffs = pd.read_csv('tariffs.csv', sep=',' , decimal='.')\n",
    "users = pd.read_csv('users.csv', sep=',' , decimal='.')"
   ]
  },
  {
   "cell_type": "markdown",
   "metadata": {},
   "source": [
    "### Изучаем уникальные значения и структуру таблиц"
   ]
  },
  {
   "cell_type": "markdown",
   "metadata": {},
   "source": [
    "#### Таблица calls"
   ]
  },
  {
   "cell_type": "markdown",
   "metadata": {},
   "source": [
    "Таблица calls (информация о звонках):\n",
    "\n",
    "    id — уникальный номер звонка\n",
    "    call_date — дата звонка\n",
    "    duration — длительность звонка в минутах\n",
    "    user_id — идентификатор пользователя, сделавшего звонок\n",
    "    \n",
    " Нулями обозначены пропущенные звонки, поэтому их не нужно удалять. "
   ]
  },
  {
   "cell_type": "code",
   "execution_count": 5,
   "metadata": {},
   "outputs": [
    {
     "data": {
      "text/html": [
       "<div>\n",
       "<style scoped>\n",
       "    .dataframe tbody tr th:only-of-type {\n",
       "        vertical-align: middle;\n",
       "    }\n",
       "\n",
       "    .dataframe tbody tr th {\n",
       "        vertical-align: top;\n",
       "    }\n",
       "\n",
       "    .dataframe thead th {\n",
       "        text-align: right;\n",
       "    }\n",
       "</style>\n",
       "<table border=\"1\" class=\"dataframe\">\n",
       "  <thead>\n",
       "    <tr style=\"text-align: right;\">\n",
       "      <th></th>\n",
       "      <th>id</th>\n",
       "      <th>call_date</th>\n",
       "      <th>duration</th>\n",
       "      <th>user_id</th>\n",
       "    </tr>\n",
       "  </thead>\n",
       "  <tbody>\n",
       "    <tr>\n",
       "      <th>0</th>\n",
       "      <td>1000_0</td>\n",
       "      <td>2018-07-25</td>\n",
       "      <td>0.00</td>\n",
       "      <td>1000</td>\n",
       "    </tr>\n",
       "    <tr>\n",
       "      <th>1</th>\n",
       "      <td>1000_1</td>\n",
       "      <td>2018-08-17</td>\n",
       "      <td>0.00</td>\n",
       "      <td>1000</td>\n",
       "    </tr>\n",
       "    <tr>\n",
       "      <th>2</th>\n",
       "      <td>1000_2</td>\n",
       "      <td>2018-06-11</td>\n",
       "      <td>2.85</td>\n",
       "      <td>1000</td>\n",
       "    </tr>\n",
       "    <tr>\n",
       "      <th>3</th>\n",
       "      <td>1000_3</td>\n",
       "      <td>2018-09-21</td>\n",
       "      <td>13.80</td>\n",
       "      <td>1000</td>\n",
       "    </tr>\n",
       "    <tr>\n",
       "      <th>4</th>\n",
       "      <td>1000_4</td>\n",
       "      <td>2018-12-15</td>\n",
       "      <td>5.18</td>\n",
       "      <td>1000</td>\n",
       "    </tr>\n",
       "    <tr>\n",
       "      <th>5</th>\n",
       "      <td>1000_5</td>\n",
       "      <td>2018-11-02</td>\n",
       "      <td>0.00</td>\n",
       "      <td>1000</td>\n",
       "    </tr>\n",
       "    <tr>\n",
       "      <th>6</th>\n",
       "      <td>1000_6</td>\n",
       "      <td>2018-10-18</td>\n",
       "      <td>0.00</td>\n",
       "      <td>1000</td>\n",
       "    </tr>\n",
       "    <tr>\n",
       "      <th>7</th>\n",
       "      <td>1000_7</td>\n",
       "      <td>2018-08-22</td>\n",
       "      <td>18.31</td>\n",
       "      <td>1000</td>\n",
       "    </tr>\n",
       "    <tr>\n",
       "      <th>8</th>\n",
       "      <td>1000_8</td>\n",
       "      <td>2018-09-15</td>\n",
       "      <td>18.44</td>\n",
       "      <td>1000</td>\n",
       "    </tr>\n",
       "    <tr>\n",
       "      <th>9</th>\n",
       "      <td>1000_9</td>\n",
       "      <td>2018-08-15</td>\n",
       "      <td>0.00</td>\n",
       "      <td>1000</td>\n",
       "    </tr>\n",
       "  </tbody>\n",
       "</table>\n",
       "</div>"
      ],
      "text/plain": [
       "       id   call_date  duration  user_id\n",
       "0  1000_0  2018-07-25      0.00     1000\n",
       "1  1000_1  2018-08-17      0.00     1000\n",
       "2  1000_2  2018-06-11      2.85     1000\n",
       "3  1000_3  2018-09-21     13.80     1000\n",
       "4  1000_4  2018-12-15      5.18     1000\n",
       "5  1000_5  2018-11-02      0.00     1000\n",
       "6  1000_6  2018-10-18      0.00     1000\n",
       "7  1000_7  2018-08-22     18.31     1000\n",
       "8  1000_8  2018-09-15     18.44     1000\n",
       "9  1000_9  2018-08-15      0.00     1000"
      ]
     },
     "execution_count": 5,
     "metadata": {},
     "output_type": "execute_result"
    }
   ],
   "source": [
    "calls.head(10)"
   ]
  },
  {
   "cell_type": "code",
   "execution_count": 6,
   "metadata": {},
   "outputs": [
    {
     "data": {
      "text/html": [
       "<div>\n",
       "<style scoped>\n",
       "    .dataframe tbody tr th:only-of-type {\n",
       "        vertical-align: middle;\n",
       "    }\n",
       "\n",
       "    .dataframe tbody tr th {\n",
       "        vertical-align: top;\n",
       "    }\n",
       "\n",
       "    .dataframe thead th {\n",
       "        text-align: right;\n",
       "    }\n",
       "</style>\n",
       "<table border=\"1\" class=\"dataframe\">\n",
       "  <thead>\n",
       "    <tr style=\"text-align: right;\">\n",
       "      <th></th>\n",
       "      <th>id</th>\n",
       "      <th>call_date</th>\n",
       "      <th>duration</th>\n",
       "      <th>user_id</th>\n",
       "    </tr>\n",
       "  </thead>\n",
       "  <tbody>\n",
       "    <tr>\n",
       "      <th>180968</th>\n",
       "      <td>1453_160</td>\n",
       "      <td>2018-01-01</td>\n",
       "      <td>0.00</td>\n",
       "      <td>1453</td>\n",
       "    </tr>\n",
       "    <tr>\n",
       "      <th>181239</th>\n",
       "      <td>1453_431</td>\n",
       "      <td>2018-01-01</td>\n",
       "      <td>19.92</td>\n",
       "      <td>1453</td>\n",
       "    </tr>\n",
       "    <tr>\n",
       "      <th>76907</th>\n",
       "      <td>1193_169</td>\n",
       "      <td>2018-01-01</td>\n",
       "      <td>13.29</td>\n",
       "      <td>1193</td>\n",
       "    </tr>\n",
       "    <tr>\n",
       "      <th>181903</th>\n",
       "      <td>1453_1095</td>\n",
       "      <td>2018-01-01</td>\n",
       "      <td>5.63</td>\n",
       "      <td>1453</td>\n",
       "    </tr>\n",
       "    <tr>\n",
       "      <th>181106</th>\n",
       "      <td>1453_298</td>\n",
       "      <td>2018-01-01</td>\n",
       "      <td>15.25</td>\n",
       "      <td>1453</td>\n",
       "    </tr>\n",
       "    <tr>\n",
       "      <th>...</th>\n",
       "      <td>...</td>\n",
       "      <td>...</td>\n",
       "      <td>...</td>\n",
       "      <td>...</td>\n",
       "    </tr>\n",
       "    <tr>\n",
       "      <th>51898</th>\n",
       "      <td>1130_186</td>\n",
       "      <td>2018-12-31</td>\n",
       "      <td>14.36</td>\n",
       "      <td>1130</td>\n",
       "    </tr>\n",
       "    <tr>\n",
       "      <th>155006</th>\n",
       "      <td>1382_789</td>\n",
       "      <td>2018-12-31</td>\n",
       "      <td>9.26</td>\n",
       "      <td>1382</td>\n",
       "    </tr>\n",
       "    <tr>\n",
       "      <th>173182</th>\n",
       "      <td>1427_546</td>\n",
       "      <td>2018-12-31</td>\n",
       "      <td>0.32</td>\n",
       "      <td>1427</td>\n",
       "    </tr>\n",
       "    <tr>\n",
       "      <th>30050</th>\n",
       "      <td>1076_342</td>\n",
       "      <td>2018-12-31</td>\n",
       "      <td>0.33</td>\n",
       "      <td>1076</td>\n",
       "    </tr>\n",
       "    <tr>\n",
       "      <th>131114</th>\n",
       "      <td>1336_3</td>\n",
       "      <td>2018-12-31</td>\n",
       "      <td>13.15</td>\n",
       "      <td>1336</td>\n",
       "    </tr>\n",
       "  </tbody>\n",
       "</table>\n",
       "<p>202607 rows × 4 columns</p>\n",
       "</div>"
      ],
      "text/plain": [
       "               id   call_date  duration  user_id\n",
       "180968   1453_160  2018-01-01      0.00     1453\n",
       "181239   1453_431  2018-01-01     19.92     1453\n",
       "76907    1193_169  2018-01-01     13.29     1193\n",
       "181903  1453_1095  2018-01-01      5.63     1453\n",
       "181106   1453_298  2018-01-01     15.25     1453\n",
       "...           ...         ...       ...      ...\n",
       "51898    1130_186  2018-12-31     14.36     1130\n",
       "155006   1382_789  2018-12-31      9.26     1382\n",
       "173182   1427_546  2018-12-31      0.32     1427\n",
       "30050    1076_342  2018-12-31      0.33     1076\n",
       "131114     1336_3  2018-12-31     13.15     1336\n",
       "\n",
       "[202607 rows x 4 columns]"
      ]
     },
     "execution_count": 6,
     "metadata": {},
     "output_type": "execute_result"
    }
   ],
   "source": [
    "calls.sort_values(by='call_date')"
   ]
  },
  {
   "cell_type": "code",
   "execution_count": 7,
   "metadata": {},
   "outputs": [
    {
     "name": "stdout",
     "output_type": "stream",
     "text": [
      "<class 'pandas.core.frame.DataFrame'>\n",
      "RangeIndex: 202607 entries, 0 to 202606\n",
      "Data columns (total 4 columns):\n",
      " #   Column     Non-Null Count   Dtype  \n",
      "---  ------     --------------   -----  \n",
      " 0   id         202607 non-null  object \n",
      " 1   call_date  202607 non-null  object \n",
      " 2   duration   202607 non-null  float64\n",
      " 3   user_id    202607 non-null  int64  \n",
      "dtypes: float64(1), int64(1), object(2)\n",
      "memory usage: 6.2+ MB\n"
     ]
    }
   ],
   "source": [
    "calls.info()"
   ]
  },
  {
   "cell_type": "code",
   "execution_count": 8,
   "metadata": {},
   "outputs": [
    {
     "data": {
      "text/plain": [
       "count    202607.00\n",
       "mean          6.76\n",
       "std           5.84\n",
       "min           0.00\n",
       "25%           1.30\n",
       "50%           6.00\n",
       "75%          10.70\n",
       "max          38.00\n",
       "Name: duration, dtype: object"
      ]
     },
     "execution_count": 8,
     "metadata": {},
     "output_type": "execute_result"
    }
   ],
   "source": [
    "calls['duration'].describe().apply(lambda x: format(x, '.2f'))"
   ]
  },
  {
   "cell_type": "code",
   "execution_count": 9,
   "metadata": {},
   "outputs": [
    {
     "data": {
      "text/plain": [
       "492"
      ]
     },
     "execution_count": 9,
     "metadata": {},
     "output_type": "execute_result"
    }
   ],
   "source": [
    "calls['user_id'].nunique()"
   ]
  },
  {
   "cell_type": "code",
   "execution_count": 10,
   "metadata": {},
   "outputs": [
    {
     "data": {
      "text/plain": [
       "<AxesSubplot:title={'center':'Распределение длительности звонков за 1 звонок'}, ylabel='Frequency'>"
      ]
     },
     "execution_count": 10,
     "metadata": {},
     "output_type": "execute_result"
    },
    {
     "data": {
      "image/png": "[encoded data removed]",
      "text/plain": [
       "<Figure size 1440x720 with 1 Axes>"
      ]
     },
     "metadata": {
      "needs_background": "light"
     },
     "output_type": "display_data"
    }
   ],
   "source": [
    "calls.plot(\n",
    "    kind='hist',\n",
    "    y='duration',\n",
    "    figsize=[20,10],\n",
    "    bins=39,\n",
    "    linewidth=5,\n",
    "    alpha=1,\n",
    "    range=(0,38),\n",
    "    label='Длительность звонка, минут',\n",
    "    grid=True,\n",
    "    legend=True,\n",
    "    title='Распределение длительности звонков за 1 звонок'\n",
    ")"
   ]
  },
  {
   "cell_type": "code",
   "execution_count": 11,
   "metadata": {},
   "outputs": [
    {
     "data": {
      "text/plain": [
       "<AxesSubplot:title={'center':'Распределение длительности звонков за 1 звонок'}, ylabel='Frequency'>"
      ]
     },
     "execution_count": 11,
     "metadata": {},
     "output_type": "execute_result"
    },
    {
     "data": {
      "image/png": "[encoded data removed]",
      "text/plain": [
       "<Figure size 1440x720 with 1 Axes>"
      ]
     },
     "metadata": {
      "needs_background": "light"
     },
     "output_type": "display_data"
    }
   ],
   "source": [
    "# Более детально изучим первую минуту звонка\n",
    "\n",
    "calls.plot(\n",
    "    kind='hist',\n",
    "    y='duration',\n",
    "    figsize=[20,10],\n",
    "    bins=60,\n",
    "    linewidth=5,\n",
    "    alpha=1,\n",
    "    range=(0,1),\n",
    "    label='Длительность звонка, минут',\n",
    "    grid=True,\n",
    "    legend=True,\n",
    "    title='Распределение длительности звонков за 1 звонок'\n",
    ")"
   ]
  },
  {
   "cell_type": "markdown",
   "metadata": {},
   "source": [
    "**Вывод**\n",
    "\n",
    "- Столбец с датой - потребуется перевод в формат даты и выделение столбца с номером месяца;\n",
    "- Количество пользователей, по которым есть данные о звонках - 492 из 500;\n",
    "- Почти четверть звонков - пропущенные, если судить по 0 минутам;\n",
    "- Дробная часть минуты приведена в сотых (тогда как в минуте 60 секунд), однако, с учетом того, что КАЖДЫЙ звонок округляется до минуты, это расхождение - не проблема;\n",
    "- Пропуски в данных отсутствуют;\n",
    "- Данные только за 2018 год - корректная выгрузка."
   ]
  },
  {
   "cell_type": "markdown",
   "metadata": {},
   "source": [
    "#### Таблица internet"
   ]
  },
  {
   "cell_type": "markdown",
   "metadata": {},
   "source": [
    "Таблица internet (информация об интернет-сессиях):\n",
    "\n",
    "    id — уникальный номер сессии\n",
    "    mb_used — объём потраченного за сессию интернет-трафика (в мегабайтах)\n",
    "    session_date — дата интернет-сессии\n",
    "    user_id — идентификатор пользователя\n",
    "    \n",
    "    Для веб-трафика отдельные сессии не считаются. Вместо этого общая сумма за месяц округляется в бо́льшую сторону. Если абонент использует 1025 мегабайт в этом месяце, с него возьмут плату за 2 гигабайта.\n",
    "    \n",
    "    1 гигабайт = 1024 мегабайта"
   ]
  },
  {
   "cell_type": "code",
   "execution_count": 12,
   "metadata": {},
   "outputs": [
    {
     "data": {
      "text/html": [
       "<div>\n",
       "<style scoped>\n",
       "    .dataframe tbody tr th:only-of-type {\n",
       "        vertical-align: middle;\n",
       "    }\n",
       "\n",
       "    .dataframe tbody tr th {\n",
       "        vertical-align: top;\n",
       "    }\n",
       "\n",
       "    .dataframe thead th {\n",
       "        text-align: right;\n",
       "    }\n",
       "</style>\n",
       "<table border=\"1\" class=\"dataframe\">\n",
       "  <thead>\n",
       "    <tr style=\"text-align: right;\">\n",
       "      <th></th>\n",
       "      <th>Unnamed: 0</th>\n",
       "      <th>id</th>\n",
       "      <th>mb_used</th>\n",
       "      <th>session_date</th>\n",
       "      <th>user_id</th>\n",
       "    </tr>\n",
       "  </thead>\n",
       "  <tbody>\n",
       "    <tr>\n",
       "      <th>0</th>\n",
       "      <td>0</td>\n",
       "      <td>1000_0</td>\n",
       "      <td>112.95</td>\n",
       "      <td>2018-11-25</td>\n",
       "      <td>1000</td>\n",
       "    </tr>\n",
       "    <tr>\n",
       "      <th>1</th>\n",
       "      <td>1</td>\n",
       "      <td>1000_1</td>\n",
       "      <td>1052.81</td>\n",
       "      <td>2018-09-07</td>\n",
       "      <td>1000</td>\n",
       "    </tr>\n",
       "    <tr>\n",
       "      <th>2</th>\n",
       "      <td>2</td>\n",
       "      <td>1000_2</td>\n",
       "      <td>1197.26</td>\n",
       "      <td>2018-06-25</td>\n",
       "      <td>1000</td>\n",
       "    </tr>\n",
       "    <tr>\n",
       "      <th>3</th>\n",
       "      <td>3</td>\n",
       "      <td>1000_3</td>\n",
       "      <td>550.27</td>\n",
       "      <td>2018-08-22</td>\n",
       "      <td>1000</td>\n",
       "    </tr>\n",
       "    <tr>\n",
       "      <th>4</th>\n",
       "      <td>4</td>\n",
       "      <td>1000_4</td>\n",
       "      <td>302.56</td>\n",
       "      <td>2018-09-24</td>\n",
       "      <td>1000</td>\n",
       "    </tr>\n",
       "    <tr>\n",
       "      <th>5</th>\n",
       "      <td>5</td>\n",
       "      <td>1000_5</td>\n",
       "      <td>399.97</td>\n",
       "      <td>2018-10-02</td>\n",
       "      <td>1000</td>\n",
       "    </tr>\n",
       "    <tr>\n",
       "      <th>6</th>\n",
       "      <td>6</td>\n",
       "      <td>1000_6</td>\n",
       "      <td>540.08</td>\n",
       "      <td>2018-09-07</td>\n",
       "      <td>1000</td>\n",
       "    </tr>\n",
       "    <tr>\n",
       "      <th>7</th>\n",
       "      <td>7</td>\n",
       "      <td>1000_7</td>\n",
       "      <td>415.70</td>\n",
       "      <td>2018-07-11</td>\n",
       "      <td>1000</td>\n",
       "    </tr>\n",
       "    <tr>\n",
       "      <th>8</th>\n",
       "      <td>8</td>\n",
       "      <td>1000_8</td>\n",
       "      <td>505.40</td>\n",
       "      <td>2018-10-08</td>\n",
       "      <td>1000</td>\n",
       "    </tr>\n",
       "    <tr>\n",
       "      <th>9</th>\n",
       "      <td>9</td>\n",
       "      <td>1000_9</td>\n",
       "      <td>345.54</td>\n",
       "      <td>2018-09-03</td>\n",
       "      <td>1000</td>\n",
       "    </tr>\n",
       "  </tbody>\n",
       "</table>\n",
       "</div>"
      ],
      "text/plain": [
       "   Unnamed: 0      id  mb_used session_date  user_id\n",
       "0           0  1000_0   112.95   2018-11-25     1000\n",
       "1           1  1000_1  1052.81   2018-09-07     1000\n",
       "2           2  1000_2  1197.26   2018-06-25     1000\n",
       "3           3  1000_3   550.27   2018-08-22     1000\n",
       "4           4  1000_4   302.56   2018-09-24     1000\n",
       "5           5  1000_5   399.97   2018-10-02     1000\n",
       "6           6  1000_6   540.08   2018-09-07     1000\n",
       "7           7  1000_7   415.70   2018-07-11     1000\n",
       "8           8  1000_8   505.40   2018-10-08     1000\n",
       "9           9  1000_9   345.54   2018-09-03     1000"
      ]
     },
     "execution_count": 12,
     "metadata": {},
     "output_type": "execute_result"
    }
   ],
   "source": [
    "internet.head(10)"
   ]
  },
  {
   "cell_type": "code",
   "execution_count": 13,
   "metadata": {},
   "outputs": [
    {
     "name": "stdout",
     "output_type": "stream",
     "text": [
      "<class 'pandas.core.frame.DataFrame'>\n",
      "RangeIndex: 149396 entries, 0 to 149395\n",
      "Data columns (total 5 columns):\n",
      " #   Column        Non-Null Count   Dtype  \n",
      "---  ------        --------------   -----  \n",
      " 0   Unnamed: 0    149396 non-null  int64  \n",
      " 1   id            149396 non-null  object \n",
      " 2   mb_used       149396 non-null  float64\n",
      " 3   session_date  149396 non-null  object \n",
      " 4   user_id       149396 non-null  int64  \n",
      "dtypes: float64(1), int64(2), object(2)\n",
      "memory usage: 5.7+ MB\n"
     ]
    }
   ],
   "source": [
    "internet.info()"
   ]
  },
  {
   "cell_type": "code",
   "execution_count": 14,
   "metadata": {},
   "outputs": [
    {
     "data": {
      "text/html": [
       "<div>\n",
       "<style scoped>\n",
       "    .dataframe tbody tr th:only-of-type {\n",
       "        vertical-align: middle;\n",
       "    }\n",
       "\n",
       "    .dataframe tbody tr th {\n",
       "        vertical-align: top;\n",
       "    }\n",
       "\n",
       "    .dataframe thead th {\n",
       "        text-align: right;\n",
       "    }\n",
       "</style>\n",
       "<table border=\"1\" class=\"dataframe\">\n",
       "  <thead>\n",
       "    <tr style=\"text-align: right;\">\n",
       "      <th></th>\n",
       "      <th>Unnamed: 0</th>\n",
       "      <th>id</th>\n",
       "      <th>mb_used</th>\n",
       "      <th>session_date</th>\n",
       "      <th>user_id</th>\n",
       "    </tr>\n",
       "  </thead>\n",
       "  <tbody>\n",
       "    <tr>\n",
       "      <th>135277</th>\n",
       "      <td>135277</td>\n",
       "      <td>1453_498</td>\n",
       "      <td>209.31</td>\n",
       "      <td>2018-01-01</td>\n",
       "      <td>1453</td>\n",
       "    </tr>\n",
       "    <tr>\n",
       "      <th>57584</th>\n",
       "      <td>57584</td>\n",
       "      <td>1193_123</td>\n",
       "      <td>0.00</td>\n",
       "      <td>2018-01-01</td>\n",
       "      <td>1193</td>\n",
       "    </tr>\n",
       "    <tr>\n",
       "      <th>135081</th>\n",
       "      <td>135081</td>\n",
       "      <td>1453_302</td>\n",
       "      <td>794.96</td>\n",
       "      <td>2018-01-01</td>\n",
       "      <td>1453</td>\n",
       "    </tr>\n",
       "    <tr>\n",
       "      <th>45314</th>\n",
       "      <td>45314</td>\n",
       "      <td>1155_501</td>\n",
       "      <td>0.00</td>\n",
       "      <td>2018-01-02</td>\n",
       "      <td>1155</td>\n",
       "    </tr>\n",
       "    <tr>\n",
       "      <th>16177</th>\n",
       "      <td>16177</td>\n",
       "      <td>1055_635</td>\n",
       "      <td>105.15</td>\n",
       "      <td>2018-01-02</td>\n",
       "      <td>1055</td>\n",
       "    </tr>\n",
       "    <tr>\n",
       "      <th>...</th>\n",
       "      <td>...</td>\n",
       "      <td>...</td>\n",
       "      <td>...</td>\n",
       "      <td>...</td>\n",
       "      <td>...</td>\n",
       "    </tr>\n",
       "    <tr>\n",
       "      <th>16943</th>\n",
       "      <td>16943</td>\n",
       "      <td>1058_119</td>\n",
       "      <td>563.07</td>\n",
       "      <td>2018-12-31</td>\n",
       "      <td>1058</td>\n",
       "    </tr>\n",
       "    <tr>\n",
       "      <th>146969</th>\n",
       "      <td>146969</td>\n",
       "      <td>1491_241</td>\n",
       "      <td>327.10</td>\n",
       "      <td>2018-12-31</td>\n",
       "      <td>1491</td>\n",
       "    </tr>\n",
       "    <tr>\n",
       "      <th>39896</th>\n",
       "      <td>39896</td>\n",
       "      <td>1141_18</td>\n",
       "      <td>337.04</td>\n",
       "      <td>2018-12-31</td>\n",
       "      <td>1141</td>\n",
       "    </tr>\n",
       "    <tr>\n",
       "      <th>90301</th>\n",
       "      <td>90301</td>\n",
       "      <td>1306_35</td>\n",
       "      <td>0.00</td>\n",
       "      <td>2018-12-31</td>\n",
       "      <td>1306</td>\n",
       "    </tr>\n",
       "    <tr>\n",
       "      <th>101144</th>\n",
       "      <td>101144</td>\n",
       "      <td>1339_123</td>\n",
       "      <td>785.94</td>\n",
       "      <td>2018-12-31</td>\n",
       "      <td>1339</td>\n",
       "    </tr>\n",
       "  </tbody>\n",
       "</table>\n",
       "<p>149396 rows × 5 columns</p>\n",
       "</div>"
      ],
      "text/plain": [
       "        Unnamed: 0        id  mb_used session_date  user_id\n",
       "135277      135277  1453_498   209.31   2018-01-01     1453\n",
       "57584        57584  1193_123     0.00   2018-01-01     1193\n",
       "135081      135081  1453_302   794.96   2018-01-01     1453\n",
       "45314        45314  1155_501     0.00   2018-01-02     1155\n",
       "16177        16177  1055_635   105.15   2018-01-02     1055\n",
       "...            ...       ...      ...          ...      ...\n",
       "16943        16943  1058_119   563.07   2018-12-31     1058\n",
       "146969      146969  1491_241   327.10   2018-12-31     1491\n",
       "39896        39896   1141_18   337.04   2018-12-31     1141\n",
       "90301        90301   1306_35     0.00   2018-12-31     1306\n",
       "101144      101144  1339_123   785.94   2018-12-31     1339\n",
       "\n",
       "[149396 rows x 5 columns]"
      ]
     },
     "execution_count": 14,
     "metadata": {},
     "output_type": "execute_result"
    }
   ],
   "source": [
    "internet.sort_values(by='session_date')"
   ]
  },
  {
   "cell_type": "code",
   "execution_count": 15,
   "metadata": {},
   "outputs": [
    {
     "data": {
      "text/plain": [
       "count    149396.00\n",
       "mean        370.19\n",
       "std         278.30\n",
       "min           0.00\n",
       "25%         138.19\n",
       "50%         348.01\n",
       "75%         559.55\n",
       "max        1724.83\n",
       "Name: mb_used, dtype: object"
      ]
     },
     "execution_count": 15,
     "metadata": {},
     "output_type": "execute_result"
    }
   ],
   "source": [
    "internet['mb_used'].describe().apply(lambda x: format(x, '.2f'))"
   ]
  },
  {
   "cell_type": "code",
   "execution_count": 16,
   "metadata": {},
   "outputs": [
    {
     "data": {
      "text/plain": [
       "497"
      ]
     },
     "execution_count": 16,
     "metadata": {},
     "output_type": "execute_result"
    }
   ],
   "source": [
    "internet['user_id'].nunique()"
   ]
  },
  {
   "cell_type": "code",
   "execution_count": 17,
   "metadata": {},
   "outputs": [
    {
     "data": {
      "text/plain": [
       "<AxesSubplot:title={'center':'Распределение потребления трафика за сессию'}, ylabel='Frequency'>"
      ]
     },
     "execution_count": 17,
     "metadata": {},
     "output_type": "execute_result"
    },
    {
     "data": {
      "image/png": "[encoded data removed]",
      "text/plain": [
       "<Figure size 1440x720 with 1 Axes>"
      ]
     },
     "metadata": {
      "needs_background": "light"
     },
     "output_type": "display_data"
    }
   ],
   "source": [
    "internet.plot(\n",
    "    kind='hist',\n",
    "    y='mb_used',\n",
    "    figsize=[20,10],\n",
    "    bins=100,\n",
    "    linewidth=5,\n",
    "    alpha=1,\n",
    "    range=(0,1500),\n",
    "    label='Трафик за сессию, МБ',\n",
    "    grid=True,\n",
    "    legend=True,\n",
    "    title='Распределение потребления трафика за сессию'\n",
    ")"
   ]
  },
  {
   "cell_type": "code",
   "execution_count": 18,
   "metadata": {},
   "outputs": [
    {
     "data": {
      "text/plain": [
       "<AxesSubplot:title={'center':'Распределение потребления трафика за сессию'}, ylabel='Frequency'>"
      ]
     },
     "execution_count": 18,
     "metadata": {},
     "output_type": "execute_result"
    },
    {
     "data": {
      "image/png": "[encoded data removed]",
      "text/plain": [
       "<Figure size 1440x720 with 1 Axes>"
      ]
     },
     "metadata": {
      "needs_background": "light"
     },
     "output_type": "display_data"
    }
   ],
   "source": [
    "internet.plot(\n",
    "    kind='hist',\n",
    "    y='mb_used',\n",
    "    figsize=[20,10],\n",
    "    bins=100,\n",
    "    linewidth=5,\n",
    "    alpha=1,\n",
    "    range=(0,5),\n",
    "    label='Трафик за сессию, МБ',\n",
    "    grid=True,\n",
    "    legend=True,\n",
    "    title='Распределение потребления трафика за сессию'\n",
    ")"
   ]
  },
  {
   "cell_type": "code",
   "execution_count": 19,
   "metadata": {},
   "outputs": [
    {
     "data": {
      "text/plain": [
       "19598"
      ]
     },
     "execution_count": 19,
     "metadata": {},
     "output_type": "execute_result"
    }
   ],
   "source": [
    "internet.query('mb_used == 0').count()[0]"
   ]
  },
  {
   "cell_type": "code",
   "execution_count": 20,
   "metadata": {},
   "outputs": [
    {
     "data": {
      "text/plain": [
       "19699"
      ]
     },
     "execution_count": 20,
     "metadata": {},
     "output_type": "execute_result"
    }
   ],
   "source": [
    "internet.query('mb_used < 1').count()[0]"
   ]
  },
  {
   "cell_type": "code",
   "execution_count": 21,
   "metadata": {},
   "outputs": [
    {
     "name": "stdout",
     "output_type": "stream",
     "text": [
      "0.13118155773916304\n"
     ]
    }
   ],
   "source": [
    "print((internet.query('mb_used == 0').count()[0]) / (internet.count()[0]))"
   ]
  },
  {
   "cell_type": "markdown",
   "metadata": {},
   "source": [
    "**Вывод**\n",
    "\n",
    "- Столбец с датой - потребуется перевод в формат даты и выделение столбца с номером месяца;\n",
    "- Количество пользователей, по которым есть данные об интернет сессиях - 497 из 500;\n",
    "- Имеется лишний столбец unnamed, возможно ошибочно появился в выгрузке во время её формирования; \n",
    "- 13% от сессий - нулевые, при этом доля ненулевых сессий, но менее 1мб - минимальна, возможно появилась как техническая ошибка, либо как особенность учета: например клиент начал интернет сессию и тут же её прервал, не успев получить или передать данные, либо оператор сам блокировал передачу/прием данных, при инициализации интернет-сессии в роуминге. В любом случае, потребности удалять такие \"нулевые\" сессии нет, т.к. в итоге пойдет суммарный объем трафика за месяц по клиенту. "
   ]
  },
  {
   "cell_type": "markdown",
   "metadata": {},
   "source": [
    "#### Таблица messages"
   ]
  },
  {
   "cell_type": "markdown",
   "metadata": {},
   "source": [
    "Таблица messages (информация о сообщениях):\n",
    "\n",
    "    id — уникальный номер сообщения\n",
    "    message_date — дата сообщения\n",
    "    user_id — идентификатор пользователя, отправившего сообщение"
   ]
  },
  {
   "cell_type": "code",
   "execution_count": 22,
   "metadata": {},
   "outputs": [
    {
     "data": {
      "text/html": [
       "<div>\n",
       "<style scoped>\n",
       "    .dataframe tbody tr th:only-of-type {\n",
       "        vertical-align: middle;\n",
       "    }\n",
       "\n",
       "    .dataframe tbody tr th {\n",
       "        vertical-align: top;\n",
       "    }\n",
       "\n",
       "    .dataframe thead th {\n",
       "        text-align: right;\n",
       "    }\n",
       "</style>\n",
       "<table border=\"1\" class=\"dataframe\">\n",
       "  <thead>\n",
       "    <tr style=\"text-align: right;\">\n",
       "      <th></th>\n",
       "      <th>id</th>\n",
       "      <th>message_date</th>\n",
       "      <th>user_id</th>\n",
       "    </tr>\n",
       "  </thead>\n",
       "  <tbody>\n",
       "    <tr>\n",
       "      <th>0</th>\n",
       "      <td>1000_0</td>\n",
       "      <td>2018-06-27</td>\n",
       "      <td>1000</td>\n",
       "    </tr>\n",
       "    <tr>\n",
       "      <th>1</th>\n",
       "      <td>1000_1</td>\n",
       "      <td>2018-10-08</td>\n",
       "      <td>1000</td>\n",
       "    </tr>\n",
       "    <tr>\n",
       "      <th>2</th>\n",
       "      <td>1000_2</td>\n",
       "      <td>2018-08-04</td>\n",
       "      <td>1000</td>\n",
       "    </tr>\n",
       "    <tr>\n",
       "      <th>3</th>\n",
       "      <td>1000_3</td>\n",
       "      <td>2018-06-16</td>\n",
       "      <td>1000</td>\n",
       "    </tr>\n",
       "    <tr>\n",
       "      <th>4</th>\n",
       "      <td>1000_4</td>\n",
       "      <td>2018-12-05</td>\n",
       "      <td>1000</td>\n",
       "    </tr>\n",
       "    <tr>\n",
       "      <th>5</th>\n",
       "      <td>1000_5</td>\n",
       "      <td>2018-06-20</td>\n",
       "      <td>1000</td>\n",
       "    </tr>\n",
       "    <tr>\n",
       "      <th>6</th>\n",
       "      <td>1000_6</td>\n",
       "      <td>2018-11-19</td>\n",
       "      <td>1000</td>\n",
       "    </tr>\n",
       "    <tr>\n",
       "      <th>7</th>\n",
       "      <td>1000_7</td>\n",
       "      <td>2018-10-29</td>\n",
       "      <td>1000</td>\n",
       "    </tr>\n",
       "    <tr>\n",
       "      <th>8</th>\n",
       "      <td>1000_8</td>\n",
       "      <td>2018-06-25</td>\n",
       "      <td>1000</td>\n",
       "    </tr>\n",
       "    <tr>\n",
       "      <th>9</th>\n",
       "      <td>1000_9</td>\n",
       "      <td>2018-12-18</td>\n",
       "      <td>1000</td>\n",
       "    </tr>\n",
       "  </tbody>\n",
       "</table>\n",
       "</div>"
      ],
      "text/plain": [
       "       id message_date  user_id\n",
       "0  1000_0   2018-06-27     1000\n",
       "1  1000_1   2018-10-08     1000\n",
       "2  1000_2   2018-08-04     1000\n",
       "3  1000_3   2018-06-16     1000\n",
       "4  1000_4   2018-12-05     1000\n",
       "5  1000_5   2018-06-20     1000\n",
       "6  1000_6   2018-11-19     1000\n",
       "7  1000_7   2018-10-29     1000\n",
       "8  1000_8   2018-06-25     1000\n",
       "9  1000_9   2018-12-18     1000"
      ]
     },
     "execution_count": 22,
     "metadata": {},
     "output_type": "execute_result"
    }
   ],
   "source": [
    "messages.head(10)"
   ]
  },
  {
   "cell_type": "code",
   "execution_count": 23,
   "metadata": {},
   "outputs": [
    {
     "data": {
      "text/plain": [
       "426"
      ]
     },
     "execution_count": 23,
     "metadata": {},
     "output_type": "execute_result"
    }
   ],
   "source": [
    "messages['user_id'].nunique()"
   ]
  },
  {
   "cell_type": "code",
   "execution_count": 24,
   "metadata": {},
   "outputs": [
    {
     "data": {
      "text/html": [
       "<div>\n",
       "<style scoped>\n",
       "    .dataframe tbody tr th:only-of-type {\n",
       "        vertical-align: middle;\n",
       "    }\n",
       "\n",
       "    .dataframe tbody tr th {\n",
       "        vertical-align: top;\n",
       "    }\n",
       "\n",
       "    .dataframe thead th {\n",
       "        text-align: right;\n",
       "    }\n",
       "</style>\n",
       "<table border=\"1\" class=\"dataframe\">\n",
       "  <thead>\n",
       "    <tr style=\"text-align: right;\">\n",
       "      <th></th>\n",
       "      <th>id</th>\n",
       "      <th>message_date</th>\n",
       "      <th>user_id</th>\n",
       "    </tr>\n",
       "  </thead>\n",
       "  <tbody>\n",
       "    <tr>\n",
       "      <th>35693</th>\n",
       "      <td>1155_82</td>\n",
       "      <td>2018-01-02</td>\n",
       "      <td>1155</td>\n",
       "    </tr>\n",
       "    <tr>\n",
       "      <th>112561</th>\n",
       "      <td>1453_586</td>\n",
       "      <td>2018-01-02</td>\n",
       "      <td>1453</td>\n",
       "    </tr>\n",
       "    <tr>\n",
       "      <th>112248</th>\n",
       "      <td>1453_273</td>\n",
       "      <td>2018-01-02</td>\n",
       "      <td>1453</td>\n",
       "    </tr>\n",
       "    <tr>\n",
       "      <th>36021</th>\n",
       "      <td>1155_410</td>\n",
       "      <td>2018-01-02</td>\n",
       "      <td>1155</td>\n",
       "    </tr>\n",
       "    <tr>\n",
       "      <th>13096</th>\n",
       "      <td>1055_62</td>\n",
       "      <td>2018-01-02</td>\n",
       "      <td>1055</td>\n",
       "    </tr>\n",
       "    <tr>\n",
       "      <th>...</th>\n",
       "      <td>...</td>\n",
       "      <td>...</td>\n",
       "      <td>...</td>\n",
       "    </tr>\n",
       "    <tr>\n",
       "      <th>52443</th>\n",
       "      <td>1231_1064</td>\n",
       "      <td>2018-12-31</td>\n",
       "      <td>1231</td>\n",
       "    </tr>\n",
       "    <tr>\n",
       "      <th>14184</th>\n",
       "      <td>1060_21</td>\n",
       "      <td>2018-12-31</td>\n",
       "      <td>1060</td>\n",
       "    </tr>\n",
       "    <tr>\n",
       "      <th>31402</th>\n",
       "      <td>1139_37</td>\n",
       "      <td>2018-12-31</td>\n",
       "      <td>1139</td>\n",
       "    </tr>\n",
       "    <tr>\n",
       "      <th>89442</th>\n",
       "      <td>1373_454</td>\n",
       "      <td>2018-12-31</td>\n",
       "      <td>1373</td>\n",
       "    </tr>\n",
       "    <tr>\n",
       "      <th>98381</th>\n",
       "      <td>1402_185</td>\n",
       "      <td>2018-12-31</td>\n",
       "      <td>1402</td>\n",
       "    </tr>\n",
       "  </tbody>\n",
       "</table>\n",
       "<p>123036 rows × 3 columns</p>\n",
       "</div>"
      ],
      "text/plain": [
       "               id message_date  user_id\n",
       "35693     1155_82   2018-01-02     1155\n",
       "112561   1453_586   2018-01-02     1453\n",
       "112248   1453_273   2018-01-02     1453\n",
       "36021    1155_410   2018-01-02     1155\n",
       "13096     1055_62   2018-01-02     1055\n",
       "...           ...          ...      ...\n",
       "52443   1231_1064   2018-12-31     1231\n",
       "14184     1060_21   2018-12-31     1060\n",
       "31402     1139_37   2018-12-31     1139\n",
       "89442    1373_454   2018-12-31     1373\n",
       "98381    1402_185   2018-12-31     1402\n",
       "\n",
       "[123036 rows x 3 columns]"
      ]
     },
     "execution_count": 24,
     "metadata": {},
     "output_type": "execute_result"
    }
   ],
   "source": [
    "messages.sort_values(by='message_date')"
   ]
  },
  {
   "cell_type": "markdown",
   "metadata": {},
   "source": [
    "**Вывод**\n",
    "\n",
    "- Столбец с датой - потребуется перевод в формат даты и выделение столбца с номером месяца;\n",
    "- Количество пользователей, по которым есть данные о сообщениях - 426 из 500;"
   ]
  },
  {
   "cell_type": "markdown",
   "metadata": {},
   "source": [
    "#### Таблица tariffs"
   ]
  },
  {
   "cell_type": "markdown",
   "metadata": {},
   "source": [
    "Таблица tariffs (информация о тарифах):\n",
    "\n",
    "    tariff_name — название тарифа\n",
    "    rub_monthly_fee — ежемесячная абонентская плата в рублях\n",
    "    minutes_included — количество минут разговора в месяц, включённых в абонентскую плату\n",
    "    messages_included — количество сообщений в месяц, включённых в абонентскую плату\n",
    "    mb_per_month_included — объём интернет-трафика, включённого в абонентскую плату (в мегабайтах)\n",
    "    rub_per_minute — стоимость минуты разговора сверх тарифного пакета (например, если в тарифе 100 минут разговора в месяц, то со 101 минуты будет взиматься плата)\n",
    "    rub_per_message — стоимость отправки сообщения сверх тарифного пакета\n",
    "    rub_per_gb — стоимость дополнительного гигабайта интернет-трафика сверх тарифного пакета (1 гигабайт = 1024 мегабайта)"
   ]
  },
  {
   "cell_type": "code",
   "execution_count": 25,
   "metadata": {},
   "outputs": [
    {
     "data": {
      "text/html": [
       "<div>\n",
       "<style scoped>\n",
       "    .dataframe tbody tr th:only-of-type {\n",
       "        vertical-align: middle;\n",
       "    }\n",
       "\n",
       "    .dataframe tbody tr th {\n",
       "        vertical-align: top;\n",
       "    }\n",
       "\n",
       "    .dataframe thead th {\n",
       "        text-align: right;\n",
       "    }\n",
       "</style>\n",
       "<table border=\"1\" class=\"dataframe\">\n",
       "  <thead>\n",
       "    <tr style=\"text-align: right;\">\n",
       "      <th></th>\n",
       "      <th>messages_included</th>\n",
       "      <th>mb_per_month_included</th>\n",
       "      <th>minutes_included</th>\n",
       "      <th>rub_monthly_fee</th>\n",
       "      <th>rub_per_gb</th>\n",
       "      <th>rub_per_message</th>\n",
       "      <th>rub_per_minute</th>\n",
       "      <th>tariff_name</th>\n",
       "    </tr>\n",
       "  </thead>\n",
       "  <tbody>\n",
       "    <tr>\n",
       "      <th>0</th>\n",
       "      <td>50</td>\n",
       "      <td>15360</td>\n",
       "      <td>500</td>\n",
       "      <td>550</td>\n",
       "      <td>200</td>\n",
       "      <td>3</td>\n",
       "      <td>3</td>\n",
       "      <td>smart</td>\n",
       "    </tr>\n",
       "    <tr>\n",
       "      <th>1</th>\n",
       "      <td>1000</td>\n",
       "      <td>30720</td>\n",
       "      <td>3000</td>\n",
       "      <td>1950</td>\n",
       "      <td>150</td>\n",
       "      <td>1</td>\n",
       "      <td>1</td>\n",
       "      <td>ultra</td>\n",
       "    </tr>\n",
       "  </tbody>\n",
       "</table>\n",
       "</div>"
      ],
      "text/plain": [
       "   messages_included  mb_per_month_included  minutes_included  \\\n",
       "0                 50                  15360               500   \n",
       "1               1000                  30720              3000   \n",
       "\n",
       "   rub_monthly_fee  rub_per_gb  rub_per_message  rub_per_minute tariff_name  \n",
       "0              550         200                3               3       smart  \n",
       "1             1950         150                1               1       ultra  "
      ]
     },
     "execution_count": 25,
     "metadata": {},
     "output_type": "execute_result"
    }
   ],
   "source": [
    "tariffs"
   ]
  },
  {
   "cell_type": "markdown",
   "metadata": {},
   "source": [
    "**Вывод**\n",
    "\n",
    "- Справочная таблица, какой либо предобработки не потребуется. "
   ]
  },
  {
   "cell_type": "markdown",
   "metadata": {},
   "source": [
    "#### Таблица users"
   ]
  },
  {
   "cell_type": "markdown",
   "metadata": {},
   "source": [
    "Таблица users (информация о пользователях):\n",
    "\n",
    "    user_id — уникальный идентификатор пользователя\n",
    "    first_name — имя пользователя\n",
    "    last_name — фамилия пользователя\n",
    "    age — возраст пользователя (годы)\n",
    "    reg_date — дата подключения тарифа (день, месяц, год)\n",
    "    churn_date — дата прекращения пользования тарифом (если значение пропущено, то тариф ещё действовал на момент выгрузки данных)\n",
    "    city — город проживания пользователя\n",
    "    tarif — название тарифного плана"
   ]
  },
  {
   "cell_type": "code",
   "execution_count": 26,
   "metadata": {},
   "outputs": [
    {
     "data": {
      "text/html": [
       "<div>\n",
       "<style scoped>\n",
       "    .dataframe tbody tr th:only-of-type {\n",
       "        vertical-align: middle;\n",
       "    }\n",
       "\n",
       "    .dataframe tbody tr th {\n",
       "        vertical-align: top;\n",
       "    }\n",
       "\n",
       "    .dataframe thead th {\n",
       "        text-align: right;\n",
       "    }\n",
       "</style>\n",
       "<table border=\"1\" class=\"dataframe\">\n",
       "  <thead>\n",
       "    <tr style=\"text-align: right;\">\n",
       "      <th></th>\n",
       "      <th>user_id</th>\n",
       "      <th>age</th>\n",
       "      <th>churn_date</th>\n",
       "      <th>city</th>\n",
       "      <th>first_name</th>\n",
       "      <th>last_name</th>\n",
       "      <th>reg_date</th>\n",
       "      <th>tariff</th>\n",
       "    </tr>\n",
       "  </thead>\n",
       "  <tbody>\n",
       "    <tr>\n",
       "      <th>0</th>\n",
       "      <td>1000</td>\n",
       "      <td>52</td>\n",
       "      <td>NaN</td>\n",
       "      <td>Краснодар</td>\n",
       "      <td>Рафаил</td>\n",
       "      <td>Верещагин</td>\n",
       "      <td>2018-05-25</td>\n",
       "      <td>ultra</td>\n",
       "    </tr>\n",
       "    <tr>\n",
       "      <th>1</th>\n",
       "      <td>1001</td>\n",
       "      <td>41</td>\n",
       "      <td>NaN</td>\n",
       "      <td>Москва</td>\n",
       "      <td>Иван</td>\n",
       "      <td>Ежов</td>\n",
       "      <td>2018-11-01</td>\n",
       "      <td>smart</td>\n",
       "    </tr>\n",
       "    <tr>\n",
       "      <th>2</th>\n",
       "      <td>1002</td>\n",
       "      <td>59</td>\n",
       "      <td>NaN</td>\n",
       "      <td>Стерлитамак</td>\n",
       "      <td>Евгений</td>\n",
       "      <td>Абрамович</td>\n",
       "      <td>2018-06-17</td>\n",
       "      <td>smart</td>\n",
       "    </tr>\n",
       "    <tr>\n",
       "      <th>3</th>\n",
       "      <td>1003</td>\n",
       "      <td>23</td>\n",
       "      <td>NaN</td>\n",
       "      <td>Москва</td>\n",
       "      <td>Белла</td>\n",
       "      <td>Белякова</td>\n",
       "      <td>2018-08-17</td>\n",
       "      <td>ultra</td>\n",
       "    </tr>\n",
       "    <tr>\n",
       "      <th>4</th>\n",
       "      <td>1004</td>\n",
       "      <td>68</td>\n",
       "      <td>NaN</td>\n",
       "      <td>Новокузнецк</td>\n",
       "      <td>Татьяна</td>\n",
       "      <td>Авдеенко</td>\n",
       "      <td>2018-05-14</td>\n",
       "      <td>ultra</td>\n",
       "    </tr>\n",
       "    <tr>\n",
       "      <th>5</th>\n",
       "      <td>1005</td>\n",
       "      <td>67</td>\n",
       "      <td>NaN</td>\n",
       "      <td>Набережные Челны</td>\n",
       "      <td>Афанасий</td>\n",
       "      <td>Горлов</td>\n",
       "      <td>2018-01-25</td>\n",
       "      <td>smart</td>\n",
       "    </tr>\n",
       "    <tr>\n",
       "      <th>6</th>\n",
       "      <td>1006</td>\n",
       "      <td>21</td>\n",
       "      <td>NaN</td>\n",
       "      <td>Ульяновск</td>\n",
       "      <td>Леонид</td>\n",
       "      <td>Ермолаев</td>\n",
       "      <td>2018-02-26</td>\n",
       "      <td>smart</td>\n",
       "    </tr>\n",
       "    <tr>\n",
       "      <th>7</th>\n",
       "      <td>1007</td>\n",
       "      <td>65</td>\n",
       "      <td>NaN</td>\n",
       "      <td>Москва</td>\n",
       "      <td>Юна</td>\n",
       "      <td>Березина</td>\n",
       "      <td>2018-04-19</td>\n",
       "      <td>smart</td>\n",
       "    </tr>\n",
       "    <tr>\n",
       "      <th>8</th>\n",
       "      <td>1008</td>\n",
       "      <td>63</td>\n",
       "      <td>NaN</td>\n",
       "      <td>Челябинск</td>\n",
       "      <td>Рустэм</td>\n",
       "      <td>Пономарёв</td>\n",
       "      <td>2018-12-19</td>\n",
       "      <td>smart</td>\n",
       "    </tr>\n",
       "    <tr>\n",
       "      <th>9</th>\n",
       "      <td>1009</td>\n",
       "      <td>24</td>\n",
       "      <td>NaN</td>\n",
       "      <td>Пермь</td>\n",
       "      <td>Василиса</td>\n",
       "      <td>Блинова</td>\n",
       "      <td>2018-03-22</td>\n",
       "      <td>smart</td>\n",
       "    </tr>\n",
       "  </tbody>\n",
       "</table>\n",
       "</div>"
      ],
      "text/plain": [
       "   user_id  age churn_date              city first_name  last_name  \\\n",
       "0     1000   52        NaN         Краснодар     Рафаил  Верещагин   \n",
       "1     1001   41        NaN            Москва       Иван       Ежов   \n",
       "2     1002   59        NaN       Стерлитамак    Евгений  Абрамович   \n",
       "3     1003   23        NaN            Москва      Белла   Белякова   \n",
       "4     1004   68        NaN       Новокузнецк    Татьяна   Авдеенко   \n",
       "5     1005   67        NaN  Набережные Челны   Афанасий     Горлов   \n",
       "6     1006   21        NaN         Ульяновск     Леонид   Ермолаев   \n",
       "7     1007   65        NaN            Москва        Юна   Березина   \n",
       "8     1008   63        NaN         Челябинск     Рустэм  Пономарёв   \n",
       "9     1009   24        NaN             Пермь   Василиса    Блинова   \n",
       "\n",
       "     reg_date tariff  \n",
       "0  2018-05-25  ultra  \n",
       "1  2018-11-01  smart  \n",
       "2  2018-06-17  smart  \n",
       "3  2018-08-17  ultra  \n",
       "4  2018-05-14  ultra  \n",
       "5  2018-01-25  smart  \n",
       "6  2018-02-26  smart  \n",
       "7  2018-04-19  smart  \n",
       "8  2018-12-19  smart  \n",
       "9  2018-03-22  smart  "
      ]
     },
     "execution_count": 26,
     "metadata": {},
     "output_type": "execute_result"
    }
   ],
   "source": [
    "users.head(10)"
   ]
  },
  {
   "cell_type": "code",
   "execution_count": 27,
   "metadata": {},
   "outputs": [
    {
     "data": {
      "text/plain": [
       "count    500\n",
       "mean      47\n",
       "std       17\n",
       "min       18\n",
       "25%       32\n",
       "50%       46\n",
       "75%       62\n",
       "max       75\n",
       "Name: age, dtype: object"
      ]
     },
     "execution_count": 27,
     "metadata": {},
     "output_type": "execute_result"
    }
   ],
   "source": [
    "users['age'].describe().apply(lambda x: format(x, '.0f'))"
   ]
  },
  {
   "cell_type": "code",
   "execution_count": 28,
   "metadata": {},
   "outputs": [
    {
     "data": {
      "text/plain": [
       "500"
      ]
     },
     "execution_count": 28,
     "metadata": {},
     "output_type": "execute_result"
    }
   ],
   "source": [
    "users['user_id'].nunique()"
   ]
  },
  {
   "cell_type": "code",
   "execution_count": 29,
   "metadata": {},
   "outputs": [
    {
     "data": {
      "text/plain": [
       "<AxesSubplot:title={'center':'Распределение возраста клиентов'}, ylabel='Frequency'>"
      ]
     },
     "execution_count": 29,
     "metadata": {},
     "output_type": "execute_result"
    },
    {
     "data": {
      "image/png": "[encoded data removed]",
      "text/plain": [
       "<Figure size 1440x720 with 1 Axes>"
      ]
     },
     "metadata": {
      "needs_background": "light"
     },
     "output_type": "display_data"
    }
   ],
   "source": [
    "users.plot(\n",
    "    kind='hist',\n",
    "    y='age',\n",
    "    figsize=[20,10],\n",
    "    bins=58,\n",
    "    linewidth=5,\n",
    "    alpha=1,\n",
    "    grid=True,\n",
    "    legend=True,\n",
    "    title='Распределение возраста клиентов'\n",
    ")"
   ]
  },
  {
   "cell_type": "code",
   "execution_count": 30,
   "metadata": {},
   "outputs": [
    {
     "data": {
      "text/plain": [
       "99"
      ]
     },
     "execution_count": 30,
     "metadata": {},
     "output_type": "execute_result"
    }
   ],
   "source": [
    "users.query('city == \"Москва\"').count()[0]"
   ]
  },
  {
   "cell_type": "code",
   "execution_count": 31,
   "metadata": {},
   "outputs": [
    {
     "name": "stdout",
     "output_type": "stream",
     "text": [
      "0.198\n"
     ]
    }
   ],
   "source": [
    "print((users.query('city == \"Москва\"').count()[0]) / (users.count()[0]))"
   ]
  },
  {
   "cell_type": "code",
   "execution_count": 32,
   "metadata": {},
   "outputs": [
    {
     "name": "stdout",
     "output_type": "stream",
     "text": [
      "0.298\n"
     ]
    }
   ],
   "source": [
    "print((users.query('tariff == \"ultra\"').count()[0]) / (users.count()[0]))"
   ]
  },
  {
   "cell_type": "markdown",
   "metadata": {},
   "source": [
    "**Вывод**\n",
    "\n",
    "- Пользователей из Москвы - 20% от общего числа выборки;\n",
    "- Распределение клиентов по тарифам - 30% Тариф Ультра, 70% Тариф Смарт;\n",
    "- Для упрощения анализа по Москве/Региону потребуется создать допстолбец."
   ]
  },
  {
   "cell_type": "markdown",
   "metadata": {},
   "source": [
    "## Подготовка данных"
   ]
  },
  {
   "cell_type": "markdown",
   "metadata": {},
   "source": [
    "-    Приведите данные к нужным типам;\n",
    "-    Найдите и исправьте ошибки в данных, если они есть.\n",
    "\n",
    "Поясните, какие ошибки вы нашли и как их исправили. В данных вы найдёте звонки с нулевой продолжительностью. Это не ошибка: нулями обозначены пропущенные звонки, поэтому их не нужно удалять.\n",
    "Посчитайте для каждого пользователя:\n",
    "\n",
    "-    количество сделанных звонков и израсходованных минут разговора по месяцам;\n",
    "-    количество отправленных сообщений по месяцам;\n",
    "-    объем израсходованного интернет-трафика по месяцам;\n",
    "-    помесячную выручку с каждого пользователя (вычтите бесплатный лимит из суммарного количества звонков, сообщений и интернет-трафика; остаток умножьте на значение из тарифного плана; прибавьте абонентскую плату, соответствующую тарифному плану)."
   ]
  },
  {
   "cell_type": "markdown",
   "metadata": {},
   "source": [
    "### Работа с таблицей users"
   ]
  },
  {
   "cell_type": "markdown",
   "metadata": {},
   "source": [
    "Для дальнейше аналитической работы создадим новую таблицу users_new, в которой не будет лишней информации для задач текущего анализа. Нам понадобится - id клиента, его город в виде класса (1 - Мск, 0 - Не Мск) и тариф. Далее по тарифу мы объеденим таблицу с таблицу tariffs, чтобы в дальнейшем считать выручку по каждому направлению (звонки, интернет, смс) в своей сводной таблице и в конце вывести это в финальную аналитическую таблицу."
   ]
  },
  {
   "cell_type": "code",
   "execution_count": 33,
   "metadata": {},
   "outputs": [
    {
     "data": {
      "text/html": [
       "<div>\n",
       "<style scoped>\n",
       "    .dataframe tbody tr th:only-of-type {\n",
       "        vertical-align: middle;\n",
       "    }\n",
       "\n",
       "    .dataframe tbody tr th {\n",
       "        vertical-align: top;\n",
       "    }\n",
       "\n",
       "    .dataframe thead th {\n",
       "        text-align: right;\n",
       "    }\n",
       "</style>\n",
       "<table border=\"1\" class=\"dataframe\">\n",
       "  <thead>\n",
       "    <tr style=\"text-align: right;\">\n",
       "      <th></th>\n",
       "      <th>user_id</th>\n",
       "      <th>age</th>\n",
       "      <th>churn_date</th>\n",
       "      <th>city</th>\n",
       "      <th>first_name</th>\n",
       "      <th>last_name</th>\n",
       "      <th>reg_date</th>\n",
       "      <th>tariff</th>\n",
       "    </tr>\n",
       "  </thead>\n",
       "  <tbody>\n",
       "    <tr>\n",
       "      <th>0</th>\n",
       "      <td>1000</td>\n",
       "      <td>52</td>\n",
       "      <td>NaN</td>\n",
       "      <td>Краснодар</td>\n",
       "      <td>Рафаил</td>\n",
       "      <td>Верещагин</td>\n",
       "      <td>2018-05-25</td>\n",
       "      <td>ultra</td>\n",
       "    </tr>\n",
       "    <tr>\n",
       "      <th>1</th>\n",
       "      <td>1001</td>\n",
       "      <td>41</td>\n",
       "      <td>NaN</td>\n",
       "      <td>Москва</td>\n",
       "      <td>Иван</td>\n",
       "      <td>Ежов</td>\n",
       "      <td>2018-11-01</td>\n",
       "      <td>smart</td>\n",
       "    </tr>\n",
       "    <tr>\n",
       "      <th>2</th>\n",
       "      <td>1002</td>\n",
       "      <td>59</td>\n",
       "      <td>NaN</td>\n",
       "      <td>Стерлитамак</td>\n",
       "      <td>Евгений</td>\n",
       "      <td>Абрамович</td>\n",
       "      <td>2018-06-17</td>\n",
       "      <td>smart</td>\n",
       "    </tr>\n",
       "    <tr>\n",
       "      <th>3</th>\n",
       "      <td>1003</td>\n",
       "      <td>23</td>\n",
       "      <td>NaN</td>\n",
       "      <td>Москва</td>\n",
       "      <td>Белла</td>\n",
       "      <td>Белякова</td>\n",
       "      <td>2018-08-17</td>\n",
       "      <td>ultra</td>\n",
       "    </tr>\n",
       "    <tr>\n",
       "      <th>4</th>\n",
       "      <td>1004</td>\n",
       "      <td>68</td>\n",
       "      <td>NaN</td>\n",
       "      <td>Новокузнецк</td>\n",
       "      <td>Татьяна</td>\n",
       "      <td>Авдеенко</td>\n",
       "      <td>2018-05-14</td>\n",
       "      <td>ultra</td>\n",
       "    </tr>\n",
       "  </tbody>\n",
       "</table>\n",
       "</div>"
      ],
      "text/plain": [
       "   user_id  age churn_date         city first_name  last_name    reg_date  \\\n",
       "0     1000   52        NaN    Краснодар     Рафаил  Верещагин  2018-05-25   \n",
       "1     1001   41        NaN       Москва       Иван       Ежов  2018-11-01   \n",
       "2     1002   59        NaN  Стерлитамак    Евгений  Абрамович  2018-06-17   \n",
       "3     1003   23        NaN       Москва      Белла   Белякова  2018-08-17   \n",
       "4     1004   68        NaN  Новокузнецк    Татьяна   Авдеенко  2018-05-14   \n",
       "\n",
       "  tariff  \n",
       "0  ultra  \n",
       "1  smart  \n",
       "2  smart  \n",
       "3  ultra  \n",
       "4  ultra  "
      ]
     },
     "execution_count": 33,
     "metadata": {},
     "output_type": "execute_result"
    }
   ],
   "source": [
    "users.head(5)"
   ]
  },
  {
   "cell_type": "code",
   "execution_count": 34,
   "metadata": {},
   "outputs": [],
   "source": [
    "# Создаем функцию классификации локации клиента\n",
    "\n",
    "def location(row):\n",
    "    \n",
    "    city = row['city']\n",
    "    \n",
    "    if city == 'Москва':\n",
    "        return 1\n",
    "    else:\n",
    "        return 0\n",
    "\n",
    "users['location'] = users.apply(location, axis=1)"
   ]
  },
  {
   "cell_type": "code",
   "execution_count": 35,
   "metadata": {},
   "outputs": [
    {
     "data": {
      "text/html": [
       "<div>\n",
       "<style scoped>\n",
       "    .dataframe tbody tr th:only-of-type {\n",
       "        vertical-align: middle;\n",
       "    }\n",
       "\n",
       "    .dataframe tbody tr th {\n",
       "        vertical-align: top;\n",
       "    }\n",
       "\n",
       "    .dataframe thead th {\n",
       "        text-align: right;\n",
       "    }\n",
       "</style>\n",
       "<table border=\"1\" class=\"dataframe\">\n",
       "  <thead>\n",
       "    <tr style=\"text-align: right;\">\n",
       "      <th></th>\n",
       "      <th>user_id</th>\n",
       "      <th>age</th>\n",
       "      <th>churn_date</th>\n",
       "      <th>city</th>\n",
       "      <th>first_name</th>\n",
       "      <th>last_name</th>\n",
       "      <th>reg_date</th>\n",
       "      <th>tariff</th>\n",
       "      <th>location</th>\n",
       "    </tr>\n",
       "  </thead>\n",
       "  <tbody>\n",
       "    <tr>\n",
       "      <th>0</th>\n",
       "      <td>1000</td>\n",
       "      <td>52</td>\n",
       "      <td>NaN</td>\n",
       "      <td>Краснодар</td>\n",
       "      <td>Рафаил</td>\n",
       "      <td>Верещагин</td>\n",
       "      <td>2018-05-25</td>\n",
       "      <td>ultra</td>\n",
       "      <td>0</td>\n",
       "    </tr>\n",
       "    <tr>\n",
       "      <th>1</th>\n",
       "      <td>1001</td>\n",
       "      <td>41</td>\n",
       "      <td>NaN</td>\n",
       "      <td>Москва</td>\n",
       "      <td>Иван</td>\n",
       "      <td>Ежов</td>\n",
       "      <td>2018-11-01</td>\n",
       "      <td>smart</td>\n",
       "      <td>1</td>\n",
       "    </tr>\n",
       "    <tr>\n",
       "      <th>2</th>\n",
       "      <td>1002</td>\n",
       "      <td>59</td>\n",
       "      <td>NaN</td>\n",
       "      <td>Стерлитамак</td>\n",
       "      <td>Евгений</td>\n",
       "      <td>Абрамович</td>\n",
       "      <td>2018-06-17</td>\n",
       "      <td>smart</td>\n",
       "      <td>0</td>\n",
       "    </tr>\n",
       "    <tr>\n",
       "      <th>3</th>\n",
       "      <td>1003</td>\n",
       "      <td>23</td>\n",
       "      <td>NaN</td>\n",
       "      <td>Москва</td>\n",
       "      <td>Белла</td>\n",
       "      <td>Белякова</td>\n",
       "      <td>2018-08-17</td>\n",
       "      <td>ultra</td>\n",
       "      <td>1</td>\n",
       "    </tr>\n",
       "    <tr>\n",
       "      <th>4</th>\n",
       "      <td>1004</td>\n",
       "      <td>68</td>\n",
       "      <td>NaN</td>\n",
       "      <td>Новокузнецк</td>\n",
       "      <td>Татьяна</td>\n",
       "      <td>Авдеенко</td>\n",
       "      <td>2018-05-14</td>\n",
       "      <td>ultra</td>\n",
       "      <td>0</td>\n",
       "    </tr>\n",
       "  </tbody>\n",
       "</table>\n",
       "</div>"
      ],
      "text/plain": [
       "   user_id  age churn_date         city first_name  last_name    reg_date  \\\n",
       "0     1000   52        NaN    Краснодар     Рафаил  Верещагин  2018-05-25   \n",
       "1     1001   41        NaN       Москва       Иван       Ежов  2018-11-01   \n",
       "2     1002   59        NaN  Стерлитамак    Евгений  Абрамович  2018-06-17   \n",
       "3     1003   23        NaN       Москва      Белла   Белякова  2018-08-17   \n",
       "4     1004   68        NaN  Новокузнецк    Татьяна   Авдеенко  2018-05-14   \n",
       "\n",
       "  tariff  location  \n",
       "0  ultra         0  \n",
       "1  smart         1  \n",
       "2  smart         0  \n",
       "3  ultra         1  \n",
       "4  ultra         0  "
      ]
     },
     "execution_count": 35,
     "metadata": {},
     "output_type": "execute_result"
    }
   ],
   "source": [
    "users.head(5)"
   ]
  },
  {
   "cell_type": "code",
   "execution_count": 36,
   "metadata": {},
   "outputs": [
    {
     "data": {
      "text/html": [
       "<div>\n",
       "<style scoped>\n",
       "    .dataframe tbody tr th:only-of-type {\n",
       "        vertical-align: middle;\n",
       "    }\n",
       "\n",
       "    .dataframe tbody tr th {\n",
       "        vertical-align: top;\n",
       "    }\n",
       "\n",
       "    .dataframe thead th {\n",
       "        text-align: right;\n",
       "    }\n",
       "</style>\n",
       "<table border=\"1\" class=\"dataframe\">\n",
       "  <thead>\n",
       "    <tr style=\"text-align: right;\">\n",
       "      <th></th>\n",
       "      <th>user_id</th>\n",
       "      <th>location</th>\n",
       "      <th>tariff</th>\n",
       "    </tr>\n",
       "  </thead>\n",
       "  <tbody>\n",
       "    <tr>\n",
       "      <th>0</th>\n",
       "      <td>1000</td>\n",
       "      <td>0</td>\n",
       "      <td>ultra</td>\n",
       "    </tr>\n",
       "    <tr>\n",
       "      <th>1</th>\n",
       "      <td>1001</td>\n",
       "      <td>1</td>\n",
       "      <td>smart</td>\n",
       "    </tr>\n",
       "    <tr>\n",
       "      <th>2</th>\n",
       "      <td>1002</td>\n",
       "      <td>0</td>\n",
       "      <td>smart</td>\n",
       "    </tr>\n",
       "    <tr>\n",
       "      <th>3</th>\n",
       "      <td>1003</td>\n",
       "      <td>1</td>\n",
       "      <td>ultra</td>\n",
       "    </tr>\n",
       "    <tr>\n",
       "      <th>4</th>\n",
       "      <td>1004</td>\n",
       "      <td>0</td>\n",
       "      <td>ultra</td>\n",
       "    </tr>\n",
       "  </tbody>\n",
       "</table>\n",
       "</div>"
      ],
      "text/plain": [
       "   user_id  location tariff\n",
       "0     1000         0  ultra\n",
       "1     1001         1  smart\n",
       "2     1002         0  smart\n",
       "3     1003         1  ultra\n",
       "4     1004         0  ultra"
      ]
     },
     "execution_count": 36,
     "metadata": {},
     "output_type": "execute_result"
    }
   ],
   "source": [
    "#Получаем обезличенный датасет без лишней информации, \n",
    "# т.к. их возраст, имена и даты регистраций нас не интересуют.\n",
    "\n",
    "users_short = users[['user_id', 'location', 'tariff']]\n",
    "users_short.head(5)"
   ]
  },
  {
   "cell_type": "code",
   "execution_count": 37,
   "metadata": {},
   "outputs": [
    {
     "data": {
      "text/html": [
       "<div>\n",
       "<style scoped>\n",
       "    .dataframe tbody tr th:only-of-type {\n",
       "        vertical-align: middle;\n",
       "    }\n",
       "\n",
       "    .dataframe tbody tr th {\n",
       "        vertical-align: top;\n",
       "    }\n",
       "\n",
       "    .dataframe thead th {\n",
       "        text-align: right;\n",
       "    }\n",
       "</style>\n",
       "<table border=\"1\" class=\"dataframe\">\n",
       "  <thead>\n",
       "    <tr style=\"text-align: right;\">\n",
       "      <th></th>\n",
       "      <th>user_id</th>\n",
       "      <th>location</th>\n",
       "      <th>tariff</th>\n",
       "      <th>messages_included</th>\n",
       "      <th>mb_per_month_included</th>\n",
       "      <th>minutes_included</th>\n",
       "      <th>rub_monthly_fee</th>\n",
       "      <th>rub_per_gb</th>\n",
       "      <th>rub_per_message</th>\n",
       "      <th>rub_per_minute</th>\n",
       "    </tr>\n",
       "  </thead>\n",
       "  <tbody>\n",
       "    <tr>\n",
       "      <th>0</th>\n",
       "      <td>1000</td>\n",
       "      <td>0</td>\n",
       "      <td>ultra</td>\n",
       "      <td>1000</td>\n",
       "      <td>30720</td>\n",
       "      <td>3000</td>\n",
       "      <td>1950</td>\n",
       "      <td>150</td>\n",
       "      <td>1</td>\n",
       "      <td>1</td>\n",
       "    </tr>\n",
       "    <tr>\n",
       "      <th>1</th>\n",
       "      <td>1001</td>\n",
       "      <td>1</td>\n",
       "      <td>smart</td>\n",
       "      <td>50</td>\n",
       "      <td>15360</td>\n",
       "      <td>500</td>\n",
       "      <td>550</td>\n",
       "      <td>200</td>\n",
       "      <td>3</td>\n",
       "      <td>3</td>\n",
       "    </tr>\n",
       "    <tr>\n",
       "      <th>2</th>\n",
       "      <td>1002</td>\n",
       "      <td>0</td>\n",
       "      <td>smart</td>\n",
       "      <td>50</td>\n",
       "      <td>15360</td>\n",
       "      <td>500</td>\n",
       "      <td>550</td>\n",
       "      <td>200</td>\n",
       "      <td>3</td>\n",
       "      <td>3</td>\n",
       "    </tr>\n",
       "    <tr>\n",
       "      <th>3</th>\n",
       "      <td>1003</td>\n",
       "      <td>1</td>\n",
       "      <td>ultra</td>\n",
       "      <td>1000</td>\n",
       "      <td>30720</td>\n",
       "      <td>3000</td>\n",
       "      <td>1950</td>\n",
       "      <td>150</td>\n",
       "      <td>1</td>\n",
       "      <td>1</td>\n",
       "    </tr>\n",
       "    <tr>\n",
       "      <th>4</th>\n",
       "      <td>1004</td>\n",
       "      <td>0</td>\n",
       "      <td>ultra</td>\n",
       "      <td>1000</td>\n",
       "      <td>30720</td>\n",
       "      <td>3000</td>\n",
       "      <td>1950</td>\n",
       "      <td>150</td>\n",
       "      <td>1</td>\n",
       "      <td>1</td>\n",
       "    </tr>\n",
       "  </tbody>\n",
       "</table>\n",
       "</div>"
      ],
      "text/plain": [
       "   user_id  location tariff  messages_included  mb_per_month_included  \\\n",
       "0     1000         0  ultra               1000                  30720   \n",
       "1     1001         1  smart                 50                  15360   \n",
       "2     1002         0  smart                 50                  15360   \n",
       "3     1003         1  ultra               1000                  30720   \n",
       "4     1004         0  ultra               1000                  30720   \n",
       "\n",
       "   minutes_included  rub_monthly_fee  rub_per_gb  rub_per_message  \\\n",
       "0              3000             1950         150                1   \n",
       "1               500              550         200                3   \n",
       "2               500              550         200                3   \n",
       "3              3000             1950         150                1   \n",
       "4              3000             1950         150                1   \n",
       "\n",
       "   rub_per_minute  \n",
       "0               1  \n",
       "1               3  \n",
       "2               3  \n",
       "3               1  \n",
       "4               1  "
      ]
     },
     "execution_count": 37,
     "metadata": {},
     "output_type": "execute_result"
    }
   ],
   "source": [
    "#Сливаем 2 датасета для аналитических целей\n",
    "\n",
    "users_new = users_short.merge(tariffs, left_on='tariff', right_on='tariff_name')\n",
    "users_new = users_new.drop(['tariff_name'],axis=1).sort_values(by='user_id').reset_index(drop=True)\n",
    "users_new.head(5)"
   ]
  },
  {
   "cell_type": "code",
   "execution_count": 38,
   "metadata": {},
   "outputs": [
    {
     "data": {
      "text/html": [
       "<div>\n",
       "<style scoped>\n",
       "    .dataframe tbody tr th:only-of-type {\n",
       "        vertical-align: middle;\n",
       "    }\n",
       "\n",
       "    .dataframe tbody tr th {\n",
       "        vertical-align: top;\n",
       "    }\n",
       "\n",
       "    .dataframe thead th {\n",
       "        text-align: right;\n",
       "    }\n",
       "</style>\n",
       "<table border=\"1\" class=\"dataframe\">\n",
       "  <thead>\n",
       "    <tr style=\"text-align: right;\">\n",
       "      <th></th>\n",
       "      <th>user_id</th>\n",
       "      <th>location</th>\n",
       "      <th>tariff</th>\n",
       "      <th>rub_monthly_fee</th>\n",
       "    </tr>\n",
       "  </thead>\n",
       "  <tbody>\n",
       "    <tr>\n",
       "      <th>0</th>\n",
       "      <td>1000</td>\n",
       "      <td>0</td>\n",
       "      <td>ultra</td>\n",
       "      <td>1950</td>\n",
       "    </tr>\n",
       "    <tr>\n",
       "      <th>1</th>\n",
       "      <td>1001</td>\n",
       "      <td>1</td>\n",
       "      <td>smart</td>\n",
       "      <td>550</td>\n",
       "    </tr>\n",
       "    <tr>\n",
       "      <th>2</th>\n",
       "      <td>1002</td>\n",
       "      <td>0</td>\n",
       "      <td>smart</td>\n",
       "      <td>550</td>\n",
       "    </tr>\n",
       "    <tr>\n",
       "      <th>3</th>\n",
       "      <td>1003</td>\n",
       "      <td>1</td>\n",
       "      <td>ultra</td>\n",
       "      <td>1950</td>\n",
       "    </tr>\n",
       "    <tr>\n",
       "      <th>4</th>\n",
       "      <td>1004</td>\n",
       "      <td>0</td>\n",
       "      <td>ultra</td>\n",
       "      <td>1950</td>\n",
       "    </tr>\n",
       "  </tbody>\n",
       "</table>\n",
       "</div>"
      ],
      "text/plain": [
       "   user_id  location tariff  rub_monthly_fee\n",
       "0     1000         0  ultra             1950\n",
       "1     1001         1  smart              550\n",
       "2     1002         0  smart              550\n",
       "3     1003         1  ultra             1950\n",
       "4     1004         0  ultra             1950"
      ]
     },
     "execution_count": 38,
     "metadata": {},
     "output_type": "execute_result"
    }
   ],
   "source": [
    "#Добавляем в users_short стимость тарифа (пригодится в будущем)\n",
    "\n",
    "users_short = users_new[['user_id', 'location', 'tariff', 'rub_monthly_fee']]\n",
    "users_short.head(5)"
   ]
  },
  {
   "cell_type": "markdown",
   "metadata": {},
   "source": [
    "### Работа с таблицей calls"
   ]
  },
  {
   "cell_type": "code",
   "execution_count": 39,
   "metadata": {},
   "outputs": [
    {
     "data": {
      "text/html": [
       "<div>\n",
       "<style scoped>\n",
       "    .dataframe tbody tr th:only-of-type {\n",
       "        vertical-align: middle;\n",
       "    }\n",
       "\n",
       "    .dataframe tbody tr th {\n",
       "        vertical-align: top;\n",
       "    }\n",
       "\n",
       "    .dataframe thead th {\n",
       "        text-align: right;\n",
       "    }\n",
       "</style>\n",
       "<table border=\"1\" class=\"dataframe\">\n",
       "  <thead>\n",
       "    <tr style=\"text-align: right;\">\n",
       "      <th></th>\n",
       "      <th>id</th>\n",
       "      <th>call_date</th>\n",
       "      <th>duration</th>\n",
       "      <th>user_id</th>\n",
       "    </tr>\n",
       "  </thead>\n",
       "  <tbody>\n",
       "    <tr>\n",
       "      <th>0</th>\n",
       "      <td>1000_0</td>\n",
       "      <td>2018-07-25</td>\n",
       "      <td>0.00</td>\n",
       "      <td>1000</td>\n",
       "    </tr>\n",
       "    <tr>\n",
       "      <th>1</th>\n",
       "      <td>1000_1</td>\n",
       "      <td>2018-08-17</td>\n",
       "      <td>0.00</td>\n",
       "      <td>1000</td>\n",
       "    </tr>\n",
       "    <tr>\n",
       "      <th>2</th>\n",
       "      <td>1000_2</td>\n",
       "      <td>2018-06-11</td>\n",
       "      <td>2.85</td>\n",
       "      <td>1000</td>\n",
       "    </tr>\n",
       "    <tr>\n",
       "      <th>3</th>\n",
       "      <td>1000_3</td>\n",
       "      <td>2018-09-21</td>\n",
       "      <td>13.80</td>\n",
       "      <td>1000</td>\n",
       "    </tr>\n",
       "    <tr>\n",
       "      <th>4</th>\n",
       "      <td>1000_4</td>\n",
       "      <td>2018-12-15</td>\n",
       "      <td>5.18</td>\n",
       "      <td>1000</td>\n",
       "    </tr>\n",
       "  </tbody>\n",
       "</table>\n",
       "</div>"
      ],
      "text/plain": [
       "       id   call_date  duration  user_id\n",
       "0  1000_0  2018-07-25      0.00     1000\n",
       "1  1000_1  2018-08-17      0.00     1000\n",
       "2  1000_2  2018-06-11      2.85     1000\n",
       "3  1000_3  2018-09-21     13.80     1000\n",
       "4  1000_4  2018-12-15      5.18     1000"
      ]
     },
     "execution_count": 39,
     "metadata": {},
     "output_type": "execute_result"
    }
   ],
   "source": [
    "calls.head(5)"
   ]
  },
  {
   "cell_type": "code",
   "execution_count": 40,
   "metadata": {},
   "outputs": [
    {
     "name": "stdout",
     "output_type": "stream",
     "text": [
      "<class 'pandas.core.frame.DataFrame'>\n",
      "RangeIndex: 202607 entries, 0 to 202606\n",
      "Data columns (total 4 columns):\n",
      " #   Column     Non-Null Count   Dtype  \n",
      "---  ------     --------------   -----  \n",
      " 0   id         202607 non-null  object \n",
      " 1   call_date  202607 non-null  object \n",
      " 2   duration   202607 non-null  float64\n",
      " 3   user_id    202607 non-null  int64  \n",
      "dtypes: float64(1), int64(1), object(2)\n",
      "memory usage: 6.2+ MB\n"
     ]
    }
   ],
   "source": [
    "calls.info()"
   ]
  },
  {
   "cell_type": "markdown",
   "metadata": {},
   "source": [
    "**Шаг 1. Приведение даты к формату даты**"
   ]
  },
  {
   "cell_type": "code",
   "execution_count": 41,
   "metadata": {},
   "outputs": [],
   "source": [
    "calls['call_date'] = pd.to_datetime(calls['call_date'], format='%Y.%m.%d')"
   ]
  },
  {
   "cell_type": "code",
   "execution_count": 42,
   "metadata": {},
   "outputs": [
    {
     "data": {
      "text/html": [
       "<div>\n",
       "<style scoped>\n",
       "    .dataframe tbody tr th:only-of-type {\n",
       "        vertical-align: middle;\n",
       "    }\n",
       "\n",
       "    .dataframe tbody tr th {\n",
       "        vertical-align: top;\n",
       "    }\n",
       "\n",
       "    .dataframe thead th {\n",
       "        text-align: right;\n",
       "    }\n",
       "</style>\n",
       "<table border=\"1\" class=\"dataframe\">\n",
       "  <thead>\n",
       "    <tr style=\"text-align: right;\">\n",
       "      <th></th>\n",
       "      <th>id</th>\n",
       "      <th>call_date</th>\n",
       "      <th>duration</th>\n",
       "      <th>user_id</th>\n",
       "    </tr>\n",
       "  </thead>\n",
       "  <tbody>\n",
       "    <tr>\n",
       "      <th>0</th>\n",
       "      <td>1000_0</td>\n",
       "      <td>2018-07-25</td>\n",
       "      <td>0.00</td>\n",
       "      <td>1000</td>\n",
       "    </tr>\n",
       "    <tr>\n",
       "      <th>1</th>\n",
       "      <td>1000_1</td>\n",
       "      <td>2018-08-17</td>\n",
       "      <td>0.00</td>\n",
       "      <td>1000</td>\n",
       "    </tr>\n",
       "    <tr>\n",
       "      <th>2</th>\n",
       "      <td>1000_2</td>\n",
       "      <td>2018-06-11</td>\n",
       "      <td>2.85</td>\n",
       "      <td>1000</td>\n",
       "    </tr>\n",
       "    <tr>\n",
       "      <th>3</th>\n",
       "      <td>1000_3</td>\n",
       "      <td>2018-09-21</td>\n",
       "      <td>13.80</td>\n",
       "      <td>1000</td>\n",
       "    </tr>\n",
       "    <tr>\n",
       "      <th>4</th>\n",
       "      <td>1000_4</td>\n",
       "      <td>2018-12-15</td>\n",
       "      <td>5.18</td>\n",
       "      <td>1000</td>\n",
       "    </tr>\n",
       "  </tbody>\n",
       "</table>\n",
       "</div>"
      ],
      "text/plain": [
       "       id  call_date  duration  user_id\n",
       "0  1000_0 2018-07-25      0.00     1000\n",
       "1  1000_1 2018-08-17      0.00     1000\n",
       "2  1000_2 2018-06-11      2.85     1000\n",
       "3  1000_3 2018-09-21     13.80     1000\n",
       "4  1000_4 2018-12-15      5.18     1000"
      ]
     },
     "execution_count": 42,
     "metadata": {},
     "output_type": "execute_result"
    }
   ],
   "source": [
    "calls.head(5)"
   ]
  },
  {
   "cell_type": "code",
   "execution_count": 43,
   "metadata": {},
   "outputs": [
    {
     "name": "stdout",
     "output_type": "stream",
     "text": [
      "<class 'pandas.core.frame.DataFrame'>\n",
      "RangeIndex: 202607 entries, 0 to 202606\n",
      "Data columns (total 4 columns):\n",
      " #   Column     Non-Null Count   Dtype         \n",
      "---  ------     --------------   -----         \n",
      " 0   id         202607 non-null  object        \n",
      " 1   call_date  202607 non-null  datetime64[ns]\n",
      " 2   duration   202607 non-null  float64       \n",
      " 3   user_id    202607 non-null  int64         \n",
      "dtypes: datetime64[ns](1), float64(1), int64(1), object(1)\n",
      "memory usage: 6.2+ MB\n"
     ]
    }
   ],
   "source": [
    "calls.info()"
   ]
  },
  {
   "cell_type": "markdown",
   "metadata": {},
   "source": [
    "**Шаг 2. Приведение каждого звонка к целому числу с округлением вверх (согласно политике учета звонков в компании)**"
   ]
  },
  {
   "cell_type": "code",
   "execution_count": 44,
   "metadata": {},
   "outputs": [],
   "source": [
    "calls['duration_min'] = calls['duration'].apply(lambda x: math.ceil(x))"
   ]
  },
  {
   "cell_type": "code",
   "execution_count": 45,
   "metadata": {},
   "outputs": [
    {
     "name": "stdout",
     "output_type": "stream",
     "text": [
      "<class 'pandas.core.frame.DataFrame'>\n",
      "RangeIndex: 202607 entries, 0 to 202606\n",
      "Data columns (total 5 columns):\n",
      " #   Column        Non-Null Count   Dtype         \n",
      "---  ------        --------------   -----         \n",
      " 0   id            202607 non-null  object        \n",
      " 1   call_date     202607 non-null  datetime64[ns]\n",
      " 2   duration      202607 non-null  float64       \n",
      " 3   user_id       202607 non-null  int64         \n",
      " 4   duration_min  202607 non-null  int64         \n",
      "dtypes: datetime64[ns](1), float64(1), int64(2), object(1)\n",
      "memory usage: 7.7+ MB\n"
     ]
    }
   ],
   "source": [
    "calls.info()"
   ]
  },
  {
   "cell_type": "code",
   "execution_count": 46,
   "metadata": {},
   "outputs": [
    {
     "data": {
      "text/html": [
       "<div>\n",
       "<style scoped>\n",
       "    .dataframe tbody tr th:only-of-type {\n",
       "        vertical-align: middle;\n",
       "    }\n",
       "\n",
       "    .dataframe tbody tr th {\n",
       "        vertical-align: top;\n",
       "    }\n",
       "\n",
       "    .dataframe thead th {\n",
       "        text-align: right;\n",
       "    }\n",
       "</style>\n",
       "<table border=\"1\" class=\"dataframe\">\n",
       "  <thead>\n",
       "    <tr style=\"text-align: right;\">\n",
       "      <th></th>\n",
       "      <th>id</th>\n",
       "      <th>call_date</th>\n",
       "      <th>duration</th>\n",
       "      <th>user_id</th>\n",
       "      <th>duration_min</th>\n",
       "    </tr>\n",
       "  </thead>\n",
       "  <tbody>\n",
       "    <tr>\n",
       "      <th>0</th>\n",
       "      <td>1000_0</td>\n",
       "      <td>2018-07-25</td>\n",
       "      <td>0.00</td>\n",
       "      <td>1000</td>\n",
       "      <td>0</td>\n",
       "    </tr>\n",
       "    <tr>\n",
       "      <th>1</th>\n",
       "      <td>1000_1</td>\n",
       "      <td>2018-08-17</td>\n",
       "      <td>0.00</td>\n",
       "      <td>1000</td>\n",
       "      <td>0</td>\n",
       "    </tr>\n",
       "    <tr>\n",
       "      <th>2</th>\n",
       "      <td>1000_2</td>\n",
       "      <td>2018-06-11</td>\n",
       "      <td>2.85</td>\n",
       "      <td>1000</td>\n",
       "      <td>3</td>\n",
       "    </tr>\n",
       "    <tr>\n",
       "      <th>3</th>\n",
       "      <td>1000_3</td>\n",
       "      <td>2018-09-21</td>\n",
       "      <td>13.80</td>\n",
       "      <td>1000</td>\n",
       "      <td>14</td>\n",
       "    </tr>\n",
       "    <tr>\n",
       "      <th>4</th>\n",
       "      <td>1000_4</td>\n",
       "      <td>2018-12-15</td>\n",
       "      <td>5.18</td>\n",
       "      <td>1000</td>\n",
       "      <td>6</td>\n",
       "    </tr>\n",
       "    <tr>\n",
       "      <th>5</th>\n",
       "      <td>1000_5</td>\n",
       "      <td>2018-11-02</td>\n",
       "      <td>0.00</td>\n",
       "      <td>1000</td>\n",
       "      <td>0</td>\n",
       "    </tr>\n",
       "    <tr>\n",
       "      <th>6</th>\n",
       "      <td>1000_6</td>\n",
       "      <td>2018-10-18</td>\n",
       "      <td>0.00</td>\n",
       "      <td>1000</td>\n",
       "      <td>0</td>\n",
       "    </tr>\n",
       "    <tr>\n",
       "      <th>7</th>\n",
       "      <td>1000_7</td>\n",
       "      <td>2018-08-22</td>\n",
       "      <td>18.31</td>\n",
       "      <td>1000</td>\n",
       "      <td>19</td>\n",
       "    </tr>\n",
       "    <tr>\n",
       "      <th>8</th>\n",
       "      <td>1000_8</td>\n",
       "      <td>2018-09-15</td>\n",
       "      <td>18.44</td>\n",
       "      <td>1000</td>\n",
       "      <td>19</td>\n",
       "    </tr>\n",
       "    <tr>\n",
       "      <th>9</th>\n",
       "      <td>1000_9</td>\n",
       "      <td>2018-08-15</td>\n",
       "      <td>0.00</td>\n",
       "      <td>1000</td>\n",
       "      <td>0</td>\n",
       "    </tr>\n",
       "    <tr>\n",
       "      <th>10</th>\n",
       "      <td>1000_10</td>\n",
       "      <td>2018-08-22</td>\n",
       "      <td>5.03</td>\n",
       "      <td>1000</td>\n",
       "      <td>6</td>\n",
       "    </tr>\n",
       "    <tr>\n",
       "      <th>11</th>\n",
       "      <td>1000_11</td>\n",
       "      <td>2018-05-28</td>\n",
       "      <td>18.82</td>\n",
       "      <td>1000</td>\n",
       "      <td>19</td>\n",
       "    </tr>\n",
       "    <tr>\n",
       "      <th>12</th>\n",
       "      <td>1000_12</td>\n",
       "      <td>2018-07-05</td>\n",
       "      <td>2.02</td>\n",
       "      <td>1000</td>\n",
       "      <td>3</td>\n",
       "    </tr>\n",
       "    <tr>\n",
       "      <th>13</th>\n",
       "      <td>1000_13</td>\n",
       "      <td>2018-09-29</td>\n",
       "      <td>7.15</td>\n",
       "      <td>1000</td>\n",
       "      <td>8</td>\n",
       "    </tr>\n",
       "    <tr>\n",
       "      <th>14</th>\n",
       "      <td>1000_14</td>\n",
       "      <td>2018-12-11</td>\n",
       "      <td>9.13</td>\n",
       "      <td>1000</td>\n",
       "      <td>10</td>\n",
       "    </tr>\n",
       "  </tbody>\n",
       "</table>\n",
       "</div>"
      ],
      "text/plain": [
       "         id  call_date  duration  user_id  duration_min\n",
       "0    1000_0 2018-07-25      0.00     1000             0\n",
       "1    1000_1 2018-08-17      0.00     1000             0\n",
       "2    1000_2 2018-06-11      2.85     1000             3\n",
       "3    1000_3 2018-09-21     13.80     1000            14\n",
       "4    1000_4 2018-12-15      5.18     1000             6\n",
       "5    1000_5 2018-11-02      0.00     1000             0\n",
       "6    1000_6 2018-10-18      0.00     1000             0\n",
       "7    1000_7 2018-08-22     18.31     1000            19\n",
       "8    1000_8 2018-09-15     18.44     1000            19\n",
       "9    1000_9 2018-08-15      0.00     1000             0\n",
       "10  1000_10 2018-08-22      5.03     1000             6\n",
       "11  1000_11 2018-05-28     18.82     1000            19\n",
       "12  1000_12 2018-07-05      2.02     1000             3\n",
       "13  1000_13 2018-09-29      7.15     1000             8\n",
       "14  1000_14 2018-12-11      9.13     1000            10"
      ]
     },
     "execution_count": 46,
     "metadata": {},
     "output_type": "execute_result"
    }
   ],
   "source": [
    "# Проверяем, что округление прошло в нужном нам формате\n",
    "\n",
    "calls.head(15)"
   ]
  },
  {
   "cell_type": "markdown",
   "metadata": {},
   "source": [
    "**Шаг 3. Выделение месяца**"
   ]
  },
  {
   "cell_type": "code",
   "execution_count": 47,
   "metadata": {},
   "outputs": [
    {
     "data": {
      "text/html": [
       "<div>\n",
       "<style scoped>\n",
       "    .dataframe tbody tr th:only-of-type {\n",
       "        vertical-align: middle;\n",
       "    }\n",
       "\n",
       "    .dataframe tbody tr th {\n",
       "        vertical-align: top;\n",
       "    }\n",
       "\n",
       "    .dataframe thead th {\n",
       "        text-align: right;\n",
       "    }\n",
       "</style>\n",
       "<table border=\"1\" class=\"dataframe\">\n",
       "  <thead>\n",
       "    <tr style=\"text-align: right;\">\n",
       "      <th></th>\n",
       "      <th>id</th>\n",
       "      <th>call_date</th>\n",
       "      <th>duration</th>\n",
       "      <th>user_id</th>\n",
       "      <th>duration_min</th>\n",
       "      <th>month</th>\n",
       "    </tr>\n",
       "  </thead>\n",
       "  <tbody>\n",
       "    <tr>\n",
       "      <th>0</th>\n",
       "      <td>1000_0</td>\n",
       "      <td>2018-07-25</td>\n",
       "      <td>0.00</td>\n",
       "      <td>1000</td>\n",
       "      <td>0</td>\n",
       "      <td>7</td>\n",
       "    </tr>\n",
       "    <tr>\n",
       "      <th>1</th>\n",
       "      <td>1000_1</td>\n",
       "      <td>2018-08-17</td>\n",
       "      <td>0.00</td>\n",
       "      <td>1000</td>\n",
       "      <td>0</td>\n",
       "      <td>8</td>\n",
       "    </tr>\n",
       "    <tr>\n",
       "      <th>2</th>\n",
       "      <td>1000_2</td>\n",
       "      <td>2018-06-11</td>\n",
       "      <td>2.85</td>\n",
       "      <td>1000</td>\n",
       "      <td>3</td>\n",
       "      <td>6</td>\n",
       "    </tr>\n",
       "    <tr>\n",
       "      <th>3</th>\n",
       "      <td>1000_3</td>\n",
       "      <td>2018-09-21</td>\n",
       "      <td>13.80</td>\n",
       "      <td>1000</td>\n",
       "      <td>14</td>\n",
       "      <td>9</td>\n",
       "    </tr>\n",
       "    <tr>\n",
       "      <th>4</th>\n",
       "      <td>1000_4</td>\n",
       "      <td>2018-12-15</td>\n",
       "      <td>5.18</td>\n",
       "      <td>1000</td>\n",
       "      <td>6</td>\n",
       "      <td>12</td>\n",
       "    </tr>\n",
       "  </tbody>\n",
       "</table>\n",
       "</div>"
      ],
      "text/plain": [
       "       id  call_date  duration  user_id  duration_min  month\n",
       "0  1000_0 2018-07-25      0.00     1000             0      7\n",
       "1  1000_1 2018-08-17      0.00     1000             0      8\n",
       "2  1000_2 2018-06-11      2.85     1000             3      6\n",
       "3  1000_3 2018-09-21     13.80     1000            14      9\n",
       "4  1000_4 2018-12-15      5.18     1000             6     12"
      ]
     },
     "execution_count": 47,
     "metadata": {},
     "output_type": "execute_result"
    }
   ],
   "source": [
    "calls['month'] = pd.DatetimeIndex(calls['call_date']).month\n",
    "calls.head(5)"
   ]
  },
  {
   "cell_type": "markdown",
   "metadata": {},
   "source": [
    "**Шаг 4. Создание сводной таблицы**"
   ]
  },
  {
   "cell_type": "code",
   "execution_count": 48,
   "metadata": {},
   "outputs": [],
   "source": [
    "#Создаем сводную таблицу с группировкой по клиенту и месяцу, значения - сумма минут и количество звонков \n",
    "#(0 звонки тоже учитываем)\n",
    "\n",
    "calls_pivot = calls.pivot_table(\n",
    "index=['user_id', 'month'],\n",
    "values='duration_min',\n",
    "aggfunc=['count', 'sum'])\n",
    "\n",
    "#Сбрасываем мультииндексы\n",
    "\n",
    "calls_pivot = calls_pivot.reset_index()\n",
    "\n",
    "#Переименовываем столбцы\n",
    "\n",
    "calls_pivot.columns=['user_id', 'month', 'calls_count', 'calls_duration']"
   ]
  },
  {
   "cell_type": "code",
   "execution_count": 49,
   "metadata": {},
   "outputs": [
    {
     "data": {
      "text/html": [
       "<div>\n",
       "<style scoped>\n",
       "    .dataframe tbody tr th:only-of-type {\n",
       "        vertical-align: middle;\n",
       "    }\n",
       "\n",
       "    .dataframe tbody tr th {\n",
       "        vertical-align: top;\n",
       "    }\n",
       "\n",
       "    .dataframe thead th {\n",
       "        text-align: right;\n",
       "    }\n",
       "</style>\n",
       "<table border=\"1\" class=\"dataframe\">\n",
       "  <thead>\n",
       "    <tr style=\"text-align: right;\">\n",
       "      <th></th>\n",
       "      <th>user_id</th>\n",
       "      <th>month</th>\n",
       "      <th>calls_count</th>\n",
       "      <th>calls_duration</th>\n",
       "    </tr>\n",
       "  </thead>\n",
       "  <tbody>\n",
       "    <tr>\n",
       "      <th>0</th>\n",
       "      <td>1000</td>\n",
       "      <td>5</td>\n",
       "      <td>22</td>\n",
       "      <td>159</td>\n",
       "    </tr>\n",
       "    <tr>\n",
       "      <th>1</th>\n",
       "      <td>1000</td>\n",
       "      <td>6</td>\n",
       "      <td>43</td>\n",
       "      <td>172</td>\n",
       "    </tr>\n",
       "    <tr>\n",
       "      <th>2</th>\n",
       "      <td>1000</td>\n",
       "      <td>7</td>\n",
       "      <td>47</td>\n",
       "      <td>340</td>\n",
       "    </tr>\n",
       "    <tr>\n",
       "      <th>3</th>\n",
       "      <td>1000</td>\n",
       "      <td>8</td>\n",
       "      <td>52</td>\n",
       "      <td>408</td>\n",
       "    </tr>\n",
       "    <tr>\n",
       "      <th>4</th>\n",
       "      <td>1000</td>\n",
       "      <td>9</td>\n",
       "      <td>58</td>\n",
       "      <td>466</td>\n",
       "    </tr>\n",
       "    <tr>\n",
       "      <th>5</th>\n",
       "      <td>1000</td>\n",
       "      <td>10</td>\n",
       "      <td>57</td>\n",
       "      <td>350</td>\n",
       "    </tr>\n",
       "    <tr>\n",
       "      <th>6</th>\n",
       "      <td>1000</td>\n",
       "      <td>11</td>\n",
       "      <td>43</td>\n",
       "      <td>338</td>\n",
       "    </tr>\n",
       "    <tr>\n",
       "      <th>7</th>\n",
       "      <td>1000</td>\n",
       "      <td>12</td>\n",
       "      <td>46</td>\n",
       "      <td>333</td>\n",
       "    </tr>\n",
       "    <tr>\n",
       "      <th>8</th>\n",
       "      <td>1001</td>\n",
       "      <td>11</td>\n",
       "      <td>59</td>\n",
       "      <td>430</td>\n",
       "    </tr>\n",
       "    <tr>\n",
       "      <th>9</th>\n",
       "      <td>1001</td>\n",
       "      <td>12</td>\n",
       "      <td>63</td>\n",
       "      <td>414</td>\n",
       "    </tr>\n",
       "  </tbody>\n",
       "</table>\n",
       "</div>"
      ],
      "text/plain": [
       "   user_id  month  calls_count  calls_duration\n",
       "0     1000      5           22             159\n",
       "1     1000      6           43             172\n",
       "2     1000      7           47             340\n",
       "3     1000      8           52             408\n",
       "4     1000      9           58             466\n",
       "5     1000     10           57             350\n",
       "6     1000     11           43             338\n",
       "7     1000     12           46             333\n",
       "8     1001     11           59             430\n",
       "9     1001     12           63             414"
      ]
     },
     "execution_count": 49,
     "metadata": {},
     "output_type": "execute_result"
    }
   ],
   "source": [
    "calls_pivot.head(10)"
   ]
  },
  {
   "cell_type": "markdown",
   "metadata": {},
   "source": [
    "Добавим в каждую строку количество минут, согласно тарифу, а также стоимость каждой минуты превышения тарифа для расчета затраченого лимита и выручки за звонки"
   ]
  },
  {
   "cell_type": "code",
   "execution_count": 50,
   "metadata": {},
   "outputs": [],
   "source": [
    "calls_pivot = calls_pivot.merge(users_new, on='user_id',how='left')\n",
    "calls_pivot = calls_pivot[['user_id', 'month', 'calls_count', 'calls_duration', 'minutes_included', 'rub_per_minute']]"
   ]
  },
  {
   "cell_type": "code",
   "execution_count": 51,
   "metadata": {},
   "outputs": [
    {
     "data": {
      "text/html": [
       "<div>\n",
       "<style scoped>\n",
       "    .dataframe tbody tr th:only-of-type {\n",
       "        vertical-align: middle;\n",
       "    }\n",
       "\n",
       "    .dataframe tbody tr th {\n",
       "        vertical-align: top;\n",
       "    }\n",
       "\n",
       "    .dataframe thead th {\n",
       "        text-align: right;\n",
       "    }\n",
       "</style>\n",
       "<table border=\"1\" class=\"dataframe\">\n",
       "  <thead>\n",
       "    <tr style=\"text-align: right;\">\n",
       "      <th></th>\n",
       "      <th>user_id</th>\n",
       "      <th>month</th>\n",
       "      <th>calls_count</th>\n",
       "      <th>calls_duration</th>\n",
       "      <th>minutes_included</th>\n",
       "      <th>rub_per_minute</th>\n",
       "    </tr>\n",
       "  </thead>\n",
       "  <tbody>\n",
       "    <tr>\n",
       "      <th>0</th>\n",
       "      <td>1000</td>\n",
       "      <td>5</td>\n",
       "      <td>22</td>\n",
       "      <td>159</td>\n",
       "      <td>3000</td>\n",
       "      <td>1</td>\n",
       "    </tr>\n",
       "    <tr>\n",
       "      <th>1</th>\n",
       "      <td>1000</td>\n",
       "      <td>6</td>\n",
       "      <td>43</td>\n",
       "      <td>172</td>\n",
       "      <td>3000</td>\n",
       "      <td>1</td>\n",
       "    </tr>\n",
       "    <tr>\n",
       "      <th>2</th>\n",
       "      <td>1000</td>\n",
       "      <td>7</td>\n",
       "      <td>47</td>\n",
       "      <td>340</td>\n",
       "      <td>3000</td>\n",
       "      <td>1</td>\n",
       "    </tr>\n",
       "    <tr>\n",
       "      <th>3</th>\n",
       "      <td>1000</td>\n",
       "      <td>8</td>\n",
       "      <td>52</td>\n",
       "      <td>408</td>\n",
       "      <td>3000</td>\n",
       "      <td>1</td>\n",
       "    </tr>\n",
       "    <tr>\n",
       "      <th>4</th>\n",
       "      <td>1000</td>\n",
       "      <td>9</td>\n",
       "      <td>58</td>\n",
       "      <td>466</td>\n",
       "      <td>3000</td>\n",
       "      <td>1</td>\n",
       "    </tr>\n",
       "    <tr>\n",
       "      <th>5</th>\n",
       "      <td>1000</td>\n",
       "      <td>10</td>\n",
       "      <td>57</td>\n",
       "      <td>350</td>\n",
       "      <td>3000</td>\n",
       "      <td>1</td>\n",
       "    </tr>\n",
       "    <tr>\n",
       "      <th>6</th>\n",
       "      <td>1000</td>\n",
       "      <td>11</td>\n",
       "      <td>43</td>\n",
       "      <td>338</td>\n",
       "      <td>3000</td>\n",
       "      <td>1</td>\n",
       "    </tr>\n",
       "    <tr>\n",
       "      <th>7</th>\n",
       "      <td>1000</td>\n",
       "      <td>12</td>\n",
       "      <td>46</td>\n",
       "      <td>333</td>\n",
       "      <td>3000</td>\n",
       "      <td>1</td>\n",
       "    </tr>\n",
       "    <tr>\n",
       "      <th>8</th>\n",
       "      <td>1001</td>\n",
       "      <td>11</td>\n",
       "      <td>59</td>\n",
       "      <td>430</td>\n",
       "      <td>500</td>\n",
       "      <td>3</td>\n",
       "    </tr>\n",
       "    <tr>\n",
       "      <th>9</th>\n",
       "      <td>1001</td>\n",
       "      <td>12</td>\n",
       "      <td>63</td>\n",
       "      <td>414</td>\n",
       "      <td>500</td>\n",
       "      <td>3</td>\n",
       "    </tr>\n",
       "  </tbody>\n",
       "</table>\n",
       "</div>"
      ],
      "text/plain": [
       "   user_id  month  calls_count  calls_duration  minutes_included  \\\n",
       "0     1000      5           22             159              3000   \n",
       "1     1000      6           43             172              3000   \n",
       "2     1000      7           47             340              3000   \n",
       "3     1000      8           52             408              3000   \n",
       "4     1000      9           58             466              3000   \n",
       "5     1000     10           57             350              3000   \n",
       "6     1000     11           43             338              3000   \n",
       "7     1000     12           46             333              3000   \n",
       "8     1001     11           59             430               500   \n",
       "9     1001     12           63             414               500   \n",
       "\n",
       "   rub_per_minute  \n",
       "0               1  \n",
       "1               1  \n",
       "2               1  \n",
       "3               1  \n",
       "4               1  \n",
       "5               1  \n",
       "6               1  \n",
       "7               1  \n",
       "8               3  \n",
       "9               3  "
      ]
     },
     "execution_count": 51,
     "metadata": {},
     "output_type": "execute_result"
    }
   ],
   "source": [
    "calls_pivot.head(10)"
   ]
  },
  {
   "cell_type": "code",
   "execution_count": 52,
   "metadata": {},
   "outputs": [],
   "source": [
    "#Рассчитаем выручку за превышение тарифа (если есть), в остальном случае = 0.\n",
    "\n",
    "def calls_revenue(row):\n",
    "    \n",
    "    calls_duration = row['calls_duration']\n",
    "    calls_limit = row['minutes_included']\n",
    "    payment = row['rub_per_minute']\n",
    "    \n",
    "    if (calls_limit - calls_duration) >= 0:\n",
    "        return 0\n",
    "    else:\n",
    "        return ((calls_duration - calls_limit) * payment)\n",
    "\n",
    "calls_pivot['calls_revenue'] = calls_pivot.apply(calls_revenue, axis=1)"
   ]
  },
  {
   "cell_type": "code",
   "execution_count": 53,
   "metadata": {},
   "outputs": [
    {
     "data": {
      "text/html": [
       "<div>\n",
       "<style scoped>\n",
       "    .dataframe tbody tr th:only-of-type {\n",
       "        vertical-align: middle;\n",
       "    }\n",
       "\n",
       "    .dataframe tbody tr th {\n",
       "        vertical-align: top;\n",
       "    }\n",
       "\n",
       "    .dataframe thead th {\n",
       "        text-align: right;\n",
       "    }\n",
       "</style>\n",
       "<table border=\"1\" class=\"dataframe\">\n",
       "  <thead>\n",
       "    <tr style=\"text-align: right;\">\n",
       "      <th></th>\n",
       "      <th>user_id</th>\n",
       "      <th>month</th>\n",
       "      <th>calls_count</th>\n",
       "      <th>calls_duration</th>\n",
       "      <th>minutes_included</th>\n",
       "      <th>rub_per_minute</th>\n",
       "      <th>calls_revenue</th>\n",
       "    </tr>\n",
       "  </thead>\n",
       "  <tbody>\n",
       "    <tr>\n",
       "      <th>32</th>\n",
       "      <td>1005</td>\n",
       "      <td>3</td>\n",
       "      <td>77</td>\n",
       "      <td>606</td>\n",
       "      <td>500</td>\n",
       "      <td>3</td>\n",
       "      <td>318</td>\n",
       "    </tr>\n",
       "    <tr>\n",
       "      <th>33</th>\n",
       "      <td>1005</td>\n",
       "      <td>4</td>\n",
       "      <td>101</td>\n",
       "      <td>712</td>\n",
       "      <td>500</td>\n",
       "      <td>3</td>\n",
       "      <td>636</td>\n",
       "    </tr>\n",
       "    <tr>\n",
       "      <th>34</th>\n",
       "      <td>1005</td>\n",
       "      <td>5</td>\n",
       "      <td>73</td>\n",
       "      <td>595</td>\n",
       "      <td>500</td>\n",
       "      <td>3</td>\n",
       "      <td>285</td>\n",
       "    </tr>\n",
       "    <tr>\n",
       "      <th>35</th>\n",
       "      <td>1005</td>\n",
       "      <td>6</td>\n",
       "      <td>80</td>\n",
       "      <td>612</td>\n",
       "      <td>500</td>\n",
       "      <td>3</td>\n",
       "      <td>336</td>\n",
       "    </tr>\n",
       "    <tr>\n",
       "      <th>36</th>\n",
       "      <td>1005</td>\n",
       "      <td>7</td>\n",
       "      <td>77</td>\n",
       "      <td>569</td>\n",
       "      <td>500</td>\n",
       "      <td>3</td>\n",
       "      <td>207</td>\n",
       "    </tr>\n",
       "    <tr>\n",
       "      <th>...</th>\n",
       "      <td>...</td>\n",
       "      <td>...</td>\n",
       "      <td>...</td>\n",
       "      <td>...</td>\n",
       "      <td>...</td>\n",
       "      <td>...</td>\n",
       "      <td>...</td>\n",
       "    </tr>\n",
       "    <tr>\n",
       "      <th>3158</th>\n",
       "      <td>1496</td>\n",
       "      <td>8</td>\n",
       "      <td>88</td>\n",
       "      <td>527</td>\n",
       "      <td>500</td>\n",
       "      <td>3</td>\n",
       "      <td>81</td>\n",
       "    </tr>\n",
       "    <tr>\n",
       "      <th>3161</th>\n",
       "      <td>1496</td>\n",
       "      <td>11</td>\n",
       "      <td>80</td>\n",
       "      <td>662</td>\n",
       "      <td>500</td>\n",
       "      <td>3</td>\n",
       "      <td>486</td>\n",
       "    </tr>\n",
       "    <tr>\n",
       "      <th>3162</th>\n",
       "      <td>1496</td>\n",
       "      <td>12</td>\n",
       "      <td>80</td>\n",
       "      <td>518</td>\n",
       "      <td>500</td>\n",
       "      <td>3</td>\n",
       "      <td>54</td>\n",
       "    </tr>\n",
       "    <tr>\n",
       "      <th>3165</th>\n",
       "      <td>1497</td>\n",
       "      <td>12</td>\n",
       "      <td>71</td>\n",
       "      <td>545</td>\n",
       "      <td>500</td>\n",
       "      <td>3</td>\n",
       "      <td>135</td>\n",
       "    </tr>\n",
       "    <tr>\n",
       "      <th>3172</th>\n",
       "      <td>1499</td>\n",
       "      <td>11</td>\n",
       "      <td>74</td>\n",
       "      <td>612</td>\n",
       "      <td>500</td>\n",
       "      <td>3</td>\n",
       "      <td>336</td>\n",
       "    </tr>\n",
       "  </tbody>\n",
       "</table>\n",
       "<p>754 rows × 7 columns</p>\n",
       "</div>"
      ],
      "text/plain": [
       "      user_id  month  calls_count  calls_duration  minutes_included  \\\n",
       "32       1005      3           77             606               500   \n",
       "33       1005      4          101             712               500   \n",
       "34       1005      5           73             595               500   \n",
       "35       1005      6           80             612               500   \n",
       "36       1005      7           77             569               500   \n",
       "...       ...    ...          ...             ...               ...   \n",
       "3158     1496      8           88             527               500   \n",
       "3161     1496     11           80             662               500   \n",
       "3162     1496     12           80             518               500   \n",
       "3165     1497     12           71             545               500   \n",
       "3172     1499     11           74             612               500   \n",
       "\n",
       "      rub_per_minute  calls_revenue  \n",
       "32                 3            318  \n",
       "33                 3            636  \n",
       "34                 3            285  \n",
       "35                 3            336  \n",
       "36                 3            207  \n",
       "...              ...            ...  \n",
       "3158               3             81  \n",
       "3161               3            486  \n",
       "3162               3             54  \n",
       "3165               3            135  \n",
       "3172               3            336  \n",
       "\n",
       "[754 rows x 7 columns]"
      ]
     },
     "execution_count": 53,
     "metadata": {},
     "output_type": "execute_result"
    }
   ],
   "source": [
    "#Проверяем корректность расчетов\n",
    "\n",
    "calls_pivot.query('calls_revenue > 0')"
   ]
  },
  {
   "cell_type": "code",
   "execution_count": 54,
   "metadata": {},
   "outputs": [
    {
     "data": {
      "text/html": [
       "<div>\n",
       "<style scoped>\n",
       "    .dataframe tbody tr th:only-of-type {\n",
       "        vertical-align: middle;\n",
       "    }\n",
       "\n",
       "    .dataframe tbody tr th {\n",
       "        vertical-align: top;\n",
       "    }\n",
       "\n",
       "    .dataframe thead th {\n",
       "        text-align: right;\n",
       "    }\n",
       "</style>\n",
       "<table border=\"1\" class=\"dataframe\">\n",
       "  <thead>\n",
       "    <tr style=\"text-align: right;\">\n",
       "      <th></th>\n",
       "      <th>user_id</th>\n",
       "      <th>month</th>\n",
       "      <th>calls_count</th>\n",
       "      <th>calls_duration</th>\n",
       "      <th>calls_revenue</th>\n",
       "    </tr>\n",
       "  </thead>\n",
       "  <tbody>\n",
       "    <tr>\n",
       "      <th>0</th>\n",
       "      <td>1000</td>\n",
       "      <td>5</td>\n",
       "      <td>22</td>\n",
       "      <td>159</td>\n",
       "      <td>0</td>\n",
       "    </tr>\n",
       "    <tr>\n",
       "      <th>1</th>\n",
       "      <td>1000</td>\n",
       "      <td>6</td>\n",
       "      <td>43</td>\n",
       "      <td>172</td>\n",
       "      <td>0</td>\n",
       "    </tr>\n",
       "    <tr>\n",
       "      <th>2</th>\n",
       "      <td>1000</td>\n",
       "      <td>7</td>\n",
       "      <td>47</td>\n",
       "      <td>340</td>\n",
       "      <td>0</td>\n",
       "    </tr>\n",
       "    <tr>\n",
       "      <th>3</th>\n",
       "      <td>1000</td>\n",
       "      <td>8</td>\n",
       "      <td>52</td>\n",
       "      <td>408</td>\n",
       "      <td>0</td>\n",
       "    </tr>\n",
       "    <tr>\n",
       "      <th>4</th>\n",
       "      <td>1000</td>\n",
       "      <td>9</td>\n",
       "      <td>58</td>\n",
       "      <td>466</td>\n",
       "      <td>0</td>\n",
       "    </tr>\n",
       "  </tbody>\n",
       "</table>\n",
       "</div>"
      ],
      "text/plain": [
       "   user_id  month  calls_count  calls_duration  calls_revenue\n",
       "0     1000      5           22             159              0\n",
       "1     1000      6           43             172              0\n",
       "2     1000      7           47             340              0\n",
       "3     1000      8           52             408              0\n",
       "4     1000      9           58             466              0"
      ]
     },
     "execution_count": 54,
     "metadata": {},
     "output_type": "execute_result"
    }
   ],
   "source": [
    "#Удаляем лишнюю для дальнейшего анализа информацию\n",
    "\n",
    "calls_pivot = calls_pivot.drop(['minutes_included', 'rub_per_minute'],axis=1)\n",
    "calls_pivot.head(5)"
   ]
  },
  {
   "cell_type": "markdown",
   "metadata": {},
   "source": [
    "### Работа с таблицей internet"
   ]
  },
  {
   "cell_type": "code",
   "execution_count": 55,
   "metadata": {},
   "outputs": [
    {
     "data": {
      "text/html": [
       "<div>\n",
       "<style scoped>\n",
       "    .dataframe tbody tr th:only-of-type {\n",
       "        vertical-align: middle;\n",
       "    }\n",
       "\n",
       "    .dataframe tbody tr th {\n",
       "        vertical-align: top;\n",
       "    }\n",
       "\n",
       "    .dataframe thead th {\n",
       "        text-align: right;\n",
       "    }\n",
       "</style>\n",
       "<table border=\"1\" class=\"dataframe\">\n",
       "  <thead>\n",
       "    <tr style=\"text-align: right;\">\n",
       "      <th></th>\n",
       "      <th>Unnamed: 0</th>\n",
       "      <th>id</th>\n",
       "      <th>mb_used</th>\n",
       "      <th>session_date</th>\n",
       "      <th>user_id</th>\n",
       "    </tr>\n",
       "  </thead>\n",
       "  <tbody>\n",
       "    <tr>\n",
       "      <th>0</th>\n",
       "      <td>0</td>\n",
       "      <td>1000_0</td>\n",
       "      <td>112.95</td>\n",
       "      <td>2018-11-25</td>\n",
       "      <td>1000</td>\n",
       "    </tr>\n",
       "    <tr>\n",
       "      <th>1</th>\n",
       "      <td>1</td>\n",
       "      <td>1000_1</td>\n",
       "      <td>1052.81</td>\n",
       "      <td>2018-09-07</td>\n",
       "      <td>1000</td>\n",
       "    </tr>\n",
       "    <tr>\n",
       "      <th>2</th>\n",
       "      <td>2</td>\n",
       "      <td>1000_2</td>\n",
       "      <td>1197.26</td>\n",
       "      <td>2018-06-25</td>\n",
       "      <td>1000</td>\n",
       "    </tr>\n",
       "    <tr>\n",
       "      <th>3</th>\n",
       "      <td>3</td>\n",
       "      <td>1000_3</td>\n",
       "      <td>550.27</td>\n",
       "      <td>2018-08-22</td>\n",
       "      <td>1000</td>\n",
       "    </tr>\n",
       "    <tr>\n",
       "      <th>4</th>\n",
       "      <td>4</td>\n",
       "      <td>1000_4</td>\n",
       "      <td>302.56</td>\n",
       "      <td>2018-09-24</td>\n",
       "      <td>1000</td>\n",
       "    </tr>\n",
       "  </tbody>\n",
       "</table>\n",
       "</div>"
      ],
      "text/plain": [
       "   Unnamed: 0      id  mb_used session_date  user_id\n",
       "0           0  1000_0   112.95   2018-11-25     1000\n",
       "1           1  1000_1  1052.81   2018-09-07     1000\n",
       "2           2  1000_2  1197.26   2018-06-25     1000\n",
       "3           3  1000_3   550.27   2018-08-22     1000\n",
       "4           4  1000_4   302.56   2018-09-24     1000"
      ]
     },
     "execution_count": 55,
     "metadata": {},
     "output_type": "execute_result"
    }
   ],
   "source": [
    "internet.head(5)"
   ]
  },
  {
   "cell_type": "code",
   "execution_count": 56,
   "metadata": {},
   "outputs": [
    {
     "name": "stdout",
     "output_type": "stream",
     "text": [
      "<class 'pandas.core.frame.DataFrame'>\n",
      "RangeIndex: 149396 entries, 0 to 149395\n",
      "Data columns (total 5 columns):\n",
      " #   Column        Non-Null Count   Dtype  \n",
      "---  ------        --------------   -----  \n",
      " 0   Unnamed: 0    149396 non-null  int64  \n",
      " 1   id            149396 non-null  object \n",
      " 2   mb_used       149396 non-null  float64\n",
      " 3   session_date  149396 non-null  object \n",
      " 4   user_id       149396 non-null  int64  \n",
      "dtypes: float64(1), int64(2), object(2)\n",
      "memory usage: 5.7+ MB\n"
     ]
    }
   ],
   "source": [
    "internet.info()"
   ]
  },
  {
   "cell_type": "markdown",
   "metadata": {},
   "source": [
    "**Шаг 1. Приведение даты к формату даты**"
   ]
  },
  {
   "cell_type": "code",
   "execution_count": 57,
   "metadata": {},
   "outputs": [],
   "source": [
    "internet['session_date'] = pd.to_datetime(internet['session_date'], format='%Y.%m.%d')"
   ]
  },
  {
   "cell_type": "code",
   "execution_count": 58,
   "metadata": {},
   "outputs": [
    {
     "data": {
      "text/html": [
       "<div>\n",
       "<style scoped>\n",
       "    .dataframe tbody tr th:only-of-type {\n",
       "        vertical-align: middle;\n",
       "    }\n",
       "\n",
       "    .dataframe tbody tr th {\n",
       "        vertical-align: top;\n",
       "    }\n",
       "\n",
       "    .dataframe thead th {\n",
       "        text-align: right;\n",
       "    }\n",
       "</style>\n",
       "<table border=\"1\" class=\"dataframe\">\n",
       "  <thead>\n",
       "    <tr style=\"text-align: right;\">\n",
       "      <th></th>\n",
       "      <th>Unnamed: 0</th>\n",
       "      <th>id</th>\n",
       "      <th>mb_used</th>\n",
       "      <th>session_date</th>\n",
       "      <th>user_id</th>\n",
       "    </tr>\n",
       "  </thead>\n",
       "  <tbody>\n",
       "    <tr>\n",
       "      <th>0</th>\n",
       "      <td>0</td>\n",
       "      <td>1000_0</td>\n",
       "      <td>112.95</td>\n",
       "      <td>2018-11-25</td>\n",
       "      <td>1000</td>\n",
       "    </tr>\n",
       "    <tr>\n",
       "      <th>1</th>\n",
       "      <td>1</td>\n",
       "      <td>1000_1</td>\n",
       "      <td>1052.81</td>\n",
       "      <td>2018-09-07</td>\n",
       "      <td>1000</td>\n",
       "    </tr>\n",
       "    <tr>\n",
       "      <th>2</th>\n",
       "      <td>2</td>\n",
       "      <td>1000_2</td>\n",
       "      <td>1197.26</td>\n",
       "      <td>2018-06-25</td>\n",
       "      <td>1000</td>\n",
       "    </tr>\n",
       "    <tr>\n",
       "      <th>3</th>\n",
       "      <td>3</td>\n",
       "      <td>1000_3</td>\n",
       "      <td>550.27</td>\n",
       "      <td>2018-08-22</td>\n",
       "      <td>1000</td>\n",
       "    </tr>\n",
       "    <tr>\n",
       "      <th>4</th>\n",
       "      <td>4</td>\n",
       "      <td>1000_4</td>\n",
       "      <td>302.56</td>\n",
       "      <td>2018-09-24</td>\n",
       "      <td>1000</td>\n",
       "    </tr>\n",
       "  </tbody>\n",
       "</table>\n",
       "</div>"
      ],
      "text/plain": [
       "   Unnamed: 0      id  mb_used session_date  user_id\n",
       "0           0  1000_0   112.95   2018-11-25     1000\n",
       "1           1  1000_1  1052.81   2018-09-07     1000\n",
       "2           2  1000_2  1197.26   2018-06-25     1000\n",
       "3           3  1000_3   550.27   2018-08-22     1000\n",
       "4           4  1000_4   302.56   2018-09-24     1000"
      ]
     },
     "execution_count": 58,
     "metadata": {},
     "output_type": "execute_result"
    }
   ],
   "source": [
    "internet.head(5)"
   ]
  },
  {
   "cell_type": "code",
   "execution_count": 59,
   "metadata": {},
   "outputs": [
    {
     "name": "stdout",
     "output_type": "stream",
     "text": [
      "<class 'pandas.core.frame.DataFrame'>\n",
      "RangeIndex: 149396 entries, 0 to 149395\n",
      "Data columns (total 5 columns):\n",
      " #   Column        Non-Null Count   Dtype         \n",
      "---  ------        --------------   -----         \n",
      " 0   Unnamed: 0    149396 non-null  int64         \n",
      " 1   id            149396 non-null  object        \n",
      " 2   mb_used       149396 non-null  float64       \n",
      " 3   session_date  149396 non-null  datetime64[ns]\n",
      " 4   user_id       149396 non-null  int64         \n",
      "dtypes: datetime64[ns](1), float64(1), int64(2), object(1)\n",
      "memory usage: 5.7+ MB\n"
     ]
    }
   ],
   "source": [
    "internet.info()"
   ]
  },
  {
   "cell_type": "markdown",
   "metadata": {},
   "source": [
    "**Шаг 2. Выделение месяца**"
   ]
  },
  {
   "cell_type": "code",
   "execution_count": 60,
   "metadata": {},
   "outputs": [
    {
     "data": {
      "text/html": [
       "<div>\n",
       "<style scoped>\n",
       "    .dataframe tbody tr th:only-of-type {\n",
       "        vertical-align: middle;\n",
       "    }\n",
       "\n",
       "    .dataframe tbody tr th {\n",
       "        vertical-align: top;\n",
       "    }\n",
       "\n",
       "    .dataframe thead th {\n",
       "        text-align: right;\n",
       "    }\n",
       "</style>\n",
       "<table border=\"1\" class=\"dataframe\">\n",
       "  <thead>\n",
       "    <tr style=\"text-align: right;\">\n",
       "      <th></th>\n",
       "      <th>Unnamed: 0</th>\n",
       "      <th>id</th>\n",
       "      <th>mb_used</th>\n",
       "      <th>session_date</th>\n",
       "      <th>user_id</th>\n",
       "      <th>month</th>\n",
       "    </tr>\n",
       "  </thead>\n",
       "  <tbody>\n",
       "    <tr>\n",
       "      <th>0</th>\n",
       "      <td>0</td>\n",
       "      <td>1000_0</td>\n",
       "      <td>112.95</td>\n",
       "      <td>2018-11-25</td>\n",
       "      <td>1000</td>\n",
       "      <td>11</td>\n",
       "    </tr>\n",
       "    <tr>\n",
       "      <th>1</th>\n",
       "      <td>1</td>\n",
       "      <td>1000_1</td>\n",
       "      <td>1052.81</td>\n",
       "      <td>2018-09-07</td>\n",
       "      <td>1000</td>\n",
       "      <td>9</td>\n",
       "    </tr>\n",
       "    <tr>\n",
       "      <th>2</th>\n",
       "      <td>2</td>\n",
       "      <td>1000_2</td>\n",
       "      <td>1197.26</td>\n",
       "      <td>2018-06-25</td>\n",
       "      <td>1000</td>\n",
       "      <td>6</td>\n",
       "    </tr>\n",
       "    <tr>\n",
       "      <th>3</th>\n",
       "      <td>3</td>\n",
       "      <td>1000_3</td>\n",
       "      <td>550.27</td>\n",
       "      <td>2018-08-22</td>\n",
       "      <td>1000</td>\n",
       "      <td>8</td>\n",
       "    </tr>\n",
       "    <tr>\n",
       "      <th>4</th>\n",
       "      <td>4</td>\n",
       "      <td>1000_4</td>\n",
       "      <td>302.56</td>\n",
       "      <td>2018-09-24</td>\n",
       "      <td>1000</td>\n",
       "      <td>9</td>\n",
       "    </tr>\n",
       "  </tbody>\n",
       "</table>\n",
       "</div>"
      ],
      "text/plain": [
       "   Unnamed: 0      id  mb_used session_date  user_id  month\n",
       "0           0  1000_0   112.95   2018-11-25     1000     11\n",
       "1           1  1000_1  1052.81   2018-09-07     1000      9\n",
       "2           2  1000_2  1197.26   2018-06-25     1000      6\n",
       "3           3  1000_3   550.27   2018-08-22     1000      8\n",
       "4           4  1000_4   302.56   2018-09-24     1000      9"
      ]
     },
     "execution_count": 60,
     "metadata": {},
     "output_type": "execute_result"
    }
   ],
   "source": [
    "internet['month'] = pd.DatetimeIndex(internet['session_date']).month\n",
    "internet.head(5)"
   ]
  },
  {
   "cell_type": "markdown",
   "metadata": {},
   "source": [
    "**Шаг 3. Создание сводной таблицы**"
   ]
  },
  {
   "cell_type": "code",
   "execution_count": 61,
   "metadata": {},
   "outputs": [],
   "source": [
    "#Создаем сводную таблицу с группировкой по клиенту и месяцу, значения - сумма потраченного трафика \n",
    "\n",
    "internet_pivot = internet.pivot_table(\n",
    "index=['user_id', 'month'],\n",
    "values='mb_used',\n",
    "aggfunc='sum')\n",
    "\n",
    "#Сбрасываем мультииндексы\n",
    "\n",
    "internet_pivot = internet_pivot.reset_index()\n",
    "\n",
    "internet_pivot['mb_used'] = internet_pivot['mb_used'].apply(lambda x: math.ceil(x))"
   ]
  },
  {
   "cell_type": "code",
   "execution_count": 62,
   "metadata": {},
   "outputs": [
    {
     "data": {
      "text/html": [
       "<div>\n",
       "<style scoped>\n",
       "    .dataframe tbody tr th:only-of-type {\n",
       "        vertical-align: middle;\n",
       "    }\n",
       "\n",
       "    .dataframe tbody tr th {\n",
       "        vertical-align: top;\n",
       "    }\n",
       "\n",
       "    .dataframe thead th {\n",
       "        text-align: right;\n",
       "    }\n",
       "</style>\n",
       "<table border=\"1\" class=\"dataframe\">\n",
       "  <thead>\n",
       "    <tr style=\"text-align: right;\">\n",
       "      <th></th>\n",
       "      <th>user_id</th>\n",
       "      <th>month</th>\n",
       "      <th>mb_used</th>\n",
       "    </tr>\n",
       "  </thead>\n",
       "  <tbody>\n",
       "    <tr>\n",
       "      <th>0</th>\n",
       "      <td>1000</td>\n",
       "      <td>5</td>\n",
       "      <td>2254</td>\n",
       "    </tr>\n",
       "    <tr>\n",
       "      <th>1</th>\n",
       "      <td>1000</td>\n",
       "      <td>6</td>\n",
       "      <td>23234</td>\n",
       "    </tr>\n",
       "    <tr>\n",
       "      <th>2</th>\n",
       "      <td>1000</td>\n",
       "      <td>7</td>\n",
       "      <td>14004</td>\n",
       "    </tr>\n",
       "    <tr>\n",
       "      <th>3</th>\n",
       "      <td>1000</td>\n",
       "      <td>8</td>\n",
       "      <td>14056</td>\n",
       "    </tr>\n",
       "    <tr>\n",
       "      <th>4</th>\n",
       "      <td>1000</td>\n",
       "      <td>9</td>\n",
       "      <td>14569</td>\n",
       "    </tr>\n",
       "  </tbody>\n",
       "</table>\n",
       "</div>"
      ],
      "text/plain": [
       "   user_id  month  mb_used\n",
       "0     1000      5     2254\n",
       "1     1000      6    23234\n",
       "2     1000      7    14004\n",
       "3     1000      8    14056\n",
       "4     1000      9    14569"
      ]
     },
     "execution_count": 62,
     "metadata": {},
     "output_type": "execute_result"
    }
   ],
   "source": [
    "internet_pivot.head(5)"
   ]
  },
  {
   "cell_type": "code",
   "execution_count": 63,
   "metadata": {},
   "outputs": [],
   "source": [
    "internet_pivot = internet_pivot.merge(users_new, on='user_id',how='left')\n",
    "internet_pivot = internet_pivot[['user_id', 'month', 'mb_used', 'mb_per_month_included', 'rub_per_gb']]"
   ]
  },
  {
   "cell_type": "code",
   "execution_count": 64,
   "metadata": {},
   "outputs": [
    {
     "data": {
      "text/html": [
       "<div>\n",
       "<style scoped>\n",
       "    .dataframe tbody tr th:only-of-type {\n",
       "        vertical-align: middle;\n",
       "    }\n",
       "\n",
       "    .dataframe tbody tr th {\n",
       "        vertical-align: top;\n",
       "    }\n",
       "\n",
       "    .dataframe thead th {\n",
       "        text-align: right;\n",
       "    }\n",
       "</style>\n",
       "<table border=\"1\" class=\"dataframe\">\n",
       "  <thead>\n",
       "    <tr style=\"text-align: right;\">\n",
       "      <th></th>\n",
       "      <th>user_id</th>\n",
       "      <th>month</th>\n",
       "      <th>mb_used</th>\n",
       "      <th>mb_per_month_included</th>\n",
       "      <th>rub_per_gb</th>\n",
       "    </tr>\n",
       "  </thead>\n",
       "  <tbody>\n",
       "    <tr>\n",
       "      <th>0</th>\n",
       "      <td>1000</td>\n",
       "      <td>5</td>\n",
       "      <td>2254</td>\n",
       "      <td>30720</td>\n",
       "      <td>150</td>\n",
       "    </tr>\n",
       "    <tr>\n",
       "      <th>1</th>\n",
       "      <td>1000</td>\n",
       "      <td>6</td>\n",
       "      <td>23234</td>\n",
       "      <td>30720</td>\n",
       "      <td>150</td>\n",
       "    </tr>\n",
       "    <tr>\n",
       "      <th>2</th>\n",
       "      <td>1000</td>\n",
       "      <td>7</td>\n",
       "      <td>14004</td>\n",
       "      <td>30720</td>\n",
       "      <td>150</td>\n",
       "    </tr>\n",
       "    <tr>\n",
       "      <th>3</th>\n",
       "      <td>1000</td>\n",
       "      <td>8</td>\n",
       "      <td>14056</td>\n",
       "      <td>30720</td>\n",
       "      <td>150</td>\n",
       "    </tr>\n",
       "    <tr>\n",
       "      <th>4</th>\n",
       "      <td>1000</td>\n",
       "      <td>9</td>\n",
       "      <td>14569</td>\n",
       "      <td>30720</td>\n",
       "      <td>150</td>\n",
       "    </tr>\n",
       "    <tr>\n",
       "      <th>5</th>\n",
       "      <td>1000</td>\n",
       "      <td>10</td>\n",
       "      <td>14703</td>\n",
       "      <td>30720</td>\n",
       "      <td>150</td>\n",
       "    </tr>\n",
       "    <tr>\n",
       "      <th>6</th>\n",
       "      <td>1000</td>\n",
       "      <td>11</td>\n",
       "      <td>14757</td>\n",
       "      <td>30720</td>\n",
       "      <td>150</td>\n",
       "    </tr>\n",
       "    <tr>\n",
       "      <th>7</th>\n",
       "      <td>1000</td>\n",
       "      <td>12</td>\n",
       "      <td>9818</td>\n",
       "      <td>30720</td>\n",
       "      <td>150</td>\n",
       "    </tr>\n",
       "    <tr>\n",
       "      <th>8</th>\n",
       "      <td>1001</td>\n",
       "      <td>11</td>\n",
       "      <td>18430</td>\n",
       "      <td>15360</td>\n",
       "      <td>200</td>\n",
       "    </tr>\n",
       "    <tr>\n",
       "      <th>9</th>\n",
       "      <td>1001</td>\n",
       "      <td>12</td>\n",
       "      <td>14037</td>\n",
       "      <td>15360</td>\n",
       "      <td>200</td>\n",
       "    </tr>\n",
       "  </tbody>\n",
       "</table>\n",
       "</div>"
      ],
      "text/plain": [
       "   user_id  month  mb_used  mb_per_month_included  rub_per_gb\n",
       "0     1000      5     2254                  30720         150\n",
       "1     1000      6    23234                  30720         150\n",
       "2     1000      7    14004                  30720         150\n",
       "3     1000      8    14056                  30720         150\n",
       "4     1000      9    14569                  30720         150\n",
       "5     1000     10    14703                  30720         150\n",
       "6     1000     11    14757                  30720         150\n",
       "7     1000     12     9818                  30720         150\n",
       "8     1001     11    18430                  15360         200\n",
       "9     1001     12    14037                  15360         200"
      ]
     },
     "execution_count": 64,
     "metadata": {},
     "output_type": "execute_result"
    }
   ],
   "source": [
    "internet_pivot.head(10)"
   ]
  },
  {
   "cell_type": "markdown",
   "metadata": {},
   "source": [
    "Рассчитаем выручку за превышение, помня о том, что в 1Гб = 1024Мб и оператор округляет всегда вверх на уровне ГБ."
   ]
  },
  {
   "cell_type": "code",
   "execution_count": 65,
   "metadata": {},
   "outputs": [],
   "source": [
    "def internet_revenue(row):\n",
    "    mb_used = row['mb_used']\n",
    "    mb_limit = row['mb_per_month_included']\n",
    "    payment = row['rub_per_gb']\n",
    "    \n",
    "    if (mb_limit - mb_used) >= 0:\n",
    "        return 0\n",
    "    else:\n",
    "        return (math.ceil((mb_used - mb_limit) / 1024) * payment)\n",
    "\n",
    "internet_pivot['internet_revenue'] = internet_pivot.apply(internet_revenue, axis=1)"
   ]
  },
  {
   "cell_type": "code",
   "execution_count": 66,
   "metadata": {},
   "outputs": [
    {
     "data": {
      "text/html": [
       "<div>\n",
       "<style scoped>\n",
       "    .dataframe tbody tr th:only-of-type {\n",
       "        vertical-align: middle;\n",
       "    }\n",
       "\n",
       "    .dataframe tbody tr th {\n",
       "        vertical-align: top;\n",
       "    }\n",
       "\n",
       "    .dataframe thead th {\n",
       "        text-align: right;\n",
       "    }\n",
       "</style>\n",
       "<table border=\"1\" class=\"dataframe\">\n",
       "  <thead>\n",
       "    <tr style=\"text-align: right;\">\n",
       "      <th></th>\n",
       "      <th>user_id</th>\n",
       "      <th>month</th>\n",
       "      <th>mb_used</th>\n",
       "      <th>mb_per_month_included</th>\n",
       "      <th>rub_per_gb</th>\n",
       "      <th>internet_revenue</th>\n",
       "    </tr>\n",
       "  </thead>\n",
       "  <tbody>\n",
       "    <tr>\n",
       "      <th>0</th>\n",
       "      <td>1000</td>\n",
       "      <td>5</td>\n",
       "      <td>2254</td>\n",
       "      <td>30720</td>\n",
       "      <td>150</td>\n",
       "      <td>0</td>\n",
       "    </tr>\n",
       "    <tr>\n",
       "      <th>1</th>\n",
       "      <td>1000</td>\n",
       "      <td>6</td>\n",
       "      <td>23234</td>\n",
       "      <td>30720</td>\n",
       "      <td>150</td>\n",
       "      <td>0</td>\n",
       "    </tr>\n",
       "    <tr>\n",
       "      <th>2</th>\n",
       "      <td>1000</td>\n",
       "      <td>7</td>\n",
       "      <td>14004</td>\n",
       "      <td>30720</td>\n",
       "      <td>150</td>\n",
       "      <td>0</td>\n",
       "    </tr>\n",
       "    <tr>\n",
       "      <th>3</th>\n",
       "      <td>1000</td>\n",
       "      <td>8</td>\n",
       "      <td>14056</td>\n",
       "      <td>30720</td>\n",
       "      <td>150</td>\n",
       "      <td>0</td>\n",
       "    </tr>\n",
       "    <tr>\n",
       "      <th>4</th>\n",
       "      <td>1000</td>\n",
       "      <td>9</td>\n",
       "      <td>14569</td>\n",
       "      <td>30720</td>\n",
       "      <td>150</td>\n",
       "      <td>0</td>\n",
       "    </tr>\n",
       "    <tr>\n",
       "      <th>5</th>\n",
       "      <td>1000</td>\n",
       "      <td>10</td>\n",
       "      <td>14703</td>\n",
       "      <td>30720</td>\n",
       "      <td>150</td>\n",
       "      <td>0</td>\n",
       "    </tr>\n",
       "    <tr>\n",
       "      <th>6</th>\n",
       "      <td>1000</td>\n",
       "      <td>11</td>\n",
       "      <td>14757</td>\n",
       "      <td>30720</td>\n",
       "      <td>150</td>\n",
       "      <td>0</td>\n",
       "    </tr>\n",
       "    <tr>\n",
       "      <th>7</th>\n",
       "      <td>1000</td>\n",
       "      <td>12</td>\n",
       "      <td>9818</td>\n",
       "      <td>30720</td>\n",
       "      <td>150</td>\n",
       "      <td>0</td>\n",
       "    </tr>\n",
       "    <tr>\n",
       "      <th>8</th>\n",
       "      <td>1001</td>\n",
       "      <td>11</td>\n",
       "      <td>18430</td>\n",
       "      <td>15360</td>\n",
       "      <td>200</td>\n",
       "      <td>600</td>\n",
       "    </tr>\n",
       "    <tr>\n",
       "      <th>9</th>\n",
       "      <td>1001</td>\n",
       "      <td>12</td>\n",
       "      <td>14037</td>\n",
       "      <td>15360</td>\n",
       "      <td>200</td>\n",
       "      <td>0</td>\n",
       "    </tr>\n",
       "  </tbody>\n",
       "</table>\n",
       "</div>"
      ],
      "text/plain": [
       "   user_id  month  mb_used  mb_per_month_included  rub_per_gb  \\\n",
       "0     1000      5     2254                  30720         150   \n",
       "1     1000      6    23234                  30720         150   \n",
       "2     1000      7    14004                  30720         150   \n",
       "3     1000      8    14056                  30720         150   \n",
       "4     1000      9    14569                  30720         150   \n",
       "5     1000     10    14703                  30720         150   \n",
       "6     1000     11    14757                  30720         150   \n",
       "7     1000     12     9818                  30720         150   \n",
       "8     1001     11    18430                  15360         200   \n",
       "9     1001     12    14037                  15360         200   \n",
       "\n",
       "   internet_revenue  \n",
       "0                 0  \n",
       "1                 0  \n",
       "2                 0  \n",
       "3                 0  \n",
       "4                 0  \n",
       "5                 0  \n",
       "6                 0  \n",
       "7                 0  \n",
       "8               600  \n",
       "9                 0  "
      ]
     },
     "execution_count": 66,
     "metadata": {},
     "output_type": "execute_result"
    }
   ],
   "source": [
    "internet_pivot.head(10)"
   ]
  },
  {
   "cell_type": "code",
   "execution_count": 67,
   "metadata": {},
   "outputs": [
    {
     "data": {
      "text/html": [
       "<div>\n",
       "<style scoped>\n",
       "    .dataframe tbody tr th:only-of-type {\n",
       "        vertical-align: middle;\n",
       "    }\n",
       "\n",
       "    .dataframe tbody tr th {\n",
       "        vertical-align: top;\n",
       "    }\n",
       "\n",
       "    .dataframe thead th {\n",
       "        text-align: right;\n",
       "    }\n",
       "</style>\n",
       "<table border=\"1\" class=\"dataframe\">\n",
       "  <thead>\n",
       "    <tr style=\"text-align: right;\">\n",
       "      <th></th>\n",
       "      <th>user_id</th>\n",
       "      <th>month</th>\n",
       "      <th>mb_used</th>\n",
       "      <th>mb_per_month_included</th>\n",
       "      <th>rub_per_gb</th>\n",
       "      <th>internet_revenue</th>\n",
       "    </tr>\n",
       "  </thead>\n",
       "  <tbody>\n",
       "    <tr>\n",
       "      <th>8</th>\n",
       "      <td>1001</td>\n",
       "      <td>11</td>\n",
       "      <td>18430</td>\n",
       "      <td>15360</td>\n",
       "      <td>200</td>\n",
       "      <td>600</td>\n",
       "    </tr>\n",
       "    <tr>\n",
       "      <th>11</th>\n",
       "      <td>1002</td>\n",
       "      <td>7</td>\n",
       "      <td>17581</td>\n",
       "      <td>15360</td>\n",
       "      <td>200</td>\n",
       "      <td>600</td>\n",
       "    </tr>\n",
       "    <tr>\n",
       "      <th>12</th>\n",
       "      <td>1002</td>\n",
       "      <td>8</td>\n",
       "      <td>20320</td>\n",
       "      <td>15360</td>\n",
       "      <td>200</td>\n",
       "      <td>1000</td>\n",
       "    </tr>\n",
       "    <tr>\n",
       "      <th>13</th>\n",
       "      <td>1002</td>\n",
       "      <td>9</td>\n",
       "      <td>16692</td>\n",
       "      <td>15360</td>\n",
       "      <td>200</td>\n",
       "      <td>400</td>\n",
       "    </tr>\n",
       "    <tr>\n",
       "      <th>15</th>\n",
       "      <td>1002</td>\n",
       "      <td>11</td>\n",
       "      <td>18588</td>\n",
       "      <td>15360</td>\n",
       "      <td>200</td>\n",
       "      <td>800</td>\n",
       "    </tr>\n",
       "    <tr>\n",
       "      <th>...</th>\n",
       "      <td>...</td>\n",
       "      <td>...</td>\n",
       "      <td>...</td>\n",
       "      <td>...</td>\n",
       "      <td>...</td>\n",
       "      <td>...</td>\n",
       "    </tr>\n",
       "    <tr>\n",
       "      <th>3196</th>\n",
       "      <td>1498</td>\n",
       "      <td>8</td>\n",
       "      <td>24236</td>\n",
       "      <td>15360</td>\n",
       "      <td>200</td>\n",
       "      <td>1800</td>\n",
       "    </tr>\n",
       "    <tr>\n",
       "      <th>3197</th>\n",
       "      <td>1498</td>\n",
       "      <td>9</td>\n",
       "      <td>22135</td>\n",
       "      <td>15360</td>\n",
       "      <td>200</td>\n",
       "      <td>1400</td>\n",
       "    </tr>\n",
       "    <tr>\n",
       "      <th>3198</th>\n",
       "      <td>1498</td>\n",
       "      <td>10</td>\n",
       "      <td>20580</td>\n",
       "      <td>15360</td>\n",
       "      <td>200</td>\n",
       "      <td>1200</td>\n",
       "    </tr>\n",
       "    <tr>\n",
       "      <th>3200</th>\n",
       "      <td>1499</td>\n",
       "      <td>10</td>\n",
       "      <td>17789</td>\n",
       "      <td>15360</td>\n",
       "      <td>200</td>\n",
       "      <td>600</td>\n",
       "    </tr>\n",
       "    <tr>\n",
       "      <th>3201</th>\n",
       "      <td>1499</td>\n",
       "      <td>11</td>\n",
       "      <td>17964</td>\n",
       "      <td>15360</td>\n",
       "      <td>200</td>\n",
       "      <td>600</td>\n",
       "    </tr>\n",
       "  </tbody>\n",
       "</table>\n",
       "<p>1438 rows × 6 columns</p>\n",
       "</div>"
      ],
      "text/plain": [
       "      user_id  month  mb_used  mb_per_month_included  rub_per_gb  \\\n",
       "8        1001     11    18430                  15360         200   \n",
       "11       1002      7    17581                  15360         200   \n",
       "12       1002      8    20320                  15360         200   \n",
       "13       1002      9    16692                  15360         200   \n",
       "15       1002     11    18588                  15360         200   \n",
       "...       ...    ...      ...                    ...         ...   \n",
       "3196     1498      8    24236                  15360         200   \n",
       "3197     1498      9    22135                  15360         200   \n",
       "3198     1498     10    20580                  15360         200   \n",
       "3200     1499     10    17789                  15360         200   \n",
       "3201     1499     11    17964                  15360         200   \n",
       "\n",
       "      internet_revenue  \n",
       "8                  600  \n",
       "11                 600  \n",
       "12                1000  \n",
       "13                 400  \n",
       "15                 800  \n",
       "...                ...  \n",
       "3196              1800  \n",
       "3197              1400  \n",
       "3198              1200  \n",
       "3200               600  \n",
       "3201               600  \n",
       "\n",
       "[1438 rows x 6 columns]"
      ]
     },
     "execution_count": 67,
     "metadata": {},
     "output_type": "execute_result"
    }
   ],
   "source": [
    "#Проверяем корректность расчетов\n",
    "\n",
    "internet_pivot.query('internet_revenue > 0')"
   ]
  },
  {
   "cell_type": "code",
   "execution_count": 68,
   "metadata": {},
   "outputs": [
    {
     "data": {
      "text/html": [
       "<div>\n",
       "<style scoped>\n",
       "    .dataframe tbody tr th:only-of-type {\n",
       "        vertical-align: middle;\n",
       "    }\n",
       "\n",
       "    .dataframe tbody tr th {\n",
       "        vertical-align: top;\n",
       "    }\n",
       "\n",
       "    .dataframe thead th {\n",
       "        text-align: right;\n",
       "    }\n",
       "</style>\n",
       "<table border=\"1\" class=\"dataframe\">\n",
       "  <thead>\n",
       "    <tr style=\"text-align: right;\">\n",
       "      <th></th>\n",
       "      <th>user_id</th>\n",
       "      <th>month</th>\n",
       "      <th>mb_used</th>\n",
       "      <th>internet_revenue</th>\n",
       "    </tr>\n",
       "  </thead>\n",
       "  <tbody>\n",
       "    <tr>\n",
       "      <th>0</th>\n",
       "      <td>1000</td>\n",
       "      <td>5</td>\n",
       "      <td>2254</td>\n",
       "      <td>0</td>\n",
       "    </tr>\n",
       "    <tr>\n",
       "      <th>1</th>\n",
       "      <td>1000</td>\n",
       "      <td>6</td>\n",
       "      <td>23234</td>\n",
       "      <td>0</td>\n",
       "    </tr>\n",
       "    <tr>\n",
       "      <th>2</th>\n",
       "      <td>1000</td>\n",
       "      <td>7</td>\n",
       "      <td>14004</td>\n",
       "      <td>0</td>\n",
       "    </tr>\n",
       "    <tr>\n",
       "      <th>3</th>\n",
       "      <td>1000</td>\n",
       "      <td>8</td>\n",
       "      <td>14056</td>\n",
       "      <td>0</td>\n",
       "    </tr>\n",
       "    <tr>\n",
       "      <th>4</th>\n",
       "      <td>1000</td>\n",
       "      <td>9</td>\n",
       "      <td>14569</td>\n",
       "      <td>0</td>\n",
       "    </tr>\n",
       "  </tbody>\n",
       "</table>\n",
       "</div>"
      ],
      "text/plain": [
       "   user_id  month  mb_used  internet_revenue\n",
       "0     1000      5     2254                 0\n",
       "1     1000      6    23234                 0\n",
       "2     1000      7    14004                 0\n",
       "3     1000      8    14056                 0\n",
       "4     1000      9    14569                 0"
      ]
     },
     "execution_count": 68,
     "metadata": {},
     "output_type": "execute_result"
    }
   ],
   "source": [
    "#Удаляем лишнюю для дальнейшего анализа информацию\n",
    "\n",
    "internet_pivot = internet_pivot.drop(['mb_per_month_included', 'rub_per_gb'],axis=1)\n",
    "internet_pivot.head(5)"
   ]
  },
  {
   "cell_type": "markdown",
   "metadata": {},
   "source": [
    "### Работа с таблицей messages"
   ]
  },
  {
   "cell_type": "code",
   "execution_count": 69,
   "metadata": {},
   "outputs": [
    {
     "name": "stdout",
     "output_type": "stream",
     "text": [
      "<class 'pandas.core.frame.DataFrame'>\n",
      "RangeIndex: 123036 entries, 0 to 123035\n",
      "Data columns (total 3 columns):\n",
      " #   Column        Non-Null Count   Dtype \n",
      "---  ------        --------------   ----- \n",
      " 0   id            123036 non-null  object\n",
      " 1   message_date  123036 non-null  object\n",
      " 2   user_id       123036 non-null  int64 \n",
      "dtypes: int64(1), object(2)\n",
      "memory usage: 2.8+ MB\n"
     ]
    }
   ],
   "source": [
    "messages.info()"
   ]
  },
  {
   "cell_type": "code",
   "execution_count": 70,
   "metadata": {},
   "outputs": [
    {
     "data": {
      "text/html": [
       "<div>\n",
       "<style scoped>\n",
       "    .dataframe tbody tr th:only-of-type {\n",
       "        vertical-align: middle;\n",
       "    }\n",
       "\n",
       "    .dataframe tbody tr th {\n",
       "        vertical-align: top;\n",
       "    }\n",
       "\n",
       "    .dataframe thead th {\n",
       "        text-align: right;\n",
       "    }\n",
       "</style>\n",
       "<table border=\"1\" class=\"dataframe\">\n",
       "  <thead>\n",
       "    <tr style=\"text-align: right;\">\n",
       "      <th></th>\n",
       "      <th>id</th>\n",
       "      <th>message_date</th>\n",
       "      <th>user_id</th>\n",
       "    </tr>\n",
       "  </thead>\n",
       "  <tbody>\n",
       "    <tr>\n",
       "      <th>0</th>\n",
       "      <td>1000_0</td>\n",
       "      <td>2018-06-27</td>\n",
       "      <td>1000</td>\n",
       "    </tr>\n",
       "    <tr>\n",
       "      <th>1</th>\n",
       "      <td>1000_1</td>\n",
       "      <td>2018-10-08</td>\n",
       "      <td>1000</td>\n",
       "    </tr>\n",
       "    <tr>\n",
       "      <th>2</th>\n",
       "      <td>1000_2</td>\n",
       "      <td>2018-08-04</td>\n",
       "      <td>1000</td>\n",
       "    </tr>\n",
       "    <tr>\n",
       "      <th>3</th>\n",
       "      <td>1000_3</td>\n",
       "      <td>2018-06-16</td>\n",
       "      <td>1000</td>\n",
       "    </tr>\n",
       "    <tr>\n",
       "      <th>4</th>\n",
       "      <td>1000_4</td>\n",
       "      <td>2018-12-05</td>\n",
       "      <td>1000</td>\n",
       "    </tr>\n",
       "    <tr>\n",
       "      <th>5</th>\n",
       "      <td>1000_5</td>\n",
       "      <td>2018-06-20</td>\n",
       "      <td>1000</td>\n",
       "    </tr>\n",
       "    <tr>\n",
       "      <th>6</th>\n",
       "      <td>1000_6</td>\n",
       "      <td>2018-11-19</td>\n",
       "      <td>1000</td>\n",
       "    </tr>\n",
       "    <tr>\n",
       "      <th>7</th>\n",
       "      <td>1000_7</td>\n",
       "      <td>2018-10-29</td>\n",
       "      <td>1000</td>\n",
       "    </tr>\n",
       "    <tr>\n",
       "      <th>8</th>\n",
       "      <td>1000_8</td>\n",
       "      <td>2018-06-25</td>\n",
       "      <td>1000</td>\n",
       "    </tr>\n",
       "    <tr>\n",
       "      <th>9</th>\n",
       "      <td>1000_9</td>\n",
       "      <td>2018-12-18</td>\n",
       "      <td>1000</td>\n",
       "    </tr>\n",
       "  </tbody>\n",
       "</table>\n",
       "</div>"
      ],
      "text/plain": [
       "       id message_date  user_id\n",
       "0  1000_0   2018-06-27     1000\n",
       "1  1000_1   2018-10-08     1000\n",
       "2  1000_2   2018-08-04     1000\n",
       "3  1000_3   2018-06-16     1000\n",
       "4  1000_4   2018-12-05     1000\n",
       "5  1000_5   2018-06-20     1000\n",
       "6  1000_6   2018-11-19     1000\n",
       "7  1000_7   2018-10-29     1000\n",
       "8  1000_8   2018-06-25     1000\n",
       "9  1000_9   2018-12-18     1000"
      ]
     },
     "execution_count": 70,
     "metadata": {},
     "output_type": "execute_result"
    }
   ],
   "source": [
    "messages.head(10)"
   ]
  },
  {
   "cell_type": "markdown",
   "metadata": {},
   "source": [
    "**Шаг 1. Приведение даты к формату даты**"
   ]
  },
  {
   "cell_type": "code",
   "execution_count": 71,
   "metadata": {},
   "outputs": [],
   "source": [
    "messages['message_date'] = pd.to_datetime(messages['message_date'], format='%Y.%m.%d')"
   ]
  },
  {
   "cell_type": "code",
   "execution_count": 72,
   "metadata": {},
   "outputs": [
    {
     "name": "stdout",
     "output_type": "stream",
     "text": [
      "<class 'pandas.core.frame.DataFrame'>\n",
      "RangeIndex: 149396 entries, 0 to 149395\n",
      "Data columns (total 6 columns):\n",
      " #   Column        Non-Null Count   Dtype         \n",
      "---  ------        --------------   -----         \n",
      " 0   Unnamed: 0    149396 non-null  int64         \n",
      " 1   id            149396 non-null  object        \n",
      " 2   mb_used       149396 non-null  float64       \n",
      " 3   session_date  149396 non-null  datetime64[ns]\n",
      " 4   user_id       149396 non-null  int64         \n",
      " 5   month         149396 non-null  int64         \n",
      "dtypes: datetime64[ns](1), float64(1), int64(3), object(1)\n",
      "memory usage: 6.8+ MB\n"
     ]
    }
   ],
   "source": [
    "internet.info()"
   ]
  },
  {
   "cell_type": "markdown",
   "metadata": {},
   "source": [
    "**Шаг 2. Выделение месяца**"
   ]
  },
  {
   "cell_type": "code",
   "execution_count": 73,
   "metadata": {},
   "outputs": [
    {
     "data": {
      "text/html": [
       "<div>\n",
       "<style scoped>\n",
       "    .dataframe tbody tr th:only-of-type {\n",
       "        vertical-align: middle;\n",
       "    }\n",
       "\n",
       "    .dataframe tbody tr th {\n",
       "        vertical-align: top;\n",
       "    }\n",
       "\n",
       "    .dataframe thead th {\n",
       "        text-align: right;\n",
       "    }\n",
       "</style>\n",
       "<table border=\"1\" class=\"dataframe\">\n",
       "  <thead>\n",
       "    <tr style=\"text-align: right;\">\n",
       "      <th></th>\n",
       "      <th>id</th>\n",
       "      <th>message_date</th>\n",
       "      <th>user_id</th>\n",
       "      <th>month</th>\n",
       "    </tr>\n",
       "  </thead>\n",
       "  <tbody>\n",
       "    <tr>\n",
       "      <th>0</th>\n",
       "      <td>1000_0</td>\n",
       "      <td>2018-06-27</td>\n",
       "      <td>1000</td>\n",
       "      <td>6</td>\n",
       "    </tr>\n",
       "    <tr>\n",
       "      <th>1</th>\n",
       "      <td>1000_1</td>\n",
       "      <td>2018-10-08</td>\n",
       "      <td>1000</td>\n",
       "      <td>10</td>\n",
       "    </tr>\n",
       "    <tr>\n",
       "      <th>2</th>\n",
       "      <td>1000_2</td>\n",
       "      <td>2018-08-04</td>\n",
       "      <td>1000</td>\n",
       "      <td>8</td>\n",
       "    </tr>\n",
       "    <tr>\n",
       "      <th>3</th>\n",
       "      <td>1000_3</td>\n",
       "      <td>2018-06-16</td>\n",
       "      <td>1000</td>\n",
       "      <td>6</td>\n",
       "    </tr>\n",
       "    <tr>\n",
       "      <th>4</th>\n",
       "      <td>1000_4</td>\n",
       "      <td>2018-12-05</td>\n",
       "      <td>1000</td>\n",
       "      <td>12</td>\n",
       "    </tr>\n",
       "  </tbody>\n",
       "</table>\n",
       "</div>"
      ],
      "text/plain": [
       "       id message_date  user_id  month\n",
       "0  1000_0   2018-06-27     1000      6\n",
       "1  1000_1   2018-10-08     1000     10\n",
       "2  1000_2   2018-08-04     1000      8\n",
       "3  1000_3   2018-06-16     1000      6\n",
       "4  1000_4   2018-12-05     1000     12"
      ]
     },
     "execution_count": 73,
     "metadata": {},
     "output_type": "execute_result"
    }
   ],
   "source": [
    "messages['month'] = pd.DatetimeIndex(messages['message_date']).month\n",
    "messages.head(5)"
   ]
  },
  {
   "cell_type": "markdown",
   "metadata": {},
   "source": [
    "**Шаг 3. Создание сводной таблицы**"
   ]
  },
  {
   "cell_type": "code",
   "execution_count": 74,
   "metadata": {},
   "outputs": [],
   "source": [
    "#Создаем сводную таблицу с группировкой по клиенту и месяцу, значения - сумма потраченного трафика \n",
    "\n",
    "messages_pivot = messages.pivot_table(\n",
    "index=['user_id', 'month'],\n",
    "values='id',\n",
    "aggfunc='count')\n",
    "\n",
    "#Сбрасываем мультииндексы\n",
    "\n",
    "messages_pivot = messages_pivot.reset_index()\n",
    "\n",
    "#Переименовываем столбцы\n",
    "\n",
    "messages_pivot.columns=['user_id', 'month', 'mess_count']"
   ]
  },
  {
   "cell_type": "code",
   "execution_count": 75,
   "metadata": {},
   "outputs": [
    {
     "data": {
      "text/html": [
       "<div>\n",
       "<style scoped>\n",
       "    .dataframe tbody tr th:only-of-type {\n",
       "        vertical-align: middle;\n",
       "    }\n",
       "\n",
       "    .dataframe tbody tr th {\n",
       "        vertical-align: top;\n",
       "    }\n",
       "\n",
       "    .dataframe thead th {\n",
       "        text-align: right;\n",
       "    }\n",
       "</style>\n",
       "<table border=\"1\" class=\"dataframe\">\n",
       "  <thead>\n",
       "    <tr style=\"text-align: right;\">\n",
       "      <th></th>\n",
       "      <th>user_id</th>\n",
       "      <th>month</th>\n",
       "      <th>mess_count</th>\n",
       "    </tr>\n",
       "  </thead>\n",
       "  <tbody>\n",
       "    <tr>\n",
       "      <th>0</th>\n",
       "      <td>1000</td>\n",
       "      <td>5</td>\n",
       "      <td>22</td>\n",
       "    </tr>\n",
       "    <tr>\n",
       "      <th>1</th>\n",
       "      <td>1000</td>\n",
       "      <td>6</td>\n",
       "      <td>60</td>\n",
       "    </tr>\n",
       "    <tr>\n",
       "      <th>2</th>\n",
       "      <td>1000</td>\n",
       "      <td>7</td>\n",
       "      <td>75</td>\n",
       "    </tr>\n",
       "    <tr>\n",
       "      <th>3</th>\n",
       "      <td>1000</td>\n",
       "      <td>8</td>\n",
       "      <td>81</td>\n",
       "    </tr>\n",
       "    <tr>\n",
       "      <th>4</th>\n",
       "      <td>1000</td>\n",
       "      <td>9</td>\n",
       "      <td>57</td>\n",
       "    </tr>\n",
       "  </tbody>\n",
       "</table>\n",
       "</div>"
      ],
      "text/plain": [
       "   user_id  month  mess_count\n",
       "0     1000      5          22\n",
       "1     1000      6          60\n",
       "2     1000      7          75\n",
       "3     1000      8          81\n",
       "4     1000      9          57"
      ]
     },
     "execution_count": 75,
     "metadata": {},
     "output_type": "execute_result"
    }
   ],
   "source": [
    "messages_pivot.head(5)"
   ]
  },
  {
   "cell_type": "code",
   "execution_count": 76,
   "metadata": {},
   "outputs": [],
   "source": [
    "messages_pivot = messages_pivot.merge(users_new, on='user_id',how='left')\n",
    "messages_pivot = messages_pivot[['user_id', 'month', 'mess_count', 'messages_included', 'rub_per_message']]"
   ]
  },
  {
   "cell_type": "code",
   "execution_count": 77,
   "metadata": {},
   "outputs": [
    {
     "data": {
      "text/html": [
       "<div>\n",
       "<style scoped>\n",
       "    .dataframe tbody tr th:only-of-type {\n",
       "        vertical-align: middle;\n",
       "    }\n",
       "\n",
       "    .dataframe tbody tr th {\n",
       "        vertical-align: top;\n",
       "    }\n",
       "\n",
       "    .dataframe thead th {\n",
       "        text-align: right;\n",
       "    }\n",
       "</style>\n",
       "<table border=\"1\" class=\"dataframe\">\n",
       "  <thead>\n",
       "    <tr style=\"text-align: right;\">\n",
       "      <th></th>\n",
       "      <th>user_id</th>\n",
       "      <th>month</th>\n",
       "      <th>mess_count</th>\n",
       "      <th>messages_included</th>\n",
       "      <th>rub_per_message</th>\n",
       "    </tr>\n",
       "  </thead>\n",
       "  <tbody>\n",
       "    <tr>\n",
       "      <th>0</th>\n",
       "      <td>1000</td>\n",
       "      <td>5</td>\n",
       "      <td>22</td>\n",
       "      <td>1000</td>\n",
       "      <td>1</td>\n",
       "    </tr>\n",
       "    <tr>\n",
       "      <th>1</th>\n",
       "      <td>1000</td>\n",
       "      <td>6</td>\n",
       "      <td>60</td>\n",
       "      <td>1000</td>\n",
       "      <td>1</td>\n",
       "    </tr>\n",
       "    <tr>\n",
       "      <th>2</th>\n",
       "      <td>1000</td>\n",
       "      <td>7</td>\n",
       "      <td>75</td>\n",
       "      <td>1000</td>\n",
       "      <td>1</td>\n",
       "    </tr>\n",
       "    <tr>\n",
       "      <th>3</th>\n",
       "      <td>1000</td>\n",
       "      <td>8</td>\n",
       "      <td>81</td>\n",
       "      <td>1000</td>\n",
       "      <td>1</td>\n",
       "    </tr>\n",
       "    <tr>\n",
       "      <th>4</th>\n",
       "      <td>1000</td>\n",
       "      <td>9</td>\n",
       "      <td>57</td>\n",
       "      <td>1000</td>\n",
       "      <td>1</td>\n",
       "    </tr>\n",
       "    <tr>\n",
       "      <th>5</th>\n",
       "      <td>1000</td>\n",
       "      <td>10</td>\n",
       "      <td>73</td>\n",
       "      <td>1000</td>\n",
       "      <td>1</td>\n",
       "    </tr>\n",
       "    <tr>\n",
       "      <th>6</th>\n",
       "      <td>1000</td>\n",
       "      <td>11</td>\n",
       "      <td>58</td>\n",
       "      <td>1000</td>\n",
       "      <td>1</td>\n",
       "    </tr>\n",
       "    <tr>\n",
       "      <th>7</th>\n",
       "      <td>1000</td>\n",
       "      <td>12</td>\n",
       "      <td>70</td>\n",
       "      <td>1000</td>\n",
       "      <td>1</td>\n",
       "    </tr>\n",
       "    <tr>\n",
       "      <th>8</th>\n",
       "      <td>1002</td>\n",
       "      <td>6</td>\n",
       "      <td>4</td>\n",
       "      <td>50</td>\n",
       "      <td>3</td>\n",
       "    </tr>\n",
       "    <tr>\n",
       "      <th>9</th>\n",
       "      <td>1002</td>\n",
       "      <td>7</td>\n",
       "      <td>11</td>\n",
       "      <td>50</td>\n",
       "      <td>3</td>\n",
       "    </tr>\n",
       "  </tbody>\n",
       "</table>\n",
       "</div>"
      ],
      "text/plain": [
       "   user_id  month  mess_count  messages_included  rub_per_message\n",
       "0     1000      5          22               1000                1\n",
       "1     1000      6          60               1000                1\n",
       "2     1000      7          75               1000                1\n",
       "3     1000      8          81               1000                1\n",
       "4     1000      9          57               1000                1\n",
       "5     1000     10          73               1000                1\n",
       "6     1000     11          58               1000                1\n",
       "7     1000     12          70               1000                1\n",
       "8     1002      6           4                 50                3\n",
       "9     1002      7          11                 50                3"
      ]
     },
     "execution_count": 77,
     "metadata": {},
     "output_type": "execute_result"
    }
   ],
   "source": [
    "messages_pivot.head(10)"
   ]
  },
  {
   "cell_type": "code",
   "execution_count": 78,
   "metadata": {},
   "outputs": [],
   "source": [
    "def messages_revenue(row):\n",
    "    mess_count = row['mess_count']\n",
    "    mess_limit = row['messages_included']\n",
    "    payment = row['rub_per_message']\n",
    "    \n",
    "    if (mess_limit - mess_count) >= 0:\n",
    "        return 0\n",
    "    else:\n",
    "        return ((mess_count - mess_limit) * payment)\n",
    "\n",
    "messages_pivot['messages_revenue'] = messages_pivot.apply(messages_revenue, axis=1)"
   ]
  },
  {
   "cell_type": "code",
   "execution_count": 79,
   "metadata": {},
   "outputs": [
    {
     "data": {
      "text/html": [
       "<div>\n",
       "<style scoped>\n",
       "    .dataframe tbody tr th:only-of-type {\n",
       "        vertical-align: middle;\n",
       "    }\n",
       "\n",
       "    .dataframe tbody tr th {\n",
       "        vertical-align: top;\n",
       "    }\n",
       "\n",
       "    .dataframe thead th {\n",
       "        text-align: right;\n",
       "    }\n",
       "</style>\n",
       "<table border=\"1\" class=\"dataframe\">\n",
       "  <thead>\n",
       "    <tr style=\"text-align: right;\">\n",
       "      <th></th>\n",
       "      <th>user_id</th>\n",
       "      <th>month</th>\n",
       "      <th>mess_count</th>\n",
       "      <th>messages_included</th>\n",
       "      <th>rub_per_message</th>\n",
       "      <th>messages_revenue</th>\n",
       "    </tr>\n",
       "  </thead>\n",
       "  <tbody>\n",
       "    <tr>\n",
       "      <th>0</th>\n",
       "      <td>1000</td>\n",
       "      <td>5</td>\n",
       "      <td>22</td>\n",
       "      <td>1000</td>\n",
       "      <td>1</td>\n",
       "      <td>0</td>\n",
       "    </tr>\n",
       "    <tr>\n",
       "      <th>1</th>\n",
       "      <td>1000</td>\n",
       "      <td>6</td>\n",
       "      <td>60</td>\n",
       "      <td>1000</td>\n",
       "      <td>1</td>\n",
       "      <td>0</td>\n",
       "    </tr>\n",
       "    <tr>\n",
       "      <th>2</th>\n",
       "      <td>1000</td>\n",
       "      <td>7</td>\n",
       "      <td>75</td>\n",
       "      <td>1000</td>\n",
       "      <td>1</td>\n",
       "      <td>0</td>\n",
       "    </tr>\n",
       "    <tr>\n",
       "      <th>3</th>\n",
       "      <td>1000</td>\n",
       "      <td>8</td>\n",
       "      <td>81</td>\n",
       "      <td>1000</td>\n",
       "      <td>1</td>\n",
       "      <td>0</td>\n",
       "    </tr>\n",
       "    <tr>\n",
       "      <th>4</th>\n",
       "      <td>1000</td>\n",
       "      <td>9</td>\n",
       "      <td>57</td>\n",
       "      <td>1000</td>\n",
       "      <td>1</td>\n",
       "      <td>0</td>\n",
       "    </tr>\n",
       "    <tr>\n",
       "      <th>5</th>\n",
       "      <td>1000</td>\n",
       "      <td>10</td>\n",
       "      <td>73</td>\n",
       "      <td>1000</td>\n",
       "      <td>1</td>\n",
       "      <td>0</td>\n",
       "    </tr>\n",
       "    <tr>\n",
       "      <th>6</th>\n",
       "      <td>1000</td>\n",
       "      <td>11</td>\n",
       "      <td>58</td>\n",
       "      <td>1000</td>\n",
       "      <td>1</td>\n",
       "      <td>0</td>\n",
       "    </tr>\n",
       "    <tr>\n",
       "      <th>7</th>\n",
       "      <td>1000</td>\n",
       "      <td>12</td>\n",
       "      <td>70</td>\n",
       "      <td>1000</td>\n",
       "      <td>1</td>\n",
       "      <td>0</td>\n",
       "    </tr>\n",
       "    <tr>\n",
       "      <th>8</th>\n",
       "      <td>1002</td>\n",
       "      <td>6</td>\n",
       "      <td>4</td>\n",
       "      <td>50</td>\n",
       "      <td>3</td>\n",
       "      <td>0</td>\n",
       "    </tr>\n",
       "    <tr>\n",
       "      <th>9</th>\n",
       "      <td>1002</td>\n",
       "      <td>7</td>\n",
       "      <td>11</td>\n",
       "      <td>50</td>\n",
       "      <td>3</td>\n",
       "      <td>0</td>\n",
       "    </tr>\n",
       "  </tbody>\n",
       "</table>\n",
       "</div>"
      ],
      "text/plain": [
       "   user_id  month  mess_count  messages_included  rub_per_message  \\\n",
       "0     1000      5          22               1000                1   \n",
       "1     1000      6          60               1000                1   \n",
       "2     1000      7          75               1000                1   \n",
       "3     1000      8          81               1000                1   \n",
       "4     1000      9          57               1000                1   \n",
       "5     1000     10          73               1000                1   \n",
       "6     1000     11          58               1000                1   \n",
       "7     1000     12          70               1000                1   \n",
       "8     1002      6           4                 50                3   \n",
       "9     1002      7          11                 50                3   \n",
       "\n",
       "   messages_revenue  \n",
       "0                 0  \n",
       "1                 0  \n",
       "2                 0  \n",
       "3                 0  \n",
       "4                 0  \n",
       "5                 0  \n",
       "6                 0  \n",
       "7                 0  \n",
       "8                 0  \n",
       "9                 0  "
      ]
     },
     "execution_count": 79,
     "metadata": {},
     "output_type": "execute_result"
    }
   ],
   "source": [
    "messages_pivot.head(10)"
   ]
  },
  {
   "cell_type": "code",
   "execution_count": 80,
   "metadata": {},
   "outputs": [
    {
     "data": {
      "text/html": [
       "<div>\n",
       "<style scoped>\n",
       "    .dataframe tbody tr th:only-of-type {\n",
       "        vertical-align: middle;\n",
       "    }\n",
       "\n",
       "    .dataframe tbody tr th {\n",
       "        vertical-align: top;\n",
       "    }\n",
       "\n",
       "    .dataframe thead th {\n",
       "        text-align: right;\n",
       "    }\n",
       "</style>\n",
       "<table border=\"1\" class=\"dataframe\">\n",
       "  <thead>\n",
       "    <tr style=\"text-align: right;\">\n",
       "      <th></th>\n",
       "      <th>user_id</th>\n",
       "      <th>month</th>\n",
       "      <th>mess_count</th>\n",
       "      <th>messages_included</th>\n",
       "      <th>rub_per_message</th>\n",
       "      <th>messages_revenue</th>\n",
       "    </tr>\n",
       "  </thead>\n",
       "  <tbody>\n",
       "    <tr>\n",
       "      <th>30</th>\n",
       "      <td>1005</td>\n",
       "      <td>3</td>\n",
       "      <td>56</td>\n",
       "      <td>50</td>\n",
       "      <td>3</td>\n",
       "      <td>18</td>\n",
       "    </tr>\n",
       "    <tr>\n",
       "      <th>34</th>\n",
       "      <td>1005</td>\n",
       "      <td>7</td>\n",
       "      <td>56</td>\n",
       "      <td>50</td>\n",
       "      <td>3</td>\n",
       "      <td>18</td>\n",
       "    </tr>\n",
       "    <tr>\n",
       "      <th>35</th>\n",
       "      <td>1005</td>\n",
       "      <td>8</td>\n",
       "      <td>64</td>\n",
       "      <td>50</td>\n",
       "      <td>3</td>\n",
       "      <td>42</td>\n",
       "    </tr>\n",
       "    <tr>\n",
       "      <th>36</th>\n",
       "      <td>1005</td>\n",
       "      <td>9</td>\n",
       "      <td>52</td>\n",
       "      <td>50</td>\n",
       "      <td>3</td>\n",
       "      <td>6</td>\n",
       "    </tr>\n",
       "    <tr>\n",
       "      <th>38</th>\n",
       "      <td>1005</td>\n",
       "      <td>11</td>\n",
       "      <td>51</td>\n",
       "      <td>50</td>\n",
       "      <td>3</td>\n",
       "      <td>3</td>\n",
       "    </tr>\n",
       "    <tr>\n",
       "      <th>...</th>\n",
       "      <td>...</td>\n",
       "      <td>...</td>\n",
       "      <td>...</td>\n",
       "      <td>...</td>\n",
       "      <td>...</td>\n",
       "      <td>...</td>\n",
       "    </tr>\n",
       "    <tr>\n",
       "      <th>2665</th>\n",
       "      <td>1490</td>\n",
       "      <td>7</td>\n",
       "      <td>62</td>\n",
       "      <td>50</td>\n",
       "      <td>3</td>\n",
       "      <td>36</td>\n",
       "    </tr>\n",
       "    <tr>\n",
       "      <th>2705</th>\n",
       "      <td>1496</td>\n",
       "      <td>12</td>\n",
       "      <td>51</td>\n",
       "      <td>50</td>\n",
       "      <td>3</td>\n",
       "      <td>3</td>\n",
       "    </tr>\n",
       "    <tr>\n",
       "      <th>2710</th>\n",
       "      <td>1498</td>\n",
       "      <td>8</td>\n",
       "      <td>62</td>\n",
       "      <td>50</td>\n",
       "      <td>3</td>\n",
       "      <td>36</td>\n",
       "    </tr>\n",
       "    <tr>\n",
       "      <th>2715</th>\n",
       "      <td>1499</td>\n",
       "      <td>11</td>\n",
       "      <td>59</td>\n",
       "      <td>50</td>\n",
       "      <td>3</td>\n",
       "      <td>27</td>\n",
       "    </tr>\n",
       "    <tr>\n",
       "      <th>2716</th>\n",
       "      <td>1499</td>\n",
       "      <td>12</td>\n",
       "      <td>66</td>\n",
       "      <td>50</td>\n",
       "      <td>3</td>\n",
       "      <td>48</td>\n",
       "    </tr>\n",
       "  </tbody>\n",
       "</table>\n",
       "<p>564 rows × 6 columns</p>\n",
       "</div>"
      ],
      "text/plain": [
       "      user_id  month  mess_count  messages_included  rub_per_message  \\\n",
       "30       1005      3          56                 50                3   \n",
       "34       1005      7          56                 50                3   \n",
       "35       1005      8          64                 50                3   \n",
       "36       1005      9          52                 50                3   \n",
       "38       1005     11          51                 50                3   \n",
       "...       ...    ...         ...                ...              ...   \n",
       "2665     1490      7          62                 50                3   \n",
       "2705     1496     12          51                 50                3   \n",
       "2710     1498      8          62                 50                3   \n",
       "2715     1499     11          59                 50                3   \n",
       "2716     1499     12          66                 50                3   \n",
       "\n",
       "      messages_revenue  \n",
       "30                  18  \n",
       "34                  18  \n",
       "35                  42  \n",
       "36                   6  \n",
       "38                   3  \n",
       "...                ...  \n",
       "2665                36  \n",
       "2705                 3  \n",
       "2710                36  \n",
       "2715                27  \n",
       "2716                48  \n",
       "\n",
       "[564 rows x 6 columns]"
      ]
     },
     "execution_count": 80,
     "metadata": {},
     "output_type": "execute_result"
    }
   ],
   "source": [
    "#Проверяем корректность расчетов\n",
    "\n",
    "messages_pivot.query('messages_revenue > 0')"
   ]
  },
  {
   "cell_type": "code",
   "execution_count": 81,
   "metadata": {},
   "outputs": [
    {
     "data": {
      "text/html": [
       "<div>\n",
       "<style scoped>\n",
       "    .dataframe tbody tr th:only-of-type {\n",
       "        vertical-align: middle;\n",
       "    }\n",
       "\n",
       "    .dataframe tbody tr th {\n",
       "        vertical-align: top;\n",
       "    }\n",
       "\n",
       "    .dataframe thead th {\n",
       "        text-align: right;\n",
       "    }\n",
       "</style>\n",
       "<table border=\"1\" class=\"dataframe\">\n",
       "  <thead>\n",
       "    <tr style=\"text-align: right;\">\n",
       "      <th></th>\n",
       "      <th>user_id</th>\n",
       "      <th>month</th>\n",
       "      <th>mess_count</th>\n",
       "      <th>messages_revenue</th>\n",
       "    </tr>\n",
       "  </thead>\n",
       "  <tbody>\n",
       "    <tr>\n",
       "      <th>0</th>\n",
       "      <td>1000</td>\n",
       "      <td>5</td>\n",
       "      <td>22</td>\n",
       "      <td>0</td>\n",
       "    </tr>\n",
       "    <tr>\n",
       "      <th>1</th>\n",
       "      <td>1000</td>\n",
       "      <td>6</td>\n",
       "      <td>60</td>\n",
       "      <td>0</td>\n",
       "    </tr>\n",
       "    <tr>\n",
       "      <th>2</th>\n",
       "      <td>1000</td>\n",
       "      <td>7</td>\n",
       "      <td>75</td>\n",
       "      <td>0</td>\n",
       "    </tr>\n",
       "    <tr>\n",
       "      <th>3</th>\n",
       "      <td>1000</td>\n",
       "      <td>8</td>\n",
       "      <td>81</td>\n",
       "      <td>0</td>\n",
       "    </tr>\n",
       "    <tr>\n",
       "      <th>4</th>\n",
       "      <td>1000</td>\n",
       "      <td>9</td>\n",
       "      <td>57</td>\n",
       "      <td>0</td>\n",
       "    </tr>\n",
       "  </tbody>\n",
       "</table>\n",
       "</div>"
      ],
      "text/plain": [
       "   user_id  month  mess_count  messages_revenue\n",
       "0     1000      5          22                 0\n",
       "1     1000      6          60                 0\n",
       "2     1000      7          75                 0\n",
       "3     1000      8          81                 0\n",
       "4     1000      9          57                 0"
      ]
     },
     "execution_count": 81,
     "metadata": {},
     "output_type": "execute_result"
    }
   ],
   "source": [
    "#Удаляем лишнюю для дальнейшего анализа информацию\n",
    "\n",
    "messages_pivot = messages_pivot.drop(['messages_included', 'rub_per_message'],axis=1)\n",
    "messages_pivot.head(5)"
   ]
  },
  {
   "cell_type": "markdown",
   "metadata": {},
   "source": [
    "### Финальная таблица"
   ]
  },
  {
   "cell_type": "markdown",
   "metadata": {},
   "source": [
    "Итак, для финальной таблицы нам потребуются следующие датасеты:\n",
    "- users_short - id клиента, его тариф, класс локации и абоненская плата в месяц;\n",
    "- calls_pivot - id клиента, месяц, кол-во звонков, их длительность, выручка от превышения тарифа за звонки;\n",
    "- internet_pivot - id клиента, месяц, потрачено МБ, выручка от превышения тарифа за интернет;\n",
    "- messages_pivot - id клиента, месяц, отправлено СМС, выручка от превышения тарифа за СМС.\n",
    "\n",
    "Соединим их в один сводный"
   ]
  },
  {
   "cell_type": "markdown",
   "metadata": {},
   "source": [
    "#### Создание финальной сводной таблицы"
   ]
  },
  {
   "cell_type": "code",
   "execution_count": 82,
   "metadata": {},
   "outputs": [],
   "source": [
    "final_table = calls_pivot.merge(internet_pivot,how='outer', left_on=['user_id','month'], right_on = ['user_id','month'])\n",
    "final_table = final_table.merge(messages_pivot,how='outer', left_on=['user_id','month'], right_on = ['user_id','month'])\n",
    "final_table = final_table.merge(users_short,how='left', on='user_id')"
   ]
  },
  {
   "cell_type": "code",
   "execution_count": 83,
   "metadata": {},
   "outputs": [
    {
     "data": {
      "text/html": [
       "<div>\n",
       "<style scoped>\n",
       "    .dataframe tbody tr th:only-of-type {\n",
       "        vertical-align: middle;\n",
       "    }\n",
       "\n",
       "    .dataframe tbody tr th {\n",
       "        vertical-align: top;\n",
       "    }\n",
       "\n",
       "    .dataframe thead th {\n",
       "        text-align: right;\n",
       "    }\n",
       "</style>\n",
       "<table border=\"1\" class=\"dataframe\">\n",
       "  <thead>\n",
       "    <tr style=\"text-align: right;\">\n",
       "      <th></th>\n",
       "      <th>user_id</th>\n",
       "      <th>month</th>\n",
       "      <th>calls_count</th>\n",
       "      <th>calls_duration</th>\n",
       "      <th>calls_revenue</th>\n",
       "      <th>mb_used</th>\n",
       "      <th>internet_revenue</th>\n",
       "      <th>mess_count</th>\n",
       "      <th>messages_revenue</th>\n",
       "      <th>location</th>\n",
       "      <th>tariff</th>\n",
       "      <th>rub_monthly_fee</th>\n",
       "    </tr>\n",
       "  </thead>\n",
       "  <tbody>\n",
       "    <tr>\n",
       "      <th>0</th>\n",
       "      <td>1000</td>\n",
       "      <td>5</td>\n",
       "      <td>22.0</td>\n",
       "      <td>159.0</td>\n",
       "      <td>0.0</td>\n",
       "      <td>2254.0</td>\n",
       "      <td>0.0</td>\n",
       "      <td>22.0</td>\n",
       "      <td>0.0</td>\n",
       "      <td>0</td>\n",
       "      <td>ultra</td>\n",
       "      <td>1950</td>\n",
       "    </tr>\n",
       "    <tr>\n",
       "      <th>1</th>\n",
       "      <td>1000</td>\n",
       "      <td>6</td>\n",
       "      <td>43.0</td>\n",
       "      <td>172.0</td>\n",
       "      <td>0.0</td>\n",
       "      <td>23234.0</td>\n",
       "      <td>0.0</td>\n",
       "      <td>60.0</td>\n",
       "      <td>0.0</td>\n",
       "      <td>0</td>\n",
       "      <td>ultra</td>\n",
       "      <td>1950</td>\n",
       "    </tr>\n",
       "    <tr>\n",
       "      <th>2</th>\n",
       "      <td>1000</td>\n",
       "      <td>7</td>\n",
       "      <td>47.0</td>\n",
       "      <td>340.0</td>\n",
       "      <td>0.0</td>\n",
       "      <td>14004.0</td>\n",
       "      <td>0.0</td>\n",
       "      <td>75.0</td>\n",
       "      <td>0.0</td>\n",
       "      <td>0</td>\n",
       "      <td>ultra</td>\n",
       "      <td>1950</td>\n",
       "    </tr>\n",
       "    <tr>\n",
       "      <th>3</th>\n",
       "      <td>1000</td>\n",
       "      <td>8</td>\n",
       "      <td>52.0</td>\n",
       "      <td>408.0</td>\n",
       "      <td>0.0</td>\n",
       "      <td>14056.0</td>\n",
       "      <td>0.0</td>\n",
       "      <td>81.0</td>\n",
       "      <td>0.0</td>\n",
       "      <td>0</td>\n",
       "      <td>ultra</td>\n",
       "      <td>1950</td>\n",
       "    </tr>\n",
       "    <tr>\n",
       "      <th>4</th>\n",
       "      <td>1000</td>\n",
       "      <td>9</td>\n",
       "      <td>58.0</td>\n",
       "      <td>466.0</td>\n",
       "      <td>0.0</td>\n",
       "      <td>14569.0</td>\n",
       "      <td>0.0</td>\n",
       "      <td>57.0</td>\n",
       "      <td>0.0</td>\n",
       "      <td>0</td>\n",
       "      <td>ultra</td>\n",
       "      <td>1950</td>\n",
       "    </tr>\n",
       "    <tr>\n",
       "      <th>5</th>\n",
       "      <td>1000</td>\n",
       "      <td>10</td>\n",
       "      <td>57.0</td>\n",
       "      <td>350.0</td>\n",
       "      <td>0.0</td>\n",
       "      <td>14703.0</td>\n",
       "      <td>0.0</td>\n",
       "      <td>73.0</td>\n",
       "      <td>0.0</td>\n",
       "      <td>0</td>\n",
       "      <td>ultra</td>\n",
       "      <td>1950</td>\n",
       "    </tr>\n",
       "    <tr>\n",
       "      <th>6</th>\n",
       "      <td>1000</td>\n",
       "      <td>11</td>\n",
       "      <td>43.0</td>\n",
       "      <td>338.0</td>\n",
       "      <td>0.0</td>\n",
       "      <td>14757.0</td>\n",
       "      <td>0.0</td>\n",
       "      <td>58.0</td>\n",
       "      <td>0.0</td>\n",
       "      <td>0</td>\n",
       "      <td>ultra</td>\n",
       "      <td>1950</td>\n",
       "    </tr>\n",
       "    <tr>\n",
       "      <th>7</th>\n",
       "      <td>1000</td>\n",
       "      <td>12</td>\n",
       "      <td>46.0</td>\n",
       "      <td>333.0</td>\n",
       "      <td>0.0</td>\n",
       "      <td>9818.0</td>\n",
       "      <td>0.0</td>\n",
       "      <td>70.0</td>\n",
       "      <td>0.0</td>\n",
       "      <td>0</td>\n",
       "      <td>ultra</td>\n",
       "      <td>1950</td>\n",
       "    </tr>\n",
       "    <tr>\n",
       "      <th>8</th>\n",
       "      <td>1001</td>\n",
       "      <td>11</td>\n",
       "      <td>59.0</td>\n",
       "      <td>430.0</td>\n",
       "      <td>0.0</td>\n",
       "      <td>18430.0</td>\n",
       "      <td>600.0</td>\n",
       "      <td>NaN</td>\n",
       "      <td>NaN</td>\n",
       "      <td>1</td>\n",
       "      <td>smart</td>\n",
       "      <td>550</td>\n",
       "    </tr>\n",
       "    <tr>\n",
       "      <th>9</th>\n",
       "      <td>1001</td>\n",
       "      <td>12</td>\n",
       "      <td>63.0</td>\n",
       "      <td>414.0</td>\n",
       "      <td>0.0</td>\n",
       "      <td>14037.0</td>\n",
       "      <td>0.0</td>\n",
       "      <td>NaN</td>\n",
       "      <td>NaN</td>\n",
       "      <td>1</td>\n",
       "      <td>smart</td>\n",
       "      <td>550</td>\n",
       "    </tr>\n",
       "  </tbody>\n",
       "</table>\n",
       "</div>"
      ],
      "text/plain": [
       "   user_id  month  calls_count  calls_duration  calls_revenue  mb_used  \\\n",
       "0     1000      5         22.0           159.0            0.0   2254.0   \n",
       "1     1000      6         43.0           172.0            0.0  23234.0   \n",
       "2     1000      7         47.0           340.0            0.0  14004.0   \n",
       "3     1000      8         52.0           408.0            0.0  14056.0   \n",
       "4     1000      9         58.0           466.0            0.0  14569.0   \n",
       "5     1000     10         57.0           350.0            0.0  14703.0   \n",
       "6     1000     11         43.0           338.0            0.0  14757.0   \n",
       "7     1000     12         46.0           333.0            0.0   9818.0   \n",
       "8     1001     11         59.0           430.0            0.0  18430.0   \n",
       "9     1001     12         63.0           414.0            0.0  14037.0   \n",
       "\n",
       "   internet_revenue  mess_count  messages_revenue  location tariff  \\\n",
       "0               0.0        22.0               0.0         0  ultra   \n",
       "1               0.0        60.0               0.0         0  ultra   \n",
       "2               0.0        75.0               0.0         0  ultra   \n",
       "3               0.0        81.0               0.0         0  ultra   \n",
       "4               0.0        57.0               0.0         0  ultra   \n",
       "5               0.0        73.0               0.0         0  ultra   \n",
       "6               0.0        58.0               0.0         0  ultra   \n",
       "7               0.0        70.0               0.0         0  ultra   \n",
       "8             600.0         NaN               NaN         1  smart   \n",
       "9               0.0         NaN               NaN         1  smart   \n",
       "\n",
       "   rub_monthly_fee  \n",
       "0             1950  \n",
       "1             1950  \n",
       "2             1950  \n",
       "3             1950  \n",
       "4             1950  \n",
       "5             1950  \n",
       "6             1950  \n",
       "7             1950  \n",
       "8              550  \n",
       "9              550  "
      ]
     },
     "execution_count": 83,
     "metadata": {},
     "output_type": "execute_result"
    }
   ],
   "source": [
    "final_table.head(10)"
   ]
  },
  {
   "cell_type": "code",
   "execution_count": 84,
   "metadata": {},
   "outputs": [
    {
     "data": {
      "text/html": [
       "<div>\n",
       "<style scoped>\n",
       "    .dataframe tbody tr th:only-of-type {\n",
       "        vertical-align: middle;\n",
       "    }\n",
       "\n",
       "    .dataframe tbody tr th {\n",
       "        vertical-align: top;\n",
       "    }\n",
       "\n",
       "    .dataframe thead th {\n",
       "        text-align: right;\n",
       "    }\n",
       "</style>\n",
       "<table border=\"1\" class=\"dataframe\">\n",
       "  <thead>\n",
       "    <tr style=\"text-align: right;\">\n",
       "      <th></th>\n",
       "      <th>user_id</th>\n",
       "      <th>location</th>\n",
       "      <th>tariff</th>\n",
       "      <th>month</th>\n",
       "      <th>calls_count</th>\n",
       "      <th>calls_duration</th>\n",
       "      <th>mb_used</th>\n",
       "      <th>mess_count</th>\n",
       "      <th>rub_monthly_fee</th>\n",
       "      <th>calls_revenue</th>\n",
       "      <th>internet_revenue</th>\n",
       "      <th>messages_revenue</th>\n",
       "    </tr>\n",
       "  </thead>\n",
       "  <tbody>\n",
       "    <tr>\n",
       "      <th>0</th>\n",
       "      <td>1000</td>\n",
       "      <td>0</td>\n",
       "      <td>ultra</td>\n",
       "      <td>5</td>\n",
       "      <td>22</td>\n",
       "      <td>159</td>\n",
       "      <td>2254</td>\n",
       "      <td>22</td>\n",
       "      <td>1950</td>\n",
       "      <td>0</td>\n",
       "      <td>0</td>\n",
       "      <td>0</td>\n",
       "    </tr>\n",
       "    <tr>\n",
       "      <th>1</th>\n",
       "      <td>1000</td>\n",
       "      <td>0</td>\n",
       "      <td>ultra</td>\n",
       "      <td>6</td>\n",
       "      <td>43</td>\n",
       "      <td>172</td>\n",
       "      <td>23234</td>\n",
       "      <td>60</td>\n",
       "      <td>1950</td>\n",
       "      <td>0</td>\n",
       "      <td>0</td>\n",
       "      <td>0</td>\n",
       "    </tr>\n",
       "    <tr>\n",
       "      <th>2</th>\n",
       "      <td>1000</td>\n",
       "      <td>0</td>\n",
       "      <td>ultra</td>\n",
       "      <td>7</td>\n",
       "      <td>47</td>\n",
       "      <td>340</td>\n",
       "      <td>14004</td>\n",
       "      <td>75</td>\n",
       "      <td>1950</td>\n",
       "      <td>0</td>\n",
       "      <td>0</td>\n",
       "      <td>0</td>\n",
       "    </tr>\n",
       "    <tr>\n",
       "      <th>3</th>\n",
       "      <td>1000</td>\n",
       "      <td>0</td>\n",
       "      <td>ultra</td>\n",
       "      <td>8</td>\n",
       "      <td>52</td>\n",
       "      <td>408</td>\n",
       "      <td>14056</td>\n",
       "      <td>81</td>\n",
       "      <td>1950</td>\n",
       "      <td>0</td>\n",
       "      <td>0</td>\n",
       "      <td>0</td>\n",
       "    </tr>\n",
       "    <tr>\n",
       "      <th>4</th>\n",
       "      <td>1000</td>\n",
       "      <td>0</td>\n",
       "      <td>ultra</td>\n",
       "      <td>9</td>\n",
       "      <td>58</td>\n",
       "      <td>466</td>\n",
       "      <td>14569</td>\n",
       "      <td>57</td>\n",
       "      <td>1950</td>\n",
       "      <td>0</td>\n",
       "      <td>0</td>\n",
       "      <td>0</td>\n",
       "    </tr>\n",
       "    <tr>\n",
       "      <th>...</th>\n",
       "      <td>...</td>\n",
       "      <td>...</td>\n",
       "      <td>...</td>\n",
       "      <td>...</td>\n",
       "      <td>...</td>\n",
       "      <td>...</td>\n",
       "      <td>...</td>\n",
       "      <td>...</td>\n",
       "      <td>...</td>\n",
       "      <td>...</td>\n",
       "      <td>...</td>\n",
       "      <td>...</td>\n",
       "    </tr>\n",
       "    <tr>\n",
       "      <th>3209</th>\n",
       "      <td>1489</td>\n",
       "      <td>0</td>\n",
       "      <td>smart</td>\n",
       "      <td>8</td>\n",
       "      <td>0</td>\n",
       "      <td>0</td>\n",
       "      <td>11051</td>\n",
       "      <td>17</td>\n",
       "      <td>550</td>\n",
       "      <td>0</td>\n",
       "      <td>0</td>\n",
       "      <td>0</td>\n",
       "    </tr>\n",
       "    <tr>\n",
       "      <th>3210</th>\n",
       "      <td>1489</td>\n",
       "      <td>0</td>\n",
       "      <td>smart</td>\n",
       "      <td>9</td>\n",
       "      <td>0</td>\n",
       "      <td>0</td>\n",
       "      <td>17207</td>\n",
       "      <td>32</td>\n",
       "      <td>550</td>\n",
       "      <td>0</td>\n",
       "      <td>400</td>\n",
       "      <td>0</td>\n",
       "    </tr>\n",
       "    <tr>\n",
       "      <th>3211</th>\n",
       "      <td>1489</td>\n",
       "      <td>0</td>\n",
       "      <td>smart</td>\n",
       "      <td>10</td>\n",
       "      <td>0</td>\n",
       "      <td>0</td>\n",
       "      <td>19560</td>\n",
       "      <td>21</td>\n",
       "      <td>550</td>\n",
       "      <td>0</td>\n",
       "      <td>1000</td>\n",
       "      <td>0</td>\n",
       "    </tr>\n",
       "    <tr>\n",
       "      <th>3212</th>\n",
       "      <td>1489</td>\n",
       "      <td>0</td>\n",
       "      <td>smart</td>\n",
       "      <td>11</td>\n",
       "      <td>0</td>\n",
       "      <td>0</td>\n",
       "      <td>17492</td>\n",
       "      <td>20</td>\n",
       "      <td>550</td>\n",
       "      <td>0</td>\n",
       "      <td>600</td>\n",
       "      <td>0</td>\n",
       "    </tr>\n",
       "    <tr>\n",
       "      <th>3213</th>\n",
       "      <td>1489</td>\n",
       "      <td>0</td>\n",
       "      <td>smart</td>\n",
       "      <td>12</td>\n",
       "      <td>0</td>\n",
       "      <td>0</td>\n",
       "      <td>17323</td>\n",
       "      <td>35</td>\n",
       "      <td>550</td>\n",
       "      <td>0</td>\n",
       "      <td>400</td>\n",
       "      <td>0</td>\n",
       "    </tr>\n",
       "  </tbody>\n",
       "</table>\n",
       "<p>3214 rows × 12 columns</p>\n",
       "</div>"
      ],
      "text/plain": [
       "      user_id  location tariff  month  calls_count  calls_duration  mb_used  \\\n",
       "0        1000         0  ultra      5           22             159     2254   \n",
       "1        1000         0  ultra      6           43             172    23234   \n",
       "2        1000         0  ultra      7           47             340    14004   \n",
       "3        1000         0  ultra      8           52             408    14056   \n",
       "4        1000         0  ultra      9           58             466    14569   \n",
       "...       ...       ...    ...    ...          ...             ...      ...   \n",
       "3209     1489         0  smart      8            0               0    11051   \n",
       "3210     1489         0  smart      9            0               0    17207   \n",
       "3211     1489         0  smart     10            0               0    19560   \n",
       "3212     1489         0  smart     11            0               0    17492   \n",
       "3213     1489         0  smart     12            0               0    17323   \n",
       "\n",
       "      mess_count  rub_monthly_fee  calls_revenue  internet_revenue  \\\n",
       "0             22             1950              0                 0   \n",
       "1             60             1950              0                 0   \n",
       "2             75             1950              0                 0   \n",
       "3             81             1950              0                 0   \n",
       "4             57             1950              0                 0   \n",
       "...          ...              ...            ...               ...   \n",
       "3209          17              550              0                 0   \n",
       "3210          32              550              0               400   \n",
       "3211          21              550              0              1000   \n",
       "3212          20              550              0               600   \n",
       "3213          35              550              0               400   \n",
       "\n",
       "      messages_revenue  \n",
       "0                    0  \n",
       "1                    0  \n",
       "2                    0  \n",
       "3                    0  \n",
       "4                    0  \n",
       "...                ...  \n",
       "3209                 0  \n",
       "3210                 0  \n",
       "3211                 0  \n",
       "3212                 0  \n",
       "3213                 0  \n",
       "\n",
       "[3214 rows x 12 columns]"
      ]
     },
     "execution_count": 84,
     "metadata": {},
     "output_type": "execute_result"
    }
   ],
   "source": [
    "#Наводим порядок\n",
    "\n",
    "final_table = final_table[['user_id', 'location', 'tariff', 'month', 'calls_count', 'calls_duration', 'mb_used', 'mess_count', 'rub_monthly_fee', 'calls_revenue', 'internet_revenue', 'messages_revenue']]\n",
    "final_table = final_table.fillna(0)\n",
    "final_table['calls_count'] = final_table['calls_count'].astype('int')\n",
    "final_table['calls_duration'] = final_table['calls_duration'].astype('int')\n",
    "final_table['mb_used'] = final_table['mb_used'].astype('int')\n",
    "final_table['mess_count'] = final_table['mess_count'].astype('int')\n",
    "final_table['calls_revenue'] = final_table['calls_revenue'].astype('int')\n",
    "final_table['internet_revenue'] = final_table['internet_revenue'].astype('int')\n",
    "final_table['messages_revenue'] = final_table['messages_revenue'].astype('int')\n",
    "final_table"
   ]
  },
  {
   "cell_type": "markdown",
   "metadata": {},
   "source": [
    "**Пояснение**\n",
    "\n",
    "Небольшое пояснение по заполнению пропусков 0. В данный датасет попали только активные клиенты хоть по 1 виду услуги, при этом по другой услуге у них отсутствуют данные (например звонки), что говорит о том, что клиент не пользовался звонками в этом месяце. \n",
    "Учитывать это в дальнейшем анализе стоит, а без заполнения 0 функции из статистических библиотек не произведут расчеты."
   ]
  },
  {
   "cell_type": "markdown",
   "metadata": {},
   "source": [
    "#### Расчет выручки по клиенту за месяц"
   ]
  },
  {
   "cell_type": "code",
   "execution_count": 85,
   "metadata": {},
   "outputs": [
    {
     "data": {
      "text/html": [
       "<div>\n",
       "<style scoped>\n",
       "    .dataframe tbody tr th:only-of-type {\n",
       "        vertical-align: middle;\n",
       "    }\n",
       "\n",
       "    .dataframe tbody tr th {\n",
       "        vertical-align: top;\n",
       "    }\n",
       "\n",
       "    .dataframe thead th {\n",
       "        text-align: right;\n",
       "    }\n",
       "</style>\n",
       "<table border=\"1\" class=\"dataframe\">\n",
       "  <thead>\n",
       "    <tr style=\"text-align: right;\">\n",
       "      <th></th>\n",
       "      <th>user_id</th>\n",
       "      <th>location</th>\n",
       "      <th>tariff</th>\n",
       "      <th>month</th>\n",
       "      <th>calls_count</th>\n",
       "      <th>calls_duration</th>\n",
       "      <th>mb_used</th>\n",
       "      <th>mess_count</th>\n",
       "      <th>rub_monthly_fee</th>\n",
       "      <th>calls_revenue</th>\n",
       "      <th>internet_revenue</th>\n",
       "      <th>messages_revenue</th>\n",
       "      <th>month_revenue</th>\n",
       "    </tr>\n",
       "  </thead>\n",
       "  <tbody>\n",
       "    <tr>\n",
       "      <th>0</th>\n",
       "      <td>1000</td>\n",
       "      <td>0</td>\n",
       "      <td>ultra</td>\n",
       "      <td>5</td>\n",
       "      <td>22</td>\n",
       "      <td>159</td>\n",
       "      <td>2254</td>\n",
       "      <td>22</td>\n",
       "      <td>1950</td>\n",
       "      <td>0</td>\n",
       "      <td>0</td>\n",
       "      <td>0</td>\n",
       "      <td>1950</td>\n",
       "    </tr>\n",
       "    <tr>\n",
       "      <th>1</th>\n",
       "      <td>1000</td>\n",
       "      <td>0</td>\n",
       "      <td>ultra</td>\n",
       "      <td>6</td>\n",
       "      <td>43</td>\n",
       "      <td>172</td>\n",
       "      <td>23234</td>\n",
       "      <td>60</td>\n",
       "      <td>1950</td>\n",
       "      <td>0</td>\n",
       "      <td>0</td>\n",
       "      <td>0</td>\n",
       "      <td>1950</td>\n",
       "    </tr>\n",
       "    <tr>\n",
       "      <th>2</th>\n",
       "      <td>1000</td>\n",
       "      <td>0</td>\n",
       "      <td>ultra</td>\n",
       "      <td>7</td>\n",
       "      <td>47</td>\n",
       "      <td>340</td>\n",
       "      <td>14004</td>\n",
       "      <td>75</td>\n",
       "      <td>1950</td>\n",
       "      <td>0</td>\n",
       "      <td>0</td>\n",
       "      <td>0</td>\n",
       "      <td>1950</td>\n",
       "    </tr>\n",
       "    <tr>\n",
       "      <th>3</th>\n",
       "      <td>1000</td>\n",
       "      <td>0</td>\n",
       "      <td>ultra</td>\n",
       "      <td>8</td>\n",
       "      <td>52</td>\n",
       "      <td>408</td>\n",
       "      <td>14056</td>\n",
       "      <td>81</td>\n",
       "      <td>1950</td>\n",
       "      <td>0</td>\n",
       "      <td>0</td>\n",
       "      <td>0</td>\n",
       "      <td>1950</td>\n",
       "    </tr>\n",
       "    <tr>\n",
       "      <th>4</th>\n",
       "      <td>1000</td>\n",
       "      <td>0</td>\n",
       "      <td>ultra</td>\n",
       "      <td>9</td>\n",
       "      <td>58</td>\n",
       "      <td>466</td>\n",
       "      <td>14569</td>\n",
       "      <td>57</td>\n",
       "      <td>1950</td>\n",
       "      <td>0</td>\n",
       "      <td>0</td>\n",
       "      <td>0</td>\n",
       "      <td>1950</td>\n",
       "    </tr>\n",
       "    <tr>\n",
       "      <th>5</th>\n",
       "      <td>1000</td>\n",
       "      <td>0</td>\n",
       "      <td>ultra</td>\n",
       "      <td>10</td>\n",
       "      <td>57</td>\n",
       "      <td>350</td>\n",
       "      <td>14703</td>\n",
       "      <td>73</td>\n",
       "      <td>1950</td>\n",
       "      <td>0</td>\n",
       "      <td>0</td>\n",
       "      <td>0</td>\n",
       "      <td>1950</td>\n",
       "    </tr>\n",
       "    <tr>\n",
       "      <th>6</th>\n",
       "      <td>1000</td>\n",
       "      <td>0</td>\n",
       "      <td>ultra</td>\n",
       "      <td>11</td>\n",
       "      <td>43</td>\n",
       "      <td>338</td>\n",
       "      <td>14757</td>\n",
       "      <td>58</td>\n",
       "      <td>1950</td>\n",
       "      <td>0</td>\n",
       "      <td>0</td>\n",
       "      <td>0</td>\n",
       "      <td>1950</td>\n",
       "    </tr>\n",
       "    <tr>\n",
       "      <th>7</th>\n",
       "      <td>1000</td>\n",
       "      <td>0</td>\n",
       "      <td>ultra</td>\n",
       "      <td>12</td>\n",
       "      <td>46</td>\n",
       "      <td>333</td>\n",
       "      <td>9818</td>\n",
       "      <td>70</td>\n",
       "      <td>1950</td>\n",
       "      <td>0</td>\n",
       "      <td>0</td>\n",
       "      <td>0</td>\n",
       "      <td>1950</td>\n",
       "    </tr>\n",
       "    <tr>\n",
       "      <th>8</th>\n",
       "      <td>1001</td>\n",
       "      <td>1</td>\n",
       "      <td>smart</td>\n",
       "      <td>11</td>\n",
       "      <td>59</td>\n",
       "      <td>430</td>\n",
       "      <td>18430</td>\n",
       "      <td>0</td>\n",
       "      <td>550</td>\n",
       "      <td>0</td>\n",
       "      <td>600</td>\n",
       "      <td>0</td>\n",
       "      <td>1150</td>\n",
       "    </tr>\n",
       "    <tr>\n",
       "      <th>9</th>\n",
       "      <td>1001</td>\n",
       "      <td>1</td>\n",
       "      <td>smart</td>\n",
       "      <td>12</td>\n",
       "      <td>63</td>\n",
       "      <td>414</td>\n",
       "      <td>14037</td>\n",
       "      <td>0</td>\n",
       "      <td>550</td>\n",
       "      <td>0</td>\n",
       "      <td>0</td>\n",
       "      <td>0</td>\n",
       "      <td>550</td>\n",
       "    </tr>\n",
       "  </tbody>\n",
       "</table>\n",
       "</div>"
      ],
      "text/plain": [
       "   user_id  location tariff  month  calls_count  calls_duration  mb_used  \\\n",
       "0     1000         0  ultra      5           22             159     2254   \n",
       "1     1000         0  ultra      6           43             172    23234   \n",
       "2     1000         0  ultra      7           47             340    14004   \n",
       "3     1000         0  ultra      8           52             408    14056   \n",
       "4     1000         0  ultra      9           58             466    14569   \n",
       "5     1000         0  ultra     10           57             350    14703   \n",
       "6     1000         0  ultra     11           43             338    14757   \n",
       "7     1000         0  ultra     12           46             333     9818   \n",
       "8     1001         1  smart     11           59             430    18430   \n",
       "9     1001         1  smart     12           63             414    14037   \n",
       "\n",
       "   mess_count  rub_monthly_fee  calls_revenue  internet_revenue  \\\n",
       "0          22             1950              0                 0   \n",
       "1          60             1950              0                 0   \n",
       "2          75             1950              0                 0   \n",
       "3          81             1950              0                 0   \n",
       "4          57             1950              0                 0   \n",
       "5          73             1950              0                 0   \n",
       "6          58             1950              0                 0   \n",
       "7          70             1950              0                 0   \n",
       "8           0              550              0               600   \n",
       "9           0              550              0                 0   \n",
       "\n",
       "   messages_revenue  month_revenue  \n",
       "0                 0           1950  \n",
       "1                 0           1950  \n",
       "2                 0           1950  \n",
       "3                 0           1950  \n",
       "4                 0           1950  \n",
       "5                 0           1950  \n",
       "6                 0           1950  \n",
       "7                 0           1950  \n",
       "8                 0           1150  \n",
       "9                 0            550  "
      ]
     },
     "execution_count": 85,
     "metadata": {},
     "output_type": "execute_result"
    }
   ],
   "source": [
    "final_table['month_revenue'] = final_table['rub_monthly_fee'] + final_table['calls_revenue'] + final_table['internet_revenue'] + final_table['messages_revenue']\n",
    "final_table.head(10)"
   ]
  },
  {
   "cell_type": "code",
   "execution_count": 86,
   "metadata": {},
   "outputs": [],
   "source": [
    "#Удаляем промежуточные столбцы\n",
    "final_table = final_table.drop(['rub_monthly_fee', 'calls_revenue', 'internet_revenue', 'messages_revenue'],axis=1)"
   ]
  },
  {
   "cell_type": "code",
   "execution_count": 87,
   "metadata": {},
   "outputs": [
    {
     "data": {
      "text/html": [
       "<div>\n",
       "<style scoped>\n",
       "    .dataframe tbody tr th:only-of-type {\n",
       "        vertical-align: middle;\n",
       "    }\n",
       "\n",
       "    .dataframe tbody tr th {\n",
       "        vertical-align: top;\n",
       "    }\n",
       "\n",
       "    .dataframe thead th {\n",
       "        text-align: right;\n",
       "    }\n",
       "</style>\n",
       "<table border=\"1\" class=\"dataframe\">\n",
       "  <thead>\n",
       "    <tr style=\"text-align: right;\">\n",
       "      <th></th>\n",
       "      <th>user_id</th>\n",
       "      <th>location</th>\n",
       "      <th>tariff</th>\n",
       "      <th>month</th>\n",
       "      <th>calls_count</th>\n",
       "      <th>calls_duration</th>\n",
       "      <th>mb_used</th>\n",
       "      <th>mess_count</th>\n",
       "      <th>month_revenue</th>\n",
       "    </tr>\n",
       "  </thead>\n",
       "  <tbody>\n",
       "    <tr>\n",
       "      <th>0</th>\n",
       "      <td>1000</td>\n",
       "      <td>0</td>\n",
       "      <td>ultra</td>\n",
       "      <td>5</td>\n",
       "      <td>22</td>\n",
       "      <td>159</td>\n",
       "      <td>2254</td>\n",
       "      <td>22</td>\n",
       "      <td>1950</td>\n",
       "    </tr>\n",
       "    <tr>\n",
       "      <th>1</th>\n",
       "      <td>1000</td>\n",
       "      <td>0</td>\n",
       "      <td>ultra</td>\n",
       "      <td>6</td>\n",
       "      <td>43</td>\n",
       "      <td>172</td>\n",
       "      <td>23234</td>\n",
       "      <td>60</td>\n",
       "      <td>1950</td>\n",
       "    </tr>\n",
       "    <tr>\n",
       "      <th>2</th>\n",
       "      <td>1000</td>\n",
       "      <td>0</td>\n",
       "      <td>ultra</td>\n",
       "      <td>7</td>\n",
       "      <td>47</td>\n",
       "      <td>340</td>\n",
       "      <td>14004</td>\n",
       "      <td>75</td>\n",
       "      <td>1950</td>\n",
       "    </tr>\n",
       "    <tr>\n",
       "      <th>3</th>\n",
       "      <td>1000</td>\n",
       "      <td>0</td>\n",
       "      <td>ultra</td>\n",
       "      <td>8</td>\n",
       "      <td>52</td>\n",
       "      <td>408</td>\n",
       "      <td>14056</td>\n",
       "      <td>81</td>\n",
       "      <td>1950</td>\n",
       "    </tr>\n",
       "    <tr>\n",
       "      <th>4</th>\n",
       "      <td>1000</td>\n",
       "      <td>0</td>\n",
       "      <td>ultra</td>\n",
       "      <td>9</td>\n",
       "      <td>58</td>\n",
       "      <td>466</td>\n",
       "      <td>14569</td>\n",
       "      <td>57</td>\n",
       "      <td>1950</td>\n",
       "    </tr>\n",
       "    <tr>\n",
       "      <th>5</th>\n",
       "      <td>1000</td>\n",
       "      <td>0</td>\n",
       "      <td>ultra</td>\n",
       "      <td>10</td>\n",
       "      <td>57</td>\n",
       "      <td>350</td>\n",
       "      <td>14703</td>\n",
       "      <td>73</td>\n",
       "      <td>1950</td>\n",
       "    </tr>\n",
       "    <tr>\n",
       "      <th>6</th>\n",
       "      <td>1000</td>\n",
       "      <td>0</td>\n",
       "      <td>ultra</td>\n",
       "      <td>11</td>\n",
       "      <td>43</td>\n",
       "      <td>338</td>\n",
       "      <td>14757</td>\n",
       "      <td>58</td>\n",
       "      <td>1950</td>\n",
       "    </tr>\n",
       "    <tr>\n",
       "      <th>7</th>\n",
       "      <td>1000</td>\n",
       "      <td>0</td>\n",
       "      <td>ultra</td>\n",
       "      <td>12</td>\n",
       "      <td>46</td>\n",
       "      <td>333</td>\n",
       "      <td>9818</td>\n",
       "      <td>70</td>\n",
       "      <td>1950</td>\n",
       "    </tr>\n",
       "    <tr>\n",
       "      <th>8</th>\n",
       "      <td>1001</td>\n",
       "      <td>1</td>\n",
       "      <td>smart</td>\n",
       "      <td>11</td>\n",
       "      <td>59</td>\n",
       "      <td>430</td>\n",
       "      <td>18430</td>\n",
       "      <td>0</td>\n",
       "      <td>1150</td>\n",
       "    </tr>\n",
       "    <tr>\n",
       "      <th>9</th>\n",
       "      <td>1001</td>\n",
       "      <td>1</td>\n",
       "      <td>smart</td>\n",
       "      <td>12</td>\n",
       "      <td>63</td>\n",
       "      <td>414</td>\n",
       "      <td>14037</td>\n",
       "      <td>0</td>\n",
       "      <td>550</td>\n",
       "    </tr>\n",
       "  </tbody>\n",
       "</table>\n",
       "</div>"
      ],
      "text/plain": [
       "   user_id  location tariff  month  calls_count  calls_duration  mb_used  \\\n",
       "0     1000         0  ultra      5           22             159     2254   \n",
       "1     1000         0  ultra      6           43             172    23234   \n",
       "2     1000         0  ultra      7           47             340    14004   \n",
       "3     1000         0  ultra      8           52             408    14056   \n",
       "4     1000         0  ultra      9           58             466    14569   \n",
       "5     1000         0  ultra     10           57             350    14703   \n",
       "6     1000         0  ultra     11           43             338    14757   \n",
       "7     1000         0  ultra     12           46             333     9818   \n",
       "8     1001         1  smart     11           59             430    18430   \n",
       "9     1001         1  smart     12           63             414    14037   \n",
       "\n",
       "   mess_count  month_revenue  \n",
       "0          22           1950  \n",
       "1          60           1950  \n",
       "2          75           1950  \n",
       "3          81           1950  \n",
       "4          57           1950  \n",
       "5          73           1950  \n",
       "6          58           1950  \n",
       "7          70           1950  \n",
       "8           0           1150  \n",
       "9           0            550  "
      ]
     },
     "execution_count": 87,
     "metadata": {},
     "output_type": "execute_result"
    }
   ],
   "source": [
    "final_table.head(10)"
   ]
  },
  {
   "cell_type": "markdown",
   "metadata": {},
   "source": [
    "Выделим из финальной таблицы датасеты с каждым тарифом и с делением на Москву/регионы"
   ]
  },
  {
   "cell_type": "code",
   "execution_count": 88,
   "metadata": {},
   "outputs": [],
   "source": [
    "final_table_ultra = final_table.query('tariff == \"ultra\"')\n",
    "final_table_smart = final_table.query('tariff == \"smart\"')\n",
    "final_table_msk = final_table.query('location == 1')\n",
    "final_table_reg = final_table.query('location == 0')"
   ]
  },
  {
   "cell_type": "markdown",
   "metadata": {},
   "source": [
    "Готово, можно переходить к следующему шагу. "
   ]
  },
  {
   "cell_type": "markdown",
   "metadata": {},
   "source": [
    "## Анализ данных"
   ]
  },
  {
   "cell_type": "markdown",
   "metadata": {},
   "source": [
    "Опишите поведение клиентов оператора, исходя из выборки.\n",
    "\n",
    "Сколько минут разговора, сколько сообщений и какой объём интернет-трафика требуется пользователям каждого тарифа в месяц? \n",
    "\n",
    "Посчитайте среднее количество, дисперсию и стандартное отклонение. \n",
    "\n",
    "Постройте гистограммы. \n",
    "\n",
    "Опишите распределения."
   ]
  },
  {
   "cell_type": "markdown",
   "metadata": {},
   "source": [
    "### Анализ минут разговора"
   ]
  },
  {
   "cell_type": "markdown",
   "metadata": {},
   "source": [
    "#### Тариф Смарт"
   ]
  },
  {
   "cell_type": "markdown",
   "metadata": {},
   "source": [
    "**Среднее и медиана**"
   ]
  },
  {
   "cell_type": "code",
   "execution_count": 89,
   "metadata": {},
   "outputs": [
    {
     "name": "stdout",
     "output_type": "stream",
     "text": [
      "Среднее значение = 418\n"
     ]
    }
   ],
   "source": [
    "print('Среднее значение =', '{:.0f}'.format(final_table_smart['calls_duration'].mean()))"
   ]
  },
  {
   "cell_type": "markdown",
   "metadata": {},
   "source": [
    "Важно понимать, что в зависимости от постановки вопроса, потребуется либо убрать клиентов с нулевыми разговорами за месяц, либо их оставить. В случае, если постановка вопроса звучит как: какое среднее число минут тратят абоненты на звонки, то 0 разговоры мы оставляем, т.к. это такие же клиенты, которые лишь пользуются иными услугами компании (смс, интернет), и не заинтересованы в звонках.\n",
    "\n",
    "Если же постановка вопроса звучит как: сколько в среднем требуется минут на звонки **для активных клиентов в сегменте звонков**, то нулевых клиентов по звонкам имеет смысл убрать. \n",
    "\n",
    "Однако, с учетом постановки вопроса в задаче: **Сколько минут разговора, сколько сообщений и какой объём интернет-трафика требуется пользователям каждого тарифа в месяц?**, считаю, что в данном случае вариант оставить 0 клиентов в каждом сегменте будет более релеватно для оператора. "
   ]
  },
  {
   "cell_type": "code",
   "execution_count": 90,
   "metadata": {},
   "outputs": [
    {
     "name": "stdout",
     "output_type": "stream",
     "text": [
      "Среднее значение при исключении нулевых клиентов = 419\n"
     ]
    }
   ],
   "source": [
    "print('Среднее значение при исключении нулевых клиентов =', '{:.0f}'.format(final_table_smart[final_table_smart['calls_duration'] > 0]['calls_duration'].mean()))"
   ]
  },
  {
   "cell_type": "code",
   "execution_count": 91,
   "metadata": {},
   "outputs": [
    {
     "name": "stdout",
     "output_type": "stream",
     "text": [
      "Медианное значение = 422\n"
     ]
    }
   ],
   "source": [
    "print('Медианное значение =', '{:.0f}'.format(final_table_smart['calls_duration'].median()))"
   ]
  },
  {
   "cell_type": "markdown",
   "metadata": {},
   "source": [
    "**Дисперсия и стандартное отклонение**"
   ]
  },
  {
   "cell_type": "code",
   "execution_count": 92,
   "metadata": {},
   "outputs": [
    {
     "name": "stdout",
     "output_type": "stream",
     "text": [
      "Дисперсия = 36219\n"
     ]
    }
   ],
   "source": [
    "#Считаем дисперсию с указанием параметра ddof=1, т.к. у нас выборка из общего числа клиентов.\n",
    "\n",
    "print('Дисперсия =', '{:.0f}'.format(np.var(final_table_smart['calls_duration'], ddof=1)))"
   ]
  },
  {
   "cell_type": "code",
   "execution_count": 93,
   "metadata": {},
   "outputs": [
    {
     "name": "stdout",
     "output_type": "stream",
     "text": [
      "Стандартное отклонение = 190\n"
     ]
    }
   ],
   "source": [
    "print('Стандартное отклонение =', '{:.0f}'.format(np.sqrt(np.var(final_table_smart['calls_duration'], ddof=1))))"
   ]
  },
  {
   "cell_type": "code",
   "execution_count": 94,
   "metadata": {},
   "outputs": [
    {
     "name": "stdout",
     "output_type": "stream",
     "text": [
      "989\n"
     ]
    }
   ],
   "source": [
    "#Верхняя граница, согласно правилу трех сигм (нижнюю исключаем, т.к. она равна 0 минутам)\n",
    "\n",
    "print('{:.0f}'.format(final_table_smart['calls_duration'].mean() + np.sqrt(np.var(final_table_smart['calls_duration'], ddof=1)) * 3))"
   ]
  },
  {
   "cell_type": "markdown",
   "metadata": {},
   "source": [
    "#### Тариф Ультра"
   ]
  },
  {
   "cell_type": "markdown",
   "metadata": {},
   "source": [
    "**Среднее и медиана**"
   ]
  },
  {
   "cell_type": "code",
   "execution_count": 95,
   "metadata": {},
   "outputs": [
    {
     "name": "stdout",
     "output_type": "stream",
     "text": [
      "Среднее значение = 527\n"
     ]
    }
   ],
   "source": [
    "print('Среднее значение =', '{:.0f}'.format(final_table_ultra['calls_duration'].mean()))"
   ]
  },
  {
   "cell_type": "code",
   "execution_count": 96,
   "metadata": {},
   "outputs": [
    {
     "name": "stdout",
     "output_type": "stream",
     "text": [
      "Среднее значение при исключении нулевых клиентов = 548\n"
     ]
    }
   ],
   "source": [
    "print('Среднее значение при исключении нулевых клиентов =', '{:.0f}'.format(final_table_ultra[final_table_ultra['calls_duration'] > 0]['calls_duration'].mean()))"
   ]
  },
  {
   "cell_type": "code",
   "execution_count": 97,
   "metadata": {},
   "outputs": [
    {
     "name": "stdout",
     "output_type": "stream",
     "text": [
      "Медианное значение = 518\n"
     ]
    }
   ],
   "source": [
    "print('Медианное значение =', '{:.0f}'.format(final_table_ultra['calls_duration'].median()))"
   ]
  },
  {
   "cell_type": "markdown",
   "metadata": {},
   "source": [
    "**Дисперсия и стандартное отклонение**"
   ]
  },
  {
   "cell_type": "code",
   "execution_count": 98,
   "metadata": {},
   "outputs": [
    {
     "name": "stdout",
     "output_type": "stream",
     "text": [
      "Дисперсия = 100874\n"
     ]
    }
   ],
   "source": [
    "#Считаем дисперсию с указанием параметра ddof=1, т.к. у нас выборка из общего числа клиентов.\n",
    "\n",
    "print('Дисперсия =', '{:.0f}'.format(np.var(final_table_ultra['calls_duration'], ddof=1)))"
   ]
  },
  {
   "cell_type": "code",
   "execution_count": 99,
   "metadata": {},
   "outputs": [
    {
     "name": "stdout",
     "output_type": "stream",
     "text": [
      "Стандартное отклонение = 318\n"
     ]
    }
   ],
   "source": [
    "print('Стандартное отклонение =', '{:.0f}'.format(np.sqrt(np.var(final_table_ultra['calls_duration'], ddof=1))))"
   ]
  },
  {
   "cell_type": "code",
   "execution_count": 100,
   "metadata": {},
   "outputs": [
    {
     "name": "stdout",
     "output_type": "stream",
     "text": [
      "1479\n"
     ]
    }
   ],
   "source": [
    "#Верхняя граница, согласно правилу трех сигм (нижнюю исключаем, т.к. она равна 0 минутам)\n",
    "\n",
    "print('{:.0f}'.format(final_table_ultra['calls_duration'].mean() + np.sqrt(np.var(final_table_ultra['calls_duration'], ddof=1)) * 3))"
   ]
  },
  {
   "cell_type": "markdown",
   "metadata": {},
   "source": [
    "#### Общий вывод по минутам разговора"
   ]
  },
  {
   "cell_type": "markdown",
   "metadata": {},
   "source": [
    "**График**"
   ]
  },
  {
   "cell_type": "code",
   "execution_count": 101,
   "metadata": {},
   "outputs": [
    {
     "data": {
      "text/plain": [
       "<AxesSubplot:title={'center':'Распределение длительности звонков в месяц, мин'}, ylabel='Frequency'>"
      ]
     },
     "execution_count": 101,
     "metadata": {},
     "output_type": "execute_result"
    },
    {
     "data": {
      "image/png": "[encoded data removed]",
      "text/plain": [
       "<Figure size 1440x720 with 1 Axes>"
      ]
     },
     "metadata": {
      "needs_background": "light"
     },
     "output_type": "display_data"
    }
   ],
   "source": [
    "ax = final_table_smart.plot(\n",
    "    kind='hist',\n",
    "    y='calls_duration',\n",
    "    figsize=[20,10],\n",
    "    bins=50,\n",
    "    linewidth=5,\n",
    "    alpha=1,\n",
    "    label='Тариф Смарт',\n",
    "    grid=True,\n",
    "    legend=True,\n",
    "    title='Распределение длительности звонков в месяц, мин'\n",
    ")\n",
    "\n",
    "final_table_ultra.plot(\n",
    "    kind='hist',\n",
    "    y='calls_duration',\n",
    "    figsize=[20,10],\n",
    "    bins=50,\n",
    "    linewidth=5,\n",
    "    ax=ax,\n",
    "    alpha=0.4,\n",
    "    label='Тариф Ультра',\n",
    "    grid=True,\n",
    "    legend=True\n",
    ")"
   ]
  },
  {
   "cell_type": "code",
   "execution_count": 102,
   "metadata": {},
   "outputs": [
    {
     "name": "stdout",
     "output_type": "stream",
     "text": [
      "33.83%\n",
      "0.20%\n"
     ]
    }
   ],
   "source": [
    "print('{:.2%}'.format(len(final_table_smart.query('calls_duration > 500')) / len(final_table_smart)))\n",
    "print('{:.2%}'.format(len(final_table_ultra.query('calls_duration > 1500')) / len(final_table_ultra)))"
   ]
  },
  {
   "cell_type": "code",
   "execution_count": 103,
   "metadata": {},
   "outputs": [
    {
     "name": "stdout",
     "output_type": "stream",
     "text": [
      "0.36%\n",
      "3.86%\n"
     ]
    }
   ],
   "source": [
    "print('{:.2%}'.format(len(final_table_smart.query('calls_duration == 0')) / len(final_table_smart)))\n",
    "print('{:.2%}'.format(len(final_table_ultra.query('calls_duration == 0')) / len(final_table_ultra)))"
   ]
  },
  {
   "cell_type": "markdown",
   "metadata": {},
   "source": [
    "**Вывод**\n",
    "\n",
    "Если средние значения минут звонков по обоим тарифам представлены примерно на одинаковом уровне 418 и 527 минут (с учетом разброса лимита минут по каждому тарифу в 500 и 3000 минут), то взглянув на график распределения можно заметить интересную особенность. \n",
    "\n",
    "Первая группа, тарифа Смарт, стремится средним значением к своему лимиту в 500 минут, хотя 34% клиентов превышают лимит в 500 минут. Распределение похоже на нормальное.\n",
    "\n",
    "То вторая группа, тарифа Ультра по распределению напоминает равномерное. \n",
    "Для пользователей этого тарифа 3000 минут, более чем избыточны. И лишь 0.2% превышают в ежемесячных разговорах 1500 минут. \n",
    "Более того, если клиенты группы Смарт, очевидно, стараются контролировать свои разговоры (средняя стремится к лимиту), то клиенты группы Ультра не ограничивают себя и не контролируют в разговорах. А многие особо и не пользуются возможностью разговаривать без особых ограничений (из-за этого отсутствует характерный пик на среднем значении, как у Смарта, а также объем клиентов что в районе 200 минут, что в районе 700 примерно одинаковый). \n",
    "\n",
    "Эту теорию также подтверждает более высокая средняя у Ультра при более высоком стандартном отклонении. \n",
    "Также, объем пользователей с 0 минутами по тарифу Ультра более высокий, чем у Смарта.\n",
    "Возможно тариф Ультра более популярный как корпоративно оплачиваемый, поэтому, в разрезе минут разговора, клиенты тарифа Ультра менее внимательны к своим финансам (подтвердим или опровергним это уже в 4 шаге в разделе подсчета средней выручки). \n",
    "\n",
    "Рассчитаем долю использования доступного лимита, в совокупном объеме, как сумма всех минут по звонкам, деленная на лимит на тариф умноженный на количество клиентов этого тарифа.\n",
    "Если моя теория выше верна, то доля использования лимита звонков в тарифе Ультра должна быть значительно ниже. "
   ]
  },
  {
   "cell_type": "code",
   "execution_count": 104,
   "metadata": {},
   "outputs": [
    {
     "name": "stdout",
     "output_type": "stream",
     "text": [
      "83.59%\n",
      "17.55%\n"
     ]
    }
   ],
   "source": [
    "sum_limit_smart = len(final_table_smart) * 500\n",
    "sum_limit_ultra = len(final_table_ultra) * 3000\n",
    "sum_calls_smart = final_table_smart['calls_duration'].sum()\n",
    "sum_calls_ultra = final_table_ultra['calls_duration'].sum()\n",
    "\n",
    "print('{:.2%}'.format(sum_calls_smart / sum_limit_smart))\n",
    "print('{:.2%}'.format(sum_calls_ultra / sum_limit_ultra))"
   ]
  },
  {
   "cell_type": "markdown",
   "metadata": {},
   "source": [
    "Доля использования доступного лимита звонков в тарифе Смарт приближается к 84%, в свою очередь клиенты Ультра не используют доступные лимиты даже на одну пятую."
   ]
  },
  {
   "cell_type": "markdown",
   "metadata": {},
   "source": [
    "### Анализ кол-во сообщений"
   ]
  },
  {
   "cell_type": "markdown",
   "metadata": {},
   "source": [
    "#### Тариф Смарт"
   ]
  },
  {
   "cell_type": "markdown",
   "metadata": {},
   "source": [
    "**Среднее и медиана**"
   ]
  },
  {
   "cell_type": "code",
   "execution_count": 105,
   "metadata": {},
   "outputs": [
    {
     "name": "stdout",
     "output_type": "stream",
     "text": [
      "Среднее значение = 33\n"
     ]
    }
   ],
   "source": [
    "print('Среднее значение =', '{:.0f}'.format(final_table_smart['mess_count'].mean()))"
   ]
  },
  {
   "cell_type": "code",
   "execution_count": 106,
   "metadata": {},
   "outputs": [
    {
     "name": "stdout",
     "output_type": "stream",
     "text": [
      "Медианное значение = 28\n"
     ]
    }
   ],
   "source": [
    "print('Медианное значение =', '{:.0f}'.format(final_table_smart['mess_count'].median()))"
   ]
  },
  {
   "cell_type": "markdown",
   "metadata": {},
   "source": [
    "**Дисперсия и стандартное отклонение**"
   ]
  },
  {
   "cell_type": "code",
   "execution_count": 107,
   "metadata": {},
   "outputs": [
    {
     "name": "stdout",
     "output_type": "stream",
     "text": [
      "Дисперсия = 797\n"
     ]
    }
   ],
   "source": [
    "#Считаем дисперсию с указанием параметра ddof=1, т.к. у нас выборка из общего числа клиентов.\n",
    "\n",
    "print('Дисперсия =', '{:.0f}'.format(np.var(final_table_smart['mess_count'], ddof=1)))"
   ]
  },
  {
   "cell_type": "code",
   "execution_count": 108,
   "metadata": {},
   "outputs": [
    {
     "name": "stdout",
     "output_type": "stream",
     "text": [
      "Стандартное отклонение = 28\n"
     ]
    }
   ],
   "source": [
    "print('Стандартное отклонение =', '{:.0f}'.format(np.sqrt(np.var(final_table_smart['mess_count'], ddof=1))))"
   ]
  },
  {
   "cell_type": "code",
   "execution_count": 109,
   "metadata": {},
   "outputs": [
    {
     "name": "stdout",
     "output_type": "stream",
     "text": [
      "118\n"
     ]
    }
   ],
   "source": [
    "#Верхняя граница, согласно правилу трех сигм (нижнюю исключаем, т.к. она равна 0 СМС)\n",
    "\n",
    "print('{:.0f}'.format(final_table_smart['mess_count'].mean() + np.sqrt(np.var(final_table_smart['mess_count'], ddof=1)) * 3))"
   ]
  },
  {
   "cell_type": "markdown",
   "metadata": {},
   "source": [
    "#### Тариф Ультра"
   ]
  },
  {
   "cell_type": "markdown",
   "metadata": {},
   "source": [
    "**Среднее и медиана**"
   ]
  },
  {
   "cell_type": "code",
   "execution_count": 110,
   "metadata": {},
   "outputs": [
    {
     "name": "stdout",
     "output_type": "stream",
     "text": [
      "Среднее значение = 49\n"
     ]
    }
   ],
   "source": [
    "print('Среднее значение =', '{:.0f}'.format(final_table_ultra['mess_count'].mean()))"
   ]
  },
  {
   "cell_type": "code",
   "execution_count": 111,
   "metadata": {},
   "outputs": [
    {
     "name": "stdout",
     "output_type": "stream",
     "text": [
      "Медианное значение = 38\n"
     ]
    }
   ],
   "source": [
    "print('Медианное значение =', '{:.0f}'.format(final_table_ultra['mess_count'].median()))"
   ]
  },
  {
   "cell_type": "markdown",
   "metadata": {},
   "source": [
    "**Дисперсия и стандартное отклонение**"
   ]
  },
  {
   "cell_type": "code",
   "execution_count": 112,
   "metadata": {},
   "outputs": [
    {
     "name": "stdout",
     "output_type": "stream",
     "text": [
      "Дисперсия = 2285\n"
     ]
    }
   ],
   "source": [
    "#Считаем дисперсию с указанием параметра ddof=1, т.к. у нас выборка из общего числа клиентов.\n",
    "\n",
    "print('Дисперсия =', '{:.0f}'.format(np.var(final_table_ultra['mess_count'], ddof=1)))"
   ]
  },
  {
   "cell_type": "code",
   "execution_count": 113,
   "metadata": {},
   "outputs": [
    {
     "name": "stdout",
     "output_type": "stream",
     "text": [
      "Стандартное отклонение = 48\n"
     ]
    }
   ],
   "source": [
    "print('Стандартное отклонение =', '{:.0f}'.format(np.sqrt(np.var(final_table_ultra['mess_count'], ddof=1))))"
   ]
  },
  {
   "cell_type": "code",
   "execution_count": 114,
   "metadata": {},
   "outputs": [
    {
     "name": "stdout",
     "output_type": "stream",
     "text": [
      "193\n"
     ]
    }
   ],
   "source": [
    "#Верхняя граница, согласно правилу трех сигм (нижнюю исключаем, т.к. она равна 0 СМС)\n",
    "\n",
    "print('{:.0f}'.format(final_table_ultra['mess_count'].mean() + np.sqrt(np.var(final_table_ultra['mess_count'], ddof=1)) * 3))"
   ]
  },
  {
   "cell_type": "markdown",
   "metadata": {},
   "source": [
    "#### Общий вывод по минутам разговора"
   ]
  },
  {
   "cell_type": "markdown",
   "metadata": {},
   "source": [
    "**График**"
   ]
  },
  {
   "cell_type": "code",
   "execution_count": 115,
   "metadata": {},
   "outputs": [
    {
     "data": {
      "text/plain": [
       "<AxesSubplot:title={'center':'Распределение количества СМС в месяц'}, ylabel='Frequency'>"
      ]
     },
     "execution_count": 115,
     "metadata": {},
     "output_type": "execute_result"
    },
    {
     "data": {
      "image/png": "[encoded data removed]",
      "text/plain": [
       "<Figure size 1440x720 with 1 Axes>"
      ]
     },
     "metadata": {
      "needs_background": "light"
     },
     "output_type": "display_data"
    }
   ],
   "source": [
    "ax = final_table_smart.plot(\n",
    "    kind='hist',\n",
    "    y='mess_count',\n",
    "    figsize=[20,10],\n",
    "    bins=25,\n",
    "    linewidth=5,\n",
    "    alpha=1,\n",
    "    label='Тариф Смарт',\n",
    "    grid=True,\n",
    "    legend=True,\n",
    "    title='Распределение количества СМС в месяц'\n",
    ")\n",
    "\n",
    "final_table_ultra.plot(\n",
    "    kind='hist',\n",
    "    y='mess_count',\n",
    "    figsize=[20,10],\n",
    "    bins=25,\n",
    "    linewidth=5,\n",
    "    ax=ax,\n",
    "    alpha=0.4,\n",
    "    label='Тариф Ультра',\n",
    "    grid=True,\n",
    "    legend=True\n",
    ")"
   ]
  },
  {
   "cell_type": "code",
   "execution_count": 116,
   "metadata": {},
   "outputs": [
    {
     "name": "stdout",
     "output_type": "stream",
     "text": [
      "13.77%\n",
      "19.29%\n"
     ]
    }
   ],
   "source": [
    "print('{:.2%}'.format(len(final_table_smart.query('mess_count == 0')) / len(final_table_smart)))\n",
    "print('{:.2%}'.format(len(final_table_ultra.query('mess_count == 0')) / len(final_table_ultra)))"
   ]
  },
  {
   "cell_type": "markdown",
   "metadata": {},
   "source": [
    "**Вывод**\n",
    "\n",
    "СМС сообщения наименее интересная клиента услуга у оператора. Если доля 0 звонков не превышает 4%, то СМС в том же тарифе Ультра не используют в 20% случаев.\n",
    "\n",
    "Важно отметить, что распределения по графику выглядят одинаково и представляют собой Геометрическое распределение, где вероятность больших значений снижается. \n",
    "Однако распределение клиентов тарифа Ультра более плавное с длинным хвостом, что выражается в Стандартном отклонение, которое почти в 2 раза больше СО тарифа Смарт (48 против 28). \n",
    "\n",
    "Опять же, посчитаем по методике использованной в минутах, процент утилизации доступных лимитов по сообщениям.\n",
    "Напомню, что для тарифа Смарт это 50 сообщений, для тарифа Ультра 1000."
   ]
  },
  {
   "cell_type": "code",
   "execution_count": 117,
   "metadata": {},
   "outputs": [
    {
     "name": "stdout",
     "output_type": "stream",
     "text": [
      "66.77%\n",
      "4.94%\n"
     ]
    }
   ],
   "source": [
    "sum_limit_smart = len(final_table_smart) * 50\n",
    "sum_limit_ultra = len(final_table_ultra) * 1000\n",
    "sum_calls_smart = final_table_smart['mess_count'].sum()\n",
    "sum_calls_ultra = final_table_ultra['mess_count'].sum()\n",
    "\n",
    "print('{:.2%}'.format(sum_calls_smart / sum_limit_smart))\n",
    "print('{:.2%}'.format(sum_calls_ultra / sum_limit_ultra))"
   ]
  },
  {
   "cell_type": "markdown",
   "metadata": {},
   "source": [
    "Ситуация аналогична минутам на разговоры. Использование доступного лимита СМС в тарифе Ультра минимальное, СМС в смарте более близки к максимальному бесплатному лимиту. "
   ]
  },
  {
   "cell_type": "markdown",
   "metadata": {},
   "source": [
    "### Анализ интернет трафика"
   ]
  },
  {
   "cell_type": "markdown",
   "metadata": {},
   "source": [
    "#### Тариф Смарт"
   ]
  },
  {
   "cell_type": "markdown",
   "metadata": {},
   "source": [
    "**Среднее и медиана**"
   ]
  },
  {
   "cell_type": "code",
   "execution_count": 118,
   "metadata": {},
   "outputs": [
    {
     "name": "stdout",
     "output_type": "stream",
     "text": [
      "Среднее значение = 16209\n"
     ]
    }
   ],
   "source": [
    "print('Среднее значение =', '{:.0f}'.format(final_table_smart['mb_used'].mean()))"
   ]
  },
  {
   "cell_type": "code",
   "execution_count": 119,
   "metadata": {},
   "outputs": [
    {
     "name": "stdout",
     "output_type": "stream",
     "text": [
      "Медианное значение = 16507\n"
     ]
    }
   ],
   "source": [
    "print('Медианное значение =', '{:.0f}'.format(final_table_smart['mb_used'].median()))"
   ]
  },
  {
   "cell_type": "markdown",
   "metadata": {},
   "source": [
    "**Дисперсия и стандартное отклонение**"
   ]
  },
  {
   "cell_type": "code",
   "execution_count": 120,
   "metadata": {},
   "outputs": [
    {
     "name": "stdout",
     "output_type": "stream",
     "text": [
      "Дисперсия = 34462559\n"
     ]
    }
   ],
   "source": [
    "#Считаем дисперсию с указанием параметра ddof=1, т.к. у нас выборка из общего числа клиентов.\n",
    "\n",
    "print('Дисперсия =', '{:.0f}'.format(np.var(final_table_smart['mb_used'], ddof=1)))"
   ]
  },
  {
   "cell_type": "code",
   "execution_count": 121,
   "metadata": {},
   "outputs": [
    {
     "name": "stdout",
     "output_type": "stream",
     "text": [
      "Стандартное отклонение = 5870\n"
     ]
    }
   ],
   "source": [
    "print('Стандартное отклонение =', '{:.0f}'.format(np.sqrt(np.var(final_table_smart['mb_used'], ddof=1))))"
   ]
  },
  {
   "cell_type": "code",
   "execution_count": 122,
   "metadata": {},
   "outputs": [
    {
     "name": "stdout",
     "output_type": "stream",
     "text": [
      "33820\n"
     ]
    }
   ],
   "source": [
    "#Верхняя граница, согласно правилу трех сигм (нижнюю исключаем, т.к. она равна 0 Мб)\n",
    "\n",
    "print('{:.0f}'.format(final_table_smart['mb_used'].mean() + np.sqrt(np.var(final_table_smart['mb_used'], ddof=1)) * 3))"
   ]
  },
  {
   "cell_type": "markdown",
   "metadata": {},
   "source": [
    "#### Тариф Ультра"
   ]
  },
  {
   "cell_type": "markdown",
   "metadata": {},
   "source": [
    "**Среднее и медиана**"
   ]
  },
  {
   "cell_type": "code",
   "execution_count": 123,
   "metadata": {},
   "outputs": [
    {
     "name": "stdout",
     "output_type": "stream",
     "text": [
      "Среднее значение = 19469\n"
     ]
    }
   ],
   "source": [
    "print('Среднее значение =', '{:.0f}'.format(final_table_ultra['mb_used'].mean()))"
   ]
  },
  {
   "cell_type": "code",
   "execution_count": 124,
   "metadata": {},
   "outputs": [
    {
     "name": "stdout",
     "output_type": "stream",
     "text": [
      "Медианное значение = 19309\n"
     ]
    }
   ],
   "source": [
    "print('Медианное значение =', '{:.0f}'.format(final_table_ultra['mb_used'].median()))"
   ]
  },
  {
   "cell_type": "markdown",
   "metadata": {},
   "source": [
    "**Дисперсия и стандартное отклонение**"
   ]
  },
  {
   "cell_type": "code",
   "execution_count": 125,
   "metadata": {},
   "outputs": [
    {
     "name": "stdout",
     "output_type": "stream",
     "text": [
      "Дисперсия = 101751410\n"
     ]
    }
   ],
   "source": [
    "#Считаем дисперсию с указанием параметра ddof=1, т.к. у нас выборка из общего числа клиентов.\n",
    "\n",
    "print('Дисперсия =', '{:.0f}'.format(np.var(final_table_ultra['mb_used'], ddof=1)))"
   ]
  },
  {
   "cell_type": "code",
   "execution_count": 126,
   "metadata": {},
   "outputs": [
    {
     "name": "stdout",
     "output_type": "stream",
     "text": [
      "Стандартное отклонение = 10087\n"
     ]
    }
   ],
   "source": [
    "print('Стандартное отклонение =', '{:.0f}'.format(np.sqrt(np.var(final_table_ultra['mb_used'], ddof=1))))"
   ]
  },
  {
   "cell_type": "code",
   "execution_count": 127,
   "metadata": {},
   "outputs": [
    {
     "name": "stdout",
     "output_type": "stream",
     "text": [
      "49731\n"
     ]
    }
   ],
   "source": [
    "#Верхняя граница, согласно правилу трех сигм (нижнюю исключаем, т.к. она равна 0 СМС)\n",
    "\n",
    "print('{:.0f}'.format(final_table_ultra['mb_used'].mean() + np.sqrt(np.var(final_table_ultra['mb_used'], ddof=1)) * 3))"
   ]
  },
  {
   "cell_type": "markdown",
   "metadata": {},
   "source": [
    "#### Общий вывод по интернет трафику"
   ]
  },
  {
   "cell_type": "markdown",
   "metadata": {},
   "source": [
    "**График**"
   ]
  },
  {
   "cell_type": "code",
   "execution_count": 128,
   "metadata": {},
   "outputs": [
    {
     "data": {
      "text/plain": [
       "<AxesSubplot:title={'center':'Распределение интернет трафика месяц'}, ylabel='Frequency'>"
      ]
     },
     "execution_count": 128,
     "metadata": {},
     "output_type": "execute_result"
    },
    {
     "data": {
      "image/png": "[encoded data removed]",
      "text/plain": [
       "<Figure size 1440x720 with 1 Axes>"
      ]
     },
     "metadata": {
      "needs_background": "light"
     },
     "output_type": "display_data"
    }
   ],
   "source": [
    "ax = final_table_smart.plot(\n",
    "    kind='hist',\n",
    "    y='mb_used',\n",
    "    figsize=[20,10],\n",
    "    bins=25,\n",
    "    linewidth=5,\n",
    "    alpha=1,\n",
    "    label='Тариф Смарт',\n",
    "    grid=True,\n",
    "    legend=True,\n",
    "    title='Распределение интернет трафика месяц'\n",
    ")\n",
    "\n",
    "final_table_ultra.plot(\n",
    "    kind='hist',\n",
    "    y='mb_used',\n",
    "    figsize=[20,10],\n",
    "    bins=25,\n",
    "    linewidth=5,\n",
    "    ax=ax,\n",
    "    alpha=0.4,\n",
    "    label='Тариф Ультра',\n",
    "    grid=True,\n",
    "    legend=True\n",
    ")"
   ]
  },
  {
   "cell_type": "code",
   "execution_count": 129,
   "metadata": {},
   "outputs": [
    {
     "name": "stdout",
     "output_type": "stream",
     "text": [
      "0.09%\n",
      "1.12%\n"
     ]
    }
   ],
   "source": [
    "print('{:.2%}'.format(len(final_table_smart.query('mb_used == 0')) / len(final_table_smart)))\n",
    "print('{:.2%}'.format(len(final_table_ultra.query('mb_used == 0')) / len(final_table_ultra)))"
   ]
  },
  {
   "cell_type": "markdown",
   "metadata": {},
   "source": [
    "**Вывод**\n",
    "\n",
    "Ситуация в части 0 значений схожа со звонками, при этом в части популярности услуга интернета самая популярная в тройке звонки, смс, интернет, что, в целом, логично с учетом современных реалий использования смартфонов. При этом нельзя забывать, что возможны звонки также и через мобильные мессенджеры, однако через интернет трафик. Поэтому делать вывод в целом, что клиенты меньше любят разговаривать голосом - преждвременно.\n",
    "\n",
    "Распределения по обоим тарифам является нормальным, при этом в части стандартного распределения картина схожа со звонками, в тарифе Ультра оно в 2 раза выше, что \"размазывает\" график по всей плоскости, хотя общий паттерн нормального распределения все еще сохраняется.\n",
    "\n",
    "Также интересно отметить, что среднее значение в тарифе Смарт превышает максимальный лимит (среднее = 16209Мб, тогда как бесплатный лимит составляет 15Гб или 15360Мб). В свою очередь среднее по тарифу Ультра в 19469Мб не даёт такого прироста к средней, как прирост лимита от тарифа (30Гб))."
   ]
  },
  {
   "cell_type": "code",
   "execution_count": 130,
   "metadata": {},
   "outputs": [
    {
     "name": "stdout",
     "output_type": "stream",
     "text": [
      "105.53%\n",
      "63.38%\n"
     ]
    }
   ],
   "source": [
    "sum_limit_smart = len(final_table_smart) * 15360\n",
    "sum_limit_ultra = len(final_table_ultra) * 30720\n",
    "sum_calls_smart = final_table_smart['mb_used'].sum()\n",
    "sum_calls_ultra = final_table_ultra['mb_used'].sum()\n",
    "\n",
    "print('{:.2%}'.format(sum_calls_smart / sum_limit_smart))\n",
    "print('{:.2%}'.format(sum_calls_ultra / sum_limit_ultra))"
   ]
  },
  {
   "cell_type": "markdown",
   "metadata": {},
   "source": [
    "В подтверждение - общая утилизация доступных МБ по тарифам. По тарифу Смарт превышение лимита на 5,5%, по тарифу Ультра опять значительное отставание, хотя ситуация по использованию лимита и лучше, чем по другим продуктам. "
   ]
  },
  {
   "cell_type": "markdown",
   "metadata": {},
   "source": [
    "### Общая картина по клиентам"
   ]
  },
  {
   "cell_type": "markdown",
   "metadata": {},
   "source": [
    "**Средний клиент оператора**\n",
    "\n",
    "- активный пользователь интернета;\n",
    "- мало использует СМС сообщения;\n",
    "- скорее всего часть пользователей тарифа Ультра не платят за него самостоятельно, либо не считают для себя это значительной тратой, т.к. для многих было бы выгоднее использовать тариф Смарт с учетом их аппетитов по звонкам и СМС, доплачивая за превышение интернет трафика. \n",
    "- пользователи тарифа Смарт более внимательно подходят к использованию лимитов и в среднем стараются использовать значения максимально близкие к доступным им лимитам (по звонкам и интернету), при этом часть из них регулярно превышает интернет трафик и доплачивает за дополнительные ГБ."
   ]
  },
  {
   "cell_type": "markdown",
   "metadata": {},
   "source": [
    "## Проверка гипотез"
   ]
  },
  {
   "cell_type": "markdown",
   "metadata": {},
   "source": [
    "Проверьте гипотезы\n",
    "\n",
    "-    средняя выручка пользователей тарифов «Ультра» и «Смарт» различаются;\n",
    "-    средняя выручка пользователей из Москвы отличается от выручки пользователей из других регионов.\n",
    "\n",
    "Пороговое значение alpha задайте самостоятельно.\n",
    "Поясните:\n",
    "\n",
    "-    как вы формулировали нулевую и альтернативную гипотезы;\n",
    "-    какой критерий использовали для проверки гипотез и почему."
   ]
  },
  {
   "cell_type": "markdown",
   "metadata": {},
   "source": [
    "### Гипотеза о различии средней выручки тарифов Ультра и Смарт"
   ]
  },
  {
   "cell_type": "markdown",
   "metadata": {},
   "source": [
    "В рамках постановки гипотез пойдем от обратного, то есть равенства среднего двух выборок.\n",
    "\n",
    "Постановка гипотезы:\n",
    "\n",
    "Н0 - средняя выручка пользователей тарифа Смарт РАВНА средней выручки пользователей тарифа Ультра;\n",
    "\n",
    "Н1 - средняя выручка пользователей тарифа Смарт НЕ РАВНА средней выручки пользователей тарифа Ультра;\n",
    "\n",
    "В данном случае альтернативная гипотеза - двусторонняя. \n",
    "\n",
    "Потребуется использовать функцию st.ttest_ind для проверки гипотезы о неравенстве среднего двух генеральных совокупностей по взятым из них выборкам."
   ]
  },
  {
   "cell_type": "code",
   "execution_count": 131,
   "metadata": {},
   "outputs": [],
   "source": [
    "revenue_smart = final_table_smart['month_revenue']\n",
    "revenue_ultra = final_table_ultra['month_revenue']"
   ]
  },
  {
   "cell_type": "code",
   "execution_count": 132,
   "metadata": {},
   "outputs": [
    {
     "data": {
      "text/plain": [
       "669485.2209234155"
      ]
     },
     "execution_count": 132,
     "metadata": {},
     "output_type": "execute_result"
    }
   ],
   "source": [
    "np.var(revenue_smart)"
   ]
  },
  {
   "cell_type": "code",
   "execution_count": 133,
   "metadata": {},
   "outputs": [
    {
     "data": {
      "text/plain": [
       "141373.07325620213"
      ]
     },
     "execution_count": 133,
     "metadata": {},
     "output_type": "execute_result"
    }
   ],
   "source": [
    "np.var(revenue_ultra)"
   ]
  },
  {
   "cell_type": "code",
   "execution_count": 134,
   "metadata": {},
   "outputs": [
    {
     "name": "stdout",
     "output_type": "stream",
     "text": [
      "p-значение:  4.2606313931076085e-250\n",
      "Отвергаем нулевую гипотезу\n"
     ]
    }
   ],
   "source": [
    "alpha = 0.05\n",
    "\n",
    "#используем опцию equal_var=False ввиду значительного различия дисперсий выборок\n",
    "\n",
    "results = st.ttest_ind(revenue_smart, revenue_ultra, equal_var=False)\n",
    "\n",
    "print('p-значение: ', results.pvalue)\n",
    "\n",
    "if results.pvalue < alpha:\n",
    "    print(\"Отвергаем нулевую гипотезу\")\n",
    "else:\n",
    "    print(\"Не получилось отвергнуть нулевую гипотезу\") "
   ]
  },
  {
   "cell_type": "markdown",
   "metadata": {},
   "source": [
    "Таким образом гипотеза о РАВЕНСТВЕ средних двух выборок ОТВЕРГАЕТСЯ. Возможно утверждать, что средняя выручка двух тарифов РАЗЛИЧАЕТСЯ. "
   ]
  },
  {
   "cell_type": "code",
   "execution_count": 135,
   "metadata": {},
   "outputs": [
    {
     "data": {
      "text/plain": [
       "1289.9735307312696"
      ]
     },
     "execution_count": 135,
     "metadata": {},
     "output_type": "execute_result"
    }
   ],
   "source": [
    "revenue_smart.mean()"
   ]
  },
  {
   "cell_type": "code",
   "execution_count": 136,
   "metadata": {},
   "outputs": [
    {
     "data": {
      "text/plain": [
       "2070.1522842639592"
      ]
     },
     "execution_count": 136,
     "metadata": {},
     "output_type": "execute_result"
    }
   ],
   "source": [
    "revenue_ultra.mean()"
   ]
  },
  {
   "cell_type": "code",
   "execution_count": 137,
   "metadata": {},
   "outputs": [
    {
     "data": {
      "text/plain": [
       "1.6048021412427091"
      ]
     },
     "execution_count": 137,
     "metadata": {},
     "output_type": "execute_result"
    }
   ],
   "source": [
    "revenue_ultra.mean() / revenue_smart.mean()"
   ]
  },
  {
   "cell_type": "markdown",
   "metadata": {},
   "source": [
    "В абсолютном выражении средняя выручка тарифа Ультра в 1.6 раза больше средней выручки тарифа Смарт."
   ]
  },
  {
   "cell_type": "markdown",
   "metadata": {},
   "source": [
    "### Гипотеза о различии средней выручки клиентов из Москвы и регионов"
   ]
  },
  {
   "cell_type": "markdown",
   "metadata": {},
   "source": [
    "Постановка гипотезы:\n",
    "\n",
    "Н0 - средняя выручка пользователей из Москвы РАВНА средней выручки пользователей из регионов;\n",
    "\n",
    "Н1 - средняя выручка пользователей из Москвы НЕ РАВНА средней выручки пользователей из регионов;\n",
    "\n",
    "В данном случае альтернативная гипотеза - двусторонняя. \n",
    "\n",
    "Потребуется использовать функцию st.ttest_ind для проверки гипотезы о неравенстве среднего двух генеральных совокупностей по взятым из них выборкам."
   ]
  },
  {
   "cell_type": "code",
   "execution_count": 138,
   "metadata": {},
   "outputs": [],
   "source": [
    "revenue_msk = final_table_msk['month_revenue']\n",
    "revenue_reg = final_table_reg['month_revenue']"
   ]
  },
  {
   "cell_type": "code",
   "execution_count": 139,
   "metadata": {},
   "outputs": [
    {
     "data": {
      "text/plain": [
       "564710.7117467269"
      ]
     },
     "execution_count": 139,
     "metadata": {},
     "output_type": "execute_result"
    }
   ],
   "source": [
    "np.var(revenue_msk)"
   ]
  },
  {
   "cell_type": "code",
   "execution_count": 140,
   "metadata": {},
   "outputs": [
    {
     "data": {
      "text/plain": [
       "653886.3270894106"
      ]
     },
     "execution_count": 140,
     "metadata": {},
     "output_type": "execute_result"
    }
   ],
   "source": [
    "np.var(revenue_reg)"
   ]
  },
  {
   "cell_type": "code",
   "execution_count": 141,
   "metadata": {},
   "outputs": [
    {
     "name": "stdout",
     "output_type": "stream",
     "text": [
      "p-значение:  0.5440152911670224\n",
      "Не получилось отвергнуть нулевую гипотезу\n"
     ]
    }
   ],
   "source": [
    "results = st.ttest_ind(revenue_msk, revenue_reg)\n",
    "\n",
    "print('p-значение: ', results.pvalue)\n",
    "\n",
    "if results.pvalue < alpha:\n",
    "    print(\"Отвергаем нулевую гипотезу\")\n",
    "else:\n",
    "    print(\"Не получилось отвергнуть нулевую гипотезу\") "
   ]
  },
  {
   "cell_type": "markdown",
   "metadata": {},
   "source": [
    "Таким образом гипотеза о РАВЕНСТВЕ средних двух выборок НЕ ОТВЕРГАЕТСЯ. Возможно утверждать, что средняя выручка клиентов из Москвы и Регионов не различаются.\n",
    "\n",
    "Вероятность получить среднюю в выручке из Москвы по сравнению с регионом равными или еще дальше друг от друга = 54%."
   ]
  },
  {
   "cell_type": "code",
   "execution_count": 142,
   "metadata": {},
   "outputs": [
    {
     "data": {
      "text/plain": [
       "1546.7135842880523"
      ]
     },
     "execution_count": 142,
     "metadata": {},
     "output_type": "execute_result"
    }
   ],
   "source": [
    "revenue_msk.mean()"
   ]
  },
  {
   "cell_type": "code",
   "execution_count": 143,
   "metadata": {},
   "outputs": [
    {
     "data": {
      "text/plain": [
       "1524.9362274298885"
      ]
     },
     "execution_count": 143,
     "metadata": {},
     "output_type": "execute_result"
    }
   ],
   "source": [
    "revenue_reg.mean()"
   ]
  },
  {
   "cell_type": "code",
   "execution_count": 144,
   "metadata": {},
   "outputs": [
    {
     "data": {
      "text/plain": [
       "1.0142808312022773"
      ]
     },
     "execution_count": 144,
     "metadata": {},
     "output_type": "execute_result"
    }
   ],
   "source": [
    "revenue_msk.mean() / revenue_reg.mean()"
   ]
  },
  {
   "cell_type": "markdown",
   "metadata": {},
   "source": [
    "В абсолютном выражении средняя выручка клиентов из Москвы отличается на 1,4% от средней выручки клиентов из Регионов. "
   ]
  },
  {
   "cell_type": "markdown",
   "metadata": {},
   "source": [
    "## Общий вывод"
   ]
  },
  {
   "cell_type": "markdown",
   "metadata": {},
   "source": [
    "В рамках корректировки рекламного бюджета следует обратить внимание на удержание и продвижение тарифа Ультра, ввиду того, что он приносит на 60% средней выручки больше. \n",
    "\n",
    "При этом также желательно обратить внимание на использование лимитов в тарифе Ультра (максимальная утилизация только по интернет трафику порядка 60% от лимита), по остальным направлениям значительно ниже. \n",
    "Возможно, в рамках рекламной заманухи можно в тарифе Ультра установить безлимит по СМС и звонкам.\n",
    "\n",
    "Также стоит обратить внимание на стабильное превышение включенного в пакет тарифа Смарт интернет трафика. Возможно предложить клиентам заранее повысить свой лимит на месяц не пакетами по 1гб, а по 3-5. С учетом превышения в среднем на 1-2Гб выше лимита, предложить такую цену, которая окажется более выгодной, чем если клиент будет платить за превышение в 1-2Гб, чем сразу себе покупать тариф Смарт + 5Гб. "
   ]
  }
 ],
 "metadata": {
  "ExecuteTimeLog": [
   {
    "duration": 174,
    "start_time": "2022-03-03T18:38:46.509Z"
   },
   {
    "duration": 968,
    "start_time": "2022-03-03T19:44:51.644Z"
   },
   {
    "duration": 601,
    "start_time": "2022-03-03T19:45:23.162Z"
   },
   {
    "duration": 4,
    "start_time": "2022-03-03T19:45:41.576Z"
   },
   {
    "duration": 225,
    "start_time": "2022-03-03T19:47:49.163Z"
   },
   {
    "duration": 603,
    "start_time": "2022-03-03T19:50:04.017Z"
   },
   {
    "duration": 13,
    "start_time": "2022-03-03T19:50:36.309Z"
   },
   {
    "duration": 12,
    "start_time": "2022-03-03T19:51:12.265Z"
   },
   {
    "duration": 17,
    "start_time": "2022-03-03T19:51:12.683Z"
   },
   {
    "duration": 22,
    "start_time": "2022-03-03T19:51:14.544Z"
   },
   {
    "duration": 13,
    "start_time": "2022-03-03T20:24:03.963Z"
   },
   {
    "duration": 14,
    "start_time": "2022-03-03T20:24:23.557Z"
   },
   {
    "duration": 539,
    "start_time": "2022-03-03T20:27:50.310Z"
   },
   {
    "duration": 13,
    "start_time": "2022-03-03T20:27:53.091Z"
   },
   {
    "duration": 19,
    "start_time": "2022-03-03T20:27:55.444Z"
   },
   {
    "duration": 11,
    "start_time": "2022-03-03T20:27:57.536Z"
   },
   {
    "duration": 14,
    "start_time": "2022-03-03T20:28:11.086Z"
   },
   {
    "duration": 12,
    "start_time": "2022-03-03T20:36:48.857Z"
   },
   {
    "duration": 14,
    "start_time": "2022-03-03T20:36:55.606Z"
   },
   {
    "duration": 16,
    "start_time": "2022-03-03T20:37:03.645Z"
   },
   {
    "duration": 12,
    "start_time": "2022-03-03T20:51:01.324Z"
   },
   {
    "duration": 13,
    "start_time": "2022-03-03T20:51:03.137Z"
   },
   {
    "duration": 10,
    "start_time": "2022-03-03T20:51:03.825Z"
   },
   {
    "duration": 12,
    "start_time": "2022-03-03T20:51:06.161Z"
   },
   {
    "duration": 11,
    "start_time": "2022-03-03T20:51:13.039Z"
   },
   {
    "duration": 4,
    "start_time": "2022-03-03T22:07:51.921Z"
   },
   {
    "duration": 23,
    "start_time": "2022-03-03T22:11:20.692Z"
   },
   {
    "duration": 149,
    "start_time": "2022-03-03T22:13:04.432Z"
   },
   {
    "duration": 19,
    "start_time": "2022-03-03T22:13:20.675Z"
   },
   {
    "duration": 12,
    "start_time": "2022-03-03T22:13:38.761Z"
   },
   {
    "duration": 834,
    "start_time": "2022-03-03T22:17:27.171Z"
   },
   {
    "duration": 802,
    "start_time": "2022-03-03T22:18:06.088Z"
   },
   {
    "duration": 976,
    "start_time": "2022-03-04T00:47:55.603Z"
   },
   {
    "duration": 275,
    "start_time": "2022-03-04T08:49:20.702Z"
   },
   {
    "duration": 1053,
    "start_time": "2022-03-04T08:49:25.410Z"
   },
   {
    "duration": 394,
    "start_time": "2022-03-04T08:49:26.768Z"
   },
   {
    "duration": 11,
    "start_time": "2022-03-04T08:49:29.515Z"
   },
   {
    "duration": 21,
    "start_time": "2022-03-04T08:49:33.357Z"
   },
   {
    "duration": 2,
    "start_time": "2022-03-04T15:26:37.301Z"
   },
   {
    "duration": 362,
    "start_time": "2022-03-04T15:26:38.074Z"
   },
   {
    "duration": 9,
    "start_time": "2022-03-04T15:26:40.669Z"
   },
   {
    "duration": 19,
    "start_time": "2022-03-04T15:26:46.188Z"
   },
   {
    "duration": 19,
    "start_time": "2022-03-04T15:27:34.170Z"
   },
   {
    "duration": 15,
    "start_time": "2022-03-04T15:27:34.768Z"
   },
   {
    "duration": 10,
    "start_time": "2022-03-04T15:43:16.815Z"
   },
   {
    "duration": 5,
    "start_time": "2022-03-04T16:13:09.707Z"
   },
   {
    "duration": 529,
    "start_time": "2022-03-04T16:22:47.708Z"
   },
   {
    "duration": 407,
    "start_time": "2022-03-04T16:22:58.877Z"
   },
   {
    "duration": 449,
    "start_time": "2022-03-04T16:28:05.784Z"
   },
   {
    "duration": 1327,
    "start_time": "2022-03-06T14:59:35.113Z"
   },
   {
    "duration": 513,
    "start_time": "2022-03-06T14:59:36.443Z"
   },
   {
    "duration": 17,
    "start_time": "2022-03-06T14:59:39.762Z"
   },
   {
    "duration": 29,
    "start_time": "2022-03-06T14:59:40.493Z"
   },
   {
    "duration": 17,
    "start_time": "2022-03-06T15:00:12.496Z"
   },
   {
    "duration": 43,
    "start_time": "2022-03-06T15:00:13.158Z"
   },
   {
    "duration": 29,
    "start_time": "2022-03-06T15:00:15.031Z"
   },
   {
    "duration": 8,
    "start_time": "2022-03-06T15:00:15.672Z"
   },
   {
    "duration": 1215,
    "start_time": "2022-03-06T15:00:16.706Z"
   },
   {
    "duration": 19,
    "start_time": "2022-03-06T15:17:21.996Z"
   },
   {
    "duration": 49,
    "start_time": "2022-03-06T15:17:22.303Z"
   },
   {
    "duration": 21,
    "start_time": "2022-03-06T15:17:26.359Z"
   },
   {
    "duration": 21,
    "start_time": "2022-03-06T15:17:28.653Z"
   },
   {
    "duration": 1411,
    "start_time": "2022-03-06T15:17:28.945Z"
   },
   {
    "duration": 957,
    "start_time": "2022-03-06T15:18:35.455Z"
   },
   {
    "duration": 852,
    "start_time": "2022-03-06T15:19:00.616Z"
   },
   {
    "duration": 17,
    "start_time": "2022-03-06T15:31:17.227Z"
   },
   {
    "duration": 8,
    "start_time": "2022-03-06T15:31:34.787Z"
   },
   {
    "duration": 975,
    "start_time": "2022-03-06T15:32:01.519Z"
   },
   {
    "duration": 1049,
    "start_time": "2022-03-06T15:32:10.466Z"
   },
   {
    "duration": 21,
    "start_time": "2022-03-06T15:32:56.324Z"
   },
   {
    "duration": 1012,
    "start_time": "2022-03-06T15:35:00.876Z"
   },
   {
    "duration": 20,
    "start_time": "2022-03-06T15:35:15.722Z"
   },
   {
    "duration": 40,
    "start_time": "2022-03-06T15:36:17.887Z"
   },
   {
    "duration": 21,
    "start_time": "2022-03-06T15:37:02.285Z"
   },
   {
    "duration": 16,
    "start_time": "2022-03-06T15:37:10.970Z"
   },
   {
    "duration": 16,
    "start_time": "2022-03-06T15:37:35.870Z"
   },
   {
    "duration": 16,
    "start_time": "2022-03-06T15:37:45.109Z"
   },
   {
    "duration": 23,
    "start_time": "2022-03-06T15:37:57.067Z"
   },
   {
    "duration": 401,
    "start_time": "2022-03-06T15:51:28.320Z"
   },
   {
    "duration": 326,
    "start_time": "2022-03-06T15:51:38.646Z"
   },
   {
    "duration": 25,
    "start_time": "2022-03-06T15:52:10.247Z"
   },
   {
    "duration": 31,
    "start_time": "2022-03-06T15:52:22.529Z"
   },
   {
    "duration": 6,
    "start_time": "2022-03-06T15:57:46.666Z"
   },
   {
    "duration": 6,
    "start_time": "2022-03-06T16:20:24.628Z"
   },
   {
    "duration": 7833,
    "start_time": "2022-03-06T16:21:11.504Z"
   },
   {
    "duration": 11,
    "start_time": "2022-03-06T16:21:22.421Z"
   },
   {
    "duration": 800,
    "start_time": "2022-03-06T16:22:25.068Z"
   },
   {
    "duration": 811,
    "start_time": "2022-03-06T16:22:40.955Z"
   },
   {
    "duration": 826,
    "start_time": "2022-03-06T16:22:48.815Z"
   },
   {
    "duration": 985,
    "start_time": "2022-03-06T16:23:07.865Z"
   },
   {
    "duration": 888,
    "start_time": "2022-03-06T16:23:14.081Z"
   },
   {
    "duration": 360,
    "start_time": "2022-03-06T16:23:56.279Z"
   },
   {
    "duration": 12,
    "start_time": "2022-03-06T16:24:08.997Z"
   },
   {
    "duration": 12,
    "start_time": "2022-03-06T16:24:31.132Z"
   },
   {
    "duration": 11,
    "start_time": "2022-03-06T16:25:10.976Z"
   },
   {
    "duration": 13,
    "start_time": "2022-03-06T16:29:04.130Z"
   },
   {
    "duration": 12,
    "start_time": "2022-03-06T16:29:08.891Z"
   },
   {
    "duration": 12,
    "start_time": "2022-03-06T16:29:14.325Z"
   },
   {
    "duration": 41,
    "start_time": "2022-03-06T16:42:49.554Z"
   },
   {
    "duration": 26,
    "start_time": "2022-03-06T16:42:56.546Z"
   },
   {
    "duration": 40,
    "start_time": "2022-03-06T16:43:01.409Z"
   },
   {
    "duration": 12,
    "start_time": "2022-03-06T16:43:02.136Z"
   },
   {
    "duration": 21,
    "start_time": "2022-03-06T16:43:07.345Z"
   },
   {
    "duration": 4,
    "start_time": "2022-03-06T16:46:33.531Z"
   },
   {
    "duration": 19,
    "start_time": "2022-03-06T19:13:06.955Z"
   },
   {
    "duration": 152,
    "start_time": "2022-03-06T19:13:18.982Z"
   },
   {
    "duration": 26,
    "start_time": "2022-03-06T19:13:20.355Z"
   },
   {
    "duration": 14,
    "start_time": "2022-03-06T19:15:44.531Z"
   },
   {
    "duration": 14,
    "start_time": "2022-03-06T19:19:55.544Z"
   },
   {
    "duration": 7249,
    "start_time": "2022-03-06T19:22:13.254Z"
   },
   {
    "duration": 43,
    "start_time": "2022-03-06T19:22:32.203Z"
   },
   {
    "duration": 45,
    "start_time": "2022-03-06T19:22:40.584Z"
   },
   {
    "duration": 48,
    "start_time": "2022-03-06T19:22:55.800Z"
   },
   {
    "duration": 15,
    "start_time": "2022-03-06T20:16:13.829Z"
   },
   {
    "duration": 36,
    "start_time": "2022-03-06T20:16:14.354Z"
   },
   {
    "duration": 14,
    "start_time": "2022-03-06T20:46:58.417Z"
   },
   {
    "duration": 23,
    "start_time": "2022-03-06T20:47:09.623Z"
   },
   {
    "duration": 33,
    "start_time": "2022-03-06T20:47:32.532Z"
   },
   {
    "duration": 13,
    "start_time": "2022-03-06T20:47:32.906Z"
   },
   {
    "duration": 519,
    "start_time": "2022-03-06T20:47:44.949Z"
   },
   {
    "duration": 12,
    "start_time": "2022-03-06T20:47:49.858Z"
   },
   {
    "duration": 27,
    "start_time": "2022-03-06T20:47:50.221Z"
   },
   {
    "duration": 39,
    "start_time": "2022-03-06T20:47:50.874Z"
   },
   {
    "duration": 13,
    "start_time": "2022-03-06T20:47:51.073Z"
   },
   {
    "duration": 22,
    "start_time": "2022-03-06T20:47:51.256Z"
   },
   {
    "duration": 176,
    "start_time": "2022-03-06T20:47:51.775Z"
   },
   {
    "duration": 23,
    "start_time": "2022-03-06T20:47:53.905Z"
   },
   {
    "duration": 14,
    "start_time": "2022-03-06T20:47:54.414Z"
   },
   {
    "duration": 41,
    "start_time": "2022-03-06T20:47:56.988Z"
   },
   {
    "duration": 17,
    "start_time": "2022-03-06T20:48:00.379Z"
   },
   {
    "duration": 35,
    "start_time": "2022-03-06T20:48:05.769Z"
   },
   {
    "duration": 31,
    "start_time": "2022-03-06T20:48:11.109Z"
   },
   {
    "duration": 15,
    "start_time": "2022-03-06T20:48:11.498Z"
   },
   {
    "duration": 19,
    "start_time": "2022-03-06T20:48:42.599Z"
   },
   {
    "duration": 34,
    "start_time": "2022-03-06T21:09:31.628Z"
   },
   {
    "duration": 36,
    "start_time": "2022-03-06T22:45:01.819Z"
   },
   {
    "duration": 81,
    "start_time": "2022-03-06T22:54:17.057Z"
   },
   {
    "duration": 15,
    "start_time": "2022-03-06T22:54:19.142Z"
   },
   {
    "duration": 14,
    "start_time": "2022-03-06T22:55:25.759Z"
   },
   {
    "duration": 9,
    "start_time": "2022-03-06T22:55:28.154Z"
   },
   {
    "duration": 14,
    "start_time": "2022-03-06T22:55:28.730Z"
   },
   {
    "duration": 5,
    "start_time": "2022-03-06T22:57:21.886Z"
   },
   {
    "duration": 11,
    "start_time": "2022-03-06T22:57:22.559Z"
   },
   {
    "duration": 74,
    "start_time": "2022-03-06T22:59:40.163Z"
   },
   {
    "duration": 11,
    "start_time": "2022-03-06T22:59:41.143Z"
   },
   {
    "duration": 12,
    "start_time": "2022-03-06T22:59:55.392Z"
   },
   {
    "duration": 14,
    "start_time": "2022-03-06T23:06:55.522Z"
   },
   {
    "duration": 15,
    "start_time": "2022-03-06T23:10:14.394Z"
   },
   {
    "duration": 18,
    "start_time": "2022-03-06T23:11:24.951Z"
   },
   {
    "duration": 17,
    "start_time": "2022-03-06T23:11:25.879Z"
   },
   {
    "duration": 22,
    "start_time": "2022-03-06T23:11:31.585Z"
   },
   {
    "duration": 18,
    "start_time": "2022-03-06T23:11:38.461Z"
   },
   {
    "duration": 6920,
    "start_time": "2022-03-06T23:13:03.896Z"
   },
   {
    "duration": 17,
    "start_time": "2022-03-06T23:13:34.677Z"
   },
   {
    "duration": 14,
    "start_time": "2022-03-06T23:13:40.940Z"
   },
   {
    "duration": 12,
    "start_time": "2022-03-06T23:13:45.741Z"
   },
   {
    "duration": 39,
    "start_time": "2022-03-06T23:18:07.365Z"
   },
   {
    "duration": 15,
    "start_time": "2022-03-06T23:18:21.306Z"
   },
   {
    "duration": 22,
    "start_time": "2022-03-06T23:18:32.127Z"
   },
   {
    "duration": 16,
    "start_time": "2022-03-06T23:18:56.253Z"
   },
   {
    "duration": 24,
    "start_time": "2022-03-06T23:19:22.321Z"
   },
   {
    "duration": 36,
    "start_time": "2022-03-06T23:19:32.066Z"
   },
   {
    "duration": 31,
    "start_time": "2022-03-06T23:19:40.841Z"
   },
   {
    "duration": 11,
    "start_time": "2022-03-06T23:19:48.039Z"
   },
   {
    "duration": 20,
    "start_time": "2022-03-06T23:19:48.696Z"
   },
   {
    "duration": 12,
    "start_time": "2022-03-06T23:25:58.940Z"
   },
   {
    "duration": 737,
    "start_time": "2022-03-06T23:26:00.878Z"
   },
   {
    "duration": 25,
    "start_time": "2022-03-06T23:26:13.359Z"
   },
   {
    "duration": 12,
    "start_time": "2022-03-06T23:27:11.910Z"
   },
   {
    "duration": 30,
    "start_time": "2022-03-06T23:27:12.503Z"
   },
   {
    "duration": 15,
    "start_time": "2022-03-06T23:28:41.069Z"
   },
   {
    "duration": 24,
    "start_time": "2022-03-06T23:28:41.627Z"
   },
   {
    "duration": 18,
    "start_time": "2022-03-06T23:29:28.076Z"
   },
   {
    "duration": 31,
    "start_time": "2022-03-06T23:29:34.430Z"
   },
   {
    "duration": 12,
    "start_time": "2022-03-06T23:29:37.267Z"
   },
   {
    "duration": 13,
    "start_time": "2022-03-06T23:29:37.810Z"
   },
   {
    "duration": 21,
    "start_time": "2022-03-06T23:29:38.845Z"
   },
   {
    "duration": 200,
    "start_time": "2022-03-06T23:29:43.319Z"
   },
   {
    "duration": 27,
    "start_time": "2022-03-06T23:29:44.223Z"
   },
   {
    "duration": 16,
    "start_time": "2022-03-06T23:29:51.137Z"
   },
   {
    "duration": 41,
    "start_time": "2022-03-06T23:29:55.634Z"
   },
   {
    "duration": 73,
    "start_time": "2022-03-06T23:30:01.296Z"
   },
   {
    "duration": 14,
    "start_time": "2022-03-06T23:30:02.114Z"
   },
   {
    "duration": 11,
    "start_time": "2022-03-06T23:34:27.357Z"
   },
   {
    "duration": 14,
    "start_time": "2022-03-06T23:37:07.842Z"
   },
   {
    "duration": 14,
    "start_time": "2022-03-06T23:37:18.155Z"
   },
   {
    "duration": 11,
    "start_time": "2022-03-06T23:38:18.966Z"
   },
   {
    "duration": 23,
    "start_time": "2022-03-06T23:38:22.394Z"
   },
   {
    "duration": 81,
    "start_time": "2022-03-06T23:42:24.832Z"
   },
   {
    "duration": 15,
    "start_time": "2022-03-06T23:42:25.771Z"
   },
   {
    "duration": 13,
    "start_time": "2022-03-06T23:42:27.129Z"
   },
   {
    "duration": 15,
    "start_time": "2022-03-06T23:42:29.635Z"
   },
   {
    "duration": 13,
    "start_time": "2022-03-06T23:43:58.203Z"
   },
   {
    "duration": 34,
    "start_time": "2022-03-06T23:44:18.833Z"
   },
   {
    "duration": 911,
    "start_time": "2022-03-06T23:46:12.503Z"
   },
   {
    "duration": 792,
    "start_time": "2022-03-06T23:46:40.340Z"
   },
   {
    "duration": 324,
    "start_time": "2022-03-06T23:47:03.937Z"
   },
   {
    "duration": 82,
    "start_time": "2022-03-06T23:47:13.390Z"
   },
   {
    "duration": 12,
    "start_time": "2022-03-06T23:47:14.124Z"
   },
   {
    "duration": 15,
    "start_time": "2022-03-06T23:47:15.408Z"
   },
   {
    "duration": 14,
    "start_time": "2022-03-06T23:47:18.645Z"
   },
   {
    "duration": 14,
    "start_time": "2022-03-06T23:47:24.533Z"
   },
   {
    "duration": 13,
    "start_time": "2022-03-06T23:47:30.756Z"
   },
   {
    "duration": 17,
    "start_time": "2022-03-06T23:52:51.827Z"
   },
   {
    "duration": 144,
    "start_time": "2022-03-06T23:52:53.561Z"
   },
   {
    "duration": 17,
    "start_time": "2022-03-06T23:52:54.427Z"
   },
   {
    "duration": 24,
    "start_time": "2022-03-06T23:53:01.958Z"
   },
   {
    "duration": 133,
    "start_time": "2022-03-06T23:53:43.493Z"
   },
   {
    "duration": 26,
    "start_time": "2022-03-06T23:53:45.834Z"
   },
   {
    "duration": 30,
    "start_time": "2022-03-06T23:54:13.564Z"
   },
   {
    "duration": 28,
    "start_time": "2022-03-07T00:00:59.776Z"
   },
   {
    "duration": 11,
    "start_time": "2022-03-07T00:01:00.492Z"
   },
   {
    "duration": 26,
    "start_time": "2022-03-07T00:01:10.341Z"
   },
   {
    "duration": 12,
    "start_time": "2022-03-07T00:01:10.767Z"
   },
   {
    "duration": 22,
    "start_time": "2022-03-07T00:01:59.937Z"
   },
   {
    "duration": 23,
    "start_time": "2022-03-07T00:02:06.602Z"
   },
   {
    "duration": 27,
    "start_time": "2022-03-07T00:02:38.589Z"
   },
   {
    "duration": 12,
    "start_time": "2022-03-07T00:03:49.241Z"
   },
   {
    "duration": 19,
    "start_time": "2022-03-07T00:03:49.846Z"
   },
   {
    "duration": 14,
    "start_time": "2022-03-07T00:04:06.792Z"
   },
   {
    "duration": 130,
    "start_time": "2022-03-07T00:10:59.514Z"
   },
   {
    "duration": 16,
    "start_time": "2022-03-07T00:11:00.401Z"
   },
   {
    "duration": 28,
    "start_time": "2022-03-07T00:11:18.235Z"
   },
   {
    "duration": 14,
    "start_time": "2022-03-07T00:11:18.587Z"
   },
   {
    "duration": 13,
    "start_time": "2022-03-07T00:11:19.055Z"
   },
   {
    "duration": 16,
    "start_time": "2022-03-07T00:11:20.902Z"
   },
   {
    "duration": 132,
    "start_time": "2022-03-07T00:11:22.520Z"
   },
   {
    "duration": 15,
    "start_time": "2022-03-07T00:11:23.440Z"
   },
   {
    "duration": 31,
    "start_time": "2022-03-07T00:12:00.574Z"
   },
   {
    "duration": 35,
    "start_time": "2022-03-07T00:15:09.209Z"
   },
   {
    "duration": 9,
    "start_time": "2022-03-07T00:15:15.124Z"
   },
   {
    "duration": 14,
    "start_time": "2022-03-07T00:15:15.617Z"
   },
   {
    "duration": 20,
    "start_time": "2022-03-07T00:15:16.087Z"
   },
   {
    "duration": 34,
    "start_time": "2022-03-07T00:15:16.810Z"
   },
   {
    "duration": 31,
    "start_time": "2022-03-07T00:15:18.937Z"
   },
   {
    "duration": 10,
    "start_time": "2022-03-07T00:15:19.436Z"
   },
   {
    "duration": 15,
    "start_time": "2022-03-07T00:15:22.795Z"
   },
   {
    "duration": 14,
    "start_time": "2022-03-07T00:15:23.194Z"
   },
   {
    "duration": 140,
    "start_time": "2022-03-07T00:15:24.512Z"
   },
   {
    "duration": 14,
    "start_time": "2022-03-07T00:15:26.209Z"
   },
   {
    "duration": 28,
    "start_time": "2022-03-07T00:15:27.770Z"
   },
   {
    "duration": 12,
    "start_time": "2022-03-07T01:12:59.812Z"
   },
   {
    "duration": 20,
    "start_time": "2022-03-07T01:15:46.610Z"
   },
   {
    "duration": 12,
    "start_time": "2022-03-07T01:15:47.100Z"
   },
   {
    "duration": 24,
    "start_time": "2022-03-07T01:16:11.357Z"
   },
   {
    "duration": 17,
    "start_time": "2022-03-07T01:16:13.646Z"
   },
   {
    "duration": 39,
    "start_time": "2022-03-07T01:16:41.462Z"
   },
   {
    "duration": 37,
    "start_time": "2022-03-07T01:17:29.744Z"
   },
   {
    "duration": 11,
    "start_time": "2022-03-07T01:17:34.864Z"
   },
   {
    "duration": 34,
    "start_time": "2022-03-07T01:18:36.566Z"
   },
   {
    "duration": 10,
    "start_time": "2022-03-07T01:18:37.066Z"
   },
   {
    "duration": 21,
    "start_time": "2022-03-07T01:19:01.019Z"
   },
   {
    "duration": 13,
    "start_time": "2022-03-07T01:20:07.748Z"
   },
   {
    "duration": 13,
    "start_time": "2022-03-07T01:20:08.307Z"
   },
   {
    "duration": 114,
    "start_time": "2022-03-07T01:24:14.608Z"
   },
   {
    "duration": 15,
    "start_time": "2022-03-07T01:24:15.319Z"
   },
   {
    "duration": 22,
    "start_time": "2022-03-07T01:24:42.504Z"
   },
   {
    "duration": 13,
    "start_time": "2022-03-07T01:25:46.925Z"
   },
   {
    "duration": 15,
    "start_time": "2022-03-07T01:26:15.845Z"
   },
   {
    "duration": 18,
    "start_time": "2022-03-07T01:26:16.201Z"
   },
   {
    "duration": 19,
    "start_time": "2022-03-07T01:26:16.626Z"
   },
   {
    "duration": 12,
    "start_time": "2022-03-07T01:26:16.948Z"
   },
   {
    "duration": 22,
    "start_time": "2022-03-07T01:26:20.027Z"
   },
   {
    "duration": 11,
    "start_time": "2022-03-07T01:27:15.607Z"
   },
   {
    "duration": 21,
    "start_time": "2022-03-07T01:27:25.467Z"
   },
   {
    "duration": 13,
    "start_time": "2022-03-07T01:28:07.956Z"
   },
   {
    "duration": 20,
    "start_time": "2022-03-07T01:28:08.378Z"
   },
   {
    "duration": 9,
    "start_time": "2022-03-07T01:28:10.703Z"
   },
   {
    "duration": 13,
    "start_time": "2022-03-07T01:28:10.936Z"
   },
   {
    "duration": 21,
    "start_time": "2022-03-07T01:28:11.324Z"
   },
   {
    "duration": 147,
    "start_time": "2022-03-07T01:28:13.668Z"
   },
   {
    "duration": 24,
    "start_time": "2022-03-07T01:28:14.065Z"
   },
   {
    "duration": 15,
    "start_time": "2022-03-07T01:28:14.898Z"
   },
   {
    "duration": 39,
    "start_time": "2022-03-07T01:28:21.711Z"
   },
   {
    "duration": 68,
    "start_time": "2022-03-07T01:28:25.604Z"
   },
   {
    "duration": 12,
    "start_time": "2022-03-07T01:28:25.970Z"
   },
   {
    "duration": 12,
    "start_time": "2022-03-07T01:28:34.901Z"
   },
   {
    "duration": 13,
    "start_time": "2022-03-07T01:28:36.448Z"
   },
   {
    "duration": 130,
    "start_time": "2022-03-07T01:28:39.889Z"
   },
   {
    "duration": 18,
    "start_time": "2022-03-07T01:28:40.397Z"
   },
   {
    "duration": 13,
    "start_time": "2022-03-07T01:31:58.522Z"
   },
   {
    "duration": 14,
    "start_time": "2022-03-07T01:32:31.131Z"
   },
   {
    "duration": 18,
    "start_time": "2022-03-07T01:32:31.569Z"
   },
   {
    "duration": 8,
    "start_time": "2022-03-07T01:32:32.538Z"
   },
   {
    "duration": 14,
    "start_time": "2022-03-07T01:32:32.952Z"
   },
   {
    "duration": 18,
    "start_time": "2022-03-07T01:32:35.594Z"
   },
   {
    "duration": 33,
    "start_time": "2022-03-07T01:32:37.053Z"
   },
   {
    "duration": 36,
    "start_time": "2022-03-07T01:32:39.747Z"
   },
   {
    "duration": 10,
    "start_time": "2022-03-07T01:32:40.244Z"
   },
   {
    "duration": 14,
    "start_time": "2022-03-07T01:32:40.769Z"
   },
   {
    "duration": 12,
    "start_time": "2022-03-07T01:32:42.905Z"
   },
   {
    "duration": 136,
    "start_time": "2022-03-07T01:32:44.161Z"
   },
   {
    "duration": 13,
    "start_time": "2022-03-07T01:32:45.981Z"
   },
   {
    "duration": 22,
    "start_time": "2022-03-07T01:32:46.489Z"
   },
   {
    "duration": 31,
    "start_time": "2022-03-07T01:33:09.242Z"
   },
   {
    "duration": 10,
    "start_time": "2022-03-07T01:33:09.731Z"
   },
   {
    "duration": 12,
    "start_time": "2022-03-07T01:33:10.320Z"
   },
   {
    "duration": 13,
    "start_time": "2022-03-07T01:33:10.865Z"
   },
   {
    "duration": 135,
    "start_time": "2022-03-07T01:33:13.214Z"
   },
   {
    "duration": 14,
    "start_time": "2022-03-07T01:33:13.746Z"
   },
   {
    "duration": 19,
    "start_time": "2022-03-07T01:33:15.349Z"
   },
   {
    "duration": 295,
    "start_time": "2022-03-07T01:33:32.452Z"
   },
   {
    "duration": 13,
    "start_time": "2022-03-07T01:33:44.990Z"
   },
   {
    "duration": 15,
    "start_time": "2022-03-07T01:33:55.257Z"
   },
   {
    "duration": 13,
    "start_time": "2022-03-07T01:33:56.879Z"
   },
   {
    "duration": 9,
    "start_time": "2022-03-07T01:33:57.910Z"
   },
   {
    "duration": 18,
    "start_time": "2022-03-07T01:33:58.346Z"
   },
   {
    "duration": 29,
    "start_time": "2022-03-07T01:34:00.920Z"
   },
   {
    "duration": 36,
    "start_time": "2022-03-07T01:34:02.730Z"
   },
   {
    "duration": 11,
    "start_time": "2022-03-07T01:34:05.318Z"
   },
   {
    "duration": 12,
    "start_time": "2022-03-07T01:34:11.050Z"
   },
   {
    "duration": 12,
    "start_time": "2022-03-07T01:34:12.954Z"
   },
   {
    "duration": 114,
    "start_time": "2022-03-07T01:34:14.924Z"
   },
   {
    "duration": 13,
    "start_time": "2022-03-07T01:34:15.307Z"
   },
   {
    "duration": 18,
    "start_time": "2022-03-07T01:34:16.029Z"
   },
   {
    "duration": 12,
    "start_time": "2022-03-07T01:35:07.106Z"
   },
   {
    "duration": 12,
    "start_time": "2022-03-07T01:39:35.895Z"
   },
   {
    "duration": 14,
    "start_time": "2022-03-07T01:40:09.410Z"
   },
   {
    "duration": 13,
    "start_time": "2022-03-07T01:40:56.532Z"
   },
   {
    "duration": 13,
    "start_time": "2022-03-07T01:41:24.974Z"
   },
   {
    "duration": 16,
    "start_time": "2022-03-07T01:42:55.715Z"
   },
   {
    "duration": 14,
    "start_time": "2022-03-07T01:42:56.094Z"
   },
   {
    "duration": 14,
    "start_time": "2022-03-07T01:42:56.606Z"
   },
   {
    "duration": 13,
    "start_time": "2022-03-07T01:42:57.018Z"
   },
   {
    "duration": 11,
    "start_time": "2022-03-07T01:49:03.921Z"
   },
   {
    "duration": 23,
    "start_time": "2022-03-07T01:49:04.608Z"
   },
   {
    "duration": 294,
    "start_time": "2022-03-07T01:57:39.870Z"
   },
   {
    "duration": 7,
    "start_time": "2022-03-07T01:58:59.512Z"
   },
   {
    "duration": 17,
    "start_time": "2022-03-07T01:59:02.168Z"
   },
   {
    "duration": 9,
    "start_time": "2022-03-07T02:00:09.097Z"
   },
   {
    "duration": 24,
    "start_time": "2022-03-07T02:00:11.221Z"
   },
   {
    "duration": 11,
    "start_time": "2022-03-07T02:01:52.941Z"
   },
   {
    "duration": 22,
    "start_time": "2022-03-07T02:01:55.229Z"
   },
   {
    "duration": 23,
    "start_time": "2022-03-07T02:02:29.807Z"
   },
   {
    "duration": 20,
    "start_time": "2022-03-07T02:04:01.145Z"
   },
   {
    "duration": 11,
    "start_time": "2022-03-07T02:09:23.354Z"
   },
   {
    "duration": 21,
    "start_time": "2022-03-07T02:09:29.340Z"
   },
   {
    "duration": 20,
    "start_time": "2022-03-07T02:11:26.375Z"
   },
   {
    "duration": 17,
    "start_time": "2022-03-07T02:12:11.677Z"
   },
   {
    "duration": 23,
    "start_time": "2022-03-07T02:12:13.262Z"
   },
   {
    "duration": 24,
    "start_time": "2022-03-07T02:12:23.630Z"
   },
   {
    "duration": 21,
    "start_time": "2022-03-07T02:12:43.087Z"
   },
   {
    "duration": 19,
    "start_time": "2022-03-07T02:13:19.185Z"
   },
   {
    "duration": 19,
    "start_time": "2022-03-07T02:13:19.556Z"
   },
   {
    "duration": 16,
    "start_time": "2022-03-07T02:14:06.244Z"
   },
   {
    "duration": 23,
    "start_time": "2022-03-07T02:14:49.888Z"
   },
   {
    "duration": 21,
    "start_time": "2022-03-07T02:14:50.768Z"
   },
   {
    "duration": 7,
    "start_time": "2022-03-07T02:18:04.881Z"
   },
   {
    "duration": 32,
    "start_time": "2022-03-07T02:18:14.342Z"
   },
   {
    "duration": 35,
    "start_time": "2022-03-07T02:22:56.019Z"
   },
   {
    "duration": 18,
    "start_time": "2022-03-07T02:26:10.894Z"
   },
   {
    "duration": 10,
    "start_time": "2022-03-07T02:26:14.448Z"
   },
   {
    "duration": 35,
    "start_time": "2022-03-07T02:27:33.031Z"
   },
   {
    "duration": 11,
    "start_time": "2022-03-07T02:27:37.188Z"
   },
   {
    "duration": 37,
    "start_time": "2022-03-07T02:29:07.694Z"
   },
   {
    "duration": 11,
    "start_time": "2022-03-07T02:29:13.434Z"
   },
   {
    "duration": 4,
    "start_time": "2022-03-07T02:30:06.306Z"
   },
   {
    "duration": 21,
    "start_time": "2022-03-07T02:30:51.910Z"
   },
   {
    "duration": 7,
    "start_time": "2022-03-07T02:32:19.523Z"
   },
   {
    "duration": 15,
    "start_time": "2022-03-07T02:32:20.474Z"
   },
   {
    "duration": 15,
    "start_time": "2022-03-07T02:33:56.518Z"
   },
   {
    "duration": 3,
    "start_time": "2022-03-07T03:01:35.687Z"
   },
   {
    "duration": 111,
    "start_time": "2022-03-07T03:07:47.849Z"
   },
   {
    "duration": 23,
    "start_time": "2022-03-07T03:08:57.438Z"
   },
   {
    "duration": 23,
    "start_time": "2022-03-07T03:09:37.044Z"
   },
   {
    "duration": 16,
    "start_time": "2022-03-07T03:09:42.801Z"
   },
   {
    "duration": 19,
    "start_time": "2022-03-07T03:10:03.199Z"
   },
   {
    "duration": 250,
    "start_time": "2022-03-07T13:08:53.386Z"
   },
   {
    "duration": 1414,
    "start_time": "2022-03-07T13:09:04.830Z"
   },
   {
    "duration": 501,
    "start_time": "2022-03-07T13:09:06.247Z"
   },
   {
    "duration": 13,
    "start_time": "2022-03-07T13:09:06.750Z"
   },
   {
    "duration": 22,
    "start_time": "2022-03-07T13:09:06.766Z"
   },
   {
    "duration": 20,
    "start_time": "2022-03-07T13:09:06.790Z"
   },
   {
    "duration": 5,
    "start_time": "2022-03-07T13:09:06.811Z"
   },
   {
    "duration": 571,
    "start_time": "2022-03-07T13:09:06.818Z"
   },
   {
    "duration": 590,
    "start_time": "2022-03-07T13:09:07.391Z"
   },
   {
    "duration": 19,
    "start_time": "2022-03-07T13:09:07.984Z"
   },
   {
    "duration": 19,
    "start_time": "2022-03-07T13:09:08.005Z"
   },
   {
    "duration": 19,
    "start_time": "2022-03-07T13:09:08.025Z"
   },
   {
    "duration": 5,
    "start_time": "2022-03-07T13:09:08.046Z"
   },
   {
    "duration": 674,
    "start_time": "2022-03-07T13:09:08.053Z"
   },
   {
    "duration": 657,
    "start_time": "2022-03-07T13:09:08.729Z"
   },
   {
    "duration": 21,
    "start_time": "2022-03-07T13:09:09.388Z"
   },
   {
    "duration": 31,
    "start_time": "2022-03-07T13:09:09.410Z"
   },
   {
    "duration": 42,
    "start_time": "2022-03-07T13:09:09.443Z"
   },
   {
    "duration": 11,
    "start_time": "2022-03-07T13:09:09.486Z"
   },
   {
    "duration": 25,
    "start_time": "2022-03-07T13:09:09.499Z"
   },
   {
    "duration": 30,
    "start_time": "2022-03-07T13:09:09.526Z"
   },
   {
    "duration": 30,
    "start_time": "2022-03-07T13:09:09.557Z"
   },
   {
    "duration": 41,
    "start_time": "2022-03-07T13:09:09.589Z"
   },
   {
    "duration": 30,
    "start_time": "2022-03-07T13:09:09.632Z"
   },
   {
    "duration": 532,
    "start_time": "2022-03-07T13:09:09.664Z"
   },
   {
    "duration": 9,
    "start_time": "2022-03-07T13:09:10.201Z"
   },
   {
    "duration": 40,
    "start_time": "2022-03-07T13:09:10.211Z"
   },
   {
    "duration": 32,
    "start_time": "2022-03-07T13:09:10.256Z"
   },
   {
    "duration": 28,
    "start_time": "2022-03-07T13:09:10.292Z"
   },
   {
    "duration": 103,
    "start_time": "2022-03-07T13:09:10.322Z"
   },
   {
    "duration": 11,
    "start_time": "2022-03-07T13:09:10.427Z"
   },
   {
    "duration": 26,
    "start_time": "2022-03-07T13:09:10.440Z"
   },
   {
    "duration": 38,
    "start_time": "2022-03-07T13:09:10.468Z"
   },
   {
    "duration": 23,
    "start_time": "2022-03-07T13:09:10.508Z"
   },
   {
    "duration": 49,
    "start_time": "2022-03-07T13:09:10.533Z"
   },
   {
    "duration": 42,
    "start_time": "2022-03-07T13:09:10.584Z"
   },
   {
    "duration": 46,
    "start_time": "2022-03-07T13:09:10.628Z"
   },
   {
    "duration": 23,
    "start_time": "2022-03-07T13:09:10.676Z"
   },
   {
    "duration": 42,
    "start_time": "2022-03-07T13:09:10.701Z"
   },
   {
    "duration": 124,
    "start_time": "2022-03-07T13:09:10.745Z"
   },
   {
    "duration": 23,
    "start_time": "2022-03-07T13:09:10.872Z"
   },
   {
    "duration": 14,
    "start_time": "2022-03-07T13:09:10.902Z"
   },
   {
    "duration": 55,
    "start_time": "2022-03-07T13:09:10.918Z"
   },
   {
    "duration": 62,
    "start_time": "2022-03-07T13:09:10.975Z"
   },
   {
    "duration": 9,
    "start_time": "2022-03-07T13:09:11.039Z"
   },
   {
    "duration": 51,
    "start_time": "2022-03-07T13:09:11.049Z"
   },
   {
    "duration": 20,
    "start_time": "2022-03-07T13:09:11.102Z"
   },
   {
    "duration": 117,
    "start_time": "2022-03-07T13:09:11.124Z"
   },
   {
    "duration": 13,
    "start_time": "2022-03-07T13:09:11.244Z"
   },
   {
    "duration": 35,
    "start_time": "2022-03-07T13:09:11.259Z"
   },
   {
    "duration": 42,
    "start_time": "2022-03-07T13:09:11.296Z"
   },
   {
    "duration": 44,
    "start_time": "2022-03-07T13:09:11.340Z"
   },
   {
    "duration": 27,
    "start_time": "2022-03-07T13:09:11.386Z"
   },
   {
    "duration": 24,
    "start_time": "2022-03-07T13:09:11.414Z"
   },
   {
    "duration": 36,
    "start_time": "2022-03-07T13:09:11.440Z"
   },
   {
    "duration": 33,
    "start_time": "2022-03-07T13:09:11.478Z"
   },
   {
    "duration": 35,
    "start_time": "2022-03-07T13:09:11.513Z"
   },
   {
    "duration": 7,
    "start_time": "2022-03-07T13:09:11.550Z"
   },
   {
    "duration": 42,
    "start_time": "2022-03-07T13:09:11.559Z"
   },
   {
    "duration": 34,
    "start_time": "2022-03-07T13:09:11.603Z"
   },
   {
    "duration": 110,
    "start_time": "2022-03-07T13:09:11.639Z"
   },
   {
    "duration": 9,
    "start_time": "2022-03-07T13:09:11.751Z"
   },
   {
    "duration": 54,
    "start_time": "2022-03-07T13:09:11.762Z"
   },
   {
    "duration": 18,
    "start_time": "2022-03-07T13:09:11.818Z"
   },
   {
    "duration": 34,
    "start_time": "2022-03-07T13:09:11.838Z"
   },
   {
    "duration": 28,
    "start_time": "2022-03-07T13:09:11.874Z"
   },
   {
    "duration": 44,
    "start_time": "2022-03-07T13:09:11.904Z"
   },
   {
    "duration": 40,
    "start_time": "2022-03-07T13:09:11.950Z"
   },
   {
    "duration": 40,
    "start_time": "2022-03-07T13:09:11.992Z"
   },
   {
    "duration": 35,
    "start_time": "2022-03-07T13:09:12.034Z"
   },
   {
    "duration": 7,
    "start_time": "2022-03-07T13:09:12.071Z"
   },
   {
    "duration": 35,
    "start_time": "2022-03-07T13:09:12.080Z"
   },
   {
    "duration": 22,
    "start_time": "2022-03-07T13:09:12.117Z"
   },
   {
    "duration": 101,
    "start_time": "2022-03-07T13:09:12.141Z"
   },
   {
    "duration": 9,
    "start_time": "2022-03-07T13:09:12.244Z"
   },
   {
    "duration": 36,
    "start_time": "2022-03-07T13:09:12.255Z"
   },
   {
    "duration": 22,
    "start_time": "2022-03-07T13:09:12.293Z"
   },
   {
    "duration": 34,
    "start_time": "2022-03-07T13:09:12.317Z"
   },
   {
    "duration": 22,
    "start_time": "2022-03-07T13:09:12.353Z"
   },
   {
    "duration": 39,
    "start_time": "2022-03-07T13:09:12.376Z"
   },
   {
    "duration": 32,
    "start_time": "2022-03-07T13:09:12.417Z"
   },
   {
    "duration": 23,
    "start_time": "2022-03-07T13:09:12.455Z"
   },
   {
    "duration": 40,
    "start_time": "2022-03-07T13:09:12.480Z"
   },
   {
    "duration": 30,
    "start_time": "2022-03-07T13:09:12.522Z"
   },
   {
    "duration": 16,
    "start_time": "2022-03-07T13:09:19.777Z"
   },
   {
    "duration": 5,
    "start_time": "2022-03-07T13:09:24.839Z"
   },
   {
    "duration": 5,
    "start_time": "2022-03-07T13:09:43.158Z"
   },
   {
    "duration": 236,
    "start_time": "2022-03-07T13:10:35.088Z"
   },
   {
    "duration": 4,
    "start_time": "2022-03-07T13:11:32.009Z"
   },
   {
    "duration": 4,
    "start_time": "2022-03-07T13:11:44.815Z"
   },
   {
    "duration": 5,
    "start_time": "2022-03-07T13:12:59.247Z"
   },
   {
    "duration": 5,
    "start_time": "2022-03-07T13:14:32.021Z"
   },
   {
    "duration": 72,
    "start_time": "2022-03-07T13:14:44.590Z"
   },
   {
    "duration": 4,
    "start_time": "2022-03-07T13:14:52.409Z"
   },
   {
    "duration": 5,
    "start_time": "2022-03-07T13:15:30.444Z"
   },
   {
    "duration": 5,
    "start_time": "2022-03-07T13:15:35.106Z"
   },
   {
    "duration": 4,
    "start_time": "2022-03-07T13:15:41.140Z"
   },
   {
    "duration": 5,
    "start_time": "2022-03-07T13:15:50.044Z"
   },
   {
    "duration": 4,
    "start_time": "2022-03-07T13:16:02.697Z"
   },
   {
    "duration": 85,
    "start_time": "2022-03-07T13:16:47.858Z"
   },
   {
    "duration": 5,
    "start_time": "2022-03-07T13:16:53.029Z"
   },
   {
    "duration": 4,
    "start_time": "2022-03-07T13:19:17.876Z"
   },
   {
    "duration": 504,
    "start_time": "2022-03-07T13:20:22.297Z"
   },
   {
    "duration": 4,
    "start_time": "2022-03-07T13:26:31.431Z"
   },
   {
    "duration": 5,
    "start_time": "2022-03-07T13:26:31.943Z"
   },
   {
    "duration": 5,
    "start_time": "2022-03-07T13:26:32.999Z"
   },
   {
    "duration": 4,
    "start_time": "2022-03-07T13:26:33.503Z"
   },
   {
    "duration": 5,
    "start_time": "2022-03-07T13:28:07.943Z"
   },
   {
    "duration": 5,
    "start_time": "2022-03-07T13:29:14.876Z"
   },
   {
    "duration": 5,
    "start_time": "2022-03-07T13:29:40.675Z"
   },
   {
    "duration": 3,
    "start_time": "2022-03-07T13:30:27.091Z"
   },
   {
    "duration": 499,
    "start_time": "2022-03-07T13:31:15.608Z"
   },
   {
    "duration": 613,
    "start_time": "2022-03-07T13:32:37.106Z"
   },
   {
    "duration": 628,
    "start_time": "2022-03-07T13:32:49.668Z"
   },
   {
    "duration": 630,
    "start_time": "2022-03-07T13:33:36.078Z"
   },
   {
    "duration": 759,
    "start_time": "2022-03-07T13:33:56.008Z"
   },
   {
    "duration": 774,
    "start_time": "2022-03-07T13:34:02.041Z"
   },
   {
    "duration": 5,
    "start_time": "2022-03-07T15:20:46.325Z"
   },
   {
    "duration": 5,
    "start_time": "2022-03-07T15:20:47.081Z"
   },
   {
    "duration": 6,
    "start_time": "2022-03-07T15:20:49.654Z"
   },
   {
    "duration": 4,
    "start_time": "2022-03-07T15:20:51.505Z"
   },
   {
    "duration": 4,
    "start_time": "2022-03-07T15:20:52.220Z"
   },
   {
    "duration": 4,
    "start_time": "2022-03-07T15:24:12.440Z"
   },
   {
    "duration": 5,
    "start_time": "2022-03-07T15:24:13.209Z"
   },
   {
    "duration": 4,
    "start_time": "2022-03-07T15:24:14.813Z"
   },
   {
    "duration": 5,
    "start_time": "2022-03-07T15:24:17.616Z"
   },
   {
    "duration": 5,
    "start_time": "2022-03-07T15:24:18.493Z"
   },
   {
    "duration": 623,
    "start_time": "2022-03-07T15:27:27.018Z"
   },
   {
    "duration": 6,
    "start_time": "2022-03-07T15:31:55.294Z"
   },
   {
    "duration": 9,
    "start_time": "2022-03-07T15:32:54.147Z"
   },
   {
    "duration": 8,
    "start_time": "2022-03-07T15:37:57.850Z"
   },
   {
    "duration": 155,
    "start_time": "2022-03-07T15:38:35.518Z"
   },
   {
    "duration": 7,
    "start_time": "2022-03-07T15:38:39.746Z"
   },
   {
    "duration": 7,
    "start_time": "2022-03-07T15:38:54.888Z"
   },
   {
    "duration": 188,
    "start_time": "2022-03-07T15:39:34.914Z"
   },
   {
    "duration": 7,
    "start_time": "2022-03-07T15:39:43.547Z"
   },
   {
    "duration": 9,
    "start_time": "2022-03-07T15:45:09.335Z"
   },
   {
    "duration": 12,
    "start_time": "2022-03-07T15:46:53.982Z"
   },
   {
    "duration": 11,
    "start_time": "2022-03-07T15:46:58.986Z"
   },
   {
    "duration": 4,
    "start_time": "2022-03-07T15:52:12.415Z"
   },
   {
    "duration": 197,
    "start_time": "2022-03-07T15:53:34.257Z"
   },
   {
    "duration": 5,
    "start_time": "2022-03-07T15:53:48.329Z"
   },
   {
    "duration": 71,
    "start_time": "2022-03-07T15:57:13.815Z"
   },
   {
    "duration": 7,
    "start_time": "2022-03-07T15:57:23.481Z"
   },
   {
    "duration": 9,
    "start_time": "2022-03-07T15:59:25.067Z"
   },
   {
    "duration": 9,
    "start_time": "2022-03-07T16:00:17.620Z"
   },
   {
    "duration": 5,
    "start_time": "2022-03-07T16:09:44.569Z"
   },
   {
    "duration": 7,
    "start_time": "2022-03-07T16:10:21.496Z"
   },
   {
    "duration": 537,
    "start_time": "2022-03-07T16:16:21.690Z"
   },
   {
    "duration": 5,
    "start_time": "2022-03-07T16:16:40.787Z"
   },
   {
    "duration": 6,
    "start_time": "2022-03-07T16:16:43.313Z"
   },
   {
    "duration": 4,
    "start_time": "2022-03-07T18:22:49.823Z"
   },
   {
    "duration": 4,
    "start_time": "2022-03-07T18:22:50.730Z"
   },
   {
    "duration": 5,
    "start_time": "2022-03-07T18:22:52.763Z"
   },
   {
    "duration": 4,
    "start_time": "2022-03-07T18:22:53.989Z"
   },
   {
    "duration": 5,
    "start_time": "2022-03-07T18:23:16.929Z"
   },
   {
    "duration": 5,
    "start_time": "2022-03-07T18:23:35.739Z"
   },
   {
    "duration": 6,
    "start_time": "2022-03-07T18:23:55.314Z"
   },
   {
    "duration": 5,
    "start_time": "2022-03-07T18:24:33.639Z"
   },
   {
    "duration": 4,
    "start_time": "2022-03-07T18:29:04.637Z"
   },
   {
    "duration": 6,
    "start_time": "2022-03-07T18:29:05.323Z"
   },
   {
    "duration": 5,
    "start_time": "2022-03-07T18:29:07.813Z"
   },
   {
    "duration": 5,
    "start_time": "2022-03-07T18:29:08.250Z"
   },
   {
    "duration": 5,
    "start_time": "2022-03-07T18:29:08.990Z"
   },
   {
    "duration": 524,
    "start_time": "2022-03-07T18:30:18.903Z"
   },
   {
    "duration": 9,
    "start_time": "2022-03-07T18:31:03.473Z"
   },
   {
    "duration": 6,
    "start_time": "2022-03-07T18:32:09.663Z"
   },
   {
    "duration": 3,
    "start_time": "2022-03-07T19:14:20.897Z"
   },
   {
    "duration": 14,
    "start_time": "2022-03-07T20:01:03.661Z"
   },
   {
    "duration": 14,
    "start_time": "2022-03-07T20:01:07.869Z"
   },
   {
    "duration": 7,
    "start_time": "2022-03-07T20:01:28.594Z"
   },
   {
    "duration": 6,
    "start_time": "2022-03-07T20:01:34.038Z"
   },
   {
    "duration": 4,
    "start_time": "2022-03-07T20:01:49.117Z"
   },
   {
    "duration": 4,
    "start_time": "2022-03-07T20:01:50.932Z"
   },
   {
    "duration": 3,
    "start_time": "2022-03-07T20:04:27.220Z"
   },
   {
    "duration": 5,
    "start_time": "2022-03-07T20:04:42.625Z"
   },
   {
    "duration": 5,
    "start_time": "2022-03-07T20:04:51.076Z"
   },
   {
    "duration": 5,
    "start_time": "2022-03-07T20:06:33.969Z"
   },
   {
    "duration": 185,
    "start_time": "2022-03-07T20:06:57.994Z"
   },
   {
    "duration": 6,
    "start_time": "2022-03-07T20:07:07.772Z"
   },
   {
    "duration": 5,
    "start_time": "2022-03-07T20:07:20.661Z"
   },
   {
    "duration": 3,
    "start_time": "2022-03-07T20:08:11.591Z"
   },
   {
    "duration": 5,
    "start_time": "2022-03-07T20:08:31.028Z"
   },
   {
    "duration": 4,
    "start_time": "2022-03-07T20:08:34.248Z"
   },
   {
    "duration": 3,
    "start_time": "2022-03-07T20:08:37.194Z"
   },
   {
    "duration": 4,
    "start_time": "2022-03-07T20:08:41.512Z"
   },
   {
    "duration": 6,
    "start_time": "2022-03-07T20:18:56.465Z"
   },
   {
    "duration": 7,
    "start_time": "2022-03-07T20:18:57.918Z"
   },
   {
    "duration": 173,
    "start_time": "2022-03-07T20:19:37.425Z"
   },
   {
    "duration": 188,
    "start_time": "2022-03-07T20:19:39.276Z"
   },
   {
    "duration": 3,
    "start_time": "2022-03-07T20:19:41.047Z"
   },
   {
    "duration": 4,
    "start_time": "2022-03-07T20:19:41.663Z"
   },
   {
    "duration": 5,
    "start_time": "2022-03-07T20:19:42.330Z"
   },
   {
    "duration": 6,
    "start_time": "2022-03-07T20:20:42.802Z"
   },
   {
    "duration": 3,
    "start_time": "2022-03-07T20:20:46.787Z"
   },
   {
    "duration": 4,
    "start_time": "2022-03-07T20:20:47.183Z"
   },
   {
    "duration": 5,
    "start_time": "2022-03-07T20:20:47.617Z"
   },
   {
    "duration": 6,
    "start_time": "2022-03-07T20:20:48.819Z"
   },
   {
    "duration": 6,
    "start_time": "2022-03-07T20:22:01.805Z"
   },
   {
    "duration": 5,
    "start_time": "2022-03-07T20:22:04.899Z"
   },
   {
    "duration": 6,
    "start_time": "2022-03-07T20:22:08.333Z"
   },
   {
    "duration": 6,
    "start_time": "2022-03-07T20:22:10.310Z"
   },
   {
    "duration": 5,
    "start_time": "2022-03-07T20:28:12.176Z"
   },
   {
    "duration": 5,
    "start_time": "2022-03-07T20:28:12.822Z"
   },
   {
    "duration": 3,
    "start_time": "2022-03-07T20:29:57.582Z"
   },
   {
    "duration": 6,
    "start_time": "2022-03-07T20:29:58.023Z"
   },
   {
    "duration": 5,
    "start_time": "2022-03-07T20:29:58.692Z"
   },
   {
    "duration": 6,
    "start_time": "2022-03-07T20:29:59.321Z"
   },
   {
    "duration": 3,
    "start_time": "2022-03-07T20:30:52.728Z"
   },
   {
    "duration": 4,
    "start_time": "2022-03-07T20:30:53.158Z"
   },
   {
    "duration": 6,
    "start_time": "2022-03-07T20:30:53.576Z"
   },
   {
    "duration": 5,
    "start_time": "2022-03-07T20:32:56.615Z"
   },
   {
    "duration": 5,
    "start_time": "2022-03-07T20:32:57.168Z"
   },
   {
    "duration": 5,
    "start_time": "2022-03-07T20:33:20.459Z"
   },
   {
    "duration": 4,
    "start_time": "2022-03-07T20:34:43.826Z"
   },
   {
    "duration": 1106,
    "start_time": "2022-03-16T12:51:34.735Z"
   },
   {
    "duration": 452,
    "start_time": "2022-03-16T12:51:36.501Z"
   },
   {
    "duration": 13,
    "start_time": "2022-03-16T12:51:39.605Z"
   },
   {
    "duration": 22,
    "start_time": "2022-03-16T12:51:44.596Z"
   },
   {
    "duration": 22,
    "start_time": "2022-03-16T12:51:45.330Z"
   },
   {
    "duration": 5,
    "start_time": "2022-03-16T12:51:45.806Z"
   },
   {
    "duration": 578,
    "start_time": "2022-03-16T12:51:46.320Z"
   },
   {
    "duration": 611,
    "start_time": "2022-03-16T12:51:50.535Z"
   },
   {
    "duration": 188,
    "start_time": "2022-03-16T12:53:41.699Z"
   },
   {
    "duration": 193,
    "start_time": "2022-03-16T12:53:58.556Z"
   },
   {
    "duration": 138,
    "start_time": "2022-03-16T12:55:09.336Z"
   },
   {
    "duration": 102,
    "start_time": "2022-03-16T12:55:49.814Z"
   }
  ],
  "kernelspec": {
   "display_name": "Python 3 (ipykernel)",
   "language": "python",
   "name": "python3"
  },
  "language_info": {
   "codemirror_mode": {
    "name": "ipython",
    "version": 3
   },
   "file_extension": ".py",
   "mimetype": "text/x-python",
   "name": "python",
   "nbconvert_exporter": "python",
   "pygments_lexer": "ipython3",
   "version": "3.9.7"
  },
  "toc": {
   "base_numbering": 1,
   "nav_menu": {},
   "number_sections": true,
   "sideBar": true,
   "skip_h1_title": true,
   "title_cell": "Table of Contents",
   "title_sidebar": "Contents",
   "toc_cell": false,
   "toc_position": {},
   "toc_section_display": true,
   "toc_window_display": false
  }
 },
 "nbformat": 4,
 "nbformat_minor": 2
}
