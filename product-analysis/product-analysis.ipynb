{
 "cells": [
  {
   "cell_type": "markdown",
   "metadata": {},
   "source": [
    "# Название проекта:\n",
    "        \n",
    "#  Сборный проект. Модуль 2\n",
    "_____\n",
    "**Описание исследования.**\n",
    "    \n",
    "Вы работаете в стартапе, который продаёт продукты питания. Нужно разобраться, как ведут себя пользователи вашего мобильного приложения. \n",
    "Изучите воронку продаж. Узнайте, как пользователи доходят до покупки. Сколько пользователей доходит до покупки, а сколько — «застревает» на предыдущих шагах? На каких именно?\n",
    "После этого исследуйте результаты A/A/B-эксперимента. Дизайнеры захотели поменять шрифты во всём приложении, а менеджеры испугались, что пользователям будет непривычно. Договорились принять решение по результатам A/A/B-теста. Пользователей разбили на 3 группы: 2 контрольные со старыми шрифтами и одну экспериментальную — с новыми. Выясните, какой шрифт лучше.\n",
    "Создание двух групп A вместо одной имеет определённые преимущества. Если две контрольные группы окажутся равны, вы можете быть уверены в точности проведенного тестирования. Если же между значениями A и A будут существенные различия, это поможет обнаружить факторы, которые привели к искажению результатов. Сравнение контрольных групп также помогает понять, сколько времени и данных потребуется для дальнейших тестов.\n",
    "В случае общей аналитики и A/A/B-эксперимента работайте с одними и теми же данными. В реальных проектах всегда идут эксперименты. Аналитики исследуют качество работы приложения по общим данным, не учитывая принадлежность пользователей к экспериментам.\n",
    "\n",
    "\n",
    "_____\n",
    "**Цель исследования.**\n",
    "    \n",
    "Отработать знания полученные во 2-м модуле.\n",
    "    \n",
    "_____\n",
    "**Задачи исследования.**\n",
    "\n",
    "- Подготовить данные для исследования, изучить типы, пропуски и дубликаты;\n",
    "- Провести исследовательский анализ данных, построить графики;\n",
    "- Определить актуальный временной промежуток для анализа, с предпосылкой запаздывание получения данных;\n",
    "- Построить и изучить воронку событий;\n",
    "- Изучить результаты эксперимента.\n",
    "_____\n",
    "**Исходные данные.**\n",
    "    \n",
    "Исходные данные представлены файлом с логами событий мобильного приложения (с разбиением на тестовые группы).\n",
    "\n",
    "**Таблица logs_exp:**\n",
    "\n",
    "- EventName — название события;;\n",
    "- DeviceIDHash — уникальный идентификатор пользователя;\n",
    "- EventTimestamp — время события;\n",
    "- ExpId — номер эксперимента: 246 и 247 — контрольные группы, а 248 — экспериментальная.\n",
    "______\n",
    "**Данное исследование разделим на несколько частей.**\n",
    "    \n",
    "[***Часть 1. Изучение данных из файла:***](#1)\n",
    "* [1. Изучение файлов с данными, получение общей информации, загрузка библиотек.](#11)\n",
    "* [2. Проверка дубликатов и типов данных.](#12)\n",
    "\n",
    "[***Часть 2. Изучение и проверка данных:***](#2)\n",
    "* [1. Исследовательский анализ.](#21)\n",
    "* [2. Определение горизонта анализа.](#22)\n",
    "* [3. Проверка нового горизонта.](#23)\n",
    "    \n",
    "[***Часть 3. Воронка событий.***](#3)\n",
    "* [1. Определение частоты событий и распределений по пользователям.](#31)\n",
    "* [2. Определение порядка событий в приложении.](#32)\n",
    "* [3. Расчет конверсии.](#33)\n",
    "* [4. Выводы по конверсии.](#34)\n",
    "\n",
    "[***Часть 4. Изучение результатов эксперимента.***](#4)\n",
    "* [1. Подготовка к статистическому анализу.](#41)\n",
    "* [2. Создание функции. Анализ А/А-групп.](#42)\n",
    "* [3. Работа с группой В.](#43)\n",
    "* [4. Выводы по уровню значимости.](#44)\n",
    "\n",
    "[***Часть 5. Общие выводы.***](#5)"
   ]
  },
  {
   "cell_type": "markdown",
   "metadata": {},
   "source": [
    "<a id='1'></a>\n",
    "## Изучение и подготовка данных\n",
    "\n",
    "- Замените названия столбцов на удобные для вас;\n",
    "- Проверьте пропуски и типы данных. Откорректируйте, если нужно;\n",
    "- Добавьте столбец даты и времени, а также отдельный столбец дат;\n",
    "\n",
    "<a id='11'></a>\n",
    "### Импортируем планируемые к применению в проекте библиотеки"
   ]
  },
  {
   "cell_type": "code",
   "execution_count": 118,
   "metadata": {},
   "outputs": [],
   "source": [
    "import pandas as pd\n",
    "import matplotlib.pyplot as plt\n",
    "import seaborn as sns\n",
    "import datetime as dt\n",
    "import numpy as np\n",
    "import scipy.stats as st\n",
    "import plotly.express as px\n",
    "from plotly import graph_objects as go\n",
    "import math\n",
    "\n",
    "import warnings\n",
    "\n",
    "warnings.filterwarnings('ignore')"
   ]
  },
  {
   "cell_type": "markdown",
   "metadata": {},
   "source": [
    "### Открываем файлы"
   ]
  },
  {
   "cell_type": "code",
   "execution_count": 119,
   "metadata": {},
   "outputs": [],
   "source": [
    "df = pd.read_csv('/datasets/logs_exp.csv', sep='\\s+')"
   ]
  },
  {
   "cell_type": "markdown",
   "metadata": {},
   "source": [
    "<a id='12'></a>\n",
    "### Проверяем датасет"
   ]
  },
  {
   "cell_type": "code",
   "execution_count": 120,
   "metadata": {},
   "outputs": [
    {
     "data": {
      "text/html": [
       "<div>\n",
       "<style scoped>\n",
       "    .dataframe tbody tr th:only-of-type {\n",
       "        vertical-align: middle;\n",
       "    }\n",
       "\n",
       "    .dataframe tbody tr th {\n",
       "        vertical-align: top;\n",
       "    }\n",
       "\n",
       "    .dataframe thead th {\n",
       "        text-align: right;\n",
       "    }\n",
       "</style>\n",
       "<table border=\"1\" class=\"dataframe\">\n",
       "  <thead>\n",
       "    <tr style=\"text-align: right;\">\n",
       "      <th></th>\n",
       "      <th>EventName</th>\n",
       "      <th>DeviceIDHash</th>\n",
       "      <th>EventTimestamp</th>\n",
       "      <th>ExpId</th>\n",
       "    </tr>\n",
       "  </thead>\n",
       "  <tbody>\n",
       "    <tr>\n",
       "      <th>0</th>\n",
       "      <td>MainScreenAppear</td>\n",
       "      <td>4575588528974610257</td>\n",
       "      <td>1564029816</td>\n",
       "      <td>246</td>\n",
       "    </tr>\n",
       "    <tr>\n",
       "      <th>1</th>\n",
       "      <td>MainScreenAppear</td>\n",
       "      <td>7416695313311560658</td>\n",
       "      <td>1564053102</td>\n",
       "      <td>246</td>\n",
       "    </tr>\n",
       "    <tr>\n",
       "      <th>2</th>\n",
       "      <td>PaymentScreenSuccessful</td>\n",
       "      <td>3518123091307005509</td>\n",
       "      <td>1564054127</td>\n",
       "      <td>248</td>\n",
       "    </tr>\n",
       "    <tr>\n",
       "      <th>3</th>\n",
       "      <td>CartScreenAppear</td>\n",
       "      <td>3518123091307005509</td>\n",
       "      <td>1564054127</td>\n",
       "      <td>248</td>\n",
       "    </tr>\n",
       "    <tr>\n",
       "      <th>4</th>\n",
       "      <td>PaymentScreenSuccessful</td>\n",
       "      <td>6217807653094995999</td>\n",
       "      <td>1564055322</td>\n",
       "      <td>248</td>\n",
       "    </tr>\n",
       "  </tbody>\n",
       "</table>\n",
       "</div>"
      ],
      "text/plain": [
       "                 EventName         DeviceIDHash  EventTimestamp  ExpId\n",
       "0         MainScreenAppear  4575588528974610257      1564029816    246\n",
       "1         MainScreenAppear  7416695313311560658      1564053102    246\n",
       "2  PaymentScreenSuccessful  3518123091307005509      1564054127    248\n",
       "3         CartScreenAppear  3518123091307005509      1564054127    248\n",
       "4  PaymentScreenSuccessful  6217807653094995999      1564055322    248"
      ]
     },
     "execution_count": 120,
     "metadata": {},
     "output_type": "execute_result"
    }
   ],
   "source": [
    "df.head()"
   ]
  },
  {
   "cell_type": "code",
   "execution_count": 121,
   "metadata": {},
   "outputs": [],
   "source": [
    "df.columns = ['event', 'device_id', 'timestamp', 'exp']"
   ]
  },
  {
   "cell_type": "code",
   "execution_count": 122,
   "metadata": {},
   "outputs": [
    {
     "name": "stdout",
     "output_type": "stream",
     "text": [
      "<class 'pandas.core.frame.DataFrame'>\n",
      "RangeIndex: 244126 entries, 0 to 244125\n",
      "Data columns (total 4 columns):\n",
      " #   Column     Non-Null Count   Dtype \n",
      "---  ------     --------------   ----- \n",
      " 0   event      244126 non-null  object\n",
      " 1   device_id  244126 non-null  int64 \n",
      " 2   timestamp  244126 non-null  int64 \n",
      " 3   exp        244126 non-null  int64 \n",
      "dtypes: int64(3), object(1)\n",
      "memory usage: 7.5+ MB\n"
     ]
    }
   ],
   "source": [
    "df.info()"
   ]
  },
  {
   "cell_type": "code",
   "execution_count": 123,
   "metadata": {},
   "outputs": [
    {
     "data": {
      "text/plain": [
       "event        0.0\n",
       "device_id    0.0\n",
       "timestamp    0.0\n",
       "exp          0.0\n",
       "dtype: float64"
      ]
     },
     "execution_count": 123,
     "metadata": {},
     "output_type": "execute_result"
    }
   ],
   "source": [
    "round((df.isna().mean()*100),2)"
   ]
  },
  {
   "cell_type": "code",
   "execution_count": 124,
   "metadata": {},
   "outputs": [],
   "source": [
    "df['event'] = df['event'].str.lower()"
   ]
  },
  {
   "cell_type": "code",
   "execution_count": 125,
   "metadata": {},
   "outputs": [
    {
     "data": {
      "text/plain": [
       "413"
      ]
     },
     "execution_count": 125,
     "metadata": {},
     "output_type": "execute_result"
    }
   ],
   "source": [
    "# проверяем на полные дубликаты\n",
    "\n",
    "df.duplicated().sum()"
   ]
  },
  {
   "cell_type": "code",
   "execution_count": 126,
   "metadata": {},
   "outputs": [
    {
     "data": {
      "text/html": [
       "<div>\n",
       "<style scoped>\n",
       "    .dataframe tbody tr th:only-of-type {\n",
       "        vertical-align: middle;\n",
       "    }\n",
       "\n",
       "    .dataframe tbody tr th {\n",
       "        vertical-align: top;\n",
       "    }\n",
       "\n",
       "    .dataframe thead th {\n",
       "        text-align: right;\n",
       "    }\n",
       "</style>\n",
       "<table border=\"1\" class=\"dataframe\">\n",
       "  <thead>\n",
       "    <tr style=\"text-align: right;\">\n",
       "      <th></th>\n",
       "      <th>event</th>\n",
       "      <th>device_id</th>\n",
       "      <th>timestamp</th>\n",
       "      <th>exp</th>\n",
       "    </tr>\n",
       "  </thead>\n",
       "  <tbody>\n",
       "    <tr>\n",
       "      <th>453</th>\n",
       "      <td>mainscreenappear</td>\n",
       "      <td>5613408041324010552</td>\n",
       "      <td>1564474784</td>\n",
       "      <td>248</td>\n",
       "    </tr>\n",
       "    <tr>\n",
       "      <th>2350</th>\n",
       "      <td>cartscreenappear</td>\n",
       "      <td>1694940645335807244</td>\n",
       "      <td>1564609899</td>\n",
       "      <td>248</td>\n",
       "    </tr>\n",
       "    <tr>\n",
       "      <th>3573</th>\n",
       "      <td>mainscreenappear</td>\n",
       "      <td>434103746454591587</td>\n",
       "      <td>1564628377</td>\n",
       "      <td>248</td>\n",
       "    </tr>\n",
       "    <tr>\n",
       "      <th>4076</th>\n",
       "      <td>mainscreenappear</td>\n",
       "      <td>3761373764179762633</td>\n",
       "      <td>1564631266</td>\n",
       "      <td>247</td>\n",
       "    </tr>\n",
       "    <tr>\n",
       "      <th>4803</th>\n",
       "      <td>mainscreenappear</td>\n",
       "      <td>2835328739789306622</td>\n",
       "      <td>1564634641</td>\n",
       "      <td>248</td>\n",
       "    </tr>\n",
       "    <tr>\n",
       "      <th>5641</th>\n",
       "      <td>cartscreenappear</td>\n",
       "      <td>4248762472840564256</td>\n",
       "      <td>1564637764</td>\n",
       "      <td>248</td>\n",
       "    </tr>\n",
       "    <tr>\n",
       "      <th>5875</th>\n",
       "      <td>paymentscreensuccessful</td>\n",
       "      <td>6427012997733591237</td>\n",
       "      <td>1564638452</td>\n",
       "      <td>248</td>\n",
       "    </tr>\n",
       "    <tr>\n",
       "      <th>7249</th>\n",
       "      <td>offersscreenappear</td>\n",
       "      <td>7224691986599895551</td>\n",
       "      <td>1564641846</td>\n",
       "      <td>246</td>\n",
       "    </tr>\n",
       "    <tr>\n",
       "      <th>8065</th>\n",
       "      <td>cartscreenappear</td>\n",
       "      <td>8189122927585332969</td>\n",
       "      <td>1564643929</td>\n",
       "      <td>248</td>\n",
       "    </tr>\n",
       "    <tr>\n",
       "      <th>9179</th>\n",
       "      <td>mainscreenappear</td>\n",
       "      <td>2230705996155527339</td>\n",
       "      <td>1564646087</td>\n",
       "      <td>246</td>\n",
       "    </tr>\n",
       "  </tbody>\n",
       "</table>\n",
       "</div>"
      ],
      "text/plain": [
       "                        event            device_id   timestamp  exp\n",
       "453          mainscreenappear  5613408041324010552  1564474784  248\n",
       "2350         cartscreenappear  1694940645335807244  1564609899  248\n",
       "3573         mainscreenappear   434103746454591587  1564628377  248\n",
       "4076         mainscreenappear  3761373764179762633  1564631266  247\n",
       "4803         mainscreenappear  2835328739789306622  1564634641  248\n",
       "5641         cartscreenappear  4248762472840564256  1564637764  248\n",
       "5875  paymentscreensuccessful  6427012997733591237  1564638452  248\n",
       "7249       offersscreenappear  7224691986599895551  1564641846  246\n",
       "8065         cartscreenappear  8189122927585332969  1564643929  248\n",
       "9179         mainscreenappear  2230705996155527339  1564646087  246"
      ]
     },
     "execution_count": 126,
     "metadata": {},
     "output_type": "execute_result"
    }
   ],
   "source": [
    "df[df.duplicated()].head(10)"
   ]
  },
  {
   "cell_type": "code",
   "execution_count": 127,
   "metadata": {},
   "outputs": [
    {
     "data": {
      "text/html": [
       "<div>\n",
       "<style scoped>\n",
       "    .dataframe tbody tr th:only-of-type {\n",
       "        vertical-align: middle;\n",
       "    }\n",
       "\n",
       "    .dataframe tbody tr th {\n",
       "        vertical-align: top;\n",
       "    }\n",
       "\n",
       "    .dataframe thead th {\n",
       "        text-align: right;\n",
       "    }\n",
       "</style>\n",
       "<table border=\"1\" class=\"dataframe\">\n",
       "  <thead>\n",
       "    <tr style=\"text-align: right;\">\n",
       "      <th></th>\n",
       "      <th>event</th>\n",
       "      <th>device_id</th>\n",
       "      <th>timestamp</th>\n",
       "      <th>exp</th>\n",
       "    </tr>\n",
       "  </thead>\n",
       "  <tbody>\n",
       "    <tr>\n",
       "      <th>452</th>\n",
       "      <td>mainscreenappear</td>\n",
       "      <td>5613408041324010552</td>\n",
       "      <td>1564474784</td>\n",
       "      <td>248</td>\n",
       "    </tr>\n",
       "    <tr>\n",
       "      <th>453</th>\n",
       "      <td>mainscreenappear</td>\n",
       "      <td>5613408041324010552</td>\n",
       "      <td>1564474784</td>\n",
       "      <td>248</td>\n",
       "    </tr>\n",
       "    <tr>\n",
       "      <th>104383</th>\n",
       "      <td>mainscreenappear</td>\n",
       "      <td>5613408041324010552</td>\n",
       "      <td>1564857690</td>\n",
       "      <td>248</td>\n",
       "    </tr>\n",
       "    <tr>\n",
       "      <th>104628</th>\n",
       "      <td>mainscreenappear</td>\n",
       "      <td>5613408041324010552</td>\n",
       "      <td>1564858279</td>\n",
       "      <td>248</td>\n",
       "    </tr>\n",
       "    <tr>\n",
       "      <th>104637</th>\n",
       "      <td>mainscreenappear</td>\n",
       "      <td>5613408041324010552</td>\n",
       "      <td>1564858297</td>\n",
       "      <td>248</td>\n",
       "    </tr>\n",
       "  </tbody>\n",
       "</table>\n",
       "</div>"
      ],
      "text/plain": [
       "                   event            device_id   timestamp  exp\n",
       "452     mainscreenappear  5613408041324010552  1564474784  248\n",
       "453     mainscreenappear  5613408041324010552  1564474784  248\n",
       "104383  mainscreenappear  5613408041324010552  1564857690  248\n",
       "104628  mainscreenappear  5613408041324010552  1564858279  248\n",
       "104637  mainscreenappear  5613408041324010552  1564858297  248"
      ]
     },
     "execution_count": 127,
     "metadata": {},
     "output_type": "execute_result"
    }
   ],
   "source": [
    "# выявили дубликаты, изучим несколько кейсов по device_id\n",
    "\n",
    "df.query('device_id == 5613408041324010552').head(5)"
   ]
  },
  {
   "cell_type": "code",
   "execution_count": 128,
   "metadata": {},
   "outputs": [
    {
     "data": {
      "text/html": [
       "<div>\n",
       "<style scoped>\n",
       "    .dataframe tbody tr th:only-of-type {\n",
       "        vertical-align: middle;\n",
       "    }\n",
       "\n",
       "    .dataframe tbody tr th {\n",
       "        vertical-align: top;\n",
       "    }\n",
       "\n",
       "    .dataframe thead th {\n",
       "        text-align: right;\n",
       "    }\n",
       "</style>\n",
       "<table border=\"1\" class=\"dataframe\">\n",
       "  <thead>\n",
       "    <tr style=\"text-align: right;\">\n",
       "      <th></th>\n",
       "      <th>event</th>\n",
       "      <th>device_id</th>\n",
       "      <th>timestamp</th>\n",
       "      <th>exp</th>\n",
       "    </tr>\n",
       "  </thead>\n",
       "  <tbody>\n",
       "    <tr>\n",
       "      <th>3572</th>\n",
       "      <td>mainscreenappear</td>\n",
       "      <td>434103746454591587</td>\n",
       "      <td>1564628377</td>\n",
       "      <td>248</td>\n",
       "    </tr>\n",
       "    <tr>\n",
       "      <th>3573</th>\n",
       "      <td>mainscreenappear</td>\n",
       "      <td>434103746454591587</td>\n",
       "      <td>1564628377</td>\n",
       "      <td>248</td>\n",
       "    </tr>\n",
       "    <tr>\n",
       "      <th>16932</th>\n",
       "      <td>mainscreenappear</td>\n",
       "      <td>434103746454591587</td>\n",
       "      <td>1564659464</td>\n",
       "      <td>248</td>\n",
       "    </tr>\n",
       "    <tr>\n",
       "      <th>17876</th>\n",
       "      <td>mainscreenappear</td>\n",
       "      <td>434103746454591587</td>\n",
       "      <td>1564660956</td>\n",
       "      <td>248</td>\n",
       "    </tr>\n",
       "    <tr>\n",
       "      <th>18333</th>\n",
       "      <td>mainscreenappear</td>\n",
       "      <td>434103746454591587</td>\n",
       "      <td>1564661640</td>\n",
       "      <td>248</td>\n",
       "    </tr>\n",
       "  </tbody>\n",
       "</table>\n",
       "</div>"
      ],
      "text/plain": [
       "                  event           device_id   timestamp  exp\n",
       "3572   mainscreenappear  434103746454591587  1564628377  248\n",
       "3573   mainscreenappear  434103746454591587  1564628377  248\n",
       "16932  mainscreenappear  434103746454591587  1564659464  248\n",
       "17876  mainscreenappear  434103746454591587  1564660956  248\n",
       "18333  mainscreenappear  434103746454591587  1564661640  248"
      ]
     },
     "execution_count": 128,
     "metadata": {},
     "output_type": "execute_result"
    }
   ],
   "source": [
    "df.query('device_id == 434103746454591587').head(5)"
   ]
  },
  {
   "cell_type": "code",
   "execution_count": 129,
   "metadata": {},
   "outputs": [
    {
     "data": {
      "text/html": [
       "<div>\n",
       "<style scoped>\n",
       "    .dataframe tbody tr th:only-of-type {\n",
       "        vertical-align: middle;\n",
       "    }\n",
       "\n",
       "    .dataframe tbody tr th {\n",
       "        vertical-align: top;\n",
       "    }\n",
       "\n",
       "    .dataframe thead th {\n",
       "        text-align: right;\n",
       "    }\n",
       "</style>\n",
       "<table border=\"1\" class=\"dataframe\">\n",
       "  <thead>\n",
       "    <tr style=\"text-align: right;\">\n",
       "      <th></th>\n",
       "      <th>event</th>\n",
       "      <th>device_id</th>\n",
       "      <th>timestamp</th>\n",
       "      <th>exp</th>\n",
       "    </tr>\n",
       "  </thead>\n",
       "  <tbody>\n",
       "    <tr>\n",
       "      <th>2345</th>\n",
       "      <td>mainscreenappear</td>\n",
       "      <td>1694940645335807244</td>\n",
       "      <td>1564609892</td>\n",
       "      <td>248</td>\n",
       "    </tr>\n",
       "    <tr>\n",
       "      <th>2346</th>\n",
       "      <td>cartscreenappear</td>\n",
       "      <td>1694940645335807244</td>\n",
       "      <td>1564609897</td>\n",
       "      <td>248</td>\n",
       "    </tr>\n",
       "    <tr>\n",
       "      <th>2348</th>\n",
       "      <td>cartscreenappear</td>\n",
       "      <td>1694940645335807244</td>\n",
       "      <td>1564609899</td>\n",
       "      <td>248</td>\n",
       "    </tr>\n",
       "    <tr>\n",
       "      <th>2349</th>\n",
       "      <td>paymentscreensuccessful</td>\n",
       "      <td>1694940645335807244</td>\n",
       "      <td>1564609899</td>\n",
       "      <td>248</td>\n",
       "    </tr>\n",
       "    <tr>\n",
       "      <th>2350</th>\n",
       "      <td>cartscreenappear</td>\n",
       "      <td>1694940645335807244</td>\n",
       "      <td>1564609899</td>\n",
       "      <td>248</td>\n",
       "    </tr>\n",
       "  </tbody>\n",
       "</table>\n",
       "</div>"
      ],
      "text/plain": [
       "                        event            device_id   timestamp  exp\n",
       "2345         mainscreenappear  1694940645335807244  1564609892  248\n",
       "2346         cartscreenappear  1694940645335807244  1564609897  248\n",
       "2348         cartscreenappear  1694940645335807244  1564609899  248\n",
       "2349  paymentscreensuccessful  1694940645335807244  1564609899  248\n",
       "2350         cartscreenappear  1694940645335807244  1564609899  248"
      ]
     },
     "execution_count": 129,
     "metadata": {},
     "output_type": "execute_result"
    }
   ],
   "source": [
    "df.query('device_id == 1694940645335807244').head(5)"
   ]
  },
  {
   "cell_type": "markdown",
   "metadata": {},
   "source": [
    "Как видим по первым двум кейсам, приложение дублирует фиксацию открытия главной страницы, записывая события дважды в одно и тоже время, возможно это ошибка при записи лога, либо двойное обновление страницы при загрузке. \n",
    "В третьем же случае у нас происходит 3 события в 1 время, открытие корзины, успешная оплата, открытие корзины. \n",
    "Является ли это событие дублером и возможной ошибкой, как в первых двух случаях? Вполне возможно. Кажется сомнительным быстродействие приложения, что сразу после оплаты открывается корзина в рамках 1 секунду. \n",
    "\n",
    "Также, помимо главного экрана и корзины, в дублях фигурирует событие: paymentscreensuccessful"
   ]
  },
  {
   "cell_type": "code",
   "execution_count": 130,
   "metadata": {},
   "outputs": [
    {
     "data": {
      "text/html": [
       "<div>\n",
       "<style scoped>\n",
       "    .dataframe tbody tr th:only-of-type {\n",
       "        vertical-align: middle;\n",
       "    }\n",
       "\n",
       "    .dataframe tbody tr th {\n",
       "        vertical-align: top;\n",
       "    }\n",
       "\n",
       "    .dataframe thead th {\n",
       "        text-align: right;\n",
       "    }\n",
       "</style>\n",
       "<table border=\"1\" class=\"dataframe\">\n",
       "  <thead>\n",
       "    <tr style=\"text-align: right;\">\n",
       "      <th></th>\n",
       "      <th>event</th>\n",
       "      <th>device_id</th>\n",
       "      <th>timestamp</th>\n",
       "      <th>exp</th>\n",
       "    </tr>\n",
       "  </thead>\n",
       "  <tbody>\n",
       "    <tr>\n",
       "      <th>677</th>\n",
       "      <td>cartscreenappear</td>\n",
       "      <td>6427012997733591237</td>\n",
       "      <td>1564504613</td>\n",
       "      <td>248</td>\n",
       "    </tr>\n",
       "    <tr>\n",
       "      <th>977</th>\n",
       "      <td>mainscreenappear</td>\n",
       "      <td>6427012997733591237</td>\n",
       "      <td>1564564037</td>\n",
       "      <td>248</td>\n",
       "    </tr>\n",
       "    <tr>\n",
       "      <th>982</th>\n",
       "      <td>cartscreenappear</td>\n",
       "      <td>6427012997733591237</td>\n",
       "      <td>1564564212</td>\n",
       "      <td>248</td>\n",
       "    </tr>\n",
       "    <tr>\n",
       "      <th>1010</th>\n",
       "      <td>mainscreenappear</td>\n",
       "      <td>6427012997733591237</td>\n",
       "      <td>1564567013</td>\n",
       "      <td>248</td>\n",
       "    </tr>\n",
       "    <tr>\n",
       "      <th>1011</th>\n",
       "      <td>mainscreenappear</td>\n",
       "      <td>6427012997733591237</td>\n",
       "      <td>1564567054</td>\n",
       "      <td>248</td>\n",
       "    </tr>\n",
       "    <tr>\n",
       "      <th>1014</th>\n",
       "      <td>offersscreenappear</td>\n",
       "      <td>6427012997733591237</td>\n",
       "      <td>1564567111</td>\n",
       "      <td>248</td>\n",
       "    </tr>\n",
       "    <tr>\n",
       "      <th>1333</th>\n",
       "      <td>cartscreenappear</td>\n",
       "      <td>6427012997733591237</td>\n",
       "      <td>1564581583</td>\n",
       "      <td>248</td>\n",
       "    </tr>\n",
       "    <tr>\n",
       "      <th>1334</th>\n",
       "      <td>mainscreenappear</td>\n",
       "      <td>6427012997733591237</td>\n",
       "      <td>1564581608</td>\n",
       "      <td>248</td>\n",
       "    </tr>\n",
       "    <tr>\n",
       "      <th>1474</th>\n",
       "      <td>mainscreenappear</td>\n",
       "      <td>6427012997733591237</td>\n",
       "      <td>1564586570</td>\n",
       "      <td>248</td>\n",
       "    </tr>\n",
       "    <tr>\n",
       "      <th>1477</th>\n",
       "      <td>mainscreenappear</td>\n",
       "      <td>6427012997733591237</td>\n",
       "      <td>1564586594</td>\n",
       "      <td>248</td>\n",
       "    </tr>\n",
       "    <tr>\n",
       "      <th>1478</th>\n",
       "      <td>cartscreenappear</td>\n",
       "      <td>6427012997733591237</td>\n",
       "      <td>1564586594</td>\n",
       "      <td>248</td>\n",
       "    </tr>\n",
       "    <tr>\n",
       "      <th>1484</th>\n",
       "      <td>offersscreenappear</td>\n",
       "      <td>6427012997733591237</td>\n",
       "      <td>1564586806</td>\n",
       "      <td>248</td>\n",
       "    </tr>\n",
       "    <tr>\n",
       "      <th>5873</th>\n",
       "      <td>mainscreenappear</td>\n",
       "      <td>6427012997733591237</td>\n",
       "      <td>1564638450</td>\n",
       "      <td>248</td>\n",
       "    </tr>\n",
       "    <tr>\n",
       "      <th>5874</th>\n",
       "      <td>paymentscreensuccessful</td>\n",
       "      <td>6427012997733591237</td>\n",
       "      <td>1564638452</td>\n",
       "      <td>248</td>\n",
       "    </tr>\n",
       "    <tr>\n",
       "      <th>5875</th>\n",
       "      <td>paymentscreensuccessful</td>\n",
       "      <td>6427012997733591237</td>\n",
       "      <td>1564638452</td>\n",
       "      <td>248</td>\n",
       "    </tr>\n",
       "  </tbody>\n",
       "</table>\n",
       "</div>"
      ],
      "text/plain": [
       "                        event            device_id   timestamp  exp\n",
       "677          cartscreenappear  6427012997733591237  1564504613  248\n",
       "977          mainscreenappear  6427012997733591237  1564564037  248\n",
       "982          cartscreenappear  6427012997733591237  1564564212  248\n",
       "1010         mainscreenappear  6427012997733591237  1564567013  248\n",
       "1011         mainscreenappear  6427012997733591237  1564567054  248\n",
       "1014       offersscreenappear  6427012997733591237  1564567111  248\n",
       "1333         cartscreenappear  6427012997733591237  1564581583  248\n",
       "1334         mainscreenappear  6427012997733591237  1564581608  248\n",
       "1474         mainscreenappear  6427012997733591237  1564586570  248\n",
       "1477         mainscreenappear  6427012997733591237  1564586594  248\n",
       "1478         cartscreenappear  6427012997733591237  1564586594  248\n",
       "1484       offersscreenappear  6427012997733591237  1564586806  248\n",
       "5873         mainscreenappear  6427012997733591237  1564638450  248\n",
       "5874  paymentscreensuccessful  6427012997733591237  1564638452  248\n",
       "5875  paymentscreensuccessful  6427012997733591237  1564638452  248"
      ]
     },
     "execution_count": 130,
     "metadata": {},
     "output_type": "execute_result"
    }
   ],
   "source": [
    "df.query('device_id == 6427012997733591237').head(15)"
   ]
  },
  {
   "cell_type": "markdown",
   "metadata": {},
   "source": [
    "Дважды (индекс 5874 и 5875) проходит событие успешной оплаты в одну и ту же секунду. \n",
    "\n",
    "Таким образом, удалим дубликаты с опцией first (по умолчанию), то есть оставим первое вхождение дубликатного значения.\n",
    "Также сбросим индексы."
   ]
  },
  {
   "cell_type": "code",
   "execution_count": 131,
   "metadata": {},
   "outputs": [
    {
     "data": {
      "text/plain": [
       "0"
      ]
     },
     "execution_count": 131,
     "metadata": {},
     "output_type": "execute_result"
    }
   ],
   "source": [
    "df = df.drop_duplicates().reset_index(drop=True)\n",
    "df.duplicated().sum()"
   ]
  },
  {
   "cell_type": "code",
   "execution_count": 132,
   "metadata": {},
   "outputs": [],
   "source": [
    "df['datetime'] = pd.to_datetime(df['timestamp'], unit='s')\n",
    "df['date'] = pd.to_datetime(df['datetime']).dt.normalize()"
   ]
  },
  {
   "cell_type": "code",
   "execution_count": 133,
   "metadata": {},
   "outputs": [
    {
     "name": "stdout",
     "output_type": "stream",
     "text": [
      "<class 'pandas.core.frame.DataFrame'>\n",
      "RangeIndex: 243713 entries, 0 to 243712\n",
      "Data columns (total 6 columns):\n",
      " #   Column     Non-Null Count   Dtype         \n",
      "---  ------     --------------   -----         \n",
      " 0   event      243713 non-null  object        \n",
      " 1   device_id  243713 non-null  int64         \n",
      " 2   timestamp  243713 non-null  int64         \n",
      " 3   exp        243713 non-null  int64         \n",
      " 4   datetime   243713 non-null  datetime64[ns]\n",
      " 5   date       243713 non-null  datetime64[ns]\n",
      "dtypes: datetime64[ns](2), int64(3), object(1)\n",
      "memory usage: 11.2+ MB\n"
     ]
    }
   ],
   "source": [
    "df.info()"
   ]
  },
  {
   "cell_type": "code",
   "execution_count": 134,
   "metadata": {},
   "outputs": [
    {
     "data": {
      "text/html": [
       "<div>\n",
       "<style scoped>\n",
       "    .dataframe tbody tr th:only-of-type {\n",
       "        vertical-align: middle;\n",
       "    }\n",
       "\n",
       "    .dataframe tbody tr th {\n",
       "        vertical-align: top;\n",
       "    }\n",
       "\n",
       "    .dataframe thead th {\n",
       "        text-align: right;\n",
       "    }\n",
       "</style>\n",
       "<table border=\"1\" class=\"dataframe\">\n",
       "  <thead>\n",
       "    <tr style=\"text-align: right;\">\n",
       "      <th></th>\n",
       "      <th>event</th>\n",
       "      <th>device_id</th>\n",
       "      <th>timestamp</th>\n",
       "      <th>exp</th>\n",
       "      <th>datetime</th>\n",
       "      <th>date</th>\n",
       "    </tr>\n",
       "  </thead>\n",
       "  <tbody>\n",
       "    <tr>\n",
       "      <th>0</th>\n",
       "      <td>mainscreenappear</td>\n",
       "      <td>4575588528974610257</td>\n",
       "      <td>1564029816</td>\n",
       "      <td>246</td>\n",
       "      <td>2019-07-25 04:43:36</td>\n",
       "      <td>2019-07-25</td>\n",
       "    </tr>\n",
       "    <tr>\n",
       "      <th>1</th>\n",
       "      <td>mainscreenappear</td>\n",
       "      <td>7416695313311560658</td>\n",
       "      <td>1564053102</td>\n",
       "      <td>246</td>\n",
       "      <td>2019-07-25 11:11:42</td>\n",
       "      <td>2019-07-25</td>\n",
       "    </tr>\n",
       "    <tr>\n",
       "      <th>2</th>\n",
       "      <td>paymentscreensuccessful</td>\n",
       "      <td>3518123091307005509</td>\n",
       "      <td>1564054127</td>\n",
       "      <td>248</td>\n",
       "      <td>2019-07-25 11:28:47</td>\n",
       "      <td>2019-07-25</td>\n",
       "    </tr>\n",
       "    <tr>\n",
       "      <th>3</th>\n",
       "      <td>cartscreenappear</td>\n",
       "      <td>3518123091307005509</td>\n",
       "      <td>1564054127</td>\n",
       "      <td>248</td>\n",
       "      <td>2019-07-25 11:28:47</td>\n",
       "      <td>2019-07-25</td>\n",
       "    </tr>\n",
       "    <tr>\n",
       "      <th>4</th>\n",
       "      <td>paymentscreensuccessful</td>\n",
       "      <td>6217807653094995999</td>\n",
       "      <td>1564055322</td>\n",
       "      <td>248</td>\n",
       "      <td>2019-07-25 11:48:42</td>\n",
       "      <td>2019-07-25</td>\n",
       "    </tr>\n",
       "  </tbody>\n",
       "</table>\n",
       "</div>"
      ],
      "text/plain": [
       "                     event            device_id   timestamp  exp  \\\n",
       "0         mainscreenappear  4575588528974610257  1564029816  246   \n",
       "1         mainscreenappear  7416695313311560658  1564053102  246   \n",
       "2  paymentscreensuccessful  3518123091307005509  1564054127  248   \n",
       "3         cartscreenappear  3518123091307005509  1564054127  248   \n",
       "4  paymentscreensuccessful  6217807653094995999  1564055322  248   \n",
       "\n",
       "             datetime       date  \n",
       "0 2019-07-25 04:43:36 2019-07-25  \n",
       "1 2019-07-25 11:11:42 2019-07-25  \n",
       "2 2019-07-25 11:28:47 2019-07-25  \n",
       "3 2019-07-25 11:28:47 2019-07-25  \n",
       "4 2019-07-25 11:48:42 2019-07-25  "
      ]
     },
     "execution_count": 134,
     "metadata": {},
     "output_type": "execute_result"
    }
   ],
   "source": [
    "df.head(5)"
   ]
  },
  {
   "cell_type": "markdown",
   "metadata": {},
   "source": [
    "Готово, можно переходить к следующей части."
   ]
  },
  {
   "cell_type": "markdown",
   "metadata": {},
   "source": [
    "<a id='2'></a>\n",
    "## Изучение и проверка данных"
   ]
  },
  {
   "cell_type": "markdown",
   "metadata": {},
   "source": [
    "<a id='21'></a>\n",
    "### Исследовательский анализ\n",
    "\n",
    "- Сколько всего событий в логе?\n",
    "- Сколько всего пользователей в логе?\n",
    "- Сколько в среднем событий приходится на пользователя?"
   ]
  },
  {
   "cell_type": "code",
   "execution_count": 135,
   "metadata": {},
   "outputs": [
    {
     "data": {
      "text/plain": [
       "243713"
      ]
     },
     "execution_count": 135,
     "metadata": {},
     "output_type": "execute_result"
    }
   ],
   "source": [
    "# Всего событий\n",
    "\n",
    "df.count()[0]"
   ]
  },
  {
   "cell_type": "code",
   "execution_count": 136,
   "metadata": {},
   "outputs": [
    {
     "data": {
      "text/plain": [
       "array(['mainscreenappear', 'paymentscreensuccessful', 'cartscreenappear',\n",
       "       'offersscreenappear', 'tutorial'], dtype=object)"
      ]
     },
     "execution_count": 136,
     "metadata": {},
     "output_type": "execute_result"
    }
   ],
   "source": [
    "# уникальные виды событий\n",
    "\n",
    "df['event'].unique() "
   ]
  },
  {
   "cell_type": "code",
   "execution_count": 137,
   "metadata": {},
   "outputs": [
    {
     "data": {
      "text/plain": [
       "7551"
      ]
     },
     "execution_count": 137,
     "metadata": {},
     "output_type": "execute_result"
    }
   ],
   "source": [
    "# количество уникальных пользователей\n",
    "\n",
    "df['device_id'].nunique()"
   ]
  },
  {
   "cell_type": "code",
   "execution_count": 138,
   "metadata": {},
   "outputs": [
    {
     "data": {
      "text/plain": [
       "32.27559263673685"
      ]
     },
     "execution_count": 138,
     "metadata": {},
     "output_type": "execute_result"
    }
   ],
   "source": [
    "# расчет среднего числа событий на пользователя\n",
    "\n",
    "df.count()[1] / df['device_id'].nunique()"
   ]
  },
  {
   "cell_type": "markdown",
   "metadata": {},
   "source": [
    "32 события на 1 пользователя"
   ]
  },
  {
   "cell_type": "markdown",
   "metadata": {},
   "source": [
    "<a id='22'></a>\n",
    "### Определение горизонта анализа\n",
    "\n",
    "- Данными за какой период вы располагаете? Найдите максимальную и минимальную дату. \n",
    "- Постройте гистограмму по дате и времени.\n",
    "- Можно ли быть уверенным, что у вас одинаково полные данные за весь период? Технически в логи новых дней по некоторым пользователям могут «доезжать» события из прошлого — это может «перекашивать данные».\n",
    "- Определите, с какого момента данные полные и отбросьте более старые. Данными за какой период времени вы располагаете на самом деле?"
   ]
  },
  {
   "cell_type": "code",
   "execution_count": 139,
   "metadata": {},
   "outputs": [
    {
     "data": {
      "text/plain": [
       "date   2019-07-25\n",
       "dtype: datetime64[ns]"
      ]
     },
     "execution_count": 139,
     "metadata": {},
     "output_type": "execute_result"
    }
   ],
   "source": [
    "df[['date']].min()"
   ]
  },
  {
   "cell_type": "code",
   "execution_count": 140,
   "metadata": {},
   "outputs": [
    {
     "data": {
      "text/plain": [
       "date   2019-08-07\n",
       "dtype: datetime64[ns]"
      ]
     },
     "execution_count": 140,
     "metadata": {},
     "output_type": "execute_result"
    }
   ],
   "source": [
    "df[['date']].max()"
   ]
  },
  {
   "cell_type": "markdown",
   "metadata": {},
   "source": [
    "Минимальная дата 25 июля 2019\n",
    "Максимальная 7 августа 2019\n",
    "\n",
    "Построим гистограмму по датам и времени"
   ]
  },
  {
   "cell_type": "code",
   "execution_count": 141,
   "metadata": {},
   "outputs": [
    {
     "data": {
      "image/png": "[encoded data removed]",
      "text/plain": [
       "<Figure size 1440x720 with 1 Axes>"
      ]
     },
     "metadata": {
      "needs_background": "light"
     },
     "output_type": "display_data"
    }
   ],
   "source": [
    "plt.figure(figsize=(20, 10))\n",
    "sns.histplot(data=df, x=\"datetime\", bins=100)\n",
    "\n",
    "\n",
    "plt.title('Распределения даты логов', fontsize=20)\n",
    "plt.ylabel('Число логов', fontsize=14)\n",
    "plt.xlabel('Дата', fontsize=14)\n",
    "\n",
    "plt.xticks(fontsize=14, rotation=45)\n",
    "plt.yticks(fontsize=14);"
   ]
  },
  {
   "cell_type": "markdown",
   "metadata": {},
   "source": [
    "Как видно, наибольшее число логов начинает появляться с 1 августа, таким образом останется 1 неделя данных, вместо двух.\n",
    "Создадим новый датасет с учетом нового горизонта."
   ]
  },
  {
   "cell_type": "code",
   "execution_count": 142,
   "metadata": {},
   "outputs": [],
   "source": [
    "df_new = df[df['date'] > '2019-07-31']"
   ]
  },
  {
   "cell_type": "code",
   "execution_count": 143,
   "metadata": {},
   "outputs": [
    {
     "data": {
      "text/html": [
       "<div>\n",
       "<style scoped>\n",
       "    .dataframe tbody tr th:only-of-type {\n",
       "        vertical-align: middle;\n",
       "    }\n",
       "\n",
       "    .dataframe tbody tr th {\n",
       "        vertical-align: top;\n",
       "    }\n",
       "\n",
       "    .dataframe thead th {\n",
       "        text-align: right;\n",
       "    }\n",
       "</style>\n",
       "<table border=\"1\" class=\"dataframe\">\n",
       "  <thead>\n",
       "    <tr style=\"text-align: right;\">\n",
       "      <th></th>\n",
       "      <th>event</th>\n",
       "      <th>device_id</th>\n",
       "      <th>timestamp</th>\n",
       "      <th>exp</th>\n",
       "      <th>datetime</th>\n",
       "      <th>date</th>\n",
       "    </tr>\n",
       "  </thead>\n",
       "  <tbody>\n",
       "    <tr>\n",
       "      <th>2826</th>\n",
       "      <td>tutorial</td>\n",
       "      <td>3737462046622621720</td>\n",
       "      <td>1564618048</td>\n",
       "      <td>246</td>\n",
       "      <td>2019-08-01 00:07:28</td>\n",
       "      <td>2019-08-01</td>\n",
       "    </tr>\n",
       "    <tr>\n",
       "      <th>2827</th>\n",
       "      <td>mainscreenappear</td>\n",
       "      <td>3737462046622621720</td>\n",
       "      <td>1564618080</td>\n",
       "      <td>246</td>\n",
       "      <td>2019-08-01 00:08:00</td>\n",
       "      <td>2019-08-01</td>\n",
       "    </tr>\n",
       "    <tr>\n",
       "      <th>2828</th>\n",
       "      <td>mainscreenappear</td>\n",
       "      <td>3737462046622621720</td>\n",
       "      <td>1564618135</td>\n",
       "      <td>246</td>\n",
       "      <td>2019-08-01 00:08:55</td>\n",
       "      <td>2019-08-01</td>\n",
       "    </tr>\n",
       "    <tr>\n",
       "      <th>2829</th>\n",
       "      <td>offersscreenappear</td>\n",
       "      <td>3737462046622621720</td>\n",
       "      <td>1564618138</td>\n",
       "      <td>246</td>\n",
       "      <td>2019-08-01 00:08:58</td>\n",
       "      <td>2019-08-01</td>\n",
       "    </tr>\n",
       "    <tr>\n",
       "      <th>2830</th>\n",
       "      <td>mainscreenappear</td>\n",
       "      <td>1433840883824088890</td>\n",
       "      <td>1564618139</td>\n",
       "      <td>247</td>\n",
       "      <td>2019-08-01 00:08:59</td>\n",
       "      <td>2019-08-01</td>\n",
       "    </tr>\n",
       "  </tbody>\n",
       "</table>\n",
       "</div>"
      ],
      "text/plain": [
       "                   event            device_id   timestamp  exp  \\\n",
       "2826            tutorial  3737462046622621720  1564618048  246   \n",
       "2827    mainscreenappear  3737462046622621720  1564618080  246   \n",
       "2828    mainscreenappear  3737462046622621720  1564618135  246   \n",
       "2829  offersscreenappear  3737462046622621720  1564618138  246   \n",
       "2830    mainscreenappear  1433840883824088890  1564618139  247   \n",
       "\n",
       "                datetime       date  \n",
       "2826 2019-08-01 00:07:28 2019-08-01  \n",
       "2827 2019-08-01 00:08:00 2019-08-01  \n",
       "2828 2019-08-01 00:08:55 2019-08-01  \n",
       "2829 2019-08-01 00:08:58 2019-08-01  \n",
       "2830 2019-08-01 00:08:59 2019-08-01  "
      ]
     },
     "execution_count": 143,
     "metadata": {},
     "output_type": "execute_result"
    }
   ],
   "source": [
    "df_new.head()"
   ]
  },
  {
   "cell_type": "code",
   "execution_count": 144,
   "metadata": {},
   "outputs": [
    {
     "data": {
      "text/plain": [
       "date   2019-08-01\n",
       "dtype: datetime64[ns]"
      ]
     },
     "execution_count": 144,
     "metadata": {},
     "output_type": "execute_result"
    }
   ],
   "source": [
    "df_new[['date']].min()"
   ]
  },
  {
   "cell_type": "markdown",
   "metadata": {},
   "source": [
    "<a id='23'></a>\n",
    "### Проверка нового горизонта\n",
    "\n",
    "- Много ли событий и пользователей вы потеряли, отбросив старые данные?\n",
    "- Проверьте, что у вас есть пользователи из всех трёх экспериментальных групп."
   ]
  },
  {
   "cell_type": "code",
   "execution_count": 145,
   "metadata": {},
   "outputs": [
    {
     "name": "stdout",
     "output_type": "stream",
     "text": [
      "Потери из-за сокращения временного промежутка и удаления дубликатов\n",
      "\n",
      "Потери событий абсолютные: -2826 шт.\n",
      "\n",
      "Потери событий относительные: -1.16 %\n",
      "\n",
      "Потери пользователей абсолютные: -17 шт.\n",
      "\n",
      "Потери пользователей относительные: -0.23 %\n"
     ]
    }
   ],
   "source": [
    "print('Потери из-за сокращения временного промежутка и удаления дубликатов')\n",
    "print()\n",
    "print('Потери событий абсолютные:', (df_new.count()[1] - df.count()[1]),'шт.')\n",
    "print()\n",
    "print('Потери событий относительные:',  round((df_new.count()[1] / df.count()[1] - 1) * 100, 2)  ,'%')\n",
    "print()\n",
    "print('Потери пользователей абсолютные:', (df_new['device_id'].nunique() - df['device_id'].nunique()),'шт.')\n",
    "print()\n",
    "print('Потери пользователей относительные:',  round((df_new['device_id'].nunique() / df['device_id'].nunique() - 1) * 100, 2)  ,'%')"
   ]
  },
  {
   "cell_type": "markdown",
   "metadata": {},
   "source": [
    "Потери событий составили 1.16%.\n",
    "\n",
    "Потери с учетом первичного удаления дубликатов:"
   ]
  },
  {
   "cell_type": "code",
   "execution_count": 146,
   "metadata": {},
   "outputs": [
    {
     "data": {
      "text/plain": [
       "exp\n",
       "248    2537\n",
       "247    2513\n",
       "246    2484\n",
       "dtype: int64"
      ]
     },
     "execution_count": 146,
     "metadata": {},
     "output_type": "execute_result"
    }
   ],
   "source": [
    "# рассчитаем количество и доли по трем группам, сгруппированные по пользователям\n",
    "\n",
    "df_new.groupby('device_id').agg({'exp': 'max'}).value_counts()"
   ]
  },
  {
   "cell_type": "code",
   "execution_count": 147,
   "metadata": {},
   "outputs": [
    {
     "data": {
      "text/plain": [
       "exp\n",
       "248    0.336740\n",
       "247    0.333555\n",
       "246    0.329705\n",
       "dtype: float64"
      ]
     },
     "execution_count": 147,
     "metadata": {},
     "output_type": "execute_result"
    }
   ],
   "source": [
    "df_new.groupby('device_id').agg({'exp': 'max'}).value_counts(normalize=True)"
   ]
  },
  {
   "cell_type": "markdown",
   "metadata": {},
   "source": [
    "**Вывод**\n",
    "\n",
    "Представлены пользователи из трех экспериментальных групп. Значительныех перекосов в пользу одной группы нет."
   ]
  },
  {
   "cell_type": "markdown",
   "metadata": {},
   "source": [
    "<a id='3'></a>\n",
    "## Воронка событий"
   ]
  },
  {
   "cell_type": "markdown",
   "metadata": {},
   "source": [
    "<a id='31'></a>\n",
    "### Определение частоты событий и распределений по пользователям\n",
    "\n",
    "- Посмотрите, какие события есть в логах, как часто они встречаются. \n",
    "- Отсортируйте события по частоте.\n",
    "- Посчитайте, сколько пользователей совершали каждое из этих событий. \n",
    "- Отсортируйте события по числу пользователей. \n",
    "- Посчитайте долю пользователей, которые хоть раз совершали событие."
   ]
  },
  {
   "cell_type": "code",
   "execution_count": 148,
   "metadata": {},
   "outputs": [
    {
     "data": {
      "text/plain": [
       "mainscreenappear           117328\n",
       "offersscreenappear          46333\n",
       "cartscreenappear            42303\n",
       "paymentscreensuccessful     33918\n",
       "tutorial                     1005\n",
       "Name: event, dtype: int64"
      ]
     },
     "execution_count": 148,
     "metadata": {},
     "output_type": "execute_result"
    }
   ],
   "source": [
    "# считаем количество событий по видам и определяем долю каждого (события сразу же отсортированы по убыванию частоты и доли)\n",
    "\n",
    "df_new['event'].value_counts()"
   ]
  },
  {
   "cell_type": "code",
   "execution_count": 149,
   "metadata": {},
   "outputs": [
    {
     "data": {
      "text/plain": [
       "mainscreenappear           0.487067\n",
       "offersscreenappear         0.192343\n",
       "cartscreenappear           0.175613\n",
       "paymentscreensuccessful    0.140805\n",
       "tutorial                   0.004172\n",
       "Name: event, dtype: float64"
      ]
     },
     "execution_count": 149,
     "metadata": {},
     "output_type": "execute_result"
    }
   ],
   "source": [
    "df_new['event'].value_counts(normalize=True)"
   ]
  },
  {
   "cell_type": "markdown",
   "metadata": {},
   "source": [
    "Посчитаем число пользователей, которое приходится на каждое событие, а также их долю от общего числа.\n",
    "Для этого создадим функцию, которая соберет нам датасет.\n",
    "\n",
    "Входные данные - список с названиями событий и общее уникальное число клиентов"
   ]
  },
  {
   "cell_type": "code",
   "execution_count": 150,
   "metadata": {},
   "outputs": [],
   "source": [
    "event_list = df_new['event'].unique()\n",
    "number_of_users = df_new['device_id'].nunique()\n",
    "\n",
    "users_for_event = []\n",
    "proportion = []"
   ]
  },
  {
   "cell_type": "code",
   "execution_count": 151,
   "metadata": {},
   "outputs": [],
   "source": [
    "for i in range(len(event_list)):\n",
    "    users_for_event.append(df_new[df_new['event'] == event_list[i]]['device_id'].nunique())\n",
    "    proportion.append(df_new[df_new['event'] == event_list[i]]['device_id'].nunique() / number_of_users)"
   ]
  },
  {
   "cell_type": "code",
   "execution_count": 152,
   "metadata": {},
   "outputs": [
    {
     "data": {
      "text/html": [
       "<div>\n",
       "<style scoped>\n",
       "    .dataframe tbody tr th:only-of-type {\n",
       "        vertical-align: middle;\n",
       "    }\n",
       "\n",
       "    .dataframe tbody tr th {\n",
       "        vertical-align: top;\n",
       "    }\n",
       "\n",
       "    .dataframe thead th {\n",
       "        text-align: right;\n",
       "    }\n",
       "</style>\n",
       "<table border=\"1\" class=\"dataframe\">\n",
       "  <thead>\n",
       "    <tr style=\"text-align: right;\">\n",
       "      <th></th>\n",
       "      <th>event</th>\n",
       "      <th>number_of_users</th>\n",
       "      <th>proportion</th>\n",
       "    </tr>\n",
       "  </thead>\n",
       "  <tbody>\n",
       "    <tr>\n",
       "      <th>1</th>\n",
       "      <td>mainscreenappear</td>\n",
       "      <td>7419</td>\n",
       "      <td>0.98</td>\n",
       "    </tr>\n",
       "    <tr>\n",
       "      <th>2</th>\n",
       "      <td>offersscreenappear</td>\n",
       "      <td>4593</td>\n",
       "      <td>0.61</td>\n",
       "    </tr>\n",
       "    <tr>\n",
       "      <th>3</th>\n",
       "      <td>cartscreenappear</td>\n",
       "      <td>3734</td>\n",
       "      <td>0.50</td>\n",
       "    </tr>\n",
       "    <tr>\n",
       "      <th>4</th>\n",
       "      <td>paymentscreensuccessful</td>\n",
       "      <td>3539</td>\n",
       "      <td>0.47</td>\n",
       "    </tr>\n",
       "    <tr>\n",
       "      <th>0</th>\n",
       "      <td>tutorial</td>\n",
       "      <td>840</td>\n",
       "      <td>0.11</td>\n",
       "    </tr>\n",
       "  </tbody>\n",
       "</table>\n",
       "</div>"
      ],
      "text/plain": [
       "                     event  number_of_users  proportion\n",
       "1         mainscreenappear             7419        0.98\n",
       "2       offersscreenappear             4593        0.61\n",
       "3         cartscreenappear             3734        0.50\n",
       "4  paymentscreensuccessful             3539        0.47\n",
       "0                 tutorial              840        0.11"
      ]
     },
     "execution_count": 152,
     "metadata": {},
     "output_type": "execute_result"
    }
   ],
   "source": [
    "data = {'event': event_list,\n",
    "        'number_of_users': users_for_event,\n",
    "        'proportion': proportion}\n",
    "\n",
    "df_funnel = pd.DataFrame(data=data)\n",
    "df_funnel['proportion'] = (df_funnel['proportion'].map(lambda x: round(x, 2)))\n",
    "df_funnel = df_funnel.sort_values(by='number_of_users', ascending=False) \n",
    "\n",
    "df_funnel"
   ]
  },
  {
   "cell_type": "code",
   "execution_count": 153,
   "metadata": {},
   "outputs": [
    {
     "data": {
      "image/png": "[encoded data removed]",
      "text/plain": [
       "<Figure size 1440x720 with 1 Axes>"
      ]
     },
     "metadata": {
      "needs_background": "light"
     },
     "output_type": "display_data"
    }
   ],
   "source": [
    "plt.figure(figsize=(20, 10)) \n",
    "sns.barplot(x='event', y='proportion', data=df_funnel)\n",
    "\n",
    "\n",
    "plt.title('Доля пользователей по событиям', fontsize=20)\n",
    "plt.ylabel('Процент', fontsize=14)\n",
    "plt.xlabel('Событие', fontsize=14)\n",
    "plt.xticks(rotation=45, fontsize=14);"
   ]
  },
  {
   "cell_type": "markdown",
   "metadata": {},
   "source": [
    "**Вывод**\n",
    "\n",
    "- 98% пользователей попадали на главный экран\n",
    "- 61% приходило предложение\n",
    "- 50% открывало корзину\n",
    "- и 47% успешно оплачивали заказ;\n",
    "- отдельно стоит отметить окно с обучением в приложении, которое открывало всего 11%"
   ]
  },
  {
   "cell_type": "markdown",
   "metadata": {},
   "source": [
    "<a id='32'></a>\n",
    "### Определение порядка событий в приложении\n",
    "\n",
    "- Предположите, в каком порядке происходят события. \n",
    "- Все ли они выстраиваются в последовательную цепочку? Их не нужно учитывать при расчёте воронки."
   ]
  },
  {
   "cell_type": "markdown",
   "metadata": {},
   "source": [
    "Предполагаемая схема движения клиентов в приложении на изображении ниже"
   ]
  },
  {
   "attachments": {
    "%D0%B8%D0%B7%D0%BE%D0%B1%D1%80%D0%B0%D0%B6%D0%B5%D0%BD%D0%B8%D0%B5-3.png": {
     "image/png": "[encoded data removed]"
    }
   },
   "cell_type": "markdown",
   "metadata": {},
   "source": [
    "![%D0%B8%D0%B7%D0%BE%D0%B1%D1%80%D0%B0%D0%B6%D0%B5%D0%BD%D0%B8%D0%B5-3.png](attachment:%D0%B8%D0%B7%D0%BE%D0%B1%D1%80%D0%B0%D0%B6%D0%B5%D0%BD%D0%B8%D0%B5-3.png)"
   ]
  },
  {
   "cell_type": "markdown",
   "metadata": {},
   "source": [
    "После попадаения на главный экран, часть клиентов может пройти обучение, однако, судя по статистике оно не так востребовано (всего 11% пользователей прошли обучение).\n",
    "\n",
    "Далее следует экран предложений, на который попадает уже 61% пользователей.\n",
    "С учетом данных, наибольшие потери идут именно в этом разделе.\n",
    "Если на главном экране у нас 98% пользователей, то предложение получают уже 61%.\n",
    "До корзины доходит 50% и оплачивает заказ 47%.\n",
    "\n",
    "То есть можно сказать, что большинство из тех, кто переходит в корзину - совершают покупку. \n",
    "Проблема в том, что почти 40% не получают предложений.\n",
    "\n",
    "В свою очередь обучение мы не будем учитывать при дальнейших расчетах."
   ]
  },
  {
   "cell_type": "markdown",
   "metadata": {},
   "source": [
    "<a id='33'></a>\n",
    "### Расчет конверсии\n",
    "\n",
    "- По воронке событий посчитайте, какая доля пользователей проходит на следующий шаг воронки (от числа пользователей на предыдущем). То есть для последовательности событий A → B → C посчитайте отношение числа пользователей с событием B к количеству пользователей с событием A, а также отношение числа пользователей с событием C к количеству пользователей с событием B."
   ]
  },
  {
   "cell_type": "code",
   "execution_count": 154,
   "metadata": {},
   "outputs": [
    {
     "data": {
      "text/html": [
       "<div>\n",
       "<style scoped>\n",
       "    .dataframe tbody tr th:only-of-type {\n",
       "        vertical-align: middle;\n",
       "    }\n",
       "\n",
       "    .dataframe tbody tr th {\n",
       "        vertical-align: top;\n",
       "    }\n",
       "\n",
       "    .dataframe thead th {\n",
       "        text-align: right;\n",
       "    }\n",
       "</style>\n",
       "<table border=\"1\" class=\"dataframe\">\n",
       "  <thead>\n",
       "    <tr style=\"text-align: right;\">\n",
       "      <th></th>\n",
       "      <th>event</th>\n",
       "      <th>number_of_users</th>\n",
       "      <th>proportion</th>\n",
       "    </tr>\n",
       "  </thead>\n",
       "  <tbody>\n",
       "    <tr>\n",
       "      <th>1</th>\n",
       "      <td>mainscreenappear</td>\n",
       "      <td>7419</td>\n",
       "      <td>0.98</td>\n",
       "    </tr>\n",
       "    <tr>\n",
       "      <th>2</th>\n",
       "      <td>offersscreenappear</td>\n",
       "      <td>4593</td>\n",
       "      <td>0.61</td>\n",
       "    </tr>\n",
       "    <tr>\n",
       "      <th>3</th>\n",
       "      <td>cartscreenappear</td>\n",
       "      <td>3734</td>\n",
       "      <td>0.50</td>\n",
       "    </tr>\n",
       "    <tr>\n",
       "      <th>4</th>\n",
       "      <td>paymentscreensuccessful</td>\n",
       "      <td>3539</td>\n",
       "      <td>0.47</td>\n",
       "    </tr>\n",
       "    <tr>\n",
       "      <th>0</th>\n",
       "      <td>tutorial</td>\n",
       "      <td>840</td>\n",
       "      <td>0.11</td>\n",
       "    </tr>\n",
       "  </tbody>\n",
       "</table>\n",
       "</div>"
      ],
      "text/plain": [
       "                     event  number_of_users  proportion\n",
       "1         mainscreenappear             7419        0.98\n",
       "2       offersscreenappear             4593        0.61\n",
       "3         cartscreenappear             3734        0.50\n",
       "4  paymentscreensuccessful             3539        0.47\n",
       "0                 tutorial              840        0.11"
      ]
     },
     "execution_count": 154,
     "metadata": {},
     "output_type": "execute_result"
    }
   ],
   "source": [
    "df_funnel"
   ]
  },
  {
   "cell_type": "code",
   "execution_count": 155,
   "metadata": {},
   "outputs": [
    {
     "data": {
      "text/html": [
       "<div>\n",
       "<style scoped>\n",
       "    .dataframe tbody tr th:only-of-type {\n",
       "        vertical-align: middle;\n",
       "    }\n",
       "\n",
       "    .dataframe tbody tr th {\n",
       "        vertical-align: top;\n",
       "    }\n",
       "\n",
       "    .dataframe thead th {\n",
       "        text-align: right;\n",
       "    }\n",
       "</style>\n",
       "<table border=\"1\" class=\"dataframe\">\n",
       "  <thead>\n",
       "    <tr style=\"text-align: right;\">\n",
       "      <th></th>\n",
       "      <th>event</th>\n",
       "      <th>number_of_users</th>\n",
       "      <th>proportion</th>\n",
       "    </tr>\n",
       "  </thead>\n",
       "  <tbody>\n",
       "    <tr>\n",
       "      <th>1</th>\n",
       "      <td>mainscreenappear</td>\n",
       "      <td>7419</td>\n",
       "      <td>0.98</td>\n",
       "    </tr>\n",
       "    <tr>\n",
       "      <th>2</th>\n",
       "      <td>offersscreenappear</td>\n",
       "      <td>4593</td>\n",
       "      <td>0.61</td>\n",
       "    </tr>\n",
       "    <tr>\n",
       "      <th>3</th>\n",
       "      <td>cartscreenappear</td>\n",
       "      <td>3734</td>\n",
       "      <td>0.50</td>\n",
       "    </tr>\n",
       "    <tr>\n",
       "      <th>4</th>\n",
       "      <td>paymentscreensuccessful</td>\n",
       "      <td>3539</td>\n",
       "      <td>0.47</td>\n",
       "    </tr>\n",
       "  </tbody>\n",
       "</table>\n",
       "</div>"
      ],
      "text/plain": [
       "                     event  number_of_users  proportion\n",
       "1         mainscreenappear             7419        0.98\n",
       "2       offersscreenappear             4593        0.61\n",
       "3         cartscreenappear             3734        0.50\n",
       "4  paymentscreensuccessful             3539        0.47"
      ]
     },
     "execution_count": 155,
     "metadata": {},
     "output_type": "execute_result"
    }
   ],
   "source": [
    "# удаляем событие обучения\n",
    "\n",
    "df_funnel = df_funnel.drop(0)\n",
    "df_funnel"
   ]
  },
  {
   "cell_type": "code",
   "execution_count": 156,
   "metadata": {},
   "outputs": [
    {
     "data": {
      "text/plain": [
       "[1, 0.6190861302062273, 0.8129762682342695, 0.9477771826459561]"
      ]
     },
     "execution_count": 156,
     "metadata": {},
     "output_type": "execute_result"
    }
   ],
   "source": [
    "# создаем список с расчетами, начиная со 2 строки (т.к. первую мы ни на что не делим)\n",
    "\n",
    "proportion_to_prev = []\n",
    "proportion_to_prev.append(1)\n",
    "\n",
    "for i in range(2, 5):\n",
    "    proportion_to_prev.append(df_funnel['number_of_users'][i] / df_funnel['number_of_users'][i - 1])\n",
    "    \n",
    "proportion_to_prev"
   ]
  },
  {
   "cell_type": "code",
   "execution_count": 157,
   "metadata": {},
   "outputs": [
    {
     "data": {
      "text/html": [
       "<div>\n",
       "<style scoped>\n",
       "    .dataframe tbody tr th:only-of-type {\n",
       "        vertical-align: middle;\n",
       "    }\n",
       "\n",
       "    .dataframe tbody tr th {\n",
       "        vertical-align: top;\n",
       "    }\n",
       "\n",
       "    .dataframe thead th {\n",
       "        text-align: right;\n",
       "    }\n",
       "</style>\n",
       "<table border=\"1\" class=\"dataframe\">\n",
       "  <thead>\n",
       "    <tr style=\"text-align: right;\">\n",
       "      <th></th>\n",
       "      <th>event</th>\n",
       "      <th>number_of_users</th>\n",
       "      <th>proportion</th>\n",
       "      <th>proportion_to_prev</th>\n",
       "    </tr>\n",
       "  </thead>\n",
       "  <tbody>\n",
       "    <tr>\n",
       "      <th>1</th>\n",
       "      <td>mainscreenappear</td>\n",
       "      <td>7419</td>\n",
       "      <td>0.98</td>\n",
       "      <td>1.00</td>\n",
       "    </tr>\n",
       "    <tr>\n",
       "      <th>2</th>\n",
       "      <td>offersscreenappear</td>\n",
       "      <td>4593</td>\n",
       "      <td>0.61</td>\n",
       "      <td>0.62</td>\n",
       "    </tr>\n",
       "    <tr>\n",
       "      <th>3</th>\n",
       "      <td>cartscreenappear</td>\n",
       "      <td>3734</td>\n",
       "      <td>0.50</td>\n",
       "      <td>0.81</td>\n",
       "    </tr>\n",
       "    <tr>\n",
       "      <th>4</th>\n",
       "      <td>paymentscreensuccessful</td>\n",
       "      <td>3539</td>\n",
       "      <td>0.47</td>\n",
       "      <td>0.95</td>\n",
       "    </tr>\n",
       "  </tbody>\n",
       "</table>\n",
       "</div>"
      ],
      "text/plain": [
       "                     event  number_of_users  proportion  proportion_to_prev\n",
       "1         mainscreenappear             7419        0.98                1.00\n",
       "2       offersscreenappear             4593        0.61                0.62\n",
       "3         cartscreenappear             3734        0.50                0.81\n",
       "4  paymentscreensuccessful             3539        0.47                0.95"
      ]
     },
     "execution_count": 157,
     "metadata": {},
     "output_type": "execute_result"
    }
   ],
   "source": [
    "df_funnel['proportion_to_prev'] = proportion_to_prev\n",
    "df_funnel['proportion_to_prev'] = (df_funnel['proportion_to_prev'].map(lambda x: round(x, 2)))\n",
    "df_funnel"
   ]
  },
  {
   "cell_type": "code",
   "execution_count": 158,
   "metadata": {},
   "outputs": [
    {
     "data": {
      "application/vnd.plotly.v1+json": {
       "config": {
        "plotlyServerURL": "https://plot.ly"
       },
       "data": [
        {
         "textinfo": "value+percent initial+percent previous",
         "type": "funnel",
         "x": [
          7419,
          4593,
          3734,
          3539
         ],
         "y": [
          "mainscreenappear",
          "offersscreenappear",
          "cartscreenappear",
          "paymentscreensuccessful"
         ]
        }
       ],
       "layout": {
        "template": {
         "data": {
          "bar": [
           {
            "error_x": {
             "color": "#2a3f5f"
            },
            "error_y": {
             "color": "#2a3f5f"
            },
            "marker": {
             "line": {
              "color": "#E5ECF6",
              "width": 0.5
             },
             "pattern": {
              "fillmode": "overlay",
              "size": 10,
              "solidity": 0.2
             }
            },
            "type": "bar"
           }
          ],
          "barpolar": [
           {
            "marker": {
             "line": {
              "color": "#E5ECF6",
              "width": 0.5
             },
             "pattern": {
              "fillmode": "overlay",
              "size": 10,
              "solidity": 0.2
             }
            },
            "type": "barpolar"
           }
          ],
          "carpet": [
           {
            "aaxis": {
             "endlinecolor": "#2a3f5f",
             "gridcolor": "white",
             "linecolor": "white",
             "minorgridcolor": "white",
             "startlinecolor": "#2a3f5f"
            },
            "baxis": {
             "endlinecolor": "#2a3f5f",
             "gridcolor": "white",
             "linecolor": "white",
             "minorgridcolor": "white",
             "startlinecolor": "#2a3f5f"
            },
            "type": "carpet"
           }
          ],
          "choropleth": [
           {
            "colorbar": {
             "outlinewidth": 0,
             "ticks": ""
            },
            "type": "choropleth"
           }
          ],
          "contour": [
           {
            "colorbar": {
             "outlinewidth": 0,
             "ticks": ""
            },
            "colorscale": [
             [
              0,
              "#0d0887"
             ],
             [
              0.1111111111111111,
              "#46039f"
             ],
             [
              0.2222222222222222,
              "#7201a8"
             ],
             [
              0.3333333333333333,
              "#9c179e"
             ],
             [
              0.4444444444444444,
              "#bd3786"
             ],
             [
              0.5555555555555556,
              "#d8576b"
             ],
             [
              0.6666666666666666,
              "#ed7953"
             ],
             [
              0.7777777777777778,
              "#fb9f3a"
             ],
             [
              0.8888888888888888,
              "#fdca26"
             ],
             [
              1,
              "#f0f921"
             ]
            ],
            "type": "contour"
           }
          ],
          "contourcarpet": [
           {
            "colorbar": {
             "outlinewidth": 0,
             "ticks": ""
            },
            "type": "contourcarpet"
           }
          ],
          "heatmap": [
           {
            "colorbar": {
             "outlinewidth": 0,
             "ticks": ""
            },
            "colorscale": [
             [
              0,
              "#0d0887"
             ],
             [
              0.1111111111111111,
              "#46039f"
             ],
             [
              0.2222222222222222,
              "#7201a8"
             ],
             [
              0.3333333333333333,
              "#9c179e"
             ],
             [
              0.4444444444444444,
              "#bd3786"
             ],
             [
              0.5555555555555556,
              "#d8576b"
             ],
             [
              0.6666666666666666,
              "#ed7953"
             ],
             [
              0.7777777777777778,
              "#fb9f3a"
             ],
             [
              0.8888888888888888,
              "#fdca26"
             ],
             [
              1,
              "#f0f921"
             ]
            ],
            "type": "heatmap"
           }
          ],
          "heatmapgl": [
           {
            "colorbar": {
             "outlinewidth": 0,
             "ticks": ""
            },
            "colorscale": [
             [
              0,
              "#0d0887"
             ],
             [
              0.1111111111111111,
              "#46039f"
             ],
             [
              0.2222222222222222,
              "#7201a8"
             ],
             [
              0.3333333333333333,
              "#9c179e"
             ],
             [
              0.4444444444444444,
              "#bd3786"
             ],
             [
              0.5555555555555556,
              "#d8576b"
             ],
             [
              0.6666666666666666,
              "#ed7953"
             ],
             [
              0.7777777777777778,
              "#fb9f3a"
             ],
             [
              0.8888888888888888,
              "#fdca26"
             ],
             [
              1,
              "#f0f921"
             ]
            ],
            "type": "heatmapgl"
           }
          ],
          "histogram": [
           {
            "marker": {
             "pattern": {
              "fillmode": "overlay",
              "size": 10,
              "solidity": 0.2
             }
            },
            "type": "histogram"
           }
          ],
          "histogram2d": [
           {
            "colorbar": {
             "outlinewidth": 0,
             "ticks": ""
            },
            "colorscale": [
             [
              0,
              "#0d0887"
             ],
             [
              0.1111111111111111,
              "#46039f"
             ],
             [
              0.2222222222222222,
              "#7201a8"
             ],
             [
              0.3333333333333333,
              "#9c179e"
             ],
             [
              0.4444444444444444,
              "#bd3786"
             ],
             [
              0.5555555555555556,
              "#d8576b"
             ],
             [
              0.6666666666666666,
              "#ed7953"
             ],
             [
              0.7777777777777778,
              "#fb9f3a"
             ],
             [
              0.8888888888888888,
              "#fdca26"
             ],
             [
              1,
              "#f0f921"
             ]
            ],
            "type": "histogram2d"
           }
          ],
          "histogram2dcontour": [
           {
            "colorbar": {
             "outlinewidth": 0,
             "ticks": ""
            },
            "colorscale": [
             [
              0,
              "#0d0887"
             ],
             [
              0.1111111111111111,
              "#46039f"
             ],
             [
              0.2222222222222222,
              "#7201a8"
             ],
             [
              0.3333333333333333,
              "#9c179e"
             ],
             [
              0.4444444444444444,
              "#bd3786"
             ],
             [
              0.5555555555555556,
              "#d8576b"
             ],
             [
              0.6666666666666666,
              "#ed7953"
             ],
             [
              0.7777777777777778,
              "#fb9f3a"
             ],
             [
              0.8888888888888888,
              "#fdca26"
             ],
             [
              1,
              "#f0f921"
             ]
            ],
            "type": "histogram2dcontour"
           }
          ],
          "mesh3d": [
           {
            "colorbar": {
             "outlinewidth": 0,
             "ticks": ""
            },
            "type": "mesh3d"
           }
          ],
          "parcoords": [
           {
            "line": {
             "colorbar": {
              "outlinewidth": 0,
              "ticks": ""
             }
            },
            "type": "parcoords"
           }
          ],
          "pie": [
           {
            "automargin": true,
            "type": "pie"
           }
          ],
          "scatter": [
           {
            "marker": {
             "colorbar": {
              "outlinewidth": 0,
              "ticks": ""
             }
            },
            "type": "scatter"
           }
          ],
          "scatter3d": [
           {
            "line": {
             "colorbar": {
              "outlinewidth": 0,
              "ticks": ""
             }
            },
            "marker": {
             "colorbar": {
              "outlinewidth": 0,
              "ticks": ""
             }
            },
            "type": "scatter3d"
           }
          ],
          "scattercarpet": [
           {
            "marker": {
             "colorbar": {
              "outlinewidth": 0,
              "ticks": ""
             }
            },
            "type": "scattercarpet"
           }
          ],
          "scattergeo": [
           {
            "marker": {
             "colorbar": {
              "outlinewidth": 0,
              "ticks": ""
             }
            },
            "type": "scattergeo"
           }
          ],
          "scattergl": [
           {
            "marker": {
             "colorbar": {
              "outlinewidth": 0,
              "ticks": ""
             }
            },
            "type": "scattergl"
           }
          ],
          "scattermapbox": [
           {
            "marker": {
             "colorbar": {
              "outlinewidth": 0,
              "ticks": ""
             }
            },
            "type": "scattermapbox"
           }
          ],
          "scatterpolar": [
           {
            "marker": {
             "colorbar": {
              "outlinewidth": 0,
              "ticks": ""
             }
            },
            "type": "scatterpolar"
           }
          ],
          "scatterpolargl": [
           {
            "marker": {
             "colorbar": {
              "outlinewidth": 0,
              "ticks": ""
             }
            },
            "type": "scatterpolargl"
           }
          ],
          "scatterternary": [
           {
            "marker": {
             "colorbar": {
              "outlinewidth": 0,
              "ticks": ""
             }
            },
            "type": "scatterternary"
           }
          ],
          "surface": [
           {
            "colorbar": {
             "outlinewidth": 0,
             "ticks": ""
            },
            "colorscale": [
             [
              0,
              "#0d0887"
             ],
             [
              0.1111111111111111,
              "#46039f"
             ],
             [
              0.2222222222222222,
              "#7201a8"
             ],
             [
              0.3333333333333333,
              "#9c179e"
             ],
             [
              0.4444444444444444,
              "#bd3786"
             ],
             [
              0.5555555555555556,
              "#d8576b"
             ],
             [
              0.6666666666666666,
              "#ed7953"
             ],
             [
              0.7777777777777778,
              "#fb9f3a"
             ],
             [
              0.8888888888888888,
              "#fdca26"
             ],
             [
              1,
              "#f0f921"
             ]
            ],
            "type": "surface"
           }
          ],
          "table": [
           {
            "cells": {
             "fill": {
              "color": "#EBF0F8"
             },
             "line": {
              "color": "white"
             }
            },
            "header": {
             "fill": {
              "color": "#C8D4E3"
             },
             "line": {
              "color": "white"
             }
            },
            "type": "table"
           }
          ]
         },
         "layout": {
          "annotationdefaults": {
           "arrowcolor": "#2a3f5f",
           "arrowhead": 0,
           "arrowwidth": 1
          },
          "autotypenumbers": "strict",
          "coloraxis": {
           "colorbar": {
            "outlinewidth": 0,
            "ticks": ""
           }
          },
          "colorscale": {
           "diverging": [
            [
             0,
             "#8e0152"
            ],
            [
             0.1,
             "#c51b7d"
            ],
            [
             0.2,
             "#de77ae"
            ],
            [
             0.3,
             "#f1b6da"
            ],
            [
             0.4,
             "#fde0ef"
            ],
            [
             0.5,
             "#f7f7f7"
            ],
            [
             0.6,
             "#e6f5d0"
            ],
            [
             0.7,
             "#b8e186"
            ],
            [
             0.8,
             "#7fbc41"
            ],
            [
             0.9,
             "#4d9221"
            ],
            [
             1,
             "#276419"
            ]
           ],
           "sequential": [
            [
             0,
             "#0d0887"
            ],
            [
             0.1111111111111111,
             "#46039f"
            ],
            [
             0.2222222222222222,
             "#7201a8"
            ],
            [
             0.3333333333333333,
             "#9c179e"
            ],
            [
             0.4444444444444444,
             "#bd3786"
            ],
            [
             0.5555555555555556,
             "#d8576b"
            ],
            [
             0.6666666666666666,
             "#ed7953"
            ],
            [
             0.7777777777777778,
             "#fb9f3a"
            ],
            [
             0.8888888888888888,
             "#fdca26"
            ],
            [
             1,
             "#f0f921"
            ]
           ],
           "sequentialminus": [
            [
             0,
             "#0d0887"
            ],
            [
             0.1111111111111111,
             "#46039f"
            ],
            [
             0.2222222222222222,
             "#7201a8"
            ],
            [
             0.3333333333333333,
             "#9c179e"
            ],
            [
             0.4444444444444444,
             "#bd3786"
            ],
            [
             0.5555555555555556,
             "#d8576b"
            ],
            [
             0.6666666666666666,
             "#ed7953"
            ],
            [
             0.7777777777777778,
             "#fb9f3a"
            ],
            [
             0.8888888888888888,
             "#fdca26"
            ],
            [
             1,
             "#f0f921"
            ]
           ]
          },
          "colorway": [
           "#636efa",
           "#EF553B",
           "#00cc96",
           "#ab63fa",
           "#FFA15A",
           "#19d3f3",
           "#FF6692",
           "#B6E880",
           "#FF97FF",
           "#FECB52"
          ],
          "font": {
           "color": "#2a3f5f"
          },
          "geo": {
           "bgcolor": "white",
           "lakecolor": "white",
           "landcolor": "#E5ECF6",
           "showlakes": true,
           "showland": true,
           "subunitcolor": "white"
          },
          "hoverlabel": {
           "align": "left"
          },
          "hovermode": "closest",
          "mapbox": {
           "style": "light"
          },
          "paper_bgcolor": "white",
          "plot_bgcolor": "#E5ECF6",
          "polar": {
           "angularaxis": {
            "gridcolor": "white",
            "linecolor": "white",
            "ticks": ""
           },
           "bgcolor": "#E5ECF6",
           "radialaxis": {
            "gridcolor": "white",
            "linecolor": "white",
            "ticks": ""
           }
          },
          "scene": {
           "xaxis": {
            "backgroundcolor": "#E5ECF6",
            "gridcolor": "white",
            "gridwidth": 2,
            "linecolor": "white",
            "showbackground": true,
            "ticks": "",
            "zerolinecolor": "white"
           },
           "yaxis": {
            "backgroundcolor": "#E5ECF6",
            "gridcolor": "white",
            "gridwidth": 2,
            "linecolor": "white",
            "showbackground": true,
            "ticks": "",
            "zerolinecolor": "white"
           },
           "zaxis": {
            "backgroundcolor": "#E5ECF6",
            "gridcolor": "white",
            "gridwidth": 2,
            "linecolor": "white",
            "showbackground": true,
            "ticks": "",
            "zerolinecolor": "white"
           }
          },
          "shapedefaults": {
           "line": {
            "color": "#2a3f5f"
           }
          },
          "ternary": {
           "aaxis": {
            "gridcolor": "white",
            "linecolor": "white",
            "ticks": ""
           },
           "baxis": {
            "gridcolor": "white",
            "linecolor": "white",
            "ticks": ""
           },
           "bgcolor": "#E5ECF6",
           "caxis": {
            "gridcolor": "white",
            "linecolor": "white",
            "ticks": ""
           }
          },
          "title": {
           "x": 0.05
          },
          "xaxis": {
           "automargin": true,
           "gridcolor": "white",
           "linecolor": "white",
           "ticks": "",
           "title": {
            "standoff": 15
           },
           "zerolinecolor": "white",
           "zerolinewidth": 2
          },
          "yaxis": {
           "automargin": true,
           "gridcolor": "white",
           "linecolor": "white",
           "ticks": "",
           "title": {
            "standoff": 15
           },
           "zerolinecolor": "white",
           "zerolinewidth": 2
          }
         }
        }
       }
      },
      "text/html": [
       "<div>                            <div id=\"da0dab48-9141-403d-9c6a-5cd5fed4b8c2\" class=\"plotly-graph-div\" style=\"height:525px; width:100%;\"></div>            <script type=\"text/javascript\">                require([\"plotly\"], function(Plotly) {                    window.PLOTLYENV=window.PLOTLYENV || {};                                    if (document.getElementById(\"da0dab48-9141-403d-9c6a-5cd5fed4b8c2\")) {                    Plotly.newPlot(                        \"da0dab48-9141-403d-9c6a-5cd5fed4b8c2\",                        [{\"textinfo\":\"value+percent initial+percent previous\",\"x\":[7419,4593,3734,3539],\"y\":[\"mainscreenappear\",\"offersscreenappear\",\"cartscreenappear\",\"paymentscreensuccessful\"],\"type\":\"funnel\"}],                        {\"template\":{\"data\":{\"bar\":[{\"error_x\":{\"color\":\"#2a3f5f\"},\"error_y\":{\"color\":\"#2a3f5f\"},\"marker\":{\"line\":{\"color\":\"#E5ECF6\",\"width\":0.5},\"pattern\":{\"fillmode\":\"overlay\",\"size\":10,\"solidity\":0.2}},\"type\":\"bar\"}],\"barpolar\":[{\"marker\":{\"line\":{\"color\":\"#E5ECF6\",\"width\":0.5},\"pattern\":{\"fillmode\":\"overlay\",\"size\":10,\"solidity\":0.2}},\"type\":\"barpolar\"}],\"carpet\":[{\"aaxis\":{\"endlinecolor\":\"#2a3f5f\",\"gridcolor\":\"white\",\"linecolor\":\"white\",\"minorgridcolor\":\"white\",\"startlinecolor\":\"#2a3f5f\"},\"baxis\":{\"endlinecolor\":\"#2a3f5f\",\"gridcolor\":\"white\",\"linecolor\":\"white\",\"minorgridcolor\":\"white\",\"startlinecolor\":\"#2a3f5f\"},\"type\":\"carpet\"}],\"choropleth\":[{\"colorbar\":{\"outlinewidth\":0,\"ticks\":\"\"},\"type\":\"choropleth\"}],\"contour\":[{\"colorbar\":{\"outlinewidth\":0,\"ticks\":\"\"},\"colorscale\":[[0.0,\"#0d0887\"],[0.1111111111111111,\"#46039f\"],[0.2222222222222222,\"#7201a8\"],[0.3333333333333333,\"#9c179e\"],[0.4444444444444444,\"#bd3786\"],[0.5555555555555556,\"#d8576b\"],[0.6666666666666666,\"#ed7953\"],[0.7777777777777778,\"#fb9f3a\"],[0.8888888888888888,\"#fdca26\"],[1.0,\"#f0f921\"]],\"type\":\"contour\"}],\"contourcarpet\":[{\"colorbar\":{\"outlinewidth\":0,\"ticks\":\"\"},\"type\":\"contourcarpet\"}],\"heatmap\":[{\"colorbar\":{\"outlinewidth\":0,\"ticks\":\"\"},\"colorscale\":[[0.0,\"#0d0887\"],[0.1111111111111111,\"#46039f\"],[0.2222222222222222,\"#7201a8\"],[0.3333333333333333,\"#9c179e\"],[0.4444444444444444,\"#bd3786\"],[0.5555555555555556,\"#d8576b\"],[0.6666666666666666,\"#ed7953\"],[0.7777777777777778,\"#fb9f3a\"],[0.8888888888888888,\"#fdca26\"],[1.0,\"#f0f921\"]],\"type\":\"heatmap\"}],\"heatmapgl\":[{\"colorbar\":{\"outlinewidth\":0,\"ticks\":\"\"},\"colorscale\":[[0.0,\"#0d0887\"],[0.1111111111111111,\"#46039f\"],[0.2222222222222222,\"#7201a8\"],[0.3333333333333333,\"#9c179e\"],[0.4444444444444444,\"#bd3786\"],[0.5555555555555556,\"#d8576b\"],[0.6666666666666666,\"#ed7953\"],[0.7777777777777778,\"#fb9f3a\"],[0.8888888888888888,\"#fdca26\"],[1.0,\"#f0f921\"]],\"type\":\"heatmapgl\"}],\"histogram\":[{\"marker\":{\"pattern\":{\"fillmode\":\"overlay\",\"size\":10,\"solidity\":0.2}},\"type\":\"histogram\"}],\"histogram2d\":[{\"colorbar\":{\"outlinewidth\":0,\"ticks\":\"\"},\"colorscale\":[[0.0,\"#0d0887\"],[0.1111111111111111,\"#46039f\"],[0.2222222222222222,\"#7201a8\"],[0.3333333333333333,\"#9c179e\"],[0.4444444444444444,\"#bd3786\"],[0.5555555555555556,\"#d8576b\"],[0.6666666666666666,\"#ed7953\"],[0.7777777777777778,\"#fb9f3a\"],[0.8888888888888888,\"#fdca26\"],[1.0,\"#f0f921\"]],\"type\":\"histogram2d\"}],\"histogram2dcontour\":[{\"colorbar\":{\"outlinewidth\":0,\"ticks\":\"\"},\"colorscale\":[[0.0,\"#0d0887\"],[0.1111111111111111,\"#46039f\"],[0.2222222222222222,\"#7201a8\"],[0.3333333333333333,\"#9c179e\"],[0.4444444444444444,\"#bd3786\"],[0.5555555555555556,\"#d8576b\"],[0.6666666666666666,\"#ed7953\"],[0.7777777777777778,\"#fb9f3a\"],[0.8888888888888888,\"#fdca26\"],[1.0,\"#f0f921\"]],\"type\":\"histogram2dcontour\"}],\"mesh3d\":[{\"colorbar\":{\"outlinewidth\":0,\"ticks\":\"\"},\"type\":\"mesh3d\"}],\"parcoords\":[{\"line\":{\"colorbar\":{\"outlinewidth\":0,\"ticks\":\"\"}},\"type\":\"parcoords\"}],\"pie\":[{\"automargin\":true,\"type\":\"pie\"}],\"scatter\":[{\"marker\":{\"colorbar\":{\"outlinewidth\":0,\"ticks\":\"\"}},\"type\":\"scatter\"}],\"scatter3d\":[{\"line\":{\"colorbar\":{\"outlinewidth\":0,\"ticks\":\"\"}},\"marker\":{\"colorbar\":{\"outlinewidth\":0,\"ticks\":\"\"}},\"type\":\"scatter3d\"}],\"scattercarpet\":[{\"marker\":{\"colorbar\":{\"outlinewidth\":0,\"ticks\":\"\"}},\"type\":\"scattercarpet\"}],\"scattergeo\":[{\"marker\":{\"colorbar\":{\"outlinewidth\":0,\"ticks\":\"\"}},\"type\":\"scattergeo\"}],\"scattergl\":[{\"marker\":{\"colorbar\":{\"outlinewidth\":0,\"ticks\":\"\"}},\"type\":\"scattergl\"}],\"scattermapbox\":[{\"marker\":{\"colorbar\":{\"outlinewidth\":0,\"ticks\":\"\"}},\"type\":\"scattermapbox\"}],\"scatterpolar\":[{\"marker\":{\"colorbar\":{\"outlinewidth\":0,\"ticks\":\"\"}},\"type\":\"scatterpolar\"}],\"scatterpolargl\":[{\"marker\":{\"colorbar\":{\"outlinewidth\":0,\"ticks\":\"\"}},\"type\":\"scatterpolargl\"}],\"scatterternary\":[{\"marker\":{\"colorbar\":{\"outlinewidth\":0,\"ticks\":\"\"}},\"type\":\"scatterternary\"}],\"surface\":[{\"colorbar\":{\"outlinewidth\":0,\"ticks\":\"\"},\"colorscale\":[[0.0,\"#0d0887\"],[0.1111111111111111,\"#46039f\"],[0.2222222222222222,\"#7201a8\"],[0.3333333333333333,\"#9c179e\"],[0.4444444444444444,\"#bd3786\"],[0.5555555555555556,\"#d8576b\"],[0.6666666666666666,\"#ed7953\"],[0.7777777777777778,\"#fb9f3a\"],[0.8888888888888888,\"#fdca26\"],[1.0,\"#f0f921\"]],\"type\":\"surface\"}],\"table\":[{\"cells\":{\"fill\":{\"color\":\"#EBF0F8\"},\"line\":{\"color\":\"white\"}},\"header\":{\"fill\":{\"color\":\"#C8D4E3\"},\"line\":{\"color\":\"white\"}},\"type\":\"table\"}]},\"layout\":{\"annotationdefaults\":{\"arrowcolor\":\"#2a3f5f\",\"arrowhead\":0,\"arrowwidth\":1},\"autotypenumbers\":\"strict\",\"coloraxis\":{\"colorbar\":{\"outlinewidth\":0,\"ticks\":\"\"}},\"colorscale\":{\"diverging\":[[0,\"#8e0152\"],[0.1,\"#c51b7d\"],[0.2,\"#de77ae\"],[0.3,\"#f1b6da\"],[0.4,\"#fde0ef\"],[0.5,\"#f7f7f7\"],[0.6,\"#e6f5d0\"],[0.7,\"#b8e186\"],[0.8,\"#7fbc41\"],[0.9,\"#4d9221\"],[1,\"#276419\"]],\"sequential\":[[0.0,\"#0d0887\"],[0.1111111111111111,\"#46039f\"],[0.2222222222222222,\"#7201a8\"],[0.3333333333333333,\"#9c179e\"],[0.4444444444444444,\"#bd3786\"],[0.5555555555555556,\"#d8576b\"],[0.6666666666666666,\"#ed7953\"],[0.7777777777777778,\"#fb9f3a\"],[0.8888888888888888,\"#fdca26\"],[1.0,\"#f0f921\"]],\"sequentialminus\":[[0.0,\"#0d0887\"],[0.1111111111111111,\"#46039f\"],[0.2222222222222222,\"#7201a8\"],[0.3333333333333333,\"#9c179e\"],[0.4444444444444444,\"#bd3786\"],[0.5555555555555556,\"#d8576b\"],[0.6666666666666666,\"#ed7953\"],[0.7777777777777778,\"#fb9f3a\"],[0.8888888888888888,\"#fdca26\"],[1.0,\"#f0f921\"]]},\"colorway\":[\"#636efa\",\"#EF553B\",\"#00cc96\",\"#ab63fa\",\"#FFA15A\",\"#19d3f3\",\"#FF6692\",\"#B6E880\",\"#FF97FF\",\"#FECB52\"],\"font\":{\"color\":\"#2a3f5f\"},\"geo\":{\"bgcolor\":\"white\",\"lakecolor\":\"white\",\"landcolor\":\"#E5ECF6\",\"showlakes\":true,\"showland\":true,\"subunitcolor\":\"white\"},\"hoverlabel\":{\"align\":\"left\"},\"hovermode\":\"closest\",\"mapbox\":{\"style\":\"light\"},\"paper_bgcolor\":\"white\",\"plot_bgcolor\":\"#E5ECF6\",\"polar\":{\"angularaxis\":{\"gridcolor\":\"white\",\"linecolor\":\"white\",\"ticks\":\"\"},\"bgcolor\":\"#E5ECF6\",\"radialaxis\":{\"gridcolor\":\"white\",\"linecolor\":\"white\",\"ticks\":\"\"}},\"scene\":{\"xaxis\":{\"backgroundcolor\":\"#E5ECF6\",\"gridcolor\":\"white\",\"gridwidth\":2,\"linecolor\":\"white\",\"showbackground\":true,\"ticks\":\"\",\"zerolinecolor\":\"white\"},\"yaxis\":{\"backgroundcolor\":\"#E5ECF6\",\"gridcolor\":\"white\",\"gridwidth\":2,\"linecolor\":\"white\",\"showbackground\":true,\"ticks\":\"\",\"zerolinecolor\":\"white\"},\"zaxis\":{\"backgroundcolor\":\"#E5ECF6\",\"gridcolor\":\"white\",\"gridwidth\":2,\"linecolor\":\"white\",\"showbackground\":true,\"ticks\":\"\",\"zerolinecolor\":\"white\"}},\"shapedefaults\":{\"line\":{\"color\":\"#2a3f5f\"}},\"ternary\":{\"aaxis\":{\"gridcolor\":\"white\",\"linecolor\":\"white\",\"ticks\":\"\"},\"baxis\":{\"gridcolor\":\"white\",\"linecolor\":\"white\",\"ticks\":\"\"},\"bgcolor\":\"#E5ECF6\",\"caxis\":{\"gridcolor\":\"white\",\"linecolor\":\"white\",\"ticks\":\"\"}},\"title\":{\"x\":0.05},\"xaxis\":{\"automargin\":true,\"gridcolor\":\"white\",\"linecolor\":\"white\",\"ticks\":\"\",\"title\":{\"standoff\":15},\"zerolinecolor\":\"white\",\"zerolinewidth\":2},\"yaxis\":{\"automargin\":true,\"gridcolor\":\"white\",\"linecolor\":\"white\",\"ticks\":\"\",\"title\":{\"standoff\":15},\"zerolinecolor\":\"white\",\"zerolinewidth\":2}}}},                        {\"responsive\": true}                    ).then(function(){\n",
       "                            \n",
       "var gd = document.getElementById('da0dab48-9141-403d-9c6a-5cd5fed4b8c2');\n",
       "var x = new MutationObserver(function (mutations, observer) {{\n",
       "        var display = window.getComputedStyle(gd).display;\n",
       "        if (!display || display === 'none') {{\n",
       "            console.log([gd, 'removed!']);\n",
       "            Plotly.purge(gd);\n",
       "            observer.disconnect();\n",
       "        }}\n",
       "}});\n",
       "\n",
       "// Listen for the removal of the full notebook cells\n",
       "var notebookContainer = gd.closest('#notebook-container');\n",
       "if (notebookContainer) {{\n",
       "    x.observe(notebookContainer, {childList: true});\n",
       "}}\n",
       "\n",
       "// Listen for the clearing of the current output cell\n",
       "var outputEl = gd.closest('.output');\n",
       "if (outputEl) {{\n",
       "    x.observe(outputEl, {childList: true});\n",
       "}}\n",
       "\n",
       "                        })                };                });            </script>        </div>"
      ]
     },
     "metadata": {},
     "output_type": "display_data"
    }
   ],
   "source": [
    "fig = go.Figure(\n",
    "    go.Funnel(\n",
    "        y=df_funnel['event'],\n",
    "        x=df_funnel['number_of_users'],\n",
    "        textinfo = \"value+percent initial+percent previous\"\n",
    "    )\n",
    ")\n",
    "fig.show() "
   ]
  },
  {
   "cell_type": "markdown",
   "metadata": {},
   "source": [
    "<a id='34'></a>\n",
    "### Выводы по конверсии\n",
    "\n",
    "- На каком шаге теряете больше всего пользователей?\n",
    "- Какая доля пользователей доходит от первого события до оплаты?"
   ]
  },
  {
   "cell_type": "markdown",
   "metadata": {},
   "source": [
    "**Вывод**\n",
    "\n",
    "Наибольшие потери конверсии выходят на шаге 2, а именно offersscreenappear.\n",
    "При этом, с учетом потерь в размере 38,1% на шаге 2, общая конверсия до оплаты достигает 47,7%, что достаточно неплохо.\n",
    "\n",
    "При этом следует разобраться, почему не все пользователи доходят до шага 2, возможно им просто не падает предложение из-за бага в приложении, либо же эти пользователи сразу же закрывают приложение и более им не пользуются.\n",
    "\n",
    "Однако для подобной аналитике понадобится больше данных (например сравнение времени первого открытия приложения и закрытия в разрезе подобных пользователей, без шага 2)."
   ]
  },
  {
   "cell_type": "markdown",
   "metadata": {},
   "source": [
    "<a id='4'></a>\n",
    "## Изучение результатов эксперимента"
   ]
  },
  {
   "cell_type": "markdown",
   "metadata": {},
   "source": [
    "<a id='41'></a>\n",
    "### Подготовка к статистическому анализу\n",
    "\n",
    "- Сколько пользователей в каждой экспериментальной группе?\n",
    "- Есть 2 контрольные группы для А/А-эксперимента, чтобы проверить корректность всех механизмов и расчётов. Проверьте, находят ли статистические критерии разницу между выборками 246 и 247."
   ]
  },
  {
   "cell_type": "markdown",
   "metadata": {},
   "source": [
    "Вернемся к датасету df_new с обрезанными датами."
   ]
  },
  {
   "cell_type": "code",
   "execution_count": 159,
   "metadata": {},
   "outputs": [
    {
     "data": {
      "text/html": [
       "<div>\n",
       "<style scoped>\n",
       "    .dataframe tbody tr th:only-of-type {\n",
       "        vertical-align: middle;\n",
       "    }\n",
       "\n",
       "    .dataframe tbody tr th {\n",
       "        vertical-align: top;\n",
       "    }\n",
       "\n",
       "    .dataframe thead th {\n",
       "        text-align: right;\n",
       "    }\n",
       "</style>\n",
       "<table border=\"1\" class=\"dataframe\">\n",
       "  <thead>\n",
       "    <tr style=\"text-align: right;\">\n",
       "      <th></th>\n",
       "      <th>event</th>\n",
       "      <th>246</th>\n",
       "      <th>247</th>\n",
       "      <th>248</th>\n",
       "    </tr>\n",
       "  </thead>\n",
       "  <tbody>\n",
       "    <tr>\n",
       "      <th>0</th>\n",
       "      <td>total</td>\n",
       "      <td>2484</td>\n",
       "      <td>2513</td>\n",
       "      <td>2537</td>\n",
       "    </tr>\n",
       "  </tbody>\n",
       "</table>\n",
       "</div>"
      ],
      "text/plain": [
       "   event   246   247   248\n",
       "0  total  2484  2513  2537"
      ]
     },
     "execution_count": 159,
     "metadata": {},
     "output_type": "execute_result"
    }
   ],
   "source": [
    "# рассчитаем количество пользователей в каждой группе и создаем датасет для добавления далее\n",
    "\n",
    "exp_total = df_new.pivot_table(columns = 'exp', values = 'device_id', aggfunc = 'nunique').reset_index()\n",
    "exp_total.columns = ['event', 246, 247, 248] \n",
    "exp_total.loc[0, 'event'] = 'total'\n",
    "exp_total"
   ]
  },
  {
   "cell_type": "markdown",
   "metadata": {},
   "source": [
    "С учетом, что в шаге 4.2 от нас потребуется создать функцию по проверке статистической значимости результатов в 4 парах (А1/А2, А1/В, А2/В и (А1 + А2) / В), то в шаге 4.1 создадим датасет с разбивкой числа уникальных пользователей по группам и событиям, а в шаге 4.2 уже создадим функцию и вспользуемся ею на всех событиях.\n",
    "Дополнительно сразу же создадим комбинированную группу, состоящую из двух А групп (246 и 247). \n",
    "\n",
    "Также зададим переменную aplha, в которой возьмем уровень значимости в размере 0.05 и переменные для каждого события.\n",
    "\n",
    "Переменные для групп также создадим, чтобы не путаться, что у нас обозначает каждая из групп."
   ]
  },
  {
   "cell_type": "code",
   "execution_count": 160,
   "metadata": {},
   "outputs": [],
   "source": [
    "alpha = 0.05\n",
    "tutorial = 'tutorial'\n",
    "main = 'mainscreenappear'\n",
    "offer = 'offersscreenappear'\n",
    "cart = 'cartscreenappear'\n",
    "pay = 'paymentscreensuccessful'\n",
    "total = 'total'\n",
    "a1 = 246\n",
    "a2 = 247\n",
    "b = 248\n",
    "combined = 'combined'"
   ]
  },
  {
   "cell_type": "code",
   "execution_count": 161,
   "metadata": {},
   "outputs": [
    {
     "data": {
      "text/html": [
       "<div>\n",
       "<style scoped>\n",
       "    .dataframe tbody tr th:only-of-type {\n",
       "        vertical-align: middle;\n",
       "    }\n",
       "\n",
       "    .dataframe tbody tr th {\n",
       "        vertical-align: top;\n",
       "    }\n",
       "\n",
       "    .dataframe thead th {\n",
       "        text-align: right;\n",
       "    }\n",
       "</style>\n",
       "<table border=\"1\" class=\"dataframe\">\n",
       "  <thead>\n",
       "    <tr style=\"text-align: right;\">\n",
       "      <th></th>\n",
       "      <th>246</th>\n",
       "      <th>247</th>\n",
       "      <th>248</th>\n",
       "      <th>combined</th>\n",
       "    </tr>\n",
       "    <tr>\n",
       "      <th>event</th>\n",
       "      <th></th>\n",
       "      <th></th>\n",
       "      <th></th>\n",
       "      <th></th>\n",
       "    </tr>\n",
       "  </thead>\n",
       "  <tbody>\n",
       "    <tr>\n",
       "      <th>total</th>\n",
       "      <td>2484</td>\n",
       "      <td>2513</td>\n",
       "      <td>2537</td>\n",
       "      <td>4997</td>\n",
       "    </tr>\n",
       "    <tr>\n",
       "      <th>mainscreenappear</th>\n",
       "      <td>2450</td>\n",
       "      <td>2476</td>\n",
       "      <td>2493</td>\n",
       "      <td>4926</td>\n",
       "    </tr>\n",
       "    <tr>\n",
       "      <th>offersscreenappear</th>\n",
       "      <td>1542</td>\n",
       "      <td>1520</td>\n",
       "      <td>1531</td>\n",
       "      <td>3062</td>\n",
       "    </tr>\n",
       "    <tr>\n",
       "      <th>cartscreenappear</th>\n",
       "      <td>1266</td>\n",
       "      <td>1238</td>\n",
       "      <td>1230</td>\n",
       "      <td>2504</td>\n",
       "    </tr>\n",
       "    <tr>\n",
       "      <th>paymentscreensuccessful</th>\n",
       "      <td>1200</td>\n",
       "      <td>1158</td>\n",
       "      <td>1181</td>\n",
       "      <td>2358</td>\n",
       "    </tr>\n",
       "    <tr>\n",
       "      <th>tutorial</th>\n",
       "      <td>278</td>\n",
       "      <td>283</td>\n",
       "      <td>279</td>\n",
       "      <td>561</td>\n",
       "    </tr>\n",
       "  </tbody>\n",
       "</table>\n",
       "</div>"
      ],
      "text/plain": [
       "                          246   247   248  combined\n",
       "event                                              \n",
       "total                    2484  2513  2537      4997\n",
       "mainscreenappear         2450  2476  2493      4926\n",
       "offersscreenappear       1542  1520  1531      3062\n",
       "cartscreenappear         1266  1238  1230      2504\n",
       "paymentscreensuccessful  1200  1158  1181      2358\n",
       "tutorial                  278   283   279       561"
      ]
     },
     "execution_count": 161,
     "metadata": {},
     "output_type": "execute_result"
    }
   ],
   "source": [
    "df_exp = df_new.pivot_table(index = 'event', columns ='exp', values = 'device_id', aggfunc = 'nunique').reset_index()\n",
    "df_exp = df_exp.append(exp_total).sort_values(by=a1, ascending = False)\n",
    "df_exp = df_exp.set_index('event')\n",
    "df_exp['combined'] = df_exp[246] + df_exp[247]\n",
    "df_exp"
   ]
  },
  {
   "cell_type": "code",
   "execution_count": 163,
   "metadata": {},
   "outputs": [
    {
     "name": "stdout",
     "output_type": "stream",
     "text": [
      "<class 'pandas.core.frame.DataFrame'>\n",
      "Index: 6 entries, total to tutorial\n",
      "Data columns (total 4 columns):\n",
      " #   Column    Non-Null Count  Dtype\n",
      "---  ------    --------------  -----\n",
      " 0   246       6 non-null      int64\n",
      " 1   247       6 non-null      int64\n",
      " 2   248       6 non-null      int64\n",
      " 3   combined  6 non-null      int64\n",
      "dtypes: int64(4)\n",
      "memory usage: 240.0+ bytes\n"
     ]
    }
   ],
   "source": [
    "df_exp.info()"
   ]
  },
  {
   "cell_type": "markdown",
   "metadata": {},
   "source": [
    "<a id='42'></a>\n",
    "### Создание функции. Анализ А/А-групп\n",
    "\n",
    "- Выберите самое популярное событие.\n",
    "- Посчитайте число пользователей, совершивших это событие в каждой из контрольных групп.\n",
    "- Посчитайте долю пользователей, совершивших это событие.\n",
    "- Проверьте, будет ли отличие между группами статистически достоверным.\n",
    "- Проделайте то же самое для всех других событий (удобно обернуть проверку в отдельную функцию). \n",
    "- Можно ли сказать, что разбиение на группы работает корректно?"
   ]
  },
  {
   "cell_type": "markdown",
   "metadata": {},
   "source": [
    "Создадим функцию по алгоритму выше.\n",
    "Для проверки статистической значимости используем z-тест, который исследует разницу между пропорциями, наблюдаемыми в выборках.\n",
    "\n",
    "За значение trials берется общее число уникальных пользователей в группе, за значения suc берется одно из 5 событий, в зависимости от переменной в функции.\n",
    "\n",
    "**Гипотезы**\n",
    "- Н0 - Между долями отсутствует существенная разница.\n",
    "- Н1 - Между долями есть существенная разница."
   ]
  },
  {
   "cell_type": "code",
   "execution_count": 172,
   "metadata": {},
   "outputs": [],
   "source": [
    "def z_test (data, group1, group2, event, alpha):\n",
    " \n",
    "    g1_trial = data.loc[total, group1]\n",
    "    g2_trial = data.loc[total, group2]\n",
    "    g1_suc = data.loc[event, group1]\n",
    "    g2_suc = data.loc[event, group2]\n",
    " \n",
    "    # пропорция успехов в первой группе:\n",
    "    p1 = g1_suc/g1_trial\n",
    " \n",
    "    # пропорция успехов во второй группе:\n",
    "    p2 = g2_suc/g2_trial\n",
    " \n",
    "    # пропорция успехов в комбинированном датасете:\n",
    "    p_combined = (g1_suc + g2_suc) / (g1_trial + g2_trial)\n",
    " \n",
    "    # разница пропорций в датасетах\n",
    "    difference = p1 - p2 \n",
    " \n",
    "    # считаем статистику в ст.отклонениях стандартного нормального распределения\n",
    "    z_value = difference / math.sqrt(p_combined * (1 - p_combined) * (1/g1_trial + 1/g2_trial))\n",
    " \n",
    "    # задаем стандартное нормальное распределение (среднее 0, ст.отклонение 1)\n",
    "    distr = st.norm(0, 1)\n",
    " \n",
    "    p_value = (1 - distr.cdf(abs(z_value))) * 2\n",
    "    \n",
    "    print('Cобытие {}'.format(event))\n",
    "    \n",
    "    print('Доля группы {} = {:.3f}'.format(group1, p1))\n",
    "    print('Доля группы {} = {:.3f}'.format(group2, p2))\n",
    "    \n",
    "    print()\n",
    "    \n",
    "    print('p-значение: {:.3f}'.format(p_value))\n",
    "    \n",
    "    print()\n",
    " \n",
    "    if p_value < alpha:\n",
    "        print('Отвергаем нулевую гипотезу: между долями есть значимая разница')\n",
    "    else:\n",
    "        print('Не получилось отвергнуть нулевую гипотезу, нет оснований считать доли разными')"
   ]
  },
  {
   "cell_type": "code",
   "execution_count": 174,
   "metadata": {},
   "outputs": [
    {
     "name": "stdout",
     "output_type": "stream",
     "text": [
      "Cобытие cartscreenappear\n",
      "Доля группы 246 = 0.510\n",
      "Доля группы 247 = 0.493\n",
      "\n",
      "p-значение: 0.229\n",
      "\n",
      "Не получилось отвергнуть нулевую гипотезу, нет оснований считать доли разными\n"
     ]
    }
   ],
   "source": [
    "# Протестируем, что все работает на примере двух групп А, события cartscreenappear и нашей переменной с альфой\n",
    "\n",
    "z_test(df_exp, a1, a2, event = cart, alpha=alpha)"
   ]
  },
  {
   "cell_type": "markdown",
   "metadata": {},
   "source": [
    "Отлично, теперь пробежимся циклом, который будет в event в функции подставлять различные события по порядку из списка."
   ]
  },
  {
   "cell_type": "code",
   "execution_count": 175,
   "metadata": {},
   "outputs": [
    {
     "data": {
      "text/plain": [
       "['mainscreenappear',\n",
       " 'offersscreenappear',\n",
       " 'cartscreenappear',\n",
       " 'paymentscreensuccessful',\n",
       " 'tutorial']"
      ]
     },
     "execution_count": 175,
     "metadata": {},
     "output_type": "execute_result"
    }
   ],
   "source": [
    "# создаем список\n",
    "\n",
    "event_list = [main, offer, cart, pay, tutorial]\n",
    "event_list"
   ]
  },
  {
   "cell_type": "code",
   "execution_count": 176,
   "metadata": {},
   "outputs": [
    {
     "name": "stdout",
     "output_type": "stream",
     "text": [
      "Cобытие mainscreenappear\n",
      "Доля группы 246 = 0.986\n",
      "Доля группы 247 = 0.985\n",
      "\n",
      "p-значение: 0.757\n",
      "\n",
      "Не получилось отвергнуть нулевую гипотезу, нет оснований считать доли разными\n",
      "\n",
      "Cобытие offersscreenappear\n",
      "Доля группы 246 = 0.621\n",
      "Доля группы 247 = 0.605\n",
      "\n",
      "p-значение: 0.248\n",
      "\n",
      "Не получилось отвергнуть нулевую гипотезу, нет оснований считать доли разными\n",
      "\n",
      "Cобытие cartscreenappear\n",
      "Доля группы 246 = 0.510\n",
      "Доля группы 247 = 0.493\n",
      "\n",
      "p-значение: 0.229\n",
      "\n",
      "Не получилось отвергнуть нулевую гипотезу, нет оснований считать доли разными\n",
      "\n",
      "Cобытие paymentscreensuccessful\n",
      "Доля группы 246 = 0.483\n",
      "Доля группы 247 = 0.461\n",
      "\n",
      "p-значение: 0.115\n",
      "\n",
      "Не получилось отвергнуть нулевую гипотезу, нет оснований считать доли разными\n",
      "\n",
      "Cобытие tutorial\n",
      "Доля группы 246 = 0.112\n",
      "Доля группы 247 = 0.113\n",
      "\n",
      "p-значение: 0.938\n",
      "\n",
      "Не получилось отвергнуть нулевую гипотезу, нет оснований считать доли разными\n",
      "\n"
     ]
    }
   ],
   "source": [
    "# создаем цикл\n",
    "\n",
    "for event in event_list:\n",
    "    z_test(df_exp, a1, a2, event, alpha=alpha)\n",
    "    print()"
   ]
  },
  {
   "cell_type": "markdown",
   "metadata": {},
   "source": [
    "**Вывод**\n",
    "\n",
    "Статистически значимая разница между двумя группами А отсутствует, результаты по всем событиям лежат в пределах alpha.\n",
    "Таким образом - разбиение на группы работает корректно, можно переходить к анализу А/В-теста. "
   ]
  },
  {
   "cell_type": "markdown",
   "metadata": {},
   "source": [
    "<a id='43'></a>\n",
    "### Работа с группой В\n",
    "\n",
    "- Аналогично поступите с группой с изменённым шрифтом. Сравните результаты с каждой из контрольных групп в отдельности по каждому событию.\n",
    "- Сравните результаты с объединённой контрольной группой. Какие выводы из эксперимента можно сделать?\n",
    "\n",
    "\n",
    "**Гипотезы**\n",
    "- Н0 - Между долями отсутствует существенная разница.\n",
    "- Н1 - Между долями есть существенная разница."
   ]
  },
  {
   "cell_type": "markdown",
   "metadata": {},
   "source": [
    "####  Сравнение А1 (246) и В (248)"
   ]
  },
  {
   "cell_type": "code",
   "execution_count": 177,
   "metadata": {},
   "outputs": [
    {
     "name": "stdout",
     "output_type": "stream",
     "text": [
      "Cобытие mainscreenappear\n",
      "Доля группы 246 = 0.986\n",
      "Доля группы 248 = 0.983\n",
      "\n",
      "p-значение: 0.295\n",
      "\n",
      "Не получилось отвергнуть нулевую гипотезу, нет оснований считать доли разными\n",
      "\n",
      "Cобытие offersscreenappear\n",
      "Доля группы 246 = 0.621\n",
      "Доля группы 248 = 0.603\n",
      "\n",
      "p-значение: 0.208\n",
      "\n",
      "Не получилось отвергнуть нулевую гипотезу, нет оснований считать доли разными\n",
      "\n",
      "Cобытие cartscreenappear\n",
      "Доля группы 246 = 0.510\n",
      "Доля группы 248 = 0.485\n",
      "\n",
      "p-значение: 0.078\n",
      "\n",
      "Не получилось отвергнуть нулевую гипотезу, нет оснований считать доли разными\n",
      "\n",
      "Cобытие paymentscreensuccessful\n",
      "Доля группы 246 = 0.483\n",
      "Доля группы 248 = 0.466\n",
      "\n",
      "p-значение: 0.212\n",
      "\n",
      "Не получилось отвергнуть нулевую гипотезу, нет оснований считать доли разными\n",
      "\n",
      "Cобытие tutorial\n",
      "Доля группы 246 = 0.112\n",
      "Доля группы 248 = 0.110\n",
      "\n",
      "p-значение: 0.826\n",
      "\n",
      "Не получилось отвергнуть нулевую гипотезу, нет оснований считать доли разными\n",
      "\n"
     ]
    }
   ],
   "source": [
    "for event in event_list:\n",
    "    z_test(df_exp, a1, b, event, alpha=alpha)\n",
    "    print()"
   ]
  },
  {
   "cell_type": "markdown",
   "metadata": {},
   "source": [
    "####  Сравнение А2 (247) и В (248)"
   ]
  },
  {
   "cell_type": "code",
   "execution_count": 179,
   "metadata": {},
   "outputs": [
    {
     "name": "stdout",
     "output_type": "stream",
     "text": [
      "Cобытие mainscreenappear\n",
      "Доля группы 247 = 0.985\n",
      "Доля группы 248 = 0.983\n",
      "\n",
      "p-значение: 0.459\n",
      "\n",
      "Не получилось отвергнуть нулевую гипотезу, нет оснований считать доли разными\n",
      "\n",
      "Cобытие offersscreenappear\n",
      "Доля группы 247 = 0.605\n",
      "Доля группы 248 = 0.603\n",
      "\n",
      "p-значение: 0.920\n",
      "\n",
      "Не получилось отвергнуть нулевую гипотезу, нет оснований считать доли разными\n",
      "\n",
      "Cобытие cartscreenappear\n",
      "Доля группы 247 = 0.493\n",
      "Доля группы 248 = 0.485\n",
      "\n",
      "p-значение: 0.579\n",
      "\n",
      "Не получилось отвергнуть нулевую гипотезу, нет оснований считать доли разными\n",
      "\n",
      "Cобытие paymentscreensuccessful\n",
      "Доля группы 247 = 0.461\n",
      "Доля группы 248 = 0.466\n",
      "\n",
      "p-значение: 0.737\n",
      "\n",
      "Не получилось отвергнуть нулевую гипотезу, нет оснований считать доли разными\n",
      "\n",
      "Cобытие tutorial\n",
      "Доля группы 247 = 0.113\n",
      "Доля группы 248 = 0.110\n",
      "\n",
      "p-значение: 0.765\n",
      "\n",
      "Не получилось отвергнуть нулевую гипотезу, нет оснований считать доли разными\n",
      "\n"
     ]
    }
   ],
   "source": [
    "for event in event_list:\n",
    "    z_test(df_exp, a2, b, event, alpha=alpha)\n",
    "    print()"
   ]
  },
  {
   "cell_type": "markdown",
   "metadata": {},
   "source": [
    "####  Сравнение комбинированной А группы и В (248)"
   ]
  },
  {
   "cell_type": "code",
   "execution_count": 180,
   "metadata": {},
   "outputs": [
    {
     "name": "stdout",
     "output_type": "stream",
     "text": [
      "Cобытие mainscreenappear\n",
      "Доля группы combined = 0.986\n",
      "Доля группы 248 = 0.983\n",
      "\n",
      "p-значение: 0.294\n",
      "\n",
      "Не получилось отвергнуть нулевую гипотезу, нет оснований считать доли разными\n",
      "\n",
      "Cобытие offersscreenappear\n",
      "Доля группы combined = 0.613\n",
      "Доля группы 248 = 0.603\n",
      "\n",
      "p-значение: 0.434\n",
      "\n",
      "Не получилось отвергнуть нулевую гипотезу, нет оснований считать доли разными\n",
      "\n",
      "Cобытие cartscreenappear\n",
      "Доля группы combined = 0.501\n",
      "Доля группы 248 = 0.485\n",
      "\n",
      "p-значение: 0.182\n",
      "\n",
      "Не получилось отвергнуть нулевую гипотезу, нет оснований считать доли разными\n",
      "\n",
      "Cобытие paymentscreensuccessful\n",
      "Доля группы combined = 0.472\n",
      "Доля группы 248 = 0.466\n",
      "\n",
      "p-значение: 0.600\n",
      "\n",
      "Не получилось отвергнуть нулевую гипотезу, нет оснований считать доли разными\n",
      "\n",
      "Cобытие tutorial\n",
      "Доля группы combined = 0.112\n",
      "Доля группы 248 = 0.110\n",
      "\n",
      "p-значение: 0.765\n",
      "\n",
      "Не получилось отвергнуть нулевую гипотезу, нет оснований считать доли разными\n",
      "\n"
     ]
    }
   ],
   "source": [
    "for event in event_list:\n",
    "    z_test(df_exp, combined, b, event, alpha=alpha)\n",
    "    print()"
   ]
  },
  {
   "cell_type": "markdown",
   "metadata": {},
   "source": [
    "**Вывод**\n",
    "\n",
    "В рамках анализа результатов статистических тестов, ни одна гипотеза об одинаковости долей между группами не была отвергнута. При этом, это работает как при сравнении одиночной группы А с группой В, так и при комбинации двух А групп и сравнении долей с группой В.\n",
    "\n",
    "Таким образом, в части статистической значимости и верности разбиения групп - эксперимент можно признать удачным. \n",
    "Также стоит обозначить, что со статистической точки зрения, различий между группой В и группами А нет.\n",
    "В абсолютном выражении конверсия по покупке даже упала с 0.47188 (по объединенной А группе) до 0.4655 (на 0.64пп), то есть ожидаемого положительного эффекта от изменения шрифтов в экспериментальной группе не произошло."
   ]
  },
  {
   "cell_type": "markdown",
   "metadata": {},
   "source": [
    "<a id='44'></a>\n",
    "### Выводы по уровню значимости\n",
    "\n",
    "- Какой уровень значимости вы выбрали при проверке статистических гипотез выше?\n",
    "- Посчитайте, сколько проверок статистических гипотез вы сделали. При уровне значимости 0.1 каждый десятый раз можно получать ложный результат. Какой уровень значимости стоит применить?\n",
    "- Если вы хотите изменить его, проделайте предыдущие пункты и проверьте свои выводы."
   ]
  },
  {
   "cell_type": "markdown",
   "metadata": {},
   "source": [
    "При анализе статистической значимости был выбран уровень 0.05, при этом было проведено 20 тестов.\n",
    "Таким образом, даже при достаточно консервативном уровне значимости в 5%, множественный подход добавляет вероятность ошибки.\n",
    "\n",
    "Так, вероятность не ошибиться ни разу за 20 сравнения составляет:"
   ]
  },
  {
   "cell_type": "code",
   "execution_count": 54,
   "metadata": {},
   "outputs": [
    {
     "data": {
      "text/plain": [
       "0.3584859224085419"
      ]
     },
     "execution_count": 54,
     "metadata": {},
     "output_type": "execute_result"
    }
   ],
   "source": [
    "(1 - 0.05)**20"
   ]
  },
  {
   "cell_type": "markdown",
   "metadata": {},
   "source": [
    "Всего 36%!\n",
    "\n",
    "А вероятность ошибиться хоть раз:"
   ]
  },
  {
   "cell_type": "code",
   "execution_count": 55,
   "metadata": {},
   "outputs": [
    {
     "data": {
      "text/plain": [
       "0.6415140775914581"
      ]
     },
     "execution_count": 55,
     "metadata": {},
     "output_type": "execute_result"
    }
   ],
   "source": [
    "1 - (1 - 0.05)**20"
   ]
  },
  {
   "cell_type": "markdown",
   "metadata": {},
   "source": [
    "Для того, чтобы этого избежать используют поправку на множественную проверку гипотез.\n",
    "\n",
    "Самым простым способом является поправка Бонферрони, которая просто делит альфу на количество гипотез (в нашем случае а / 20). \n",
    "Однако данный способ имеет свои недостатки, так: при увеличении m в результате применения поправки Бонферрони мощность статистической процедуры резко уменьшается — шансы отклонить неверные гипотезы падают.\n",
    "Таким образом, следует использовать более продвинутый и сложный метод.\n",
    "\n",
    "Воспользуется пошаговым методом Холма, который предполагает пошаговую проверку с уменьшением знаменателя на 1 на каждом шаге.\n",
    "При этом p-value всех тестов ранжируются по возрастанию и проверяются от меньшего, к большего. В случае отвергания гипотезы, производится переход на селудющий шаг с уменьшением знаменателя, уменьшающего альфу на 1.\n",
    "В случае, если гипотеза принимается на каком-либо шаге, то работа с методом останавливается, а эта и все последующие гипотезы принимаются.\n",
    "\n",
    "В нашем случае мнимальный p-value составляет 0.078, что очевидно больше 0.05 / 20, таким образом, даже с учетом поправочного метода на множественные тесты - проверка гипотез выдерживает статистическое тестирование."
   ]
  },
  {
   "cell_type": "markdown",
   "metadata": {},
   "source": [
    "<a id='5'></a>\n",
    "## Общие выводы"
   ]
  },
  {
   "cell_type": "markdown",
   "metadata": {},
   "source": [
    "- В рамках подготовки данных были выявлены нерелевантные промежутки логов из-за минимального наличия данных, поэтому актуальный промежуток данных для тестирования составил с 1 августа 2019 года, по 7 августа 2019 года;\n",
    "\n",
    "- С учетом удаления нерелевантных промежутков и полных дубликатов в событиях, потери в логах составили 1.3%;\n",
    "\n",
    "- Уникальные пользователи распределены по группах равномерно, от 32,97% до 33,67% на группу;\n",
    "\n",
    "- Наиболее часто встречаемое событие – Главный экран с долей в событиях в 48,7%, наименее часто встречаемого событие – Обучение с долей в 4%;\n",
    "\n",
    "- После анализа воронки было выявлено, что наибольшие потери клиентов происходят при переходе от шага с главного экрана, до шага предложений. Так, если шага главного крана достигает 98% от общего числа пользователей в выборке, то до шага предложений доходит только 61% пользователей. Значительных провалов по иным шагам не замечено, конверсия по шагу покупки составляет 47%;\n",
    "\n",
    "- Статистический анализ, проведенный z-тестов не выявил негатива в части двух групп А, клиенты распределены равномерно и со статистической точки зрения, значимых различий в долях в валидационных группах не обнаружено;\n",
    "\n",
    "- При проведении сравнения группы В с каждой из групп А, а также комбинированной группой А, также не обнаружено статистически значимого различия в долях, более того, в абсолютном выражении конверсия по покупке в группе В даже упала на 0.64ПП;\n",
    "\n",
    "- Корректировка уровня значимости с помощью метода Холма (для поправки на множественную проверку гипотез) не меняет результатов тестирования, все значения p-value по тестам находятся выше критического уровня, поэтому нулевая гипотеза о равенстве долей не отвергается.\n",
    "\n",
    "- С учетом отсутствия статистического различия долей между экспериментальной и тестовыми группами, отсутствия абсолютного роста в конверсии у тестовой группы (и даже незначительного падения на десятые доли %) - предлагается остановить тест и признать его неуспешным. "
   ]
  }
 ],
 "metadata": {
  "ExecuteTimeLog": [
   {
    "duration": 1584,
    "start_time": "2022-05-20T17:07:43.150Z"
   },
   {
    "duration": 839,
    "start_time": "2022-05-20T17:08:30.933Z"
   },
   {
    "duration": 10,
    "start_time": "2022-05-20T17:09:42.087Z"
   },
   {
    "duration": 20,
    "start_time": "2022-05-20T17:09:44.460Z"
   },
   {
    "duration": 145,
    "start_time": "2022-05-20T17:09:51.277Z"
   },
   {
    "duration": 5,
    "start_time": "2022-05-20T17:10:35.322Z"
   },
   {
    "duration": 278,
    "start_time": "2022-05-20T17:10:53.808Z"
   },
   {
    "duration": 7,
    "start_time": "2022-05-20T17:10:55.420Z"
   },
   {
    "duration": 18,
    "start_time": "2022-05-20T17:10:56.555Z"
   },
   {
    "duration": 16,
    "start_time": "2022-05-20T17:10:57.231Z"
   },
   {
    "duration": 281,
    "start_time": "2022-05-20T17:12:13.891Z"
   },
   {
    "duration": 6,
    "start_time": "2022-05-20T17:12:14.972Z"
   },
   {
    "duration": 665,
    "start_time": "2022-05-20T17:12:17.872Z"
   },
   {
    "duration": 9,
    "start_time": "2022-05-20T17:12:18.613Z"
   },
   {
    "duration": 20,
    "start_time": "2022-05-20T17:12:19.471Z"
   },
   {
    "duration": 17,
    "start_time": "2022-05-20T17:12:20.610Z"
   },
   {
    "duration": 724,
    "start_time": "2022-05-20T17:12:27.442Z"
   },
   {
    "duration": 6,
    "start_time": "2022-05-20T17:12:28.167Z"
   },
   {
    "duration": 24,
    "start_time": "2022-05-20T17:12:29.183Z"
   },
   {
    "duration": 25,
    "start_time": "2022-05-20T17:12:29.796Z"
   },
   {
    "duration": 181,
    "start_time": "2022-05-20T17:13:26.576Z"
   },
   {
    "duration": 7,
    "start_time": "2022-05-20T17:13:27.342Z"
   },
   {
    "duration": 3,
    "start_time": "2022-05-20T17:17:41.986Z"
   },
   {
    "duration": 21,
    "start_time": "2022-05-20T17:17:42.576Z"
   },
   {
    "duration": 16,
    "start_time": "2022-05-20T17:17:44.545Z"
   },
   {
    "duration": 61,
    "start_time": "2022-05-20T17:18:40.031Z"
   },
   {
    "duration": 121,
    "start_time": "2022-05-20T17:18:40.683Z"
   },
   {
    "duration": 58,
    "start_time": "2022-05-20T17:18:44.415Z"
   },
   {
    "duration": 64,
    "start_time": "2022-05-20T17:19:03.829Z"
   },
   {
    "duration": 60,
    "start_time": "2022-05-20T17:19:24.688Z"
   },
   {
    "duration": 12,
    "start_time": "2022-05-20T17:20:11.025Z"
   },
   {
    "duration": 13,
    "start_time": "2022-05-20T17:20:52.195Z"
   },
   {
    "duration": 15,
    "start_time": "2022-05-20T17:21:41.093Z"
   },
   {
    "duration": 10,
    "start_time": "2022-05-20T17:28:45.878Z"
   },
   {
    "duration": 11,
    "start_time": "2022-05-20T17:28:51.776Z"
   },
   {
    "duration": 11,
    "start_time": "2022-05-20T17:29:48.347Z"
   },
   {
    "duration": 14,
    "start_time": "2022-05-20T17:30:17.922Z"
   },
   {
    "duration": 12,
    "start_time": "2022-05-20T17:31:19.656Z"
   },
   {
    "duration": 11,
    "start_time": "2022-05-20T17:31:38.534Z"
   },
   {
    "duration": 13,
    "start_time": "2022-05-20T17:31:54.713Z"
   },
   {
    "duration": 11,
    "start_time": "2022-05-20T17:32:03.051Z"
   },
   {
    "duration": 10,
    "start_time": "2022-05-20T17:32:09.387Z"
   },
   {
    "duration": 12,
    "start_time": "2022-05-20T17:32:09.831Z"
   },
   {
    "duration": 29,
    "start_time": "2022-05-20T17:37:34.796Z"
   },
   {
    "duration": 26,
    "start_time": "2022-05-20T17:37:56.521Z"
   },
   {
    "duration": 21,
    "start_time": "2022-05-20T17:38:07.261Z"
   },
   {
    "duration": 67,
    "start_time": "2022-05-20T17:39:32.088Z"
   },
   {
    "duration": 14,
    "start_time": "2022-05-20T17:39:38.512Z"
   },
   {
    "duration": 64,
    "start_time": "2022-05-20T17:39:59.186Z"
   },
   {
    "duration": 75,
    "start_time": "2022-05-20T17:40:01.294Z"
   },
   {
    "duration": 13,
    "start_time": "2022-05-20T17:40:05.808Z"
   },
   {
    "duration": 13,
    "start_time": "2022-05-20T17:40:24.639Z"
   },
   {
    "duration": 12,
    "start_time": "2022-05-20T17:40:40.658Z"
   },
   {
    "duration": 11,
    "start_time": "2022-05-20T17:40:46.853Z"
   },
   {
    "duration": 17,
    "start_time": "2022-05-20T17:41:05.089Z"
   },
   {
    "duration": 17,
    "start_time": "2022-05-20T17:41:09.496Z"
   },
   {
    "duration": 80,
    "start_time": "2022-05-20T17:44:00.597Z"
   },
   {
    "duration": 77,
    "start_time": "2022-05-20T17:44:03.718Z"
   },
   {
    "duration": 10,
    "start_time": "2022-05-20T17:44:07.149Z"
   },
   {
    "duration": 55,
    "start_time": "2022-05-20T17:44:19.018Z"
   },
   {
    "duration": 129,
    "start_time": "2022-05-20T17:44:23.512Z"
   },
   {
    "duration": 10,
    "start_time": "2022-05-20T17:44:29.860Z"
   },
   {
    "duration": 41,
    "start_time": "2022-05-20T17:46:25.581Z"
   },
   {
    "duration": 11,
    "start_time": "2022-05-20T17:46:27.982Z"
   },
   {
    "duration": 7,
    "start_time": "2022-05-20T17:46:49.658Z"
   },
   {
    "duration": 15,
    "start_time": "2022-05-20T17:46:51.379Z"
   },
   {
    "duration": 91,
    "start_time": "2022-05-20T17:47:15.675Z"
   },
   {
    "duration": 13,
    "start_time": "2022-05-20T17:47:17.281Z"
   },
   {
    "duration": 37,
    "start_time": "2022-05-20T17:47:47.481Z"
   },
   {
    "duration": 11,
    "start_time": "2022-05-20T17:47:58.475Z"
   },
   {
    "duration": 25,
    "start_time": "2022-05-20T18:07:34.778Z"
   },
   {
    "duration": 4,
    "start_time": "2022-05-20T18:07:43.738Z"
   },
   {
    "duration": 203,
    "start_time": "2022-05-20T18:07:43.743Z"
   },
   {
    "duration": 7,
    "start_time": "2022-05-20T18:07:43.947Z"
   },
   {
    "duration": 5,
    "start_time": "2022-05-20T18:07:43.955Z"
   },
   {
    "duration": 23,
    "start_time": "2022-05-20T18:07:43.962Z"
   },
   {
    "duration": 27,
    "start_time": "2022-05-20T18:07:43.986Z"
   },
   {
    "duration": 97,
    "start_time": "2022-05-20T18:07:44.015Z"
   },
   {
    "duration": 53,
    "start_time": "2022-05-20T18:07:44.113Z"
   },
   {
    "duration": 71,
    "start_time": "2022-05-20T18:07:44.168Z"
   },
   {
    "duration": 9,
    "start_time": "2022-05-20T18:07:44.241Z"
   },
   {
    "duration": 10,
    "start_time": "2022-05-20T18:07:44.253Z"
   },
   {
    "duration": 9,
    "start_time": "2022-05-20T18:07:44.264Z"
   },
   {
    "duration": 35,
    "start_time": "2022-05-20T18:07:44.275Z"
   },
   {
    "duration": 125,
    "start_time": "2022-05-20T18:07:44.312Z"
   },
   {
    "duration": 94,
    "start_time": "2022-05-20T18:07:44.439Z"
   },
   {
    "duration": 30,
    "start_time": "2022-05-20T18:07:44.535Z"
   },
   {
    "duration": 9,
    "start_time": "2022-05-20T18:07:47.222Z"
   },
   {
    "duration": 29,
    "start_time": "2022-05-20T19:13:22.190Z"
   },
   {
    "duration": 19,
    "start_time": "2022-05-20T19:15:44.556Z"
   },
   {
    "duration": 8,
    "start_time": "2022-05-20T19:17:09.280Z"
   },
   {
    "duration": 22,
    "start_time": "2022-05-20T19:18:19.832Z"
   },
   {
    "duration": 27,
    "start_time": "2022-05-20T19:18:44.925Z"
   },
   {
    "duration": 17,
    "start_time": "2022-05-20T22:36:19.014Z"
   },
   {
    "duration": 30,
    "start_time": "2022-05-20T22:36:35.618Z"
   },
   {
    "duration": 22,
    "start_time": "2022-05-20T22:36:43.992Z"
   },
   {
    "duration": 21,
    "start_time": "2022-05-20T22:36:44.476Z"
   },
   {
    "duration": 868,
    "start_time": "2022-05-20T22:54:23.688Z"
   },
   {
    "duration": 510,
    "start_time": "2022-05-20T22:57:14.044Z"
   },
   {
    "duration": 4,
    "start_time": "2022-05-20T22:57:27.553Z"
   },
   {
    "duration": 346,
    "start_time": "2022-05-20T23:10:54.364Z"
   },
   {
    "duration": 383,
    "start_time": "2022-05-20T23:11:55.899Z"
   },
   {
    "duration": 12,
    "start_time": "2022-05-20T23:27:56.466Z"
   },
   {
    "duration": 10,
    "start_time": "2022-05-20T23:28:31.151Z"
   },
   {
    "duration": 9,
    "start_time": "2022-05-20T23:28:45.700Z"
   },
   {
    "duration": 9,
    "start_time": "2022-05-20T23:29:00.150Z"
   },
   {
    "duration": 225,
    "start_time": "2022-05-20T23:29:52.648Z"
   },
   {
    "duration": 8,
    "start_time": "2022-05-20T23:30:10.610Z"
   },
   {
    "duration": 3,
    "start_time": "2022-05-20T23:30:17.405Z"
   },
   {
    "duration": 9,
    "start_time": "2022-05-20T23:30:29.922Z"
   },
   {
    "duration": 9,
    "start_time": "2022-05-20T23:30:37.429Z"
   },
   {
    "duration": 30,
    "start_time": "2022-05-21T00:05:01.219Z"
   },
   {
    "duration": 85,
    "start_time": "2022-05-21T00:05:03.792Z"
   },
   {
    "duration": 31,
    "start_time": "2022-05-21T00:05:04.209Z"
   },
   {
    "duration": 108,
    "start_time": "2022-05-21T00:06:04.776Z"
   },
   {
    "duration": 22,
    "start_time": "2022-05-21T00:06:05.267Z"
   },
   {
    "duration": 9,
    "start_time": "2022-05-21T00:06:06.185Z"
   },
   {
    "duration": 81,
    "start_time": "2022-05-21T00:06:16.625Z"
   },
   {
    "duration": 32,
    "start_time": "2022-05-21T00:06:16.979Z"
   },
   {
    "duration": 13,
    "start_time": "2022-05-21T00:06:18.483Z"
   },
   {
    "duration": 107,
    "start_time": "2022-05-21T00:07:21.507Z"
   },
   {
    "duration": 15,
    "start_time": "2022-05-21T00:07:26.177Z"
   },
   {
    "duration": 22,
    "start_time": "2022-05-21T00:07:26.979Z"
   },
   {
    "duration": 10,
    "start_time": "2022-05-21T00:07:27.953Z"
   },
   {
    "duration": 97,
    "start_time": "2022-05-21T00:07:41.147Z"
   },
   {
    "duration": 29,
    "start_time": "2022-05-21T00:07:41.466Z"
   },
   {
    "duration": 9,
    "start_time": "2022-05-21T00:07:42.163Z"
   },
   {
    "duration": 19,
    "start_time": "2022-05-21T00:08:38.829Z"
   },
   {
    "duration": 23,
    "start_time": "2022-05-21T00:08:39.419Z"
   },
   {
    "duration": 10,
    "start_time": "2022-05-21T00:08:40.211Z"
   },
   {
    "duration": 9,
    "start_time": "2022-05-21T00:09:24.408Z"
   },
   {
    "duration": 19,
    "start_time": "2022-05-21T00:09:27.557Z"
   },
   {
    "duration": 21,
    "start_time": "2022-05-21T00:09:32.466Z"
   },
   {
    "duration": 7,
    "start_time": "2022-05-21T00:09:33.072Z"
   },
   {
    "duration": 20,
    "start_time": "2022-05-21T00:09:33.591Z"
   },
   {
    "duration": 10,
    "start_time": "2022-05-21T00:09:37.045Z"
   },
   {
    "duration": 7,
    "start_time": "2022-05-21T00:09:38.750Z"
   },
   {
    "duration": 387,
    "start_time": "2022-05-21T00:09:42.491Z"
   },
   {
    "duration": 13,
    "start_time": "2022-05-21T00:09:47.125Z"
   },
   {
    "duration": 9,
    "start_time": "2022-05-21T00:09:53.645Z"
   },
   {
    "duration": 9,
    "start_time": "2022-05-21T00:10:11.830Z"
   },
   {
    "duration": 9,
    "start_time": "2022-05-21T00:10:16.092Z"
   },
   {
    "duration": 21,
    "start_time": "2022-05-21T00:10:26.153Z"
   },
   {
    "duration": 29,
    "start_time": "2022-05-21T00:10:58.288Z"
   },
   {
    "duration": 38,
    "start_time": "2022-05-21T00:11:06.368Z"
   },
   {
    "duration": 18,
    "start_time": "2022-05-21T00:11:20.445Z"
   },
   {
    "duration": 10,
    "start_time": "2022-05-21T00:11:27.993Z"
   },
   {
    "duration": 13,
    "start_time": "2022-05-21T00:11:43.168Z"
   },
   {
    "duration": 8,
    "start_time": "2022-05-21T00:11:49.828Z"
   },
   {
    "duration": 17,
    "start_time": "2022-05-21T00:12:27.462Z"
   },
   {
    "duration": 17,
    "start_time": "2022-05-21T00:12:44.329Z"
   },
   {
    "duration": 30,
    "start_time": "2022-05-21T00:12:53.149Z"
   },
   {
    "duration": 31,
    "start_time": "2022-05-21T00:12:58.983Z"
   },
   {
    "duration": 30,
    "start_time": "2022-05-21T00:13:15.212Z"
   },
   {
    "duration": 31,
    "start_time": "2022-05-21T00:13:24.202Z"
   },
   {
    "duration": 30,
    "start_time": "2022-05-21T00:13:31.731Z"
   },
   {
    "duration": 32,
    "start_time": "2022-05-21T00:13:34.429Z"
   },
   {
    "duration": 31,
    "start_time": "2022-05-21T00:13:39.029Z"
   },
   {
    "duration": 31,
    "start_time": "2022-05-21T00:14:10.046Z"
   },
   {
    "duration": 7,
    "start_time": "2022-05-21T00:16:47.547Z"
   },
   {
    "duration": 18,
    "start_time": "2022-05-21T00:18:04.631Z"
   },
   {
    "duration": 13,
    "start_time": "2022-05-21T00:18:13.788Z"
   },
   {
    "duration": 14,
    "start_time": "2022-05-21T00:18:37.921Z"
   },
   {
    "duration": 16,
    "start_time": "2022-05-21T00:18:48.554Z"
   },
   {
    "duration": 14,
    "start_time": "2022-05-21T00:18:58.769Z"
   },
   {
    "duration": 16,
    "start_time": "2022-05-21T00:18:59.779Z"
   },
   {
    "duration": 14,
    "start_time": "2022-05-21T00:19:11.670Z"
   },
   {
    "duration": 13,
    "start_time": "2022-05-21T00:19:12.764Z"
   },
   {
    "duration": 1558,
    "start_time": "2022-05-21T20:56:29.975Z"
   },
   {
    "duration": 563,
    "start_time": "2022-05-21T20:56:31.535Z"
   },
   {
    "duration": 13,
    "start_time": "2022-05-21T20:56:32.100Z"
   },
   {
    "duration": 9,
    "start_time": "2022-05-21T20:56:32.115Z"
   },
   {
    "duration": 37,
    "start_time": "2022-05-21T20:56:32.126Z"
   },
   {
    "duration": 15,
    "start_time": "2022-05-21T20:56:32.165Z"
   },
   {
    "duration": 77,
    "start_time": "2022-05-21T20:56:32.181Z"
   },
   {
    "duration": 68,
    "start_time": "2022-05-21T20:56:32.264Z"
   },
   {
    "duration": 75,
    "start_time": "2022-05-21T20:56:32.334Z"
   },
   {
    "duration": 11,
    "start_time": "2022-05-21T20:56:32.411Z"
   },
   {
    "duration": 11,
    "start_time": "2022-05-21T20:56:32.424Z"
   },
   {
    "duration": 35,
    "start_time": "2022-05-21T20:56:32.436Z"
   },
   {
    "duration": 10,
    "start_time": "2022-05-21T20:56:32.472Z"
   },
   {
    "duration": 162,
    "start_time": "2022-05-21T20:56:32.484Z"
   },
   {
    "duration": 91,
    "start_time": "2022-05-21T20:56:32.653Z"
   },
   {
    "duration": 33,
    "start_time": "2022-05-21T20:56:32.745Z"
   },
   {
    "duration": 9,
    "start_time": "2022-05-21T20:56:32.779Z"
   },
   {
    "duration": 16,
    "start_time": "2022-05-21T20:56:32.790Z"
   },
   {
    "duration": 56,
    "start_time": "2022-05-21T20:56:32.808Z"
   },
   {
    "duration": 7,
    "start_time": "2022-05-21T20:56:32.866Z"
   },
   {
    "duration": 20,
    "start_time": "2022-05-21T20:56:32.875Z"
   },
   {
    "duration": 11,
    "start_time": "2022-05-21T20:56:32.897Z"
   },
   {
    "duration": 7,
    "start_time": "2022-05-21T20:56:32.910Z"
   },
   {
    "duration": 552,
    "start_time": "2022-05-21T20:56:32.918Z"
   },
   {
    "duration": 14,
    "start_time": "2022-05-21T20:56:33.472Z"
   },
   {
    "duration": 8,
    "start_time": "2022-05-21T20:56:33.488Z"
   },
   {
    "duration": 9,
    "start_time": "2022-05-21T20:56:33.498Z"
   },
   {
    "duration": 55,
    "start_time": "2022-05-21T20:56:33.508Z"
   },
   {
    "duration": 18,
    "start_time": "2022-05-21T20:56:33.565Z"
   },
   {
    "duration": 14,
    "start_time": "2022-05-21T20:56:33.585Z"
   },
   {
    "duration": 8,
    "start_time": "2022-05-21T20:57:37.850Z"
   },
   {
    "duration": 34,
    "start_time": "2022-05-21T20:58:35.857Z"
   },
   {
    "duration": 28,
    "start_time": "2022-05-21T20:58:42.149Z"
   },
   {
    "duration": 34,
    "start_time": "2022-05-21T21:39:08.664Z"
   },
   {
    "duration": 22,
    "start_time": "2022-05-21T21:39:15.613Z"
   },
   {
    "duration": 12,
    "start_time": "2022-05-21T21:40:11.571Z"
   },
   {
    "duration": 23,
    "start_time": "2022-05-21T21:40:48.955Z"
   },
   {
    "duration": 19,
    "start_time": "2022-05-21T21:40:53.008Z"
   },
   {
    "duration": 21,
    "start_time": "2022-05-21T21:40:56.664Z"
   },
   {
    "duration": 20,
    "start_time": "2022-05-21T21:40:59.786Z"
   },
   {
    "duration": 20,
    "start_time": "2022-05-21T21:41:02.026Z"
   },
   {
    "duration": 21,
    "start_time": "2022-05-21T21:41:07.708Z"
   },
   {
    "duration": 19,
    "start_time": "2022-05-21T21:43:24.391Z"
   },
   {
    "duration": 3,
    "start_time": "2022-05-21T21:43:26.266Z"
   },
   {
    "duration": 6,
    "start_time": "2022-05-21T21:43:58.035Z"
   },
   {
    "duration": 4,
    "start_time": "2022-05-21T21:44:06.129Z"
   },
   {
    "duration": 3,
    "start_time": "2022-05-21T21:46:47.080Z"
   },
   {
    "duration": 22,
    "start_time": "2022-05-21T21:49:17.644Z"
   },
   {
    "duration": 34,
    "start_time": "2022-05-21T21:50:26.682Z"
   },
   {
    "duration": 16,
    "start_time": "2022-05-21T21:50:36.568Z"
   },
   {
    "duration": 15,
    "start_time": "2022-05-21T21:50:55.608Z"
   },
   {
    "duration": 27,
    "start_time": "2022-05-21T21:51:22.198Z"
   },
   {
    "duration": 4,
    "start_time": "2022-05-21T21:51:55.065Z"
   },
   {
    "duration": 4,
    "start_time": "2022-05-21T21:51:58.727Z"
   },
   {
    "duration": 16,
    "start_time": "2022-05-21T21:52:04.067Z"
   },
   {
    "duration": 108,
    "start_time": "2022-05-21T21:52:43.828Z"
   },
   {
    "duration": 8,
    "start_time": "2022-05-21T21:55:07.027Z"
   },
   {
    "duration": 4,
    "start_time": "2022-05-21T21:55:23.107Z"
   },
   {
    "duration": 10,
    "start_time": "2022-05-21T21:55:34.749Z"
   },
   {
    "duration": 22,
    "start_time": "2022-05-21T21:55:41.324Z"
   },
   {
    "duration": 83,
    "start_time": "2022-05-21T21:55:41.866Z"
   },
   {
    "duration": 3,
    "start_time": "2022-05-21T21:55:46.579Z"
   },
   {
    "duration": 3,
    "start_time": "2022-05-21T21:56:00.326Z"
   },
   {
    "duration": 17,
    "start_time": "2022-05-21T21:56:36.676Z"
   },
   {
    "duration": 149,
    "start_time": "2022-05-21T21:58:03.467Z"
   },
   {
    "duration": 4,
    "start_time": "2022-05-21T21:58:13.799Z"
   },
   {
    "duration": 181,
    "start_time": "2022-05-21T21:58:24.446Z"
   },
   {
    "duration": 4,
    "start_time": "2022-05-21T21:58:24.965Z"
   },
   {
    "duration": 4,
    "start_time": "2022-05-21T21:58:30.630Z"
   },
   {
    "duration": 4,
    "start_time": "2022-05-21T21:58:36.313Z"
   },
   {
    "duration": 23,
    "start_time": "2022-05-21T21:58:38.290Z"
   },
   {
    "duration": 179,
    "start_time": "2022-05-21T21:58:38.736Z"
   },
   {
    "duration": 3,
    "start_time": "2022-05-21T21:58:39.270Z"
   },
   {
    "duration": 3,
    "start_time": "2022-05-21T21:58:39.871Z"
   },
   {
    "duration": 23,
    "start_time": "2022-05-21T21:59:42.001Z"
   },
   {
    "duration": 27,
    "start_time": "2022-05-21T21:59:49.311Z"
   },
   {
    "duration": 17,
    "start_time": "2022-05-21T22:00:17.427Z"
   },
   {
    "duration": 4,
    "start_time": "2022-05-21T22:00:50.168Z"
   },
   {
    "duration": 27,
    "start_time": "2022-05-21T22:00:54.165Z"
   },
   {
    "duration": 167,
    "start_time": "2022-05-21T22:00:54.379Z"
   },
   {
    "duration": 4,
    "start_time": "2022-05-21T22:00:58.386Z"
   },
   {
    "duration": 6,
    "start_time": "2022-05-21T22:00:58.852Z"
   },
   {
    "duration": 9,
    "start_time": "2022-05-21T22:02:46.583Z"
   },
   {
    "duration": 14,
    "start_time": "2022-05-21T22:02:59.340Z"
   },
   {
    "duration": 24,
    "start_time": "2022-05-21T22:04:21.115Z"
   },
   {
    "duration": 22,
    "start_time": "2022-05-21T22:04:26.501Z"
   },
   {
    "duration": 18,
    "start_time": "2022-05-21T22:04:48.752Z"
   },
   {
    "duration": 10,
    "start_time": "2022-05-21T22:08:58.635Z"
   },
   {
    "duration": 10,
    "start_time": "2022-05-21T22:10:30.686Z"
   },
   {
    "duration": 12,
    "start_time": "2022-05-21T22:10:32.485Z"
   },
   {
    "duration": 11,
    "start_time": "2022-05-21T22:13:33.926Z"
   },
   {
    "duration": 205,
    "start_time": "2022-05-21T23:51:15.601Z"
   },
   {
    "duration": 7,
    "start_time": "2022-05-21T23:52:18.987Z"
   },
   {
    "duration": 8,
    "start_time": "2022-05-21T23:54:09.968Z"
   },
   {
    "duration": 15,
    "start_time": "2022-05-21T23:54:24.733Z"
   },
   {
    "duration": 10,
    "start_time": "2022-05-21T23:54:31.299Z"
   },
   {
    "duration": 7,
    "start_time": "2022-05-21T23:54:34.534Z"
   },
   {
    "duration": 8,
    "start_time": "2022-05-21T23:54:34.764Z"
   },
   {
    "duration": 12,
    "start_time": "2022-05-21T23:56:05.714Z"
   },
   {
    "duration": 4,
    "start_time": "2022-05-21T23:58:39.665Z"
   },
   {
    "duration": 4,
    "start_time": "2022-05-21T23:58:43.433Z"
   },
   {
    "duration": 4,
    "start_time": "2022-05-21T23:58:46.469Z"
   },
   {
    "duration": 4,
    "start_time": "2022-05-21T23:58:49.322Z"
   },
   {
    "duration": 3,
    "start_time": "2022-05-21T23:59:30.165Z"
   },
   {
    "duration": 5,
    "start_time": "2022-05-21T23:59:38.291Z"
   },
   {
    "duration": 5,
    "start_time": "2022-05-21T23:59:42.508Z"
   },
   {
    "duration": 48,
    "start_time": "2022-05-21T23:59:53.245Z"
   },
   {
    "duration": 5,
    "start_time": "2022-05-22T00:00:24.226Z"
   },
   {
    "duration": 4,
    "start_time": "2022-05-22T00:00:37.767Z"
   },
   {
    "duration": 3,
    "start_time": "2022-05-22T00:01:08.623Z"
   },
   {
    "duration": 8,
    "start_time": "2022-05-22T00:01:11.897Z"
   },
   {
    "duration": 4,
    "start_time": "2022-05-22T00:01:51.324Z"
   },
   {
    "duration": 10,
    "start_time": "2022-05-22T00:02:15.441Z"
   },
   {
    "duration": 27,
    "start_time": "2022-05-22T00:03:24.564Z"
   },
   {
    "duration": 10,
    "start_time": "2022-05-22T00:03:52.010Z"
   },
   {
    "duration": 11,
    "start_time": "2022-05-22T00:04:10.018Z"
   },
   {
    "duration": 10,
    "start_time": "2022-05-22T00:04:12.598Z"
   },
   {
    "duration": 14,
    "start_time": "2022-05-22T00:04:26.088Z"
   },
   {
    "duration": 8,
    "start_time": "2022-05-22T00:04:32.224Z"
   },
   {
    "duration": 13,
    "start_time": "2022-05-22T00:04:39.699Z"
   },
   {
    "duration": 371,
    "start_time": "2022-05-22T00:05:51.749Z"
   },
   {
    "duration": 13,
    "start_time": "2022-05-22T00:13:28.091Z"
   },
   {
    "duration": 47,
    "start_time": "2022-05-22T01:06:29.822Z"
   },
   {
    "duration": 15,
    "start_time": "2022-05-22T01:07:35.509Z"
   },
   {
    "duration": 3,
    "start_time": "2022-05-22T01:19:29.638Z"
   },
   {
    "duration": 3,
    "start_time": "2022-05-22T01:19:33.889Z"
   },
   {
    "duration": 71,
    "start_time": "2022-05-22T01:20:45.939Z"
   },
   {
    "duration": 7,
    "start_time": "2022-05-22T01:20:48.747Z"
   },
   {
    "duration": 82,
    "start_time": "2022-05-22T01:22:32.995Z"
   },
   {
    "duration": 6,
    "start_time": "2022-05-22T01:22:36.561Z"
   },
   {
    "duration": 78,
    "start_time": "2022-05-22T01:23:05.639Z"
   },
   {
    "duration": 6,
    "start_time": "2022-05-22T01:23:07.078Z"
   },
   {
    "duration": 26,
    "start_time": "2022-05-22T01:25:47.933Z"
   },
   {
    "duration": 42,
    "start_time": "2022-05-22T01:26:12.324Z"
   },
   {
    "duration": 9,
    "start_time": "2022-05-22T01:26:27.050Z"
   },
   {
    "duration": 45,
    "start_time": "2022-05-22T01:26:33.078Z"
   },
   {
    "duration": 45,
    "start_time": "2022-05-22T01:27:09.053Z"
   },
   {
    "duration": 10,
    "start_time": "2022-05-22T01:28:00.162Z"
   },
   {
    "duration": 9,
    "start_time": "2022-05-22T01:30:25.714Z"
   },
   {
    "duration": 44,
    "start_time": "2022-05-22T01:30:55.564Z"
   },
   {
    "duration": 12,
    "start_time": "2022-05-22T01:30:58.717Z"
   },
   {
    "duration": 80,
    "start_time": "2022-05-22T01:31:02.719Z"
   },
   {
    "duration": 13,
    "start_time": "2022-05-22T01:31:03.219Z"
   },
   {
    "duration": 48,
    "start_time": "2022-05-22T01:31:26.620Z"
   },
   {
    "duration": 8,
    "start_time": "2022-05-22T01:31:29.998Z"
   },
   {
    "duration": 375,
    "start_time": "2022-05-22T01:31:51.995Z"
   },
   {
    "duration": 5,
    "start_time": "2022-05-22T01:33:38.715Z"
   },
   {
    "duration": 45,
    "start_time": "2022-05-22T01:33:52.849Z"
   },
   {
    "duration": 43,
    "start_time": "2022-05-22T01:34:13.002Z"
   },
   {
    "duration": 3,
    "start_time": "2022-05-22T01:34:14.677Z"
   },
   {
    "duration": 78,
    "start_time": "2022-05-22T01:34:15.487Z"
   },
   {
    "duration": 8,
    "start_time": "2022-05-22T01:34:16.020Z"
   },
   {
    "duration": 7,
    "start_time": "2022-05-22T01:34:28.522Z"
   },
   {
    "duration": 11,
    "start_time": "2022-05-22T01:35:06.546Z"
   },
   {
    "duration": 9,
    "start_time": "2022-05-22T01:35:11.144Z"
   },
   {
    "duration": 3,
    "start_time": "2022-05-22T01:36:11.866Z"
   },
   {
    "duration": 9,
    "start_time": "2022-05-22T01:36:17.030Z"
   },
   {
    "duration": 82,
    "start_time": "2022-05-22T01:36:36.763Z"
   },
   {
    "duration": 9,
    "start_time": "2022-05-22T01:36:44.599Z"
   },
   {
    "duration": 81,
    "start_time": "2022-05-22T01:36:56.782Z"
   },
   {
    "duration": 82,
    "start_time": "2022-05-22T01:37:20.386Z"
   },
   {
    "duration": 11,
    "start_time": "2022-05-22T01:37:25.107Z"
   },
   {
    "duration": 17,
    "start_time": "2022-05-22T01:41:27.348Z"
   },
   {
    "duration": 13,
    "start_time": "2022-05-22T01:41:43.047Z"
   },
   {
    "duration": 14,
    "start_time": "2022-05-22T01:42:26.900Z"
   },
   {
    "duration": 4,
    "start_time": "2022-05-22T01:42:32.568Z"
   },
   {
    "duration": 3,
    "start_time": "2022-05-22T01:43:20.452Z"
   },
   {
    "duration": 4,
    "start_time": "2022-05-22T01:43:44.626Z"
   },
   {
    "duration": 9,
    "start_time": "2022-05-22T01:43:58.208Z"
   },
   {
    "duration": 9,
    "start_time": "2022-05-22T01:46:46.583Z"
   },
   {
    "duration": 6,
    "start_time": "2022-05-22T01:46:49.796Z"
   },
   {
    "duration": 80,
    "start_time": "2022-05-22T01:46:57.813Z"
   },
   {
    "duration": 9,
    "start_time": "2022-05-22T01:47:26.926Z"
   },
   {
    "duration": 9,
    "start_time": "2022-05-22T01:47:32.562Z"
   },
   {
    "duration": 9,
    "start_time": "2022-05-22T01:48:47.290Z"
   },
   {
    "duration": 7,
    "start_time": "2022-05-22T01:48:53.579Z"
   },
   {
    "duration": 10,
    "start_time": "2022-05-22T01:48:58.831Z"
   },
   {
    "duration": 8,
    "start_time": "2022-05-22T01:49:02.812Z"
   },
   {
    "duration": 9,
    "start_time": "2022-05-22T01:49:33.181Z"
   },
   {
    "duration": 8,
    "start_time": "2022-05-22T01:49:51.858Z"
   },
   {
    "duration": 7,
    "start_time": "2022-05-22T01:50:28.853Z"
   },
   {
    "duration": 2,
    "start_time": "2022-05-22T01:50:32.476Z"
   },
   {
    "duration": 6,
    "start_time": "2022-05-22T01:50:37.842Z"
   },
   {
    "duration": 9,
    "start_time": "2022-05-22T01:50:56.840Z"
   },
   {
    "duration": 85,
    "start_time": "2022-05-22T01:51:09.013Z"
   },
   {
    "duration": 7,
    "start_time": "2022-05-22T01:51:10.685Z"
   },
   {
    "duration": 84,
    "start_time": "2022-05-22T01:51:20.514Z"
   },
   {
    "duration": 88,
    "start_time": "2022-05-22T01:52:30.266Z"
   },
   {
    "duration": 7,
    "start_time": "2022-05-22T01:52:34.380Z"
   },
   {
    "duration": 8,
    "start_time": "2022-05-22T01:52:45.021Z"
   },
   {
    "duration": 7,
    "start_time": "2022-05-22T01:52:49.295Z"
   },
   {
    "duration": 9,
    "start_time": "2022-05-22T01:53:14.645Z"
   },
   {
    "duration": 7,
    "start_time": "2022-05-22T01:56:46.843Z"
   },
   {
    "duration": 86,
    "start_time": "2022-05-22T01:57:04.579Z"
   },
   {
    "duration": 85,
    "start_time": "2022-05-22T01:57:10.303Z"
   },
   {
    "duration": 9,
    "start_time": "2022-05-22T01:57:21.800Z"
   },
   {
    "duration": 366,
    "start_time": "2022-05-22T01:57:27.559Z"
   },
   {
    "duration": 8,
    "start_time": "2022-05-22T01:57:55.664Z"
   },
   {
    "duration": 3,
    "start_time": "2022-05-22T01:57:59.912Z"
   },
   {
    "duration": 4,
    "start_time": "2022-05-22T01:58:02.447Z"
   },
   {
    "duration": 4,
    "start_time": "2022-05-22T01:58:06.246Z"
   },
   {
    "duration": 6,
    "start_time": "2022-05-22T02:02:56.829Z"
   },
   {
    "duration": 11,
    "start_time": "2022-05-22T02:03:50.168Z"
   },
   {
    "duration": 9,
    "start_time": "2022-05-22T02:04:09.889Z"
   },
   {
    "duration": 4,
    "start_time": "2022-05-22T02:04:22.720Z"
   },
   {
    "duration": 11,
    "start_time": "2022-05-22T02:04:24.477Z"
   },
   {
    "duration": 3,
    "start_time": "2022-05-22T02:04:54.702Z"
   },
   {
    "duration": 5,
    "start_time": "2022-05-22T02:05:01.041Z"
   },
   {
    "duration": 5,
    "start_time": "2022-05-22T02:05:01.793Z"
   },
   {
    "duration": 5,
    "start_time": "2022-05-22T02:05:41.409Z"
   },
   {
    "duration": 4,
    "start_time": "2022-05-22T02:05:41.775Z"
   },
   {
    "duration": 4,
    "start_time": "2022-05-22T02:06:26.778Z"
   },
   {
    "duration": 3,
    "start_time": "2022-05-22T02:08:32.043Z"
   },
   {
    "duration": 4,
    "start_time": "2022-05-22T02:08:35.640Z"
   },
   {
    "duration": 4,
    "start_time": "2022-05-22T02:08:54.461Z"
   },
   {
    "duration": 9,
    "start_time": "2022-05-22T02:10:22.704Z"
   },
   {
    "duration": 10,
    "start_time": "2022-05-22T02:10:27.052Z"
   },
   {
    "duration": 3,
    "start_time": "2022-05-22T02:10:45.183Z"
   },
   {
    "duration": 5,
    "start_time": "2022-05-22T02:10:54.943Z"
   },
   {
    "duration": 4,
    "start_time": "2022-05-22T02:10:59.572Z"
   },
   {
    "duration": 9,
    "start_time": "2022-05-22T02:10:59.904Z"
   },
   {
    "duration": 3,
    "start_time": "2022-05-22T02:15:34.196Z"
   },
   {
    "duration": 7,
    "start_time": "2022-05-22T02:15:38.913Z"
   },
   {
    "duration": 90,
    "start_time": "2022-05-22T02:15:47.608Z"
   },
   {
    "duration": 3,
    "start_time": "2022-05-22T02:15:59.697Z"
   },
   {
    "duration": 9,
    "start_time": "2022-05-22T02:17:49.264Z"
   },
   {
    "duration": 9,
    "start_time": "2022-05-22T02:17:54.514Z"
   },
   {
    "duration": 9,
    "start_time": "2022-05-22T02:17:57.224Z"
   },
   {
    "duration": 10,
    "start_time": "2022-05-22T02:17:58.136Z"
   },
   {
    "duration": 11,
    "start_time": "2022-05-22T02:17:59.178Z"
   },
   {
    "duration": 9,
    "start_time": "2022-05-22T02:19:18.323Z"
   },
   {
    "duration": 3,
    "start_time": "2022-05-22T02:19:43.082Z"
   },
   {
    "duration": 4,
    "start_time": "2022-05-22T02:19:46.143Z"
   },
   {
    "duration": 3,
    "start_time": "2022-05-22T02:19:52.024Z"
   },
   {
    "duration": 3,
    "start_time": "2022-05-22T02:19:52.413Z"
   },
   {
    "duration": 12,
    "start_time": "2022-05-22T02:20:02.019Z"
   },
   {
    "duration": 4,
    "start_time": "2022-05-22T02:21:50.564Z"
   },
   {
    "duration": 4,
    "start_time": "2022-05-22T02:21:51.118Z"
   },
   {
    "duration": 4,
    "start_time": "2022-05-22T02:21:57.397Z"
   },
   {
    "duration": 8,
    "start_time": "2022-05-22T02:21:58.347Z"
   },
   {
    "duration": 9,
    "start_time": "2022-05-22T02:22:03.008Z"
   },
   {
    "duration": 9,
    "start_time": "2022-05-22T02:22:05.356Z"
   },
   {
    "duration": 9,
    "start_time": "2022-05-22T02:22:06.317Z"
   },
   {
    "duration": 22,
    "start_time": "2022-05-22T10:13:47.871Z"
   },
   {
    "duration": 3,
    "start_time": "2022-05-22T10:14:08.953Z"
   },
   {
    "duration": 3,
    "start_time": "2022-05-22T10:14:56.518Z"
   },
   {
    "duration": 4,
    "start_time": "2022-05-22T10:19:00.053Z"
   },
   {
    "duration": 4,
    "start_time": "2022-05-22T10:19:04.927Z"
   },
   {
    "duration": 4,
    "start_time": "2022-05-22T10:19:44.497Z"
   },
   {
    "duration": 52,
    "start_time": "2022-05-22T10:27:12.691Z"
   },
   {
    "duration": 7,
    "start_time": "2022-05-22T10:27:49.677Z"
   },
   {
    "duration": 1571,
    "start_time": "2022-05-22T10:28:00.701Z"
   },
   {
    "duration": 483,
    "start_time": "2022-05-22T10:28:02.274Z"
   },
   {
    "duration": 11,
    "start_time": "2022-05-22T10:28:02.759Z"
   },
   {
    "duration": 11,
    "start_time": "2022-05-22T10:28:02.772Z"
   },
   {
    "duration": 36,
    "start_time": "2022-05-22T10:28:02.785Z"
   },
   {
    "duration": 16,
    "start_time": "2022-05-22T10:28:02.823Z"
   },
   {
    "duration": 72,
    "start_time": "2022-05-22T10:28:02.841Z"
   },
   {
    "duration": 69,
    "start_time": "2022-05-22T10:28:02.914Z"
   },
   {
    "duration": 70,
    "start_time": "2022-05-22T10:28:02.985Z"
   },
   {
    "duration": 11,
    "start_time": "2022-05-22T10:28:03.058Z"
   },
   {
    "duration": 9,
    "start_time": "2022-05-22T10:28:03.071Z"
   },
   {
    "duration": 9,
    "start_time": "2022-05-22T10:28:03.081Z"
   },
   {
    "duration": 9,
    "start_time": "2022-05-22T10:28:03.092Z"
   },
   {
    "duration": 172,
    "start_time": "2022-05-22T10:28:03.103Z"
   },
   {
    "duration": 100,
    "start_time": "2022-05-22T10:28:03.277Z"
   },
   {
    "duration": 18,
    "start_time": "2022-05-22T10:28:03.379Z"
   },
   {
    "duration": 9,
    "start_time": "2022-05-22T10:28:03.398Z"
   },
   {
    "duration": 20,
    "start_time": "2022-05-22T10:28:03.409Z"
   },
   {
    "duration": 39,
    "start_time": "2022-05-22T10:28:03.430Z"
   },
   {
    "duration": 9,
    "start_time": "2022-05-22T10:28:03.470Z"
   },
   {
    "duration": 22,
    "start_time": "2022-05-22T10:28:03.480Z"
   },
   {
    "duration": 11,
    "start_time": "2022-05-22T10:28:03.503Z"
   },
   {
    "duration": 12,
    "start_time": "2022-05-22T10:28:03.515Z"
   },
   {
    "duration": 526,
    "start_time": "2022-05-22T10:28:03.529Z"
   },
   {
    "duration": 13,
    "start_time": "2022-05-22T10:28:04.056Z"
   },
   {
    "duration": 8,
    "start_time": "2022-05-22T10:28:04.071Z"
   },
   {
    "duration": 10,
    "start_time": "2022-05-22T10:28:04.081Z"
   },
   {
    "duration": 17,
    "start_time": "2022-05-22T10:28:04.094Z"
   },
   {
    "duration": 52,
    "start_time": "2022-05-22T10:28:04.113Z"
   },
   {
    "duration": 14,
    "start_time": "2022-05-22T10:28:04.167Z"
   },
   {
    "duration": 12,
    "start_time": "2022-05-22T10:28:04.183Z"
   },
   {
    "duration": 27,
    "start_time": "2022-05-22T10:28:04.197Z"
   },
   {
    "duration": 43,
    "start_time": "2022-05-22T10:28:04.225Z"
   },
   {
    "duration": 25,
    "start_time": "2022-05-22T10:28:04.269Z"
   },
   {
    "duration": 181,
    "start_time": "2022-05-22T10:28:04.296Z"
   },
   {
    "duration": 11,
    "start_time": "2022-05-22T10:28:04.479Z"
   },
   {
    "duration": 230,
    "start_time": "2022-05-22T10:28:04.492Z"
   },
   {
    "duration": 8,
    "start_time": "2022-05-22T10:28:04.724Z"
   },
   {
    "duration": 20,
    "start_time": "2022-05-22T10:28:04.733Z"
   },
   {
    "duration": 8,
    "start_time": "2022-05-22T10:28:04.754Z"
   },
   {
    "duration": 12,
    "start_time": "2022-05-22T10:28:04.763Z"
   },
   {
    "duration": 128,
    "start_time": "2022-05-22T10:28:04.776Z"
   },
   {
    "duration": 59,
    "start_time": "2022-05-22T10:28:04.906Z"
   },
   {
    "duration": 3,
    "start_time": "2022-05-22T10:28:04.967Z"
   },
   {
    "duration": 130,
    "start_time": "2022-05-22T10:28:04.971Z"
   },
   {
    "duration": 9,
    "start_time": "2022-05-22T10:28:05.103Z"
   },
   {
    "duration": 7,
    "start_time": "2022-05-22T10:28:05.114Z"
   },
   {
    "duration": 10,
    "start_time": "2022-05-22T10:28:05.123Z"
   },
   {
    "duration": 20,
    "start_time": "2022-05-22T10:28:05.135Z"
   },
   {
    "duration": 16,
    "start_time": "2022-05-22T10:28:05.157Z"
   },
   {
    "duration": 13,
    "start_time": "2022-05-22T10:28:05.176Z"
   },
   {
    "duration": 36,
    "start_time": "2022-05-22T10:28:05.191Z"
   },
   {
    "duration": 23,
    "start_time": "2022-05-22T10:28:05.229Z"
   },
   {
    "duration": 13,
    "start_time": "2022-05-22T10:28:05.254Z"
   },
   {
    "duration": 13,
    "start_time": "2022-05-22T10:28:05.269Z"
   },
   {
    "duration": 26,
    "start_time": "2022-05-22T10:28:46.026Z"
   },
   {
    "duration": 16,
    "start_time": "2022-05-22T10:28:47.884Z"
   },
   {
    "duration": 80,
    "start_time": "2022-05-23T07:54:12.327Z"
   },
   {
    "duration": 1410,
    "start_time": "2022-05-23T07:54:21.611Z"
   },
   {
    "duration": 749,
    "start_time": "2022-05-23T07:54:23.023Z"
   },
   {
    "duration": 12,
    "start_time": "2022-05-23T07:54:23.773Z"
   },
   {
    "duration": 3,
    "start_time": "2022-05-23T07:54:23.787Z"
   },
   {
    "duration": 21,
    "start_time": "2022-05-23T07:54:23.792Z"
   },
   {
    "duration": 18,
    "start_time": "2022-05-23T07:54:23.815Z"
   },
   {
    "duration": 87,
    "start_time": "2022-05-23T07:54:23.834Z"
   },
   {
    "duration": 65,
    "start_time": "2022-05-23T07:54:23.922Z"
   },
   {
    "duration": 63,
    "start_time": "2022-05-23T07:54:23.995Z"
   },
   {
    "duration": 12,
    "start_time": "2022-05-23T07:54:24.061Z"
   },
   {
    "duration": 10,
    "start_time": "2022-05-23T07:54:24.094Z"
   },
   {
    "duration": 9,
    "start_time": "2022-05-23T07:54:24.106Z"
   },
   {
    "duration": 9,
    "start_time": "2022-05-23T07:54:24.117Z"
   },
   {
    "duration": 158,
    "start_time": "2022-05-23T07:54:24.128Z"
   },
   {
    "duration": 82,
    "start_time": "2022-05-23T07:54:24.287Z"
   },
   {
    "duration": 30,
    "start_time": "2022-05-23T07:54:24.370Z"
   },
   {
    "duration": 9,
    "start_time": "2022-05-23T07:54:24.402Z"
   },
   {
    "duration": 29,
    "start_time": "2022-05-23T07:54:24.413Z"
   },
   {
    "duration": 21,
    "start_time": "2022-05-23T07:54:24.444Z"
   },
   {
    "duration": 12,
    "start_time": "2022-05-23T07:54:24.466Z"
   },
   {
    "duration": 19,
    "start_time": "2022-05-23T07:54:24.494Z"
   },
   {
    "duration": 24,
    "start_time": "2022-05-23T07:54:24.514Z"
   },
   {
    "duration": 12,
    "start_time": "2022-05-23T07:54:24.540Z"
   },
   {
    "duration": 497,
    "start_time": "2022-05-23T07:54:24.554Z"
   },
   {
    "duration": 14,
    "start_time": "2022-05-23T07:54:25.052Z"
   },
   {
    "duration": 14,
    "start_time": "2022-05-23T07:54:25.067Z"
   },
   {
    "duration": 14,
    "start_time": "2022-05-23T07:54:25.083Z"
   },
   {
    "duration": 34,
    "start_time": "2022-05-23T07:54:25.102Z"
   },
   {
    "duration": 16,
    "start_time": "2022-05-23T07:54:25.137Z"
   },
   {
    "duration": 17,
    "start_time": "2022-05-23T07:54:25.155Z"
   },
   {
    "duration": 41,
    "start_time": "2022-05-23T07:54:25.173Z"
   },
   {
    "duration": 33,
    "start_time": "2022-05-23T07:54:25.216Z"
   },
   {
    "duration": 27,
    "start_time": "2022-05-23T07:54:25.251Z"
   },
   {
    "duration": 37,
    "start_time": "2022-05-23T07:54:25.280Z"
   },
   {
    "duration": 218,
    "start_time": "2022-05-23T07:54:25.319Z"
   },
   {
    "duration": 11,
    "start_time": "2022-05-23T07:54:25.539Z"
   },
   {
    "duration": 235,
    "start_time": "2022-05-23T07:54:25.553Z"
   },
   {
    "duration": 10,
    "start_time": "2022-05-23T07:54:25.789Z"
   },
   {
    "duration": 43,
    "start_time": "2022-05-23T07:54:25.800Z"
   },
   {
    "duration": 31,
    "start_time": "2022-05-23T07:54:25.844Z"
   },
   {
    "duration": 51,
    "start_time": "2022-05-23T07:54:25.877Z"
   },
   {
    "duration": 153,
    "start_time": "2022-05-23T07:54:25.929Z"
   },
   {
    "duration": 46,
    "start_time": "2022-05-23T07:54:26.083Z"
   },
   {
    "duration": 3,
    "start_time": "2022-05-23T07:54:26.130Z"
   },
   {
    "duration": 197,
    "start_time": "2022-05-23T07:54:26.134Z"
   },
   {
    "duration": 9,
    "start_time": "2022-05-23T07:54:26.333Z"
   },
   {
    "duration": 28,
    "start_time": "2022-05-23T07:54:26.344Z"
   },
   {
    "duration": 25,
    "start_time": "2022-05-23T07:54:26.374Z"
   },
   {
    "duration": 17,
    "start_time": "2022-05-23T07:54:26.401Z"
   },
   {
    "duration": 28,
    "start_time": "2022-05-23T07:54:26.419Z"
   },
   {
    "duration": 19,
    "start_time": "2022-05-23T07:54:26.448Z"
   },
   {
    "duration": 35,
    "start_time": "2022-05-23T07:54:26.468Z"
   },
   {
    "duration": 14,
    "start_time": "2022-05-23T07:54:26.505Z"
   },
   {
    "duration": 31,
    "start_time": "2022-05-23T07:54:26.521Z"
   },
   {
    "duration": 24,
    "start_time": "2022-05-23T07:54:26.554Z"
   },
   {
    "duration": 52,
    "start_time": "2022-05-23T08:25:30.077Z"
   },
   {
    "duration": 1318,
    "start_time": "2022-05-23T08:25:33.625Z"
   },
   {
    "duration": 725,
    "start_time": "2022-05-23T08:25:34.946Z"
   },
   {
    "duration": 14,
    "start_time": "2022-05-23T08:25:35.673Z"
   },
   {
    "duration": 3,
    "start_time": "2022-05-23T08:25:35.690Z"
   },
   {
    "duration": 25,
    "start_time": "2022-05-23T08:25:35.694Z"
   },
   {
    "duration": 19,
    "start_time": "2022-05-23T08:25:35.720Z"
   },
   {
    "duration": 101,
    "start_time": "2022-05-23T08:25:35.741Z"
   },
   {
    "duration": 95,
    "start_time": "2022-05-23T08:25:35.844Z"
   },
   {
    "duration": 75,
    "start_time": "2022-05-23T08:25:35.941Z"
   },
   {
    "duration": 12,
    "start_time": "2022-05-23T08:25:36.018Z"
   },
   {
    "duration": 13,
    "start_time": "2022-05-23T08:25:36.031Z"
   },
   {
    "duration": 27,
    "start_time": "2022-05-23T08:25:36.045Z"
   },
   {
    "duration": 10,
    "start_time": "2022-05-23T08:25:36.073Z"
   },
   {
    "duration": 153,
    "start_time": "2022-05-23T08:25:36.085Z"
   },
   {
    "duration": 88,
    "start_time": "2022-05-23T08:25:36.240Z"
   },
   {
    "duration": 23,
    "start_time": "2022-05-23T08:25:36.330Z"
   },
   {
    "duration": 24,
    "start_time": "2022-05-23T08:25:36.355Z"
   },
   {
    "duration": 22,
    "start_time": "2022-05-23T08:25:41.104Z"
   },
   {
    "duration": 18,
    "start_time": "2022-05-23T08:25:45.703Z"
   },
   {
    "duration": 8,
    "start_time": "2022-05-23T08:25:46.068Z"
   },
   {
    "duration": 18,
    "start_time": "2022-05-23T08:25:46.624Z"
   },
   {
    "duration": 6,
    "start_time": "2022-05-23T08:26:42.415Z"
   },
   {
    "duration": 250,
    "start_time": "2022-05-23T08:26:42.427Z"
   },
   {
    "duration": 10,
    "start_time": "2022-05-23T08:26:42.679Z"
   },
   {
    "duration": 33,
    "start_time": "2022-05-23T08:26:42.692Z"
   },
   {
    "duration": 33,
    "start_time": "2022-05-23T08:26:42.727Z"
   },
   {
    "duration": 30,
    "start_time": "2022-05-23T08:26:42.762Z"
   },
   {
    "duration": 133,
    "start_time": "2022-05-23T08:26:42.794Z"
   },
   {
    "duration": 96,
    "start_time": "2022-05-23T08:26:42.932Z"
   },
   {
    "duration": 92,
    "start_time": "2022-05-23T08:26:43.030Z"
   },
   {
    "duration": 13,
    "start_time": "2022-05-23T08:26:43.124Z"
   },
   {
    "duration": 14,
    "start_time": "2022-05-23T08:26:43.141Z"
   },
   {
    "duration": 11,
    "start_time": "2022-05-23T08:26:43.175Z"
   },
   {
    "duration": 14,
    "start_time": "2022-05-23T08:26:43.188Z"
   },
   {
    "duration": 158,
    "start_time": "2022-05-23T08:26:43.204Z"
   },
   {
    "duration": 32,
    "start_time": "2022-05-23T08:26:43.364Z"
   },
   {
    "duration": 38,
    "start_time": "2022-05-23T08:26:43.401Z"
   },
   {
    "duration": 19,
    "start_time": "2022-05-23T08:26:43.441Z"
   },
   {
    "duration": 47,
    "start_time": "2022-05-23T08:26:43.461Z"
   },
   {
    "duration": 22,
    "start_time": "2022-05-23T08:26:43.510Z"
   },
   {
    "duration": 10,
    "start_time": "2022-05-23T08:26:43.534Z"
   },
   {
    "duration": 30,
    "start_time": "2022-05-23T08:26:43.545Z"
   },
   {
    "duration": 25,
    "start_time": "2022-05-23T08:26:43.578Z"
   },
   {
    "duration": 13,
    "start_time": "2022-05-23T08:26:43.605Z"
   },
   {
    "duration": 642,
    "start_time": "2022-05-23T08:26:43.620Z"
   },
   {
    "duration": 15,
    "start_time": "2022-05-23T08:26:47.951Z"
   },
   {
    "duration": 9,
    "start_time": "2022-05-23T08:26:48.354Z"
   },
   {
    "duration": 9,
    "start_time": "2022-05-23T08:26:49.071Z"
   },
   {
    "duration": 26,
    "start_time": "2022-05-23T08:26:50.643Z"
   },
   {
    "duration": 23,
    "start_time": "2022-05-23T08:28:23.659Z"
   },
   {
    "duration": 12,
    "start_time": "2022-05-23T08:28:23.896Z"
   },
   {
    "duration": 18,
    "start_time": "2022-05-23T08:28:24.723Z"
   },
   {
    "duration": 8,
    "start_time": "2022-05-23T08:28:30.162Z"
   },
   {
    "duration": 7,
    "start_time": "2022-05-23T08:28:30.326Z"
   },
   {
    "duration": 382,
    "start_time": "2022-05-23T08:28:30.949Z"
   },
   {
    "duration": 14,
    "start_time": "2022-05-23T08:28:34.386Z"
   },
   {
    "duration": 8,
    "start_time": "2022-05-23T08:28:34.542Z"
   },
   {
    "duration": 7,
    "start_time": "2022-05-23T08:28:34.700Z"
   },
   {
    "duration": 39,
    "start_time": "2022-05-23T08:29:33.115Z"
   },
   {
    "duration": 27,
    "start_time": "2022-05-23T08:29:43.837Z"
   },
   {
    "duration": 51,
    "start_time": "2022-05-23T08:30:59.634Z"
   },
   {
    "duration": 65,
    "start_time": "2022-05-23T08:31:10.059Z"
   },
   {
    "duration": 49,
    "start_time": "2022-05-23T08:31:24.552Z"
   },
   {
    "duration": 56,
    "start_time": "2022-05-23T08:31:35.382Z"
   },
   {
    "duration": 57,
    "start_time": "2022-05-23T08:32:00.487Z"
   },
   {
    "duration": 9,
    "start_time": "2022-05-23T08:34:30.528Z"
   },
   {
    "duration": 9,
    "start_time": "2022-05-23T08:34:39.095Z"
   },
   {
    "duration": 84,
    "start_time": "2022-05-23T08:35:00.603Z"
   },
   {
    "duration": 75,
    "start_time": "2022-05-23T08:35:15.832Z"
   },
   {
    "duration": 65,
    "start_time": "2022-05-23T08:35:30.396Z"
   },
   {
    "duration": 71,
    "start_time": "2022-05-23T08:35:36.203Z"
   },
   {
    "duration": 4,
    "start_time": "2022-05-23T08:51:06.612Z"
   },
   {
    "duration": 223,
    "start_time": "2022-05-23T08:51:06.618Z"
   },
   {
    "duration": 7,
    "start_time": "2022-05-23T08:51:06.844Z"
   },
   {
    "duration": 5,
    "start_time": "2022-05-23T08:51:06.853Z"
   },
   {
    "duration": 32,
    "start_time": "2022-05-23T08:51:06.874Z"
   },
   {
    "duration": 16,
    "start_time": "2022-05-23T08:51:06.908Z"
   },
   {
    "duration": 95,
    "start_time": "2022-05-23T08:51:06.926Z"
   },
   {
    "duration": 60,
    "start_time": "2022-05-23T08:51:07.022Z"
   },
   {
    "duration": 163,
    "start_time": "2022-05-23T08:51:07.084Z"
   },
   {
    "duration": 10,
    "start_time": "2022-05-23T08:51:07.249Z"
   },
   {
    "duration": 11,
    "start_time": "2022-05-23T08:51:07.277Z"
   },
   {
    "duration": 13,
    "start_time": "2022-05-23T08:51:07.290Z"
   },
   {
    "duration": 10,
    "start_time": "2022-05-23T08:51:07.305Z"
   },
   {
    "duration": 133,
    "start_time": "2022-05-23T08:51:07.317Z"
   },
   {
    "duration": 32,
    "start_time": "2022-05-23T08:51:07.452Z"
   },
   {
    "duration": 29,
    "start_time": "2022-05-23T08:51:07.485Z"
   },
   {
    "duration": 9,
    "start_time": "2022-05-23T08:51:07.516Z"
   },
   {
    "duration": 49,
    "start_time": "2022-05-23T08:51:07.527Z"
   },
   {
    "duration": 20,
    "start_time": "2022-05-23T08:51:07.579Z"
   },
   {
    "duration": 9,
    "start_time": "2022-05-23T08:51:07.601Z"
   },
   {
    "duration": 22,
    "start_time": "2022-05-23T08:51:07.612Z"
   },
   {
    "duration": 9,
    "start_time": "2022-05-23T08:51:07.635Z"
   },
   {
    "duration": 37,
    "start_time": "2022-05-23T08:51:07.645Z"
   },
   {
    "duration": 438,
    "start_time": "2022-05-23T08:51:07.683Z"
   },
   {
    "duration": 13,
    "start_time": "2022-05-23T08:51:08.123Z"
   },
   {
    "duration": 9,
    "start_time": "2022-05-23T08:51:08.138Z"
   },
   {
    "duration": 32,
    "start_time": "2022-05-23T08:51:08.149Z"
   },
   {
    "duration": 115,
    "start_time": "2022-05-23T08:51:08.183Z"
   },
   {
    "duration": 14,
    "start_time": "2022-05-23T08:51:08.302Z"
   },
   {
    "duration": 23,
    "start_time": "2022-05-23T08:51:08.317Z"
   },
   {
    "duration": 60,
    "start_time": "2022-05-23T08:51:08.341Z"
   },
   {
    "duration": 55,
    "start_time": "2022-05-23T08:51:08.403Z"
   },
   {
    "duration": 38,
    "start_time": "2022-05-23T08:51:08.460Z"
   },
   {
    "duration": 243,
    "start_time": "2022-05-23T08:51:08.506Z"
   },
   {
    "duration": 13,
    "start_time": "2022-05-23T08:51:08.752Z"
   },
   {
    "duration": 248,
    "start_time": "2022-05-23T08:51:08.766Z"
   },
   {
    "duration": 7,
    "start_time": "2022-05-23T08:51:09.016Z"
   },
   {
    "duration": 12,
    "start_time": "2022-05-23T08:51:09.025Z"
   },
   {
    "duration": 8,
    "start_time": "2022-05-23T08:51:09.039Z"
   },
   {
    "duration": 31,
    "start_time": "2022-05-23T08:51:09.049Z"
   },
   {
    "duration": 293,
    "start_time": "2022-05-23T08:51:14.552Z"
   },
   {
    "duration": 12,
    "start_time": "2022-05-23T08:51:34.643Z"
   },
   {
    "duration": 62,
    "start_time": "2022-05-23T08:52:28.056Z"
   },
   {
    "duration": 4,
    "start_time": "2022-05-23T08:52:28.593Z"
   },
   {
    "duration": 115,
    "start_time": "2022-05-23T08:52:28.787Z"
   },
   {
    "duration": 4,
    "start_time": "2022-05-23T08:52:48.808Z"
   },
   {
    "duration": 241,
    "start_time": "2022-05-23T08:52:48.814Z"
   },
   {
    "duration": 9,
    "start_time": "2022-05-23T08:52:49.057Z"
   },
   {
    "duration": 5,
    "start_time": "2022-05-23T08:52:49.074Z"
   },
   {
    "duration": 41,
    "start_time": "2022-05-23T08:52:49.089Z"
   },
   {
    "duration": 18,
    "start_time": "2022-05-23T08:52:49.131Z"
   },
   {
    "duration": 96,
    "start_time": "2022-05-23T08:52:49.152Z"
   },
   {
    "duration": 78,
    "start_time": "2022-05-23T08:52:49.250Z"
   },
   {
    "duration": 105,
    "start_time": "2022-05-23T08:52:49.330Z"
   },
   {
    "duration": 15,
    "start_time": "2022-05-23T08:52:49.437Z"
   },
   {
    "duration": 16,
    "start_time": "2022-05-23T08:52:49.475Z"
   },
   {
    "duration": 16,
    "start_time": "2022-05-23T08:52:49.493Z"
   },
   {
    "duration": 10,
    "start_time": "2022-05-23T08:52:49.511Z"
   },
   {
    "duration": 166,
    "start_time": "2022-05-23T08:52:49.523Z"
   },
   {
    "duration": 21,
    "start_time": "2022-05-23T08:52:49.692Z"
   },
   {
    "duration": 22,
    "start_time": "2022-05-23T08:52:49.715Z"
   },
   {
    "duration": 10,
    "start_time": "2022-05-23T08:52:49.738Z"
   },
   {
    "duration": 35,
    "start_time": "2022-05-23T08:52:49.775Z"
   },
   {
    "duration": 30,
    "start_time": "2022-05-23T08:52:49.812Z"
   },
   {
    "duration": 8,
    "start_time": "2022-05-23T08:52:49.844Z"
   },
   {
    "duration": 44,
    "start_time": "2022-05-23T08:52:49.876Z"
   },
   {
    "duration": 11,
    "start_time": "2022-05-23T08:52:49.923Z"
   },
   {
    "duration": 9,
    "start_time": "2022-05-23T08:52:49.936Z"
   },
   {
    "duration": 524,
    "start_time": "2022-05-23T08:52:49.946Z"
   },
   {
    "duration": 16,
    "start_time": "2022-05-23T08:52:50.480Z"
   },
   {
    "duration": 11,
    "start_time": "2022-05-23T08:52:50.499Z"
   },
   {
    "duration": 8,
    "start_time": "2022-05-23T08:52:50.512Z"
   },
   {
    "duration": 115,
    "start_time": "2022-05-23T08:52:50.522Z"
   },
   {
    "duration": 14,
    "start_time": "2022-05-23T08:52:50.641Z"
   },
   {
    "duration": 38,
    "start_time": "2022-05-23T08:52:50.656Z"
   },
   {
    "duration": 55,
    "start_time": "2022-05-23T08:52:50.696Z"
   },
   {
    "duration": 56,
    "start_time": "2022-05-23T08:52:50.753Z"
   },
   {
    "duration": 23,
    "start_time": "2022-05-23T08:52:50.810Z"
   },
   {
    "duration": 241,
    "start_time": "2022-05-23T08:52:50.835Z"
   },
   {
    "duration": 24,
    "start_time": "2022-05-23T08:52:51.078Z"
   },
   {
    "duration": 280,
    "start_time": "2022-05-23T08:52:51.104Z"
   },
   {
    "duration": 14,
    "start_time": "2022-05-23T08:52:51.390Z"
   },
   {
    "duration": 14,
    "start_time": "2022-05-23T08:52:51.407Z"
   },
   {
    "duration": 7,
    "start_time": "2022-05-23T08:52:51.424Z"
   },
   {
    "duration": 14,
    "start_time": "2022-05-23T08:52:51.433Z"
   },
   {
    "duration": 36,
    "start_time": "2022-05-23T08:52:51.449Z"
   },
   {
    "duration": 53,
    "start_time": "2022-05-23T08:52:51.487Z"
   },
   {
    "duration": 3,
    "start_time": "2022-05-23T08:52:51.542Z"
   },
   {
    "duration": 108,
    "start_time": "2022-05-23T08:52:51.547Z"
   },
   {
    "duration": 21,
    "start_time": "2022-05-23T08:52:51.676Z"
   },
   {
    "duration": 14,
    "start_time": "2022-05-23T08:52:54.366Z"
   },
   {
    "duration": 5,
    "start_time": "2022-05-23T08:55:03.556Z"
   },
   {
    "duration": 5,
    "start_time": "2022-05-23T08:55:06.099Z"
   },
   {
    "duration": 16,
    "start_time": "2022-05-23T08:55:47.909Z"
   },
   {
    "duration": 5,
    "start_time": "2022-05-23T08:55:53.183Z"
   },
   {
    "duration": 9,
    "start_time": "2022-05-23T08:59:15.862Z"
   },
   {
    "duration": 7,
    "start_time": "2022-05-23T08:59:20.116Z"
   },
   {
    "duration": 10,
    "start_time": "2022-05-23T09:00:04.299Z"
   },
   {
    "duration": 6,
    "start_time": "2022-05-23T09:00:06.924Z"
   },
   {
    "duration": 11,
    "start_time": "2022-05-23T09:00:16.769Z"
   },
   {
    "duration": 5,
    "start_time": "2022-05-23T09:00:18.465Z"
   },
   {
    "duration": 5,
    "start_time": "2022-05-23T09:00:26.105Z"
   },
   {
    "duration": 5,
    "start_time": "2022-05-23T09:00:29.826Z"
   },
   {
    "duration": 10,
    "start_time": "2022-05-23T09:00:33.461Z"
   },
   {
    "duration": 15,
    "start_time": "2022-05-23T09:00:46.164Z"
   },
   {
    "duration": 112,
    "start_time": "2022-05-23T09:01:46.710Z"
   },
   {
    "duration": 15,
    "start_time": "2022-05-23T09:02:04.405Z"
   },
   {
    "duration": 16,
    "start_time": "2022-05-23T09:02:27.875Z"
   }
  ],
  "kernelspec": {
   "display_name": "Python 3 (ipykernel)",
   "language": "python",
   "name": "python3"
  },
  "language_info": {
   "codemirror_mode": {
    "name": "ipython",
    "version": 3
   },
   "file_extension": ".py",
   "mimetype": "text/x-python",
   "name": "python",
   "nbconvert_exporter": "python",
   "pygments_lexer": "ipython3",
   "version": "3.9.7"
  },
  "toc": {
   "base_numbering": 1,
   "nav_menu": {},
   "number_sections": false,
   "sideBar": true,
   "skip_h1_title": false,
   "title_cell": "Table of Contents",
   "title_sidebar": "Contents",
   "toc_cell": false,
   "toc_position": {},
   "toc_section_display": true,
   "toc_window_display": true
  }
 },
 "nbformat": 4,
 "nbformat_minor": 2
}
